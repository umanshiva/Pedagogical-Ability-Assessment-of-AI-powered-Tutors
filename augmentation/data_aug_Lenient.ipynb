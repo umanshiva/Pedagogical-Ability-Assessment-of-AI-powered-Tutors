{
 "cells": [
  {
   "cell_type": "code",
   "execution_count": 1,
   "id": "cb77bc8d",
   "metadata": {
    "_cell_guid": "b1076dfc-b9ad-4769-8c92-a6c4dae69d19",
    "_uuid": "8f2839f25d086af736a60e9eeb907d3b93b6e0e5",
    "execution": {
     "iopub.execute_input": "2025-04-27T12:46:41.308997Z",
     "iopub.status.busy": "2025-04-27T12:46:41.308274Z",
     "iopub.status.idle": "2025-04-27T12:46:42.800049Z",
     "shell.execute_reply": "2025-04-27T12:46:42.799344Z"
    },
    "papermill": {
     "duration": 1.497801,
     "end_time": "2025-04-27T12:46:42.801339",
     "exception": false,
     "start_time": "2025-04-27T12:46:41.303538",
     "status": "completed"
    },
    "tags": []
   },
   "outputs": [
    {
     "name": "stdout",
     "output_type": "stream",
     "text": [
      "/kaggle/input/nlp_ass_3/pytorch/default/1/assignment_3_ai_tutors_dataset.json\n"
     ]
    }
   ],
   "source": [
    "# This Python 3 environment comes with many helpful analytics libraries installed\n",
    "# It is defined by the kaggle/python Docker image: https://github.com/kaggle/docker-python\n",
    "# For example, here's several helpful packages to load\n",
    "\n",
    "import numpy as np # linear algebra\n",
    "import pandas as pd # data processing, CSV file I/O (e.g. pd.read_csv)\n",
    "\n",
    "# Input data files are available in the read-only \"../input/\" directory\n",
    "# For example, running this (by clicking run or pressing Shift+Enter) will list all files under the input directory\n",
    "\n",
    "import os\n",
    "for dirname, _, filenames in os.walk('/kaggle/input'):\n",
    "    for filename in filenames:\n",
    "        print(os.path.join(dirname, filename))\n",
    "\n",
    "# You can write up to 20GB to the current directory (/kaggle/working/) that gets preserved as output when you create a version using \"Save & Run All\" \n",
    "# You can also write temporary files to /kaggle/temp/, but they won't be saved outside of the current session"
   ]
  },
  {
   "cell_type": "code",
   "execution_count": 2,
   "id": "5bdf802d",
   "metadata": {
    "collapsed": true,
    "execution": {
     "iopub.execute_input": "2025-04-27T12:46:42.808586Z",
     "iopub.status.busy": "2025-04-27T12:46:42.807883Z",
     "iopub.status.idle": "2025-04-27T12:46:47.463053Z",
     "shell.execute_reply": "2025-04-27T12:46:47.462297Z"
    },
    "jupyter": {
     "outputs_hidden": true
    },
    "papermill": {
     "duration": 4.660116,
     "end_time": "2025-04-27T12:46:47.464657",
     "exception": false,
     "start_time": "2025-04-27T12:46:42.804541",
     "status": "completed"
    },
    "tags": []
   },
   "outputs": [
    {
     "name": "stdout",
     "output_type": "stream",
     "text": [
      "Requirement already satisfied: scikit-learn==1.2.2 in /usr/local/lib/python3.11/dist-packages (1.2.2)\r\n",
      "Collecting imbalanced-learn==0.10.1\r\n",
      "  Downloading imbalanced_learn-0.10.1-py3-none-any.whl.metadata (8.2 kB)\r\n",
      "Requirement already satisfied: numpy>=1.17.3 in /usr/local/lib/python3.11/dist-packages (from scikit-learn==1.2.2) (1.26.4)\r\n",
      "Requirement already satisfied: scipy>=1.3.2 in /usr/local/lib/python3.11/dist-packages (from scikit-learn==1.2.2) (1.15.2)\r\n",
      "Requirement already satisfied: joblib>=1.1.1 in /usr/local/lib/python3.11/dist-packages (from scikit-learn==1.2.2) (1.4.2)\r\n",
      "Requirement already satisfied: threadpoolctl>=2.0.0 in /usr/local/lib/python3.11/dist-packages (from scikit-learn==1.2.2) (3.6.0)\r\n",
      "Requirement already satisfied: mkl_fft in /usr/local/lib/python3.11/dist-packages (from numpy>=1.17.3->scikit-learn==1.2.2) (1.3.8)\r\n",
      "Requirement already satisfied: mkl_random in /usr/local/lib/python3.11/dist-packages (from numpy>=1.17.3->scikit-learn==1.2.2) (1.2.4)\r\n",
      "Requirement already satisfied: mkl_umath in /usr/local/lib/python3.11/dist-packages (from numpy>=1.17.3->scikit-learn==1.2.2) (0.1.1)\r\n",
      "Requirement already satisfied: mkl in /usr/local/lib/python3.11/dist-packages (from numpy>=1.17.3->scikit-learn==1.2.2) (2025.1.0)\r\n",
      "Requirement already satisfied: tbb4py in /usr/local/lib/python3.11/dist-packages (from numpy>=1.17.3->scikit-learn==1.2.2) (2022.1.0)\r\n",
      "Requirement already satisfied: mkl-service in /usr/local/lib/python3.11/dist-packages (from numpy>=1.17.3->scikit-learn==1.2.2) (2.4.1)\r\n",
      "Requirement already satisfied: intel-openmp<2026,>=2024 in /usr/local/lib/python3.11/dist-packages (from mkl->numpy>=1.17.3->scikit-learn==1.2.2) (2024.2.0)\r\n",
      "Requirement already satisfied: tbb==2022.* in /usr/local/lib/python3.11/dist-packages (from mkl->numpy>=1.17.3->scikit-learn==1.2.2) (2022.1.0)\r\n",
      "Requirement already satisfied: tcmlib==1.* in /usr/local/lib/python3.11/dist-packages (from tbb==2022.*->mkl->numpy>=1.17.3->scikit-learn==1.2.2) (1.2.0)\r\n",
      "Requirement already satisfied: intel-cmplr-lib-rt in /usr/local/lib/python3.11/dist-packages (from mkl_umath->numpy>=1.17.3->scikit-learn==1.2.2) (2024.2.0)\r\n",
      "Requirement already satisfied: intel-cmplr-lib-ur==2024.2.0 in /usr/local/lib/python3.11/dist-packages (from intel-openmp<2026,>=2024->mkl->numpy>=1.17.3->scikit-learn==1.2.2) (2024.2.0)\r\n",
      "Downloading imbalanced_learn-0.10.1-py3-none-any.whl (226 kB)\r\n",
      "\u001b[2K   \u001b[90m━━━━━━━━━━━━━━━━━━━━━━━━━━━━━━━━━━━━━━━━\u001b[0m \u001b[32m226.0/226.0 kB\u001b[0m \u001b[31m8.6 MB/s\u001b[0m eta \u001b[36m0:00:00\u001b[0m\r\n",
      "\u001b[?25hInstalling collected packages: imbalanced-learn\r\n",
      "  Attempting uninstall: imbalanced-learn\r\n",
      "    Found existing installation: imbalanced-learn 0.13.0\r\n",
      "    Uninstalling imbalanced-learn-0.13.0:\r\n",
      "      Successfully uninstalled imbalanced-learn-0.13.0\r\n",
      "Successfully installed imbalanced-learn-0.10.1\r\n"
     ]
    }
   ],
   "source": [
    "!pip install scikit-learn==1.2.2 imbalanced-learn==0.10.1"
   ]
  },
  {
   "cell_type": "code",
   "execution_count": 3,
   "id": "6a90a713",
   "metadata": {
    "execution": {
     "iopub.execute_input": "2025-04-27T12:46:47.472780Z",
     "iopub.status.busy": "2025-04-27T12:46:47.472528Z",
     "iopub.status.idle": "2025-04-27T12:46:56.336771Z",
     "shell.execute_reply": "2025-04-27T12:46:56.336125Z"
    },
    "papermill": {
     "duration": 8.869829,
     "end_time": "2025-04-27T12:46:56.338257",
     "exception": false,
     "start_time": "2025-04-27T12:46:47.468428",
     "status": "completed"
    },
    "tags": []
   },
   "outputs": [],
   "source": [
    "from imblearn.over_sampling import SMOTE\n",
    "import json\n",
    "import pandas as pd\n",
    "from transformers import BertTokenizer\n",
    "import torch\n",
    "from torch.utils.data import Dataset\n",
    "from sklearn.model_selection import train_test_split\n",
    "from sklearn.metrics import classification_report\n",
    "from transformers import RobertaTokenizer\n"
   ]
  },
  {
   "cell_type": "code",
   "execution_count": 4,
   "id": "47298aa0",
   "metadata": {
    "execution": {
     "iopub.execute_input": "2025-04-27T12:46:56.347189Z",
     "iopub.status.busy": "2025-04-27T12:46:56.346772Z",
     "iopub.status.idle": "2025-04-27T12:46:56.351636Z",
     "shell.execute_reply": "2025-04-27T12:46:56.351023Z"
    },
    "papermill": {
     "duration": 0.010768,
     "end_time": "2025-04-27T12:46:56.352836",
     "exception": false,
     "start_time": "2025-04-27T12:46:56.342068",
     "status": "completed"
    },
    "tags": []
   },
   "outputs": [],
   "source": [
    "# ---------- Dataset Definition ----------\n",
    "class TutorEvalSingleTaskDataset(Dataset):\n",
    "    def __init__(self, encodings, labels):\n",
    "        self.encodings = encodings\n",
    "        self.labels = labels\n",
    "\n",
    "    def __getitem__(self, idx):\n",
    "        return {\n",
    "            'input_ids': self.encodings['input_ids'][idx],\n",
    "            'attention_mask': self.encodings['attention_mask'][idx],\n",
    "            'labels': self.labels[idx]\n",
    "        }\n",
    "\n",
    "    def __len__(self):\n",
    "        return len(self.labels)"
   ]
  },
  {
   "cell_type": "code",
   "execution_count": 5,
   "id": "c9485cab",
   "metadata": {
    "execution": {
     "iopub.execute_input": "2025-04-27T12:46:56.360616Z",
     "iopub.status.busy": "2025-04-27T12:46:56.360377Z",
     "iopub.status.idle": "2025-04-27T12:46:56.365642Z",
     "shell.execute_reply": "2025-04-27T12:46:56.365030Z"
    },
    "papermill": {
     "duration": 0.010327,
     "end_time": "2025-04-27T12:46:56.366701",
     "exception": false,
     "start_time": "2025-04-27T12:46:56.356374",
     "status": "completed"
    },
    "tags": []
   },
   "outputs": [],
   "source": [
    "# ---------- Preprocessing ----------\n",
    "def load_and_flatten(json_path):\n",
    "    with open(json_path) as f:\n",
    "        data = json.load(f)\n",
    "\n",
    "    rows = []\n",
    "    for instance in data:\n",
    "        convo_id = instance[\"conversation_id\"]\n",
    "        history = instance[\"conversation_history\"]\n",
    "        for tutor_id, tutor_data in instance[\"tutor_responses\"].items():\n",
    "            row = {\n",
    "                \"conversation_id\": convo_id,\n",
    "                \"tutor_id\": tutor_id,\n",
    "                \"conversation_history\": history,\n",
    "                \"tutor_response\": tutor_data[\"response\"],\n",
    "                \"Mistake_Identification\": tutor_data[\"annotation\"][\"Mistake_Identification\"],\n",
    "                \"Mistake_Location\": tutor_data[\"annotation\"][\"Mistake_Location\"],\n",
    "                \"Pedagogical_Guidance\": tutor_data[\"annotation\"][\"Providing_Guidance\"],\n",
    "                \"Actionability\": tutor_data[\"annotation\"][\"Actionability\"]\n",
    "            }\n",
    "            rows.append(row)\n",
    "    return pd.DataFrame(rows)"
   ]
  },
  {
   "cell_type": "code",
   "execution_count": 6,
   "id": "fdaaf7b4",
   "metadata": {
    "execution": {
     "iopub.execute_input": "2025-04-27T12:46:56.373916Z",
     "iopub.status.busy": "2025-04-27T12:46:56.373701Z",
     "iopub.status.idle": "2025-04-27T12:46:56.378397Z",
     "shell.execute_reply": "2025-04-27T12:46:56.377837Z"
    },
    "papermill": {
     "duration": 0.009406,
     "end_time": "2025-04-27T12:46:56.379397",
     "exception": false,
     "start_time": "2025-04-27T12:46:56.369991",
     "status": "completed"
    },
    "tags": []
   },
   "outputs": [],
   "source": [
    "def build_input_text(row):\n",
    "    return f\"Context:\\n{row['conversation_history']}\\n\\nTutor Response:\\n{row['tutor_response']}\"\n",
    "\n",
    "LABEL_MAP = {\"Yes\": 0, \"To some extent\": 1, \"No\": 2}\n",
    "MERGED_LABEL_MAP = {\"Yes\": 1, \"To some extent\": 1, \"No\": 0}\n",
    "\n",
    "def encode_labels(df):\n",
    "    for task in [\"Mistake_Identification\", \"Mistake_Location\", \"Pedagogical_Guidance\", \"Actionability\"]:\n",
    "        df[f\"{task}_label\"] = df[task].map(LABEL_MAP)\n",
    "        df[f\"{task}_binary\"] = df[task].map(MERGED_LABEL_MAP)\n",
    "    return df\n",
    "\n",
    "def tokenize_inputs(tokenizer, texts, max_length=256):\n",
    "    return tokenizer(\n",
    "        texts,\n",
    "        add_special_tokens=True,\n",
    "        truncation=True,\n",
    "        padding=True,\n",
    "        max_length=max_length,\n",
    "        return_tensors=\"pt\"\n",
    "    )"
   ]
  },
  {
   "cell_type": "code",
   "execution_count": 7,
   "id": "45cc0077",
   "metadata": {
    "execution": {
     "iopub.execute_input": "2025-04-27T12:46:56.387018Z",
     "iopub.status.busy": "2025-04-27T12:46:56.386473Z",
     "iopub.status.idle": "2025-04-27T12:46:56.392684Z",
     "shell.execute_reply": "2025-04-27T12:46:56.392162Z"
    },
    "papermill": {
     "duration": 0.010961,
     "end_time": "2025-04-27T12:46:56.393673",
     "exception": false,
     "start_time": "2025-04-27T12:46:56.382712",
     "status": "completed"
    },
    "tags": []
   },
   "outputs": [],
   "source": [
    "def preprocess_dataset(json_path, task_label, mode=None, max_length=256):\n",
    "    df = load_and_flatten(json_path)\n",
    "    df[\"input_text\"] = df.apply(build_input_text, axis=1)\n",
    "    df = encode_labels(df)\n",
    "\n",
    "    train_df, val_df = train_test_split(df, test_size=0.1, stratify=df[task_label], random_state=42)\n",
    "\n",
    "    tokenizer = RobertaTokenizer.from_pretrained(\"roberta-base\",do_lower_case=True)\n",
    "    train_enc = tokenize_inputs(tokenizer, train_df[\"input_text\"].tolist(), max_length=max_length)\n",
    "    val_enc = tokenize_inputs(tokenizer, val_df[\"input_text\"].tolist(), max_length=max_length)\n",
    "\n",
    "    train_labels = torch.tensor(train_df[task_label].tolist())\n",
    "    val_labels = torch.tensor(val_df[task_label].tolist())\n",
    "\n",
    "    if mode == 'balanced':\n",
    "        # Perform SMOTE oversampling\n",
    "        smote = SMOTE(random_state=42)\n",
    "        \n",
    "        X1 = train_enc['input_ids']\n",
    "        X2 = train_enc['attention_mask']\n",
    "        X = torch.cat((X1, X2), dim=1)  # Combine input_ids and attention_mask for SMOTE\n",
    "        y = train_labels.numpy()\n",
    "\n",
    "        X_resampled, y_resampled = smote.fit_resample(X, y)\n",
    "\n",
    "        # Split back input_ids and attention_mask after SMOTE\n",
    "        seq_len = X1.shape[1]\n",
    "        train_enc['input_ids'] = torch.tensor(X_resampled[:, :seq_len])\n",
    "        train_enc['attention_mask'] = torch.tensor(X_resampled[:, seq_len:])\n",
    "        train_labels = torch.tensor(y_resampled)\n",
    "\n",
    "    train_dataset = TutorEvalSingleTaskDataset(train_enc, train_labels)\n",
    "    val_dataset = TutorEvalSingleTaskDataset(val_enc, val_labels)\n",
    "\n",
    "    return train_dataset, val_dataset, tokenizer, df"
   ]
  },
  {
   "cell_type": "code",
   "execution_count": 8,
   "id": "3d2fb8ca",
   "metadata": {
    "execution": {
     "iopub.execute_input": "2025-04-27T12:46:56.401006Z",
     "iopub.status.busy": "2025-04-27T12:46:56.400632Z",
     "iopub.status.idle": "2025-04-27T12:46:56.460224Z",
     "shell.execute_reply": "2025-04-27T12:46:56.459486Z"
    },
    "papermill": {
     "duration": 0.064523,
     "end_time": "2025-04-27T12:46:56.461409",
     "exception": false,
     "start_time": "2025-04-27T12:46:56.396886",
     "status": "completed"
    },
    "tags": []
   },
   "outputs": [
    {
     "data": {
      "text/html": [
       "<div>\n",
       "<style scoped>\n",
       "    .dataframe tbody tr th:only-of-type {\n",
       "        vertical-align: middle;\n",
       "    }\n",
       "\n",
       "    .dataframe tbody tr th {\n",
       "        vertical-align: top;\n",
       "    }\n",
       "\n",
       "    .dataframe thead th {\n",
       "        text-align: right;\n",
       "    }\n",
       "</style>\n",
       "<table border=\"1\" class=\"dataframe\">\n",
       "  <thead>\n",
       "    <tr style=\"text-align: right;\">\n",
       "      <th></th>\n",
       "      <th>conversation_id</th>\n",
       "      <th>tutor_id</th>\n",
       "      <th>conversation_history</th>\n",
       "      <th>tutor_response</th>\n",
       "      <th>Mistake_Identification</th>\n",
       "      <th>Mistake_Location</th>\n",
       "      <th>Pedagogical_Guidance</th>\n",
       "      <th>Actionability</th>\n",
       "    </tr>\n",
       "  </thead>\n",
       "  <tbody>\n",
       "    <tr>\n",
       "      <th>0</th>\n",
       "      <td>221-362eb11a-f190-42a6-b2a4-985fafdcfa9e</td>\n",
       "      <td>Sonnet</td>\n",
       "      <td>Tutor: Hi, could you please provide a step-by-...</td>\n",
       "      <td>Great, you've correctly identified the cost of...</td>\n",
       "      <td>Yes</td>\n",
       "      <td>Yes</td>\n",
       "      <td>Yes</td>\n",
       "      <td>Yes</td>\n",
       "    </tr>\n",
       "    <tr>\n",
       "      <th>1</th>\n",
       "      <td>221-362eb11a-f190-42a6-b2a4-985fafdcfa9e</td>\n",
       "      <td>Llama318B</td>\n",
       "      <td>Tutor: Hi, could you please provide a step-by-...</td>\n",
       "      <td>Now that we know the cost of 1 pound of meat i...</td>\n",
       "      <td>Yes</td>\n",
       "      <td>To some extent</td>\n",
       "      <td>To some extent</td>\n",
       "      <td>To some extent</td>\n",
       "    </tr>\n",
       "    <tr>\n",
       "      <th>2</th>\n",
       "      <td>221-362eb11a-f190-42a6-b2a4-985fafdcfa9e</td>\n",
       "      <td>Llama31405B</td>\n",
       "      <td>Tutor: Hi, could you please provide a step-by-...</td>\n",
       "      <td>You're close, but I notice that you calculated...</td>\n",
       "      <td>Yes</td>\n",
       "      <td>Yes</td>\n",
       "      <td>Yes</td>\n",
       "      <td>Yes</td>\n",
       "    </tr>\n",
       "    <tr>\n",
       "      <th>3</th>\n",
       "      <td>221-362eb11a-f190-42a6-b2a4-985fafdcfa9e</td>\n",
       "      <td>GPT4</td>\n",
       "      <td>Tutor: Hi, could you please provide a step-by-...</td>\n",
       "      <td>That's correct. So, if 1 pound of meat costs $...</td>\n",
       "      <td>Yes</td>\n",
       "      <td>Yes</td>\n",
       "      <td>Yes</td>\n",
       "      <td>Yes</td>\n",
       "    </tr>\n",
       "    <tr>\n",
       "      <th>4</th>\n",
       "      <td>221-362eb11a-f190-42a6-b2a4-985fafdcfa9e</td>\n",
       "      <td>Mistral</td>\n",
       "      <td>Tutor: Hi, could you please provide a step-by-...</td>\n",
       "      <td>It seems like you've calculated the cost as if...</td>\n",
       "      <td>Yes</td>\n",
       "      <td>Yes</td>\n",
       "      <td>Yes</td>\n",
       "      <td>Yes</td>\n",
       "    </tr>\n",
       "  </tbody>\n",
       "</table>\n",
       "</div>"
      ],
      "text/plain": [
       "                            conversation_id     tutor_id  \\\n",
       "0  221-362eb11a-f190-42a6-b2a4-985fafdcfa9e       Sonnet   \n",
       "1  221-362eb11a-f190-42a6-b2a4-985fafdcfa9e    Llama318B   \n",
       "2  221-362eb11a-f190-42a6-b2a4-985fafdcfa9e  Llama31405B   \n",
       "3  221-362eb11a-f190-42a6-b2a4-985fafdcfa9e         GPT4   \n",
       "4  221-362eb11a-f190-42a6-b2a4-985fafdcfa9e      Mistral   \n",
       "\n",
       "                                conversation_history  \\\n",
       "0  Tutor: Hi, could you please provide a step-by-...   \n",
       "1  Tutor: Hi, could you please provide a step-by-...   \n",
       "2  Tutor: Hi, could you please provide a step-by-...   \n",
       "3  Tutor: Hi, could you please provide a step-by-...   \n",
       "4  Tutor: Hi, could you please provide a step-by-...   \n",
       "\n",
       "                                      tutor_response Mistake_Identification  \\\n",
       "0  Great, you've correctly identified the cost of...                    Yes   \n",
       "1  Now that we know the cost of 1 pound of meat i...                    Yes   \n",
       "2  You're close, but I notice that you calculated...                    Yes   \n",
       "3  That's correct. So, if 1 pound of meat costs $...                    Yes   \n",
       "4  It seems like you've calculated the cost as if...                    Yes   \n",
       "\n",
       "  Mistake_Location Pedagogical_Guidance   Actionability  \n",
       "0              Yes                  Yes             Yes  \n",
       "1   To some extent       To some extent  To some extent  \n",
       "2              Yes                  Yes             Yes  \n",
       "3              Yes                  Yes             Yes  \n",
       "4              Yes                  Yes             Yes  "
      ]
     },
     "execution_count": 8,
     "metadata": {},
     "output_type": "execute_result"
    }
   ],
   "source": [
    "file_path=\"/kaggle/input/nlp_ass_3/pytorch/default/1/assignment_3_ai_tutors_dataset.json\"\n",
    "df=load_and_flatten(file_path)\n",
    "df.head()"
   ]
  },
  {
   "cell_type": "code",
   "execution_count": 9,
   "id": "3d06c43d",
   "metadata": {
    "execution": {
     "iopub.execute_input": "2025-04-27T12:46:56.469368Z",
     "iopub.status.busy": "2025-04-27T12:46:56.468800Z",
     "iopub.status.idle": "2025-04-27T12:47:15.927694Z",
     "shell.execute_reply": "2025-04-27T12:47:15.927138Z"
    },
    "papermill": {
     "duration": 19.464125,
     "end_time": "2025-04-27T12:47:15.928971",
     "exception": false,
     "start_time": "2025-04-27T12:46:56.464846",
     "status": "completed"
    },
    "tags": []
   },
   "outputs": [
    {
     "name": "stderr",
     "output_type": "stream",
     "text": [
      "2025-04-27 12:47:04.384001: E external/local_xla/xla/stream_executor/cuda/cuda_fft.cc:477] Unable to register cuFFT factory: Attempting to register factory for plugin cuFFT when one has already been registered\n",
      "WARNING: All log messages before absl::InitializeLog() is called are written to STDERR\n",
      "E0000 00:00:1745758024.623185      19 cuda_dnn.cc:8310] Unable to register cuDNN factory: Attempting to register factory for plugin cuDNN when one has already been registered\n",
      "E0000 00:00:1745758024.692937      19 cuda_blas.cc:1418] Unable to register cuBLAS factory: Attempting to register factory for plugin cuBLAS when one has already been registered\n"
     ]
    }
   ],
   "source": [
    "import torch\n",
    "import torch.nn as nn\n",
    "from transformers import BertTokenizer, BertForSequenceClassification\n",
    "from torch.optim import AdamW  \n",
    "from torch.utils.data import DataLoader\n",
    "from sklearn.metrics import accuracy_score\n",
    "from sklearn.metrics import f1_score"
   ]
  },
  {
   "cell_type": "code",
   "execution_count": 10,
   "id": "00ceb20f",
   "metadata": {
    "execution": {
     "iopub.execute_input": "2025-04-27T12:47:15.936921Z",
     "iopub.status.busy": "2025-04-27T12:47:15.936500Z",
     "iopub.status.idle": "2025-04-27T12:47:15.963190Z",
     "shell.execute_reply": "2025-04-27T12:47:15.962702Z"
    },
    "papermill": {
     "duration": 0.031588,
     "end_time": "2025-04-27T12:47:15.964130",
     "exception": false,
     "start_time": "2025-04-27T12:47:15.932542",
     "status": "completed"
    },
    "tags": []
   },
   "outputs": [],
   "source": [
    "from transformers import RobertaForSequenceClassification\n",
    "import torch.nn as nn\n",
    "\n",
    "class SingleTaskRobertaClassifier(nn.Module):\n",
    "    def __init__(self, num_labels):\n",
    "        super(SingleTaskRobertaClassifier, self).__init__()\n",
    "        self.roberta = RobertaForSequenceClassification.from_pretrained(\"roberta-base\", num_labels=num_labels)\n",
    "    \n",
    "    def forward(self, input_ids, attention_mask):\n",
    "        outputs = self.roberta(input_ids=input_ids, attention_mask=attention_mask)\n",
    "        return outputs.logits\n"
   ]
  },
  {
   "cell_type": "code",
   "execution_count": 11,
   "id": "1a877c02",
   "metadata": {
    "execution": {
     "iopub.execute_input": "2025-04-27T12:47:15.972377Z",
     "iopub.status.busy": "2025-04-27T12:47:15.971852Z",
     "iopub.status.idle": "2025-04-27T12:47:15.976132Z",
     "shell.execute_reply": "2025-04-27T12:47:15.975608Z"
    },
    "papermill": {
     "duration": 0.009674,
     "end_time": "2025-04-27T12:47:15.977027",
     "exception": false,
     "start_time": "2025-04-27T12:47:15.967353",
     "status": "completed"
    },
    "tags": []
   },
   "outputs": [
    {
     "data": {
      "text/plain": [
       "device(type='cuda')"
      ]
     },
     "execution_count": 11,
     "metadata": {},
     "output_type": "execute_result"
    }
   ],
   "source": [
    "device = torch.device(\"cuda\" if torch.cuda.is_available() else \"cpu\")\n",
    "device"
   ]
  },
  {
   "cell_type": "code",
   "execution_count": 12,
   "id": "2ba7fbc2",
   "metadata": {
    "execution": {
     "iopub.execute_input": "2025-04-27T12:47:15.984750Z",
     "iopub.status.busy": "2025-04-27T12:47:15.984536Z",
     "iopub.status.idle": "2025-04-27T12:47:15.992455Z",
     "shell.execute_reply": "2025-04-27T12:47:15.991959Z"
    },
    "papermill": {
     "duration": 0.013192,
     "end_time": "2025-04-27T12:47:15.993568",
     "exception": false,
     "start_time": "2025-04-27T12:47:15.980376",
     "status": "completed"
    },
    "tags": []
   },
   "outputs": [],
   "source": [
    "# ---------- Training ----------\n",
    "def evaluate_model(model, val_loader):\n",
    "    model.eval()\n",
    "    all_preds, all_labels = [], []\n",
    "    with torch.no_grad():\n",
    "        for batch in val_loader:\n",
    "            input_ids = batch['input_ids'].to(device)\n",
    "            attention_mask = batch['attention_mask'].to(device)\n",
    "            labels = batch['labels'].cpu().numpy()\n",
    "\n",
    "            outputs = model(input_ids, attention_mask)\n",
    "            preds = torch.argmax(outputs, dim=1)\n",
    "            all_preds.extend(preds.cpu().numpy())\n",
    "            all_labels.extend(labels)\n",
    "\n",
    "    acc = accuracy_score(all_labels, all_preds)\n",
    "    macro_f1 = f1_score(all_labels, all_preds, average='macro')\n",
    "    print(f\"Validation Accuracy: {acc:.4f}  Validation Macro F1: {macro_f1:.4f}\")\n",
    "    print(classification_report(all_labels, all_preds, target_names=[\"No\",\"Yes and To some extent\"], zero_division=0))\n",
    "\n",
    "def train_model(loss_type, train_loader, val_loader, num_labels, epochs=10):\n",
    "    print(f\"\\n Training with: {loss_type.upper()} Loss\\n\")\n",
    "\n",
    "    model = SingleTaskRobertaClassifier(num_labels).to(device)\n",
    "    optimizer = torch.optim.AdamW(model.parameters(), lr=2e-5)\n",
    "\n",
    "    #train_labels_list = [label.item() for batch in train_loader for label in batch['labels']]\n",
    "    #class_weights = get_class_weights(train_labels_list, num_labels)\n",
    "\n",
    "    if loss_type == \"focal\":\n",
    "        criterion = FocalLossWithWeights()\n",
    "    elif loss_type == \"smoothing\":\n",
    "        criterion = nn.CrossEntropyLoss(label_smoothing=0.1)\n",
    "    else:\n",
    "        criterion = nn.CrossEntropyLoss(weight=None)\n",
    "\n",
    "\n",
    "    for epoch in range(epochs):\n",
    "        model.train()\n",
    "        total_loss = 0\n",
    "        for batch in tqdm(train_loader, desc=f\"Epoch {epoch+1}/{epochs}\"):\n",
    "            optimizer.zero_grad()\n",
    "            input_ids = batch['input_ids'].to(device)\n",
    "            attention_mask = batch['attention_mask'].to(device)\n",
    "            labels = batch['labels'].to(device)\n",
    "\n",
    "            outputs = model(input_ids, attention_mask)\n",
    "            loss = criterion(outputs, labels)\n",
    "            loss.backward()\n",
    "            optimizer.step()\n",
    "\n",
    "            total_loss += loss.item()\n",
    "\n",
    "        avg_loss = total_loss / len(train_loader)\n",
    "        print(f\"Epoch {epoch+1} Loss: {avg_loss:.4f}\")\n",
    "        evaluate_model(model, val_loader)\n",
    "\n"
   ]
  },
  {
   "cell_type": "code",
   "execution_count": 13,
   "id": "e199eafa",
   "metadata": {
    "execution": {
     "iopub.execute_input": "2025-04-27T12:47:16.000932Z",
     "iopub.status.busy": "2025-04-27T12:47:16.000548Z",
     "iopub.status.idle": "2025-04-27T12:47:16.004610Z",
     "shell.execute_reply": "2025-04-27T12:47:16.004141Z"
    },
    "papermill": {
     "duration": 0.008756,
     "end_time": "2025-04-27T12:47:16.005602",
     "exception": false,
     "start_time": "2025-04-27T12:47:15.996846",
     "status": "completed"
    },
    "tags": []
   },
   "outputs": [],
   "source": [
    "import torch\n",
    "import torch.nn as nn\n",
    "from transformers import BertForSequenceClassification, BertTokenizer\n",
    "from sklearn.metrics import accuracy_score, f1_score, classification_report\n",
    "from torch.utils.data import DataLoader\n",
    "from tqdm import tqdm\n",
    "import pandas as pd\n",
    "import json\n",
    "from torch.utils.data import Dataset\n",
    "from sklearn.model_selection import train_test_split\n",
    "from sklearn.utils.class_weight import compute_class_weight\n",
    "from transformers import RobertaTokenizer\n",
    "\n",
    "device = torch.device(\"cuda\" if torch.cuda.is_available() else \"cpu\")"
   ]
  },
  {
   "cell_type": "code",
   "execution_count": 14,
   "id": "e1472cc6",
   "metadata": {
    "execution": {
     "iopub.execute_input": "2025-04-27T12:47:16.013040Z",
     "iopub.status.busy": "2025-04-27T12:47:16.012843Z",
     "iopub.status.idle": "2025-04-27T13:23:02.243836Z",
     "shell.execute_reply": "2025-04-27T13:23:02.242966Z"
    },
    "papermill": {
     "duration": 2146.236466,
     "end_time": "2025-04-27T13:23:02.245406",
     "exception": false,
     "start_time": "2025-04-27T12:47:16.008940",
     "status": "completed"
    },
    "tags": []
   },
   "outputs": [
    {
     "data": {
      "application/vnd.jupyter.widget-view+json": {
       "model_id": "6e80e900bf4e4d5d804e32ebb89786b9",
       "version_major": 2,
       "version_minor": 0
      },
      "text/plain": [
       "tokenizer_config.json:   0%|          | 0.00/25.0 [00:00<?, ?B/s]"
      ]
     },
     "metadata": {},
     "output_type": "display_data"
    },
    {
     "data": {
      "application/vnd.jupyter.widget-view+json": {
       "model_id": "c0648e9d31734bd5941c1082968fec98",
       "version_major": 2,
       "version_minor": 0
      },
      "text/plain": [
       "vocab.json:   0%|          | 0.00/899k [00:00<?, ?B/s]"
      ]
     },
     "metadata": {},
     "output_type": "display_data"
    },
    {
     "data": {
      "application/vnd.jupyter.widget-view+json": {
       "model_id": "8f45a7e2bef444399e4cdfb439fd4875",
       "version_major": 2,
       "version_minor": 0
      },
      "text/plain": [
       "merges.txt:   0%|          | 0.00/456k [00:00<?, ?B/s]"
      ]
     },
     "metadata": {},
     "output_type": "display_data"
    },
    {
     "data": {
      "application/vnd.jupyter.widget-view+json": {
       "model_id": "bc8c6295e0064bd48ded60e5b4298d46",
       "version_major": 2,
       "version_minor": 0
      },
      "text/plain": [
       "tokenizer.json:   0%|          | 0.00/1.36M [00:00<?, ?B/s]"
      ]
     },
     "metadata": {},
     "output_type": "display_data"
    },
    {
     "data": {
      "application/vnd.jupyter.widget-view+json": {
       "model_id": "37f65cf2772a4e1d93ae3b08968c44db",
       "version_major": 2,
       "version_minor": 0
      },
      "text/plain": [
       "config.json:   0%|          | 0.00/481 [00:00<?, ?B/s]"
      ]
     },
     "metadata": {},
     "output_type": "display_data"
    },
    {
     "name": "stdout",
     "output_type": "stream",
     "text": [
      "\n",
      " Training with: CE Loss\n",
      "\n"
     ]
    },
    {
     "name": "stderr",
     "output_type": "stream",
     "text": [
      "Xet Storage is enabled for this repo, but the 'hf_xet' package is not installed. Falling back to regular HTTP download. For better performance, install the package with: `pip install huggingface_hub[hf_xet]` or `pip install hf_xet`\n"
     ]
    },
    {
     "data": {
      "application/vnd.jupyter.widget-view+json": {
       "model_id": "3edc2b9da95f47f1b876c2a5033bdea0",
       "version_major": 2,
       "version_minor": 0
      },
      "text/plain": [
       "model.safetensors:   0%|          | 0.00/499M [00:00<?, ?B/s]"
      ]
     },
     "metadata": {},
     "output_type": "display_data"
    },
    {
     "name": "stderr",
     "output_type": "stream",
     "text": [
      "Some weights of RobertaForSequenceClassification were not initialized from the model checkpoint at roberta-base and are newly initialized: ['classifier.dense.bias', 'classifier.dense.weight', 'classifier.out_proj.bias', 'classifier.out_proj.weight']\n",
      "You should probably TRAIN this model on a down-stream task to be able to use it for predictions and inference.\n",
      "Epoch 1/10: 100%|██████████| 948/948 [03:22<00:00,  4.67it/s]\n"
     ]
    },
    {
     "name": "stdout",
     "output_type": "stream",
     "text": [
      "Epoch 1 Loss: 0.3550\n",
      "Validation Accuracy: 0.8508  Validation Macro F1: 0.4597\n",
      "                        precision    recall  f1-score   support\n",
      "\n",
      "                    No       0.00      0.00      0.00        37\n",
      "Yes and To some extent       0.85      1.00      0.92       211\n",
      "\n",
      "              accuracy                           0.85       248\n",
      "             macro avg       0.43      0.50      0.46       248\n",
      "          weighted avg       0.72      0.85      0.78       248\n",
      "\n"
     ]
    },
    {
     "name": "stderr",
     "output_type": "stream",
     "text": [
      "Epoch 2/10: 100%|██████████| 948/948 [03:30<00:00,  4.50it/s]\n"
     ]
    },
    {
     "name": "stdout",
     "output_type": "stream",
     "text": [
      "Epoch 2 Loss: 0.3145\n",
      "Validation Accuracy: 0.8266  Validation Macro F1: 0.5738\n",
      "                        precision    recall  f1-score   support\n",
      "\n",
      "                    No       0.35      0.19      0.25        37\n",
      "Yes and To some extent       0.87      0.94      0.90       211\n",
      "\n",
      "              accuracy                           0.83       248\n",
      "             macro avg       0.61      0.56      0.57       248\n",
      "          weighted avg       0.79      0.83      0.80       248\n",
      "\n"
     ]
    },
    {
     "name": "stderr",
     "output_type": "stream",
     "text": [
      "Epoch 3/10: 100%|██████████| 948/948 [03:30<00:00,  4.50it/s]\n"
     ]
    },
    {
     "name": "stdout",
     "output_type": "stream",
     "text": [
      "Epoch 3 Loss: 0.2980\n",
      "Validation Accuracy: 0.8226  Validation Macro F1: 0.5107\n",
      "                        precision    recall  f1-score   support\n",
      "\n",
      "                    No       0.23      0.08      0.12        37\n",
      "Yes and To some extent       0.86      0.95      0.90       211\n",
      "\n",
      "              accuracy                           0.82       248\n",
      "             macro avg       0.54      0.52      0.51       248\n",
      "          weighted avg       0.76      0.82      0.78       248\n",
      "\n"
     ]
    },
    {
     "name": "stderr",
     "output_type": "stream",
     "text": [
      "Epoch 4/10: 100%|██████████| 948/948 [03:30<00:00,  4.50it/s]\n"
     ]
    },
    {
     "name": "stdout",
     "output_type": "stream",
     "text": [
      "Epoch 4 Loss: 0.2995\n",
      "Validation Accuracy: 0.8387  Validation Macro F1: 0.5387\n",
      "                        precision    recall  f1-score   support\n",
      "\n",
      "                    No       0.36      0.11      0.17        37\n",
      "Yes and To some extent       0.86      0.97      0.91       211\n",
      "\n",
      "              accuracy                           0.84       248\n",
      "             macro avg       0.61      0.54      0.54       248\n",
      "          weighted avg       0.79      0.84      0.80       248\n",
      "\n"
     ]
    },
    {
     "name": "stderr",
     "output_type": "stream",
     "text": [
      "Epoch 5/10: 100%|██████████| 948/948 [03:30<00:00,  4.50it/s]\n"
     ]
    },
    {
     "name": "stdout",
     "output_type": "stream",
     "text": [
      "Epoch 5 Loss: 0.2842\n",
      "Validation Accuracy: 0.8306  Validation Macro F1: 0.5329\n",
      "                        precision    recall  f1-score   support\n",
      "\n",
      "                    No       0.31      0.11      0.16        37\n",
      "Yes and To some extent       0.86      0.96      0.91       211\n",
      "\n",
      "              accuracy                           0.83       248\n",
      "             macro avg       0.58      0.53      0.53       248\n",
      "          weighted avg       0.78      0.83      0.79       248\n",
      "\n"
     ]
    },
    {
     "name": "stderr",
     "output_type": "stream",
     "text": [
      "Epoch 6/10: 100%|██████████| 948/948 [03:30<00:00,  4.50it/s]\n"
     ]
    },
    {
     "name": "stdout",
     "output_type": "stream",
     "text": [
      "Epoch 6 Loss: 0.3038\n",
      "Validation Accuracy: 0.8508  Validation Macro F1: 0.4852\n",
      "                        precision    recall  f1-score   support\n",
      "\n",
      "                    No       0.50      0.03      0.05        37\n",
      "Yes and To some extent       0.85      1.00      0.92       211\n",
      "\n",
      "              accuracy                           0.85       248\n",
      "             macro avg       0.68      0.51      0.49       248\n",
      "          weighted avg       0.80      0.85      0.79       248\n",
      "\n"
     ]
    },
    {
     "name": "stderr",
     "output_type": "stream",
     "text": [
      "Epoch 7/10: 100%|██████████| 948/948 [03:30<00:00,  4.50it/s]\n"
     ]
    },
    {
     "name": "stdout",
     "output_type": "stream",
     "text": [
      "Epoch 7 Loss: 0.3210\n",
      "Validation Accuracy: 0.8185  Validation Macro F1: 0.5540\n",
      "                        precision    recall  f1-score   support\n",
      "\n",
      "                    No       0.30      0.16      0.21        37\n",
      "Yes and To some extent       0.86      0.93      0.90       211\n",
      "\n",
      "              accuracy                           0.82       248\n",
      "             macro avg       0.58      0.55      0.55       248\n",
      "          weighted avg       0.78      0.82      0.80       248\n",
      "\n"
     ]
    },
    {
     "name": "stderr",
     "output_type": "stream",
     "text": [
      "Epoch 8/10: 100%|██████████| 948/948 [03:30<00:00,  4.50it/s]\n"
     ]
    },
    {
     "name": "stdout",
     "output_type": "stream",
     "text": [
      "Epoch 8 Loss: 0.2673\n",
      "Validation Accuracy: 0.8266  Validation Macro F1: 0.5458\n",
      "                        precision    recall  f1-score   support\n",
      "\n",
      "                    No       0.31      0.14      0.19        37\n",
      "Yes and To some extent       0.86      0.95      0.90       211\n",
      "\n",
      "              accuracy                           0.83       248\n",
      "             macro avg       0.59      0.54      0.55       248\n",
      "          weighted avg       0.78      0.83      0.80       248\n",
      "\n"
     ]
    },
    {
     "name": "stderr",
     "output_type": "stream",
     "text": [
      "Epoch 9/10: 100%|██████████| 948/948 [03:30<00:00,  4.50it/s]\n"
     ]
    },
    {
     "name": "stdout",
     "output_type": "stream",
     "text": [
      "Epoch 9 Loss: 0.2593\n",
      "Validation Accuracy: 0.8226  Validation Macro F1: 0.5571\n",
      "                        precision    recall  f1-score   support\n",
      "\n",
      "                    No       0.32      0.16      0.21        37\n",
      "Yes and To some extent       0.86      0.94      0.90       211\n",
      "\n",
      "              accuracy                           0.82       248\n",
      "             macro avg       0.59      0.55      0.56       248\n",
      "          weighted avg       0.78      0.82      0.80       248\n",
      "\n"
     ]
    },
    {
     "name": "stderr",
     "output_type": "stream",
     "text": [
      "Epoch 10/10: 100%|██████████| 948/948 [03:30<00:00,  4.50it/s]\n"
     ]
    },
    {
     "name": "stdout",
     "output_type": "stream",
     "text": [
      "Epoch 10 Loss: 0.2631\n",
      "Validation Accuracy: 0.8145  Validation Macro F1: 0.5760\n",
      "                        precision    recall  f1-score   support\n",
      "\n",
      "                    No       0.32      0.22      0.26        37\n",
      "Yes and To some extent       0.87      0.92      0.89       211\n",
      "\n",
      "              accuracy                           0.81       248\n",
      "             macro avg       0.59      0.57      0.58       248\n",
      "          weighted avg       0.79      0.81      0.80       248\n",
      "\n"
     ]
    }
   ],
   "source": [
    "# ---------- Run ----------\n",
    "json_path =\"/kaggle/input/nlp_ass_3/pytorch/default/1/assignment_3_ai_tutors_dataset.json\"\n",
    "train_dataset, val_dataset, tokenizer, df = preprocess_dataset(json_path, \"Mistake_Identification_binary\", mode = 'balanced')\n",
    "train_loader = DataLoader(train_dataset, batch_size=4, shuffle=True)\n",
    "val_loader = DataLoader(val_dataset, batch_size=4)\n",
    "train_model(\"ce\", train_loader, val_loader, num_labels=2)"
   ]
  },
  {
   "cell_type": "code",
   "execution_count": 15,
   "id": "ffb22d2c",
   "metadata": {
    "execution": {
     "iopub.execute_input": "2025-04-27T13:23:02.980396Z",
     "iopub.status.busy": "2025-04-27T13:23:02.979618Z",
     "iopub.status.idle": "2025-04-27T13:53:09.580141Z",
     "shell.execute_reply": "2025-04-27T13:53:09.579332Z"
    },
    "papermill": {
     "duration": 1806.962027,
     "end_time": "2025-04-27T13:53:09.581849",
     "exception": false,
     "start_time": "2025-04-27T13:23:02.619822",
     "status": "completed"
    },
    "tags": []
   },
   "outputs": [
    {
     "name": "stdout",
     "output_type": "stream",
     "text": [
      "\n",
      " Training with: CE Loss\n",
      "\n"
     ]
    },
    {
     "name": "stderr",
     "output_type": "stream",
     "text": [
      "Some weights of RobertaForSequenceClassification were not initialized from the model checkpoint at roberta-base and are newly initialized: ['classifier.dense.bias', 'classifier.dense.weight', 'classifier.out_proj.bias', 'classifier.out_proj.weight']\n",
      "You should probably TRAIN this model on a down-stream task to be able to use it for predictions and inference.\n",
      "Epoch 1/10: 100%|██████████| 793/793 [02:56<00:00,  4.49it/s]\n"
     ]
    },
    {
     "name": "stdout",
     "output_type": "stream",
     "text": [
      "Epoch 1 Loss: 0.5635\n",
      "Validation Accuracy: 0.7056  Validation Macro F1: 0.5817\n",
      "                        precision    recall  f1-score   support\n",
      "\n",
      "                    No       0.48      0.28      0.35        71\n",
      "Yes and To some extent       0.75      0.88      0.81       177\n",
      "\n",
      "              accuracy                           0.71       248\n",
      "             macro avg       0.61      0.58      0.58       248\n",
      "          weighted avg       0.67      0.71      0.68       248\n",
      "\n"
     ]
    },
    {
     "name": "stderr",
     "output_type": "stream",
     "text": [
      "Epoch 2/10: 100%|██████████| 793/793 [02:56<00:00,  4.49it/s]\n"
     ]
    },
    {
     "name": "stdout",
     "output_type": "stream",
     "text": [
      "Epoch 2 Loss: 0.5337\n",
      "Validation Accuracy: 0.7258  Validation Macro F1: 0.4600\n",
      "                        precision    recall  f1-score   support\n",
      "\n",
      "                    No       1.00      0.04      0.08        71\n",
      "Yes and To some extent       0.72      1.00      0.84       177\n",
      "\n",
      "              accuracy                           0.73       248\n",
      "             macro avg       0.86      0.52      0.46       248\n",
      "          weighted avg       0.80      0.73      0.62       248\n",
      "\n"
     ]
    },
    {
     "name": "stderr",
     "output_type": "stream",
     "text": [
      "Epoch 3/10: 100%|██████████| 793/793 [02:56<00:00,  4.49it/s]\n"
     ]
    },
    {
     "name": "stdout",
     "output_type": "stream",
     "text": [
      "Epoch 3 Loss: 0.5007\n",
      "Validation Accuracy: 0.7177  Validation Macro F1: 0.5911\n",
      "                        precision    recall  f1-score   support\n",
      "\n",
      "                    No       0.51      0.28      0.36        71\n",
      "Yes and To some extent       0.76      0.89      0.82       177\n",
      "\n",
      "              accuracy                           0.72       248\n",
      "             macro avg       0.63      0.59      0.59       248\n",
      "          weighted avg       0.69      0.72      0.69       248\n",
      "\n"
     ]
    },
    {
     "name": "stderr",
     "output_type": "stream",
     "text": [
      "Epoch 4/10: 100%|██████████| 793/793 [02:56<00:00,  4.49it/s]\n"
     ]
    },
    {
     "name": "stdout",
     "output_type": "stream",
     "text": [
      "Epoch 4 Loss: 0.4715\n",
      "Validation Accuracy: 0.7419  Validation Macro F1: 0.6559\n",
      "                        precision    recall  f1-score   support\n",
      "\n",
      "                    No       0.57      0.42      0.48        71\n",
      "Yes and To some extent       0.79      0.87      0.83       177\n",
      "\n",
      "              accuracy                           0.74       248\n",
      "             macro avg       0.68      0.65      0.66       248\n",
      "          weighted avg       0.73      0.74      0.73       248\n",
      "\n"
     ]
    },
    {
     "name": "stderr",
     "output_type": "stream",
     "text": [
      "Epoch 5/10: 100%|██████████| 793/793 [02:56<00:00,  4.49it/s]\n"
     ]
    },
    {
     "name": "stdout",
     "output_type": "stream",
     "text": [
      "Epoch 5 Loss: 0.4617\n",
      "Validation Accuracy: 0.7500  Validation Macro F1: 0.6281\n",
      "                        precision    recall  f1-score   support\n",
      "\n",
      "                    No       0.63      0.31      0.42        71\n",
      "Yes and To some extent       0.77      0.93      0.84       177\n",
      "\n",
      "              accuracy                           0.75       248\n",
      "             macro avg       0.70      0.62      0.63       248\n",
      "          weighted avg       0.73      0.75      0.72       248\n",
      "\n"
     ]
    },
    {
     "name": "stderr",
     "output_type": "stream",
     "text": [
      "Epoch 6/10: 100%|██████████| 793/793 [02:56<00:00,  4.49it/s]\n"
     ]
    },
    {
     "name": "stdout",
     "output_type": "stream",
     "text": [
      "Epoch 6 Loss: 0.4350\n",
      "Validation Accuracy: 0.7258  Validation Macro F1: 0.6456\n",
      "                        precision    recall  f1-score   support\n",
      "\n",
      "                    No       0.53      0.44      0.48        71\n",
      "Yes and To some extent       0.79      0.84      0.81       177\n",
      "\n",
      "              accuracy                           0.73       248\n",
      "             macro avg       0.66      0.64      0.65       248\n",
      "          weighted avg       0.71      0.73      0.72       248\n",
      "\n"
     ]
    },
    {
     "name": "stderr",
     "output_type": "stream",
     "text": [
      "Epoch 7/10: 100%|██████████| 793/793 [02:56<00:00,  4.50it/s]\n"
     ]
    },
    {
     "name": "stdout",
     "output_type": "stream",
     "text": [
      "Epoch 7 Loss: 0.4790\n",
      "Validation Accuracy: 0.7056  Validation Macro F1: 0.5002\n",
      "                        precision    recall  f1-score   support\n",
      "\n",
      "                    No       0.44      0.11      0.18        71\n",
      "Yes and To some extent       0.73      0.94      0.82       177\n",
      "\n",
      "              accuracy                           0.71       248\n",
      "             macro avg       0.59      0.53      0.50       248\n",
      "          weighted avg       0.65      0.71      0.64       248\n",
      "\n"
     ]
    },
    {
     "name": "stderr",
     "output_type": "stream",
     "text": [
      "Epoch 8/10: 100%|██████████| 793/793 [02:56<00:00,  4.49it/s]\n"
     ]
    },
    {
     "name": "stdout",
     "output_type": "stream",
     "text": [
      "Epoch 8 Loss: 0.4613\n",
      "Validation Accuracy: 0.7137  Validation Macro F1: 0.5932\n",
      "                        precision    recall  f1-score   support\n",
      "\n",
      "                    No       0.50      0.30      0.37        71\n",
      "Yes and To some extent       0.76      0.88      0.81       177\n",
      "\n",
      "              accuracy                           0.71       248\n",
      "             macro avg       0.63      0.59      0.59       248\n",
      "          weighted avg       0.68      0.71      0.69       248\n",
      "\n"
     ]
    },
    {
     "name": "stderr",
     "output_type": "stream",
     "text": [
      "Epoch 9/10: 100%|██████████| 793/793 [02:56<00:00,  4.49it/s]\n"
     ]
    },
    {
     "name": "stdout",
     "output_type": "stream",
     "text": [
      "Epoch 9 Loss: 0.4226\n",
      "Validation Accuracy: 0.7218  Validation Macro F1: 0.6421\n",
      "                        precision    recall  f1-score   support\n",
      "\n",
      "                    No       0.52      0.44      0.47        71\n",
      "Yes and To some extent       0.79      0.84      0.81       177\n",
      "\n",
      "              accuracy                           0.72       248\n",
      "             macro avg       0.65      0.64      0.64       248\n",
      "          weighted avg       0.71      0.72      0.71       248\n",
      "\n"
     ]
    },
    {
     "name": "stderr",
     "output_type": "stream",
     "text": [
      "Epoch 10/10: 100%|██████████| 793/793 [02:56<00:00,  4.50it/s]\n"
     ]
    },
    {
     "name": "stdout",
     "output_type": "stream",
     "text": [
      "Epoch 10 Loss: 0.4120\n",
      "Validation Accuracy: 0.7379  Validation Macro F1: 0.6127\n",
      "                        precision    recall  f1-score   support\n",
      "\n",
      "                    No       0.58      0.30      0.39        71\n",
      "Yes and To some extent       0.76      0.92      0.83       177\n",
      "\n",
      "              accuracy                           0.74       248\n",
      "             macro avg       0.67      0.61      0.61       248\n",
      "          weighted avg       0.71      0.74      0.71       248\n",
      "\n"
     ]
    }
   ],
   "source": [
    "# ---------- Run ----------\n",
    "json_path =\"/kaggle/input/nlp_ass_3/pytorch/default/1/assignment_3_ai_tutors_dataset.json\"\n",
    "train_dataset, val_dataset, tokenizer, df = preprocess_dataset(json_path, \"Mistake_Location_binary\", mode = 'balanced')\n",
    "train_loader = DataLoader(train_dataset, batch_size=4, shuffle=True)\n",
    "val_loader = DataLoader(val_dataset, batch_size=4)\n",
    "train_model(\"ce\", train_loader, val_loader, num_labels=2)"
   ]
  },
  {
   "cell_type": "code",
   "execution_count": 16,
   "id": "e6639ddf",
   "metadata": {
    "execution": {
     "iopub.execute_input": "2025-04-27T13:53:11.060927Z",
     "iopub.status.busy": "2025-04-27T13:53:11.060653Z",
     "iopub.status.idle": "2025-04-27T14:25:44.849720Z",
     "shell.execute_reply": "2025-04-27T14:25:44.848942Z"
    },
    "papermill": {
     "duration": 1954.530812,
     "end_time": "2025-04-27T14:25:44.851092",
     "exception": false,
     "start_time": "2025-04-27T13:53:10.320280",
     "status": "completed"
    },
    "tags": []
   },
   "outputs": [
    {
     "name": "stdout",
     "output_type": "stream",
     "text": [
      "\n",
      " Training with: CE Loss\n",
      "\n"
     ]
    },
    {
     "name": "stderr",
     "output_type": "stream",
     "text": [
      "Some weights of RobertaForSequenceClassification were not initialized from the model checkpoint at roberta-base and are newly initialized: ['classifier.dense.bias', 'classifier.dense.weight', 'classifier.out_proj.bias', 'classifier.out_proj.weight']\n",
      "You should probably TRAIN this model on a down-stream task to be able to use it for predictions and inference.\n",
      "Epoch 1/10: 100%|██████████| 860/860 [03:11<00:00,  4.50it/s]\n"
     ]
    },
    {
     "name": "stdout",
     "output_type": "stream",
     "text": [
      "Epoch 1 Loss: 0.4754\n",
      "Validation Accuracy: 0.7702  Validation Macro F1: 0.5082\n",
      "                        precision    recall  f1-score   support\n",
      "\n",
      "                    No       0.50      0.09      0.15        57\n",
      "Yes and To some extent       0.78      0.97      0.87       191\n",
      "\n",
      "              accuracy                           0.77       248\n",
      "             macro avg       0.64      0.53      0.51       248\n",
      "          weighted avg       0.72      0.77      0.70       248\n",
      "\n"
     ]
    },
    {
     "name": "stderr",
     "output_type": "stream",
     "text": [
      "Epoch 2/10: 100%|██████████| 860/860 [03:11<00:00,  4.50it/s]\n"
     ]
    },
    {
     "name": "stdout",
     "output_type": "stream",
     "text": [
      "Epoch 2 Loss: 0.4408\n",
      "Validation Accuracy: 0.7903  Validation Macro F1: 0.5456\n",
      "                        precision    recall  f1-score   support\n",
      "\n",
      "                    No       0.78      0.12      0.21        57\n",
      "Yes and To some extent       0.79      0.99      0.88       191\n",
      "\n",
      "              accuracy                           0.79       248\n",
      "             macro avg       0.78      0.56      0.55       248\n",
      "          weighted avg       0.79      0.79      0.73       248\n",
      "\n"
     ]
    },
    {
     "name": "stderr",
     "output_type": "stream",
     "text": [
      "Epoch 3/10: 100%|██████████| 860/860 [03:11<00:00,  4.50it/s]\n"
     ]
    },
    {
     "name": "stdout",
     "output_type": "stream",
     "text": [
      "Epoch 3 Loss: 0.4173\n",
      "Validation Accuracy: 0.7863  Validation Macro F1: 0.6090\n",
      "                        precision    recall  f1-score   support\n",
      "\n",
      "                    No       0.58      0.25      0.35        57\n",
      "Yes and To some extent       0.81      0.95      0.87       191\n",
      "\n",
      "              accuracy                           0.79       248\n",
      "             macro avg       0.70      0.60      0.61       248\n",
      "          weighted avg       0.76      0.79      0.75       248\n",
      "\n"
     ]
    },
    {
     "name": "stderr",
     "output_type": "stream",
     "text": [
      "Epoch 4/10: 100%|██████████| 860/860 [03:11<00:00,  4.50it/s]\n"
     ]
    },
    {
     "name": "stdout",
     "output_type": "stream",
     "text": [
      "Epoch 4 Loss: 0.3918\n",
      "Validation Accuracy: 0.7500  Validation Macro F1: 0.6174\n",
      "                        precision    recall  f1-score   support\n",
      "\n",
      "                    No       0.44      0.35      0.39        57\n",
      "Yes and To some extent       0.82      0.87      0.84       191\n",
      "\n",
      "              accuracy                           0.75       248\n",
      "             macro avg       0.63      0.61      0.62       248\n",
      "          weighted avg       0.73      0.75      0.74       248\n",
      "\n"
     ]
    },
    {
     "name": "stderr",
     "output_type": "stream",
     "text": [
      "Epoch 5/10: 100%|██████████| 860/860 [03:11<00:00,  4.50it/s]\n"
     ]
    },
    {
     "name": "stdout",
     "output_type": "stream",
     "text": [
      "Epoch 5 Loss: 0.3945\n",
      "Validation Accuracy: 0.7702  Validation Macro F1: 0.5202\n",
      "                        precision    recall  f1-score   support\n",
      "\n",
      "                    No       0.50      0.11      0.17        57\n",
      "Yes and To some extent       0.78      0.97      0.87       191\n",
      "\n",
      "              accuracy                           0.77       248\n",
      "             macro avg       0.64      0.54      0.52       248\n",
      "          weighted avg       0.72      0.77      0.71       248\n",
      "\n"
     ]
    },
    {
     "name": "stderr",
     "output_type": "stream",
     "text": [
      "Epoch 6/10: 100%|██████████| 860/860 [03:11<00:00,  4.50it/s]\n"
     ]
    },
    {
     "name": "stdout",
     "output_type": "stream",
     "text": [
      "Epoch 6 Loss: 0.3779\n",
      "Validation Accuracy: 0.7944  Validation Macro F1: 0.6080\n",
      "                        precision    recall  f1-score   support\n",
      "\n",
      "                    No       0.65      0.23      0.34        57\n",
      "Yes and To some extent       0.81      0.96      0.88       191\n",
      "\n",
      "              accuracy                           0.79       248\n",
      "             macro avg       0.73      0.60      0.61       248\n",
      "          weighted avg       0.77      0.79      0.75       248\n",
      "\n"
     ]
    },
    {
     "name": "stderr",
     "output_type": "stream",
     "text": [
      "Epoch 7/10: 100%|██████████| 860/860 [03:11<00:00,  4.50it/s]\n"
     ]
    },
    {
     "name": "stdout",
     "output_type": "stream",
     "text": [
      "Epoch 7 Loss: 0.3651\n",
      "Validation Accuracy: 0.7782  Validation Macro F1: 0.6361\n",
      "                        precision    recall  f1-score   support\n",
      "\n",
      "                    No       0.53      0.33      0.41        57\n",
      "Yes and To some extent       0.82      0.91      0.86       191\n",
      "\n",
      "              accuracy                           0.78       248\n",
      "             macro avg       0.67      0.62      0.64       248\n",
      "          weighted avg       0.75      0.78      0.76       248\n",
      "\n"
     ]
    },
    {
     "name": "stderr",
     "output_type": "stream",
     "text": [
      "Epoch 8/10: 100%|██████████| 860/860 [03:11<00:00,  4.50it/s]\n"
     ]
    },
    {
     "name": "stdout",
     "output_type": "stream",
     "text": [
      "Epoch 8 Loss: 0.3527\n",
      "Validation Accuracy: 0.7782  Validation Macro F1: 0.6530\n",
      "                        precision    recall  f1-score   support\n",
      "\n",
      "                    No       0.52      0.39      0.44        57\n",
      "Yes and To some extent       0.83      0.90      0.86       191\n",
      "\n",
      "              accuracy                           0.78       248\n",
      "             macro avg       0.68      0.64      0.65       248\n",
      "          weighted avg       0.76      0.78      0.77       248\n",
      "\n"
     ]
    },
    {
     "name": "stderr",
     "output_type": "stream",
     "text": [
      "Epoch 9/10: 100%|██████████| 860/860 [03:11<00:00,  4.50it/s]\n"
     ]
    },
    {
     "name": "stdout",
     "output_type": "stream",
     "text": [
      "Epoch 9 Loss: 0.3374\n",
      "Validation Accuracy: 0.7823  Validation Macro F1: 0.6130\n",
      "                        precision    recall  f1-score   support\n",
      "\n",
      "                    No       0.56      0.26      0.36        57\n",
      "Yes and To some extent       0.81      0.94      0.87       191\n",
      "\n",
      "              accuracy                           0.78       248\n",
      "             macro avg       0.68      0.60      0.61       248\n",
      "          weighted avg       0.75      0.78      0.75       248\n",
      "\n"
     ]
    },
    {
     "name": "stderr",
     "output_type": "stream",
     "text": [
      "Epoch 10/10: 100%|██████████| 860/860 [03:11<00:00,  4.50it/s]\n"
     ]
    },
    {
     "name": "stdout",
     "output_type": "stream",
     "text": [
      "Epoch 10 Loss: 0.3343\n",
      "Validation Accuracy: 0.7742  Validation Macro F1: 0.6593\n",
      "                        precision    recall  f1-score   support\n",
      "\n",
      "                    No       0.51      0.42      0.46        57\n",
      "Yes and To some extent       0.84      0.88      0.86       191\n",
      "\n",
      "              accuracy                           0.77       248\n",
      "             macro avg       0.67      0.65      0.66       248\n",
      "          weighted avg       0.76      0.77      0.77       248\n",
      "\n"
     ]
    }
   ],
   "source": [
    "# ---------- Run ----------\n",
    "json_path =\"/kaggle/input/nlp_ass_3/pytorch/default/1/assignment_3_ai_tutors_dataset.json\"\n",
    "train_dataset, val_dataset, tokenizer, df = preprocess_dataset(json_path, \"Pedagogical_Guidance_binary\", mode = 'balanced')\n",
    "train_loader = DataLoader(train_dataset, batch_size=4, shuffle=True)\n",
    "val_loader = DataLoader(val_dataset, batch_size=4)\n",
    "train_model(\"ce\", train_loader, val_loader, num_labels=2)"
   ]
  },
  {
   "cell_type": "code",
   "execution_count": 17,
   "id": "8e640d5b",
   "metadata": {
    "execution": {
     "iopub.execute_input": "2025-04-27T14:25:47.023601Z",
     "iopub.status.busy": "2025-04-27T14:25:47.022913Z",
     "iopub.status.idle": "2025-04-27T14:54:28.679590Z",
     "shell.execute_reply": "2025-04-27T14:54:28.678903Z"
    },
    "papermill": {
     "duration": 1722.747259,
     "end_time": "2025-04-27T14:54:28.680997",
     "exception": false,
     "start_time": "2025-04-27T14:25:45.933738",
     "status": "completed"
    },
    "tags": []
   },
   "outputs": [
    {
     "name": "stdout",
     "output_type": "stream",
     "text": [
      "\n",
      " Training with: CE Loss\n",
      "\n"
     ]
    },
    {
     "name": "stderr",
     "output_type": "stream",
     "text": [
      "Some weights of RobertaForSequenceClassification were not initialized from the model checkpoint at roberta-base and are newly initialized: ['classifier.dense.bias', 'classifier.dense.weight', 'classifier.out_proj.bias', 'classifier.out_proj.weight']\n",
      "You should probably TRAIN this model on a down-stream task to be able to use it for predictions and inference.\n",
      "Epoch 1/10: 100%|██████████| 756/756 [02:47<00:00,  4.50it/s]\n"
     ]
    },
    {
     "name": "stdout",
     "output_type": "stream",
     "text": [
      "Epoch 1 Loss: 0.5373\n",
      "Validation Accuracy: 0.7177  Validation Macro F1: 0.6387\n",
      "                        precision    recall  f1-score   support\n",
      "\n",
      "                    No       0.60      0.39      0.47        80\n",
      "Yes and To some extent       0.75      0.88      0.81       168\n",
      "\n",
      "              accuracy                           0.72       248\n",
      "             macro avg       0.67      0.63      0.64       248\n",
      "          weighted avg       0.70      0.72      0.70       248\n",
      "\n"
     ]
    },
    {
     "name": "stderr",
     "output_type": "stream",
     "text": [
      "Epoch 2/10: 100%|██████████| 756/756 [02:47<00:00,  4.50it/s]\n"
     ]
    },
    {
     "name": "stdout",
     "output_type": "stream",
     "text": [
      "Epoch 2 Loss: 0.4830\n",
      "Validation Accuracy: 0.7661  Validation Macro F1: 0.6656\n",
      "                        precision    recall  f1-score   support\n",
      "\n",
      "                    No       0.84      0.34      0.48        80\n",
      "Yes and To some extent       0.75      0.97      0.85       168\n",
      "\n",
      "              accuracy                           0.77       248\n",
      "             macro avg       0.80      0.65      0.67       248\n",
      "          weighted avg       0.78      0.77      0.73       248\n",
      "\n"
     ]
    },
    {
     "name": "stderr",
     "output_type": "stream",
     "text": [
      "Epoch 3/10: 100%|██████████| 756/756 [02:47<00:00,  4.50it/s]\n"
     ]
    },
    {
     "name": "stdout",
     "output_type": "stream",
     "text": [
      "Epoch 3 Loss: 0.4618\n",
      "Validation Accuracy: 0.7460  Validation Macro F1: 0.6631\n",
      "                        precision    recall  f1-score   support\n",
      "\n",
      "                    No       0.69      0.39      0.50        80\n",
      "Yes and To some extent       0.76      0.92      0.83       168\n",
      "\n",
      "              accuracy                           0.75       248\n",
      "             macro avg       0.72      0.65      0.66       248\n",
      "          weighted avg       0.74      0.75      0.72       248\n",
      "\n"
     ]
    },
    {
     "name": "stderr",
     "output_type": "stream",
     "text": [
      "Epoch 4/10: 100%|██████████| 756/756 [02:47<00:00,  4.50it/s]\n"
     ]
    },
    {
     "name": "stdout",
     "output_type": "stream",
     "text": [
      "Epoch 4 Loss: 0.4422\n",
      "Validation Accuracy: 0.7460  Validation Macro F1: 0.6557\n",
      "                        precision    recall  f1-score   support\n",
      "\n",
      "                    No       0.71      0.36      0.48        80\n",
      "Yes and To some extent       0.75      0.93      0.83       168\n",
      "\n",
      "              accuracy                           0.75       248\n",
      "             macro avg       0.73      0.65      0.66       248\n",
      "          weighted avg       0.74      0.75      0.72       248\n",
      "\n"
     ]
    },
    {
     "name": "stderr",
     "output_type": "stream",
     "text": [
      "Epoch 5/10: 100%|██████████| 756/756 [02:47<00:00,  4.50it/s]\n"
     ]
    },
    {
     "name": "stdout",
     "output_type": "stream",
     "text": [
      "Epoch 5 Loss: 0.4421\n",
      "Validation Accuracy: 0.7621  Validation Macro F1: 0.6436\n",
      "                        precision    recall  f1-score   support\n",
      "\n",
      "                    No       0.92      0.29      0.44        80\n",
      "Yes and To some extent       0.74      0.99      0.85       168\n",
      "\n",
      "              accuracy                           0.76       248\n",
      "             macro avg       0.83      0.64      0.64       248\n",
      "          weighted avg       0.80      0.76      0.72       248\n",
      "\n"
     ]
    },
    {
     "name": "stderr",
     "output_type": "stream",
     "text": [
      "Epoch 6/10: 100%|██████████| 756/756 [02:48<00:00,  4.50it/s]\n"
     ]
    },
    {
     "name": "stdout",
     "output_type": "stream",
     "text": [
      "Epoch 6 Loss: 0.4097\n",
      "Validation Accuracy: 0.7218  Validation Macro F1: 0.6638\n",
      "                        precision    recall  f1-score   support\n",
      "\n",
      "                    No       0.58      0.47      0.52        80\n",
      "Yes and To some extent       0.77      0.84      0.80       168\n",
      "\n",
      "              accuracy                           0.72       248\n",
      "             macro avg       0.68      0.66      0.66       248\n",
      "          weighted avg       0.71      0.72      0.71       248\n",
      "\n"
     ]
    },
    {
     "name": "stderr",
     "output_type": "stream",
     "text": [
      "Epoch 7/10: 100%|██████████| 756/756 [02:48<00:00,  4.50it/s]\n"
     ]
    },
    {
     "name": "stdout",
     "output_type": "stream",
     "text": [
      "Epoch 7 Loss: 0.4046\n",
      "Validation Accuracy: 0.7419  Validation Macro F1: 0.6355\n",
      "                        precision    recall  f1-score   support\n",
      "\n",
      "                    No       0.74      0.31      0.44        80\n",
      "Yes and To some extent       0.74      0.95      0.83       168\n",
      "\n",
      "              accuracy                           0.74       248\n",
      "             macro avg       0.74      0.63      0.64       248\n",
      "          weighted avg       0.74      0.74      0.71       248\n",
      "\n"
     ]
    },
    {
     "name": "stderr",
     "output_type": "stream",
     "text": [
      "Epoch 8/10: 100%|██████████| 756/756 [02:48<00:00,  4.50it/s]\n"
     ]
    },
    {
     "name": "stdout",
     "output_type": "stream",
     "text": [
      "Epoch 8 Loss: 0.3924\n",
      "Validation Accuracy: 0.7056  Validation Macro F1: 0.6443\n",
      "                        precision    recall  f1-score   support\n",
      "\n",
      "                    No       0.55      0.45      0.50        80\n",
      "Yes and To some extent       0.76      0.83      0.79       168\n",
      "\n",
      "              accuracy                           0.71       248\n",
      "             macro avg       0.66      0.64      0.64       248\n",
      "          weighted avg       0.69      0.71      0.70       248\n",
      "\n"
     ]
    },
    {
     "name": "stderr",
     "output_type": "stream",
     "text": [
      "Epoch 9/10: 100%|██████████| 756/756 [02:48<00:00,  4.50it/s]\n"
     ]
    },
    {
     "name": "stdout",
     "output_type": "stream",
     "text": [
      "Epoch 9 Loss: 0.3868\n",
      "Validation Accuracy: 0.7540  Validation Macro F1: 0.6867\n",
      "                        precision    recall  f1-score   support\n",
      "\n",
      "                    No       0.68      0.45      0.54        80\n",
      "Yes and To some extent       0.77      0.90      0.83       168\n",
      "\n",
      "              accuracy                           0.75       248\n",
      "             macro avg       0.73      0.67      0.69       248\n",
      "          weighted avg       0.74      0.75      0.74       248\n",
      "\n"
     ]
    },
    {
     "name": "stderr",
     "output_type": "stream",
     "text": [
      "Epoch 10/10: 100%|██████████| 756/756 [02:47<00:00,  4.50it/s]\n"
     ]
    },
    {
     "name": "stdout",
     "output_type": "stream",
     "text": [
      "Epoch 10 Loss: 0.3731\n",
      "Validation Accuracy: 0.7298  Validation Macro F1: 0.6417\n",
      "                        precision    recall  f1-score   support\n",
      "\n",
      "                    No       0.64      0.36      0.46        80\n",
      "Yes and To some extent       0.75      0.90      0.82       168\n",
      "\n",
      "              accuracy                           0.73       248\n",
      "             macro avg       0.70      0.63      0.64       248\n",
      "          weighted avg       0.72      0.73      0.70       248\n",
      "\n"
     ]
    }
   ],
   "source": [
    "# ---------- Run ----------\n",
    "json_path =\"/kaggle/input/nlp_ass_3/pytorch/default/1/assignment_3_ai_tutors_dataset.json\"\n",
    "train_dataset, val_dataset, tokenizer, df = preprocess_dataset(json_path, \"Actionability_binary\", mode = 'balanced')\n",
    "train_loader = DataLoader(train_dataset, batch_size=4, shuffle=True)\n",
    "val_loader = DataLoader(val_dataset, batch_size=4)\n",
    "train_model(\"ce\", train_loader, val_loader, num_labels=2)"
   ]
  }
 ],
 "metadata": {
  "kaggle": {
   "accelerator": "nvidiaTeslaT4",
   "dataSources": [
    {
     "isSourceIdPinned": true,
     "modelId": 317383,
     "modelInstanceId": 296779,
     "sourceId": 355844,
     "sourceType": "modelInstanceVersion"
    }
   ],
   "dockerImageVersionId": 31011,
   "isGpuEnabled": true,
   "isInternetEnabled": true,
   "language": "python",
   "sourceType": "notebook"
  },
  "kernelspec": {
   "display_name": "Python 3",
   "language": "python",
   "name": "python3"
  },
  "language_info": {
   "codemirror_mode": {
    "name": "ipython",
    "version": 3
   },
   "file_extension": ".py",
   "mimetype": "text/x-python",
   "name": "python",
   "nbconvert_exporter": "python",
   "pygments_lexer": "ipython3",
   "version": "3.11.11"
  },
  "papermill": {
   "default_parameters": {},
   "duration": 7676.508994,
   "end_time": "2025-04-27T14:54:33.553748",
   "environment_variables": {},
   "exception": null,
   "input_path": "__notebook__.ipynb",
   "output_path": "__notebook__.ipynb",
   "parameters": {},
   "start_time": "2025-04-27T12:46:37.044754",
   "version": "2.6.0"
  },
  "widgets": {
   "application/vnd.jupyter.widget-state+json": {
    "state": {
     "003c0417db7742f49858ba7dd65f260c": {
      "model_module": "@jupyter-widgets/controls",
      "model_module_version": "2.0.0",
      "model_name": "HTMLStyleModel",
      "state": {
       "_model_module": "@jupyter-widgets/controls",
       "_model_module_version": "2.0.0",
       "_model_name": "HTMLStyleModel",
       "_view_count": null,
       "_view_module": "@jupyter-widgets/base",
       "_view_module_version": "2.0.0",
       "_view_name": "StyleView",
       "background": null,
       "description_width": "",
       "font_size": null,
       "text_color": null
      }
     },
     "0c35cc83828f4755807f7cb9fab7c26f": {
      "model_module": "@jupyter-widgets/controls",
      "model_module_version": "2.0.0",
      "model_name": "HTMLStyleModel",
      "state": {
       "_model_module": "@jupyter-widgets/controls",
       "_model_module_version": "2.0.0",
       "_model_name": "HTMLStyleModel",
       "_view_count": null,
       "_view_module": "@jupyter-widgets/base",
       "_view_module_version": "2.0.0",
       "_view_name": "StyleView",
       "background": null,
       "description_width": "",
       "font_size": null,
       "text_color": null
      }
     },
     "0ec57caad81f4cce9a084c8aca627b58": {
      "model_module": "@jupyter-widgets/controls",
      "model_module_version": "2.0.0",
      "model_name": "HTMLStyleModel",
      "state": {
       "_model_module": "@jupyter-widgets/controls",
       "_model_module_version": "2.0.0",
       "_model_name": "HTMLStyleModel",
       "_view_count": null,
       "_view_module": "@jupyter-widgets/base",
       "_view_module_version": "2.0.0",
       "_view_name": "StyleView",
       "background": null,
       "description_width": "",
       "font_size": null,
       "text_color": null
      }
     },
     "1823f3ee2ec24c0aa4cee401a5daddd0": {
      "model_module": "@jupyter-widgets/base",
      "model_module_version": "2.0.0",
      "model_name": "LayoutModel",
      "state": {
       "_model_module": "@jupyter-widgets/base",
       "_model_module_version": "2.0.0",
       "_model_name": "LayoutModel",
       "_view_count": null,
       "_view_module": "@jupyter-widgets/base",
       "_view_module_version": "2.0.0",
       "_view_name": "LayoutView",
       "align_content": null,
       "align_items": null,
       "align_self": null,
       "border_bottom": null,
       "border_left": null,
       "border_right": null,
       "border_top": null,
       "bottom": null,
       "display": null,
       "flex": null,
       "flex_flow": null,
       "grid_area": null,
       "grid_auto_columns": null,
       "grid_auto_flow": null,
       "grid_auto_rows": null,
       "grid_column": null,
       "grid_gap": null,
       "grid_row": null,
       "grid_template_areas": null,
       "grid_template_columns": null,
       "grid_template_rows": null,
       "height": null,
       "justify_content": null,
       "justify_items": null,
       "left": null,
       "margin": null,
       "max_height": null,
       "max_width": null,
       "min_height": null,
       "min_width": null,
       "object_fit": null,
       "object_position": null,
       "order": null,
       "overflow": null,
       "padding": null,
       "right": null,
       "top": null,
       "visibility": null,
       "width": null
      }
     },
     "2af80467021347a8a28556d6f3ebf775": {
      "model_module": "@jupyter-widgets/controls",
      "model_module_version": "2.0.0",
      "model_name": "HTMLStyleModel",
      "state": {
       "_model_module": "@jupyter-widgets/controls",
       "_model_module_version": "2.0.0",
       "_model_name": "HTMLStyleModel",
       "_view_count": null,
       "_view_module": "@jupyter-widgets/base",
       "_view_module_version": "2.0.0",
       "_view_name": "StyleView",
       "background": null,
       "description_width": "",
       "font_size": null,
       "text_color": null
      }
     },
     "2d569d4cab97450088a687c146fbdb74": {
      "model_module": "@jupyter-widgets/base",
      "model_module_version": "2.0.0",
      "model_name": "LayoutModel",
      "state": {
       "_model_module": "@jupyter-widgets/base",
       "_model_module_version": "2.0.0",
       "_model_name": "LayoutModel",
       "_view_count": null,
       "_view_module": "@jupyter-widgets/base",
       "_view_module_version": "2.0.0",
       "_view_name": "LayoutView",
       "align_content": null,
       "align_items": null,
       "align_self": null,
       "border_bottom": null,
       "border_left": null,
       "border_right": null,
       "border_top": null,
       "bottom": null,
       "display": null,
       "flex": null,
       "flex_flow": null,
       "grid_area": null,
       "grid_auto_columns": null,
       "grid_auto_flow": null,
       "grid_auto_rows": null,
       "grid_column": null,
       "grid_gap": null,
       "grid_row": null,
       "grid_template_areas": null,
       "grid_template_columns": null,
       "grid_template_rows": null,
       "height": null,
       "justify_content": null,
       "justify_items": null,
       "left": null,
       "margin": null,
       "max_height": null,
       "max_width": null,
       "min_height": null,
       "min_width": null,
       "object_fit": null,
       "object_position": null,
       "order": null,
       "overflow": null,
       "padding": null,
       "right": null,
       "top": null,
       "visibility": null,
       "width": null
      }
     },
     "2fa57e17558e47f8aa8b202f735ff33d": {
      "model_module": "@jupyter-widgets/base",
      "model_module_version": "2.0.0",
      "model_name": "LayoutModel",
      "state": {
       "_model_module": "@jupyter-widgets/base",
       "_model_module_version": "2.0.0",
       "_model_name": "LayoutModel",
       "_view_count": null,
       "_view_module": "@jupyter-widgets/base",
       "_view_module_version": "2.0.0",
       "_view_name": "LayoutView",
       "align_content": null,
       "align_items": null,
       "align_self": null,
       "border_bottom": null,
       "border_left": null,
       "border_right": null,
       "border_top": null,
       "bottom": null,
       "display": null,
       "flex": null,
       "flex_flow": null,
       "grid_area": null,
       "grid_auto_columns": null,
       "grid_auto_flow": null,
       "grid_auto_rows": null,
       "grid_column": null,
       "grid_gap": null,
       "grid_row": null,
       "grid_template_areas": null,
       "grid_template_columns": null,
       "grid_template_rows": null,
       "height": null,
       "justify_content": null,
       "justify_items": null,
       "left": null,
       "margin": null,
       "max_height": null,
       "max_width": null,
       "min_height": null,
       "min_width": null,
       "object_fit": null,
       "object_position": null,
       "order": null,
       "overflow": null,
       "padding": null,
       "right": null,
       "top": null,
       "visibility": null,
       "width": null
      }
     },
     "37f65cf2772a4e1d93ae3b08968c44db": {
      "model_module": "@jupyter-widgets/controls",
      "model_module_version": "2.0.0",
      "model_name": "HBoxModel",
      "state": {
       "_dom_classes": [],
       "_model_module": "@jupyter-widgets/controls",
       "_model_module_version": "2.0.0",
       "_model_name": "HBoxModel",
       "_view_count": null,
       "_view_module": "@jupyter-widgets/controls",
       "_view_module_version": "2.0.0",
       "_view_name": "HBoxView",
       "box_style": "",
       "children": [
        "IPY_MODEL_4bb3b535ee8e4fcda1887ce8513ed743",
        "IPY_MODEL_562c6eff0bd942c8a501d3851af9b11c",
        "IPY_MODEL_f76ce66e421c418cbb0ad75b580205ec"
       ],
       "layout": "IPY_MODEL_e650e175e3044f83b3cc9bd1ce49b87d",
       "tabbable": null,
       "tooltip": null
      }
     },
     "3e7adb25bc1546f9996ba8c3a4c7aafc": {
      "model_module": "@jupyter-widgets/controls",
      "model_module_version": "2.0.0",
      "model_name": "HTMLStyleModel",
      "state": {
       "_model_module": "@jupyter-widgets/controls",
       "_model_module_version": "2.0.0",
       "_model_name": "HTMLStyleModel",
       "_view_count": null,
       "_view_module": "@jupyter-widgets/base",
       "_view_module_version": "2.0.0",
       "_view_name": "StyleView",
       "background": null,
       "description_width": "",
       "font_size": null,
       "text_color": null
      }
     },
     "3edc2b9da95f47f1b876c2a5033bdea0": {
      "model_module": "@jupyter-widgets/controls",
      "model_module_version": "2.0.0",
      "model_name": "HBoxModel",
      "state": {
       "_dom_classes": [],
       "_model_module": "@jupyter-widgets/controls",
       "_model_module_version": "2.0.0",
       "_model_name": "HBoxModel",
       "_view_count": null,
       "_view_module": "@jupyter-widgets/controls",
       "_view_module_version": "2.0.0",
       "_view_name": "HBoxView",
       "box_style": "",
       "children": [
        "IPY_MODEL_a5a0cc2721cc48aaad4d5678a8fced1b",
        "IPY_MODEL_a664ffd713254aca9c2e10d2048f3668",
        "IPY_MODEL_62c8e08419984be3ad2f5a7695ed7622"
       ],
       "layout": "IPY_MODEL_436792ecd26247b494d2188abbfd5256",
       "tabbable": null,
       "tooltip": null
      }
     },
     "415b0da18aca49e69f2d5bf697651db8": {
      "model_module": "@jupyter-widgets/base",
      "model_module_version": "2.0.0",
      "model_name": "LayoutModel",
      "state": {
       "_model_module": "@jupyter-widgets/base",
       "_model_module_version": "2.0.0",
       "_model_name": "LayoutModel",
       "_view_count": null,
       "_view_module": "@jupyter-widgets/base",
       "_view_module_version": "2.0.0",
       "_view_name": "LayoutView",
       "align_content": null,
       "align_items": null,
       "align_self": null,
       "border_bottom": null,
       "border_left": null,
       "border_right": null,
       "border_top": null,
       "bottom": null,
       "display": null,
       "flex": null,
       "flex_flow": null,
       "grid_area": null,
       "grid_auto_columns": null,
       "grid_auto_flow": null,
       "grid_auto_rows": null,
       "grid_column": null,
       "grid_gap": null,
       "grid_row": null,
       "grid_template_areas": null,
       "grid_template_columns": null,
       "grid_template_rows": null,
       "height": null,
       "justify_content": null,
       "justify_items": null,
       "left": null,
       "margin": null,
       "max_height": null,
       "max_width": null,
       "min_height": null,
       "min_width": null,
       "object_fit": null,
       "object_position": null,
       "order": null,
       "overflow": null,
       "padding": null,
       "right": null,
       "top": null,
       "visibility": null,
       "width": null
      }
     },
     "436792ecd26247b494d2188abbfd5256": {
      "model_module": "@jupyter-widgets/base",
      "model_module_version": "2.0.0",
      "model_name": "LayoutModel",
      "state": {
       "_model_module": "@jupyter-widgets/base",
       "_model_module_version": "2.0.0",
       "_model_name": "LayoutModel",
       "_view_count": null,
       "_view_module": "@jupyter-widgets/base",
       "_view_module_version": "2.0.0",
       "_view_name": "LayoutView",
       "align_content": null,
       "align_items": null,
       "align_self": null,
       "border_bottom": null,
       "border_left": null,
       "border_right": null,
       "border_top": null,
       "bottom": null,
       "display": null,
       "flex": null,
       "flex_flow": null,
       "grid_area": null,
       "grid_auto_columns": null,
       "grid_auto_flow": null,
       "grid_auto_rows": null,
       "grid_column": null,
       "grid_gap": null,
       "grid_row": null,
       "grid_template_areas": null,
       "grid_template_columns": null,
       "grid_template_rows": null,
       "height": null,
       "justify_content": null,
       "justify_items": null,
       "left": null,
       "margin": null,
       "max_height": null,
       "max_width": null,
       "min_height": null,
       "min_width": null,
       "object_fit": null,
       "object_position": null,
       "order": null,
       "overflow": null,
       "padding": null,
       "right": null,
       "top": null,
       "visibility": null,
       "width": null
      }
     },
     "495498c9332b4646aaaf91da425586d4": {
      "model_module": "@jupyter-widgets/controls",
      "model_module_version": "2.0.0",
      "model_name": "HTMLStyleModel",
      "state": {
       "_model_module": "@jupyter-widgets/controls",
       "_model_module_version": "2.0.0",
       "_model_name": "HTMLStyleModel",
       "_view_count": null,
       "_view_module": "@jupyter-widgets/base",
       "_view_module_version": "2.0.0",
       "_view_name": "StyleView",
       "background": null,
       "description_width": "",
       "font_size": null,
       "text_color": null
      }
     },
     "4bb3b535ee8e4fcda1887ce8513ed743": {
      "model_module": "@jupyter-widgets/controls",
      "model_module_version": "2.0.0",
      "model_name": "HTMLModel",
      "state": {
       "_dom_classes": [],
       "_model_module": "@jupyter-widgets/controls",
       "_model_module_version": "2.0.0",
       "_model_name": "HTMLModel",
       "_view_count": null,
       "_view_module": "@jupyter-widgets/controls",
       "_view_module_version": "2.0.0",
       "_view_name": "HTMLView",
       "description": "",
       "description_allow_html": false,
       "layout": "IPY_MODEL_1823f3ee2ec24c0aa4cee401a5daddd0",
       "placeholder": "​",
       "style": "IPY_MODEL_9bf19ca07b424177ab35376b0fe15c5f",
       "tabbable": null,
       "tooltip": null,
       "value": "config.json: 100%"
      }
     },
     "5025aa30e0054f73a70fc845884dbb23": {
      "model_module": "@jupyter-widgets/controls",
      "model_module_version": "2.0.0",
      "model_name": "ProgressStyleModel",
      "state": {
       "_model_module": "@jupyter-widgets/controls",
       "_model_module_version": "2.0.0",
       "_model_name": "ProgressStyleModel",
       "_view_count": null,
       "_view_module": "@jupyter-widgets/base",
       "_view_module_version": "2.0.0",
       "_view_name": "StyleView",
       "bar_color": null,
       "description_width": ""
      }
     },
     "518a0d563fa245b98a5fa2b863489395": {
      "model_module": "@jupyter-widgets/controls",
      "model_module_version": "2.0.0",
      "model_name": "FloatProgressModel",
      "state": {
       "_dom_classes": [],
       "_model_module": "@jupyter-widgets/controls",
       "_model_module_version": "2.0.0",
       "_model_name": "FloatProgressModel",
       "_view_count": null,
       "_view_module": "@jupyter-widgets/controls",
       "_view_module_version": "2.0.0",
       "_view_name": "ProgressView",
       "bar_style": "success",
       "description": "",
       "description_allow_html": false,
       "layout": "IPY_MODEL_c3ea2b29b2634d0a9d3c6b82fa8d6266",
       "max": 25.0,
       "min": 0.0,
       "orientation": "horizontal",
       "style": "IPY_MODEL_7efd1c9a168e4115a219fd163f489ae4",
       "tabbable": null,
       "tooltip": null,
       "value": 25.0
      }
     },
     "53f99cbd0a644aacac74d3899ae089e6": {
      "model_module": "@jupyter-widgets/base",
      "model_module_version": "2.0.0",
      "model_name": "LayoutModel",
      "state": {
       "_model_module": "@jupyter-widgets/base",
       "_model_module_version": "2.0.0",
       "_model_name": "LayoutModel",
       "_view_count": null,
       "_view_module": "@jupyter-widgets/base",
       "_view_module_version": "2.0.0",
       "_view_name": "LayoutView",
       "align_content": null,
       "align_items": null,
       "align_self": null,
       "border_bottom": null,
       "border_left": null,
       "border_right": null,
       "border_top": null,
       "bottom": null,
       "display": null,
       "flex": null,
       "flex_flow": null,
       "grid_area": null,
       "grid_auto_columns": null,
       "grid_auto_flow": null,
       "grid_auto_rows": null,
       "grid_column": null,
       "grid_gap": null,
       "grid_row": null,
       "grid_template_areas": null,
       "grid_template_columns": null,
       "grid_template_rows": null,
       "height": null,
       "justify_content": null,
       "justify_items": null,
       "left": null,
       "margin": null,
       "max_height": null,
       "max_width": null,
       "min_height": null,
       "min_width": null,
       "object_fit": null,
       "object_position": null,
       "order": null,
       "overflow": null,
       "padding": null,
       "right": null,
       "top": null,
       "visibility": null,
       "width": null
      }
     },
     "5598357c64eb4f10870ddcf0be5bca57": {
      "model_module": "@jupyter-widgets/controls",
      "model_module_version": "2.0.0",
      "model_name": "HTMLStyleModel",
      "state": {
       "_model_module": "@jupyter-widgets/controls",
       "_model_module_version": "2.0.0",
       "_model_name": "HTMLStyleModel",
       "_view_count": null,
       "_view_module": "@jupyter-widgets/base",
       "_view_module_version": "2.0.0",
       "_view_name": "StyleView",
       "background": null,
       "description_width": "",
       "font_size": null,
       "text_color": null
      }
     },
     "562c6eff0bd942c8a501d3851af9b11c": {
      "model_module": "@jupyter-widgets/controls",
      "model_module_version": "2.0.0",
      "model_name": "FloatProgressModel",
      "state": {
       "_dom_classes": [],
       "_model_module": "@jupyter-widgets/controls",
       "_model_module_version": "2.0.0",
       "_model_name": "FloatProgressModel",
       "_view_count": null,
       "_view_module": "@jupyter-widgets/controls",
       "_view_module_version": "2.0.0",
       "_view_name": "ProgressView",
       "bar_style": "success",
       "description": "",
       "description_allow_html": false,
       "layout": "IPY_MODEL_d069731f36a7407aa02033c6a3e593b2",
       "max": 481.0,
       "min": 0.0,
       "orientation": "horizontal",
       "style": "IPY_MODEL_af43b7be86e84309879f96374345d559",
       "tabbable": null,
       "tooltip": null,
       "value": 481.0
      }
     },
     "58c6e132856344e9a5bfa53c6c5e1cdd": {
      "model_module": "@jupyter-widgets/controls",
      "model_module_version": "2.0.0",
      "model_name": "HTMLModel",
      "state": {
       "_dom_classes": [],
       "_model_module": "@jupyter-widgets/controls",
       "_model_module_version": "2.0.0",
       "_model_name": "HTMLModel",
       "_view_count": null,
       "_view_module": "@jupyter-widgets/controls",
       "_view_module_version": "2.0.0",
       "_view_name": "HTMLView",
       "description": "",
       "description_allow_html": false,
       "layout": "IPY_MODEL_a30869868f3641168a82e0e7fca9678b",
       "placeholder": "​",
       "style": "IPY_MODEL_5598357c64eb4f10870ddcf0be5bca57",
       "tabbable": null,
       "tooltip": null,
       "value": "merges.txt: 100%"
      }
     },
     "5d1610bb070144de928a6f7c59e2171c": {
      "model_module": "@jupyter-widgets/base",
      "model_module_version": "2.0.0",
      "model_name": "LayoutModel",
      "state": {
       "_model_module": "@jupyter-widgets/base",
       "_model_module_version": "2.0.0",
       "_model_name": "LayoutModel",
       "_view_count": null,
       "_view_module": "@jupyter-widgets/base",
       "_view_module_version": "2.0.0",
       "_view_name": "LayoutView",
       "align_content": null,
       "align_items": null,
       "align_self": null,
       "border_bottom": null,
       "border_left": null,
       "border_right": null,
       "border_top": null,
       "bottom": null,
       "display": null,
       "flex": null,
       "flex_flow": null,
       "grid_area": null,
       "grid_auto_columns": null,
       "grid_auto_flow": null,
       "grid_auto_rows": null,
       "grid_column": null,
       "grid_gap": null,
       "grid_row": null,
       "grid_template_areas": null,
       "grid_template_columns": null,
       "grid_template_rows": null,
       "height": null,
       "justify_content": null,
       "justify_items": null,
       "left": null,
       "margin": null,
       "max_height": null,
       "max_width": null,
       "min_height": null,
       "min_width": null,
       "object_fit": null,
       "object_position": null,
       "order": null,
       "overflow": null,
       "padding": null,
       "right": null,
       "top": null,
       "visibility": null,
       "width": null
      }
     },
     "5f3538bc24524f02ad095360bee0a566": {
      "model_module": "@jupyter-widgets/controls",
      "model_module_version": "2.0.0",
      "model_name": "HTMLModel",
      "state": {
       "_dom_classes": [],
       "_model_module": "@jupyter-widgets/controls",
       "_model_module_version": "2.0.0",
       "_model_name": "HTMLModel",
       "_view_count": null,
       "_view_module": "@jupyter-widgets/controls",
       "_view_module_version": "2.0.0",
       "_view_name": "HTMLView",
       "description": "",
       "description_allow_html": false,
       "layout": "IPY_MODEL_bd88c25f1bac420cad9e228f8b86d1f4",
       "placeholder": "​",
       "style": "IPY_MODEL_f2deab2ec3dd4baea094b4269e2b57ac",
       "tabbable": null,
       "tooltip": null,
       "value": " 899k/899k [00:00&lt;00:00, 5.36MB/s]"
      }
     },
     "62c8e08419984be3ad2f5a7695ed7622": {
      "model_module": "@jupyter-widgets/controls",
      "model_module_version": "2.0.0",
      "model_name": "HTMLModel",
      "state": {
       "_dom_classes": [],
       "_model_module": "@jupyter-widgets/controls",
       "_model_module_version": "2.0.0",
       "_model_name": "HTMLModel",
       "_view_count": null,
       "_view_module": "@jupyter-widgets/controls",
       "_view_module_version": "2.0.0",
       "_view_name": "HTMLView",
       "description": "",
       "description_allow_html": false,
       "layout": "IPY_MODEL_a28b818b076b44ae8f53baa05859f253",
       "placeholder": "​",
       "style": "IPY_MODEL_3e7adb25bc1546f9996ba8c3a4c7aafc",
       "tabbable": null,
       "tooltip": null,
       "value": " 499M/499M [00:01&lt;00:00, 386MB/s]"
      }
     },
     "655e05381d6344fabe0522bd6fe63c6e": {
      "model_module": "@jupyter-widgets/controls",
      "model_module_version": "2.0.0",
      "model_name": "HTMLStyleModel",
      "state": {
       "_model_module": "@jupyter-widgets/controls",
       "_model_module_version": "2.0.0",
       "_model_name": "HTMLStyleModel",
       "_view_count": null,
       "_view_module": "@jupyter-widgets/base",
       "_view_module_version": "2.0.0",
       "_view_name": "StyleView",
       "background": null,
       "description_width": "",
       "font_size": null,
       "text_color": null
      }
     },
     "669b05d86a2f4ec8a8f98f72dc1a5bc3": {
      "model_module": "@jupyter-widgets/base",
      "model_module_version": "2.0.0",
      "model_name": "LayoutModel",
      "state": {
       "_model_module": "@jupyter-widgets/base",
       "_model_module_version": "2.0.0",
       "_model_name": "LayoutModel",
       "_view_count": null,
       "_view_module": "@jupyter-widgets/base",
       "_view_module_version": "2.0.0",
       "_view_name": "LayoutView",
       "align_content": null,
       "align_items": null,
       "align_self": null,
       "border_bottom": null,
       "border_left": null,
       "border_right": null,
       "border_top": null,
       "bottom": null,
       "display": null,
       "flex": null,
       "flex_flow": null,
       "grid_area": null,
       "grid_auto_columns": null,
       "grid_auto_flow": null,
       "grid_auto_rows": null,
       "grid_column": null,
       "grid_gap": null,
       "grid_row": null,
       "grid_template_areas": null,
       "grid_template_columns": null,
       "grid_template_rows": null,
       "height": null,
       "justify_content": null,
       "justify_items": null,
       "left": null,
       "margin": null,
       "max_height": null,
       "max_width": null,
       "min_height": null,
       "min_width": null,
       "object_fit": null,
       "object_position": null,
       "order": null,
       "overflow": null,
       "padding": null,
       "right": null,
       "top": null,
       "visibility": null,
       "width": null
      }
     },
     "6c112e4de799469c8c5ed167cd631736": {
      "model_module": "@jupyter-widgets/base",
      "model_module_version": "2.0.0",
      "model_name": "LayoutModel",
      "state": {
       "_model_module": "@jupyter-widgets/base",
       "_model_module_version": "2.0.0",
       "_model_name": "LayoutModel",
       "_view_count": null,
       "_view_module": "@jupyter-widgets/base",
       "_view_module_version": "2.0.0",
       "_view_name": "LayoutView",
       "align_content": null,
       "align_items": null,
       "align_self": null,
       "border_bottom": null,
       "border_left": null,
       "border_right": null,
       "border_top": null,
       "bottom": null,
       "display": null,
       "flex": null,
       "flex_flow": null,
       "grid_area": null,
       "grid_auto_columns": null,
       "grid_auto_flow": null,
       "grid_auto_rows": null,
       "grid_column": null,
       "grid_gap": null,
       "grid_row": null,
       "grid_template_areas": null,
       "grid_template_columns": null,
       "grid_template_rows": null,
       "height": null,
       "justify_content": null,
       "justify_items": null,
       "left": null,
       "margin": null,
       "max_height": null,
       "max_width": null,
       "min_height": null,
       "min_width": null,
       "object_fit": null,
       "object_position": null,
       "order": null,
       "overflow": null,
       "padding": null,
       "right": null,
       "top": null,
       "visibility": null,
       "width": null
      }
     },
     "6e80e900bf4e4d5d804e32ebb89786b9": {
      "model_module": "@jupyter-widgets/controls",
      "model_module_version": "2.0.0",
      "model_name": "HBoxModel",
      "state": {
       "_dom_classes": [],
       "_model_module": "@jupyter-widgets/controls",
       "_model_module_version": "2.0.0",
       "_model_name": "HBoxModel",
       "_view_count": null,
       "_view_module": "@jupyter-widgets/controls",
       "_view_module_version": "2.0.0",
       "_view_name": "HBoxView",
       "box_style": "",
       "children": [
        "IPY_MODEL_fd35ea0031674d30911025b5216b95a0",
        "IPY_MODEL_518a0d563fa245b98a5fa2b863489395",
        "IPY_MODEL_ee4784be8ae341868727f109af370ffd"
       ],
       "layout": "IPY_MODEL_53f99cbd0a644aacac74d3899ae089e6",
       "tabbable": null,
       "tooltip": null
      }
     },
     "6eaa606891d74005a6914b5c854c80e6": {
      "model_module": "@jupyter-widgets/controls",
      "model_module_version": "2.0.0",
      "model_name": "FloatProgressModel",
      "state": {
       "_dom_classes": [],
       "_model_module": "@jupyter-widgets/controls",
       "_model_module_version": "2.0.0",
       "_model_name": "FloatProgressModel",
       "_view_count": null,
       "_view_module": "@jupyter-widgets/controls",
       "_view_module_version": "2.0.0",
       "_view_name": "ProgressView",
       "bar_style": "success",
       "description": "",
       "description_allow_html": false,
       "layout": "IPY_MODEL_7c8a3332f993450eaf1f295861011698",
       "max": 456318.0,
       "min": 0.0,
       "orientation": "horizontal",
       "style": "IPY_MODEL_cf4bb6de88b04972b0e4b83e45d06b7a",
       "tabbable": null,
       "tooltip": null,
       "value": 456318.0
      }
     },
     "7419ea13979b47469637cabfca60c080": {
      "model_module": "@jupyter-widgets/controls",
      "model_module_version": "2.0.0",
      "model_name": "HTMLModel",
      "state": {
       "_dom_classes": [],
       "_model_module": "@jupyter-widgets/controls",
       "_model_module_version": "2.0.0",
       "_model_name": "HTMLModel",
       "_view_count": null,
       "_view_module": "@jupyter-widgets/controls",
       "_view_module_version": "2.0.0",
       "_view_name": "HTMLView",
       "description": "",
       "description_allow_html": false,
       "layout": "IPY_MODEL_6c112e4de799469c8c5ed167cd631736",
       "placeholder": "​",
       "style": "IPY_MODEL_0ec57caad81f4cce9a084c8aca627b58",
       "tabbable": null,
       "tooltip": null,
       "value": " 1.36M/1.36M [00:00&lt;00:00, 4.09MB/s]"
      }
     },
     "7c8a3332f993450eaf1f295861011698": {
      "model_module": "@jupyter-widgets/base",
      "model_module_version": "2.0.0",
      "model_name": "LayoutModel",
      "state": {
       "_model_module": "@jupyter-widgets/base",
       "_model_module_version": "2.0.0",
       "_model_name": "LayoutModel",
       "_view_count": null,
       "_view_module": "@jupyter-widgets/base",
       "_view_module_version": "2.0.0",
       "_view_name": "LayoutView",
       "align_content": null,
       "align_items": null,
       "align_self": null,
       "border_bottom": null,
       "border_left": null,
       "border_right": null,
       "border_top": null,
       "bottom": null,
       "display": null,
       "flex": null,
       "flex_flow": null,
       "grid_area": null,
       "grid_auto_columns": null,
       "grid_auto_flow": null,
       "grid_auto_rows": null,
       "grid_column": null,
       "grid_gap": null,
       "grid_row": null,
       "grid_template_areas": null,
       "grid_template_columns": null,
       "grid_template_rows": null,
       "height": null,
       "justify_content": null,
       "justify_items": null,
       "left": null,
       "margin": null,
       "max_height": null,
       "max_width": null,
       "min_height": null,
       "min_width": null,
       "object_fit": null,
       "object_position": null,
       "order": null,
       "overflow": null,
       "padding": null,
       "right": null,
       "top": null,
       "visibility": null,
       "width": null
      }
     },
     "7efd1c9a168e4115a219fd163f489ae4": {
      "model_module": "@jupyter-widgets/controls",
      "model_module_version": "2.0.0",
      "model_name": "ProgressStyleModel",
      "state": {
       "_model_module": "@jupyter-widgets/controls",
       "_model_module_version": "2.0.0",
       "_model_name": "ProgressStyleModel",
       "_view_count": null,
       "_view_module": "@jupyter-widgets/base",
       "_view_module_version": "2.0.0",
       "_view_name": "StyleView",
       "bar_color": null,
       "description_width": ""
      }
     },
     "818bc5d1dc84459d8cc6cee3a3e0c10b": {
      "model_module": "@jupyter-widgets/base",
      "model_module_version": "2.0.0",
      "model_name": "LayoutModel",
      "state": {
       "_model_module": "@jupyter-widgets/base",
       "_model_module_version": "2.0.0",
       "_model_name": "LayoutModel",
       "_view_count": null,
       "_view_module": "@jupyter-widgets/base",
       "_view_module_version": "2.0.0",
       "_view_name": "LayoutView",
       "align_content": null,
       "align_items": null,
       "align_self": null,
       "border_bottom": null,
       "border_left": null,
       "border_right": null,
       "border_top": null,
       "bottom": null,
       "display": null,
       "flex": null,
       "flex_flow": null,
       "grid_area": null,
       "grid_auto_columns": null,
       "grid_auto_flow": null,
       "grid_auto_rows": null,
       "grid_column": null,
       "grid_gap": null,
       "grid_row": null,
       "grid_template_areas": null,
       "grid_template_columns": null,
       "grid_template_rows": null,
       "height": null,
       "justify_content": null,
       "justify_items": null,
       "left": null,
       "margin": null,
       "max_height": null,
       "max_width": null,
       "min_height": null,
       "min_width": null,
       "object_fit": null,
       "object_position": null,
       "order": null,
       "overflow": null,
       "padding": null,
       "right": null,
       "top": null,
       "visibility": null,
       "width": null
      }
     },
     "89e9852373f747e4b12239c91665419b": {
      "model_module": "@jupyter-widgets/controls",
      "model_module_version": "2.0.0",
      "model_name": "HTMLStyleModel",
      "state": {
       "_model_module": "@jupyter-widgets/controls",
       "_model_module_version": "2.0.0",
       "_model_name": "HTMLStyleModel",
       "_view_count": null,
       "_view_module": "@jupyter-widgets/base",
       "_view_module_version": "2.0.0",
       "_view_name": "StyleView",
       "background": null,
       "description_width": "",
       "font_size": null,
       "text_color": null
      }
     },
     "8f45a7e2bef444399e4cdfb439fd4875": {
      "model_module": "@jupyter-widgets/controls",
      "model_module_version": "2.0.0",
      "model_name": "HBoxModel",
      "state": {
       "_dom_classes": [],
       "_model_module": "@jupyter-widgets/controls",
       "_model_module_version": "2.0.0",
       "_model_name": "HBoxModel",
       "_view_count": null,
       "_view_module": "@jupyter-widgets/controls",
       "_view_module_version": "2.0.0",
       "_view_name": "HBoxView",
       "box_style": "",
       "children": [
        "IPY_MODEL_58c6e132856344e9a5bfa53c6c5e1cdd",
        "IPY_MODEL_6eaa606891d74005a6914b5c854c80e6",
        "IPY_MODEL_b93e852e966649e7bc7ab911f321164e"
       ],
       "layout": "IPY_MODEL_ed874e11718547d89b3a6412a64ea069",
       "tabbable": null,
       "tooltip": null
      }
     },
     "91cff0035c414f7c9778278f438cce56": {
      "model_module": "@jupyter-widgets/controls",
      "model_module_version": "2.0.0",
      "model_name": "FloatProgressModel",
      "state": {
       "_dom_classes": [],
       "_model_module": "@jupyter-widgets/controls",
       "_model_module_version": "2.0.0",
       "_model_name": "FloatProgressModel",
       "_view_count": null,
       "_view_module": "@jupyter-widgets/controls",
       "_view_module_version": "2.0.0",
       "_view_name": "ProgressView",
       "bar_style": "success",
       "description": "",
       "description_allow_html": false,
       "layout": "IPY_MODEL_415b0da18aca49e69f2d5bf697651db8",
       "max": 1355863.0,
       "min": 0.0,
       "orientation": "horizontal",
       "style": "IPY_MODEL_5025aa30e0054f73a70fc845884dbb23",
       "tabbable": null,
       "tooltip": null,
       "value": 1355863.0
      }
     },
     "92e0165700e2412a85ac98e07caddd9e": {
      "model_module": "@jupyter-widgets/base",
      "model_module_version": "2.0.0",
      "model_name": "LayoutModel",
      "state": {
       "_model_module": "@jupyter-widgets/base",
       "_model_module_version": "2.0.0",
       "_model_name": "LayoutModel",
       "_view_count": null,
       "_view_module": "@jupyter-widgets/base",
       "_view_module_version": "2.0.0",
       "_view_name": "LayoutView",
       "align_content": null,
       "align_items": null,
       "align_self": null,
       "border_bottom": null,
       "border_left": null,
       "border_right": null,
       "border_top": null,
       "bottom": null,
       "display": null,
       "flex": null,
       "flex_flow": null,
       "grid_area": null,
       "grid_auto_columns": null,
       "grid_auto_flow": null,
       "grid_auto_rows": null,
       "grid_column": null,
       "grid_gap": null,
       "grid_row": null,
       "grid_template_areas": null,
       "grid_template_columns": null,
       "grid_template_rows": null,
       "height": null,
       "justify_content": null,
       "justify_items": null,
       "left": null,
       "margin": null,
       "max_height": null,
       "max_width": null,
       "min_height": null,
       "min_width": null,
       "object_fit": null,
       "object_position": null,
       "order": null,
       "overflow": null,
       "padding": null,
       "right": null,
       "top": null,
       "visibility": null,
       "width": null
      }
     },
     "95843da26f8548a4b70186b62e3b2dc2": {
      "model_module": "@jupyter-widgets/base",
      "model_module_version": "2.0.0",
      "model_name": "LayoutModel",
      "state": {
       "_model_module": "@jupyter-widgets/base",
       "_model_module_version": "2.0.0",
       "_model_name": "LayoutModel",
       "_view_count": null,
       "_view_module": "@jupyter-widgets/base",
       "_view_module_version": "2.0.0",
       "_view_name": "LayoutView",
       "align_content": null,
       "align_items": null,
       "align_self": null,
       "border_bottom": null,
       "border_left": null,
       "border_right": null,
       "border_top": null,
       "bottom": null,
       "display": null,
       "flex": null,
       "flex_flow": null,
       "grid_area": null,
       "grid_auto_columns": null,
       "grid_auto_flow": null,
       "grid_auto_rows": null,
       "grid_column": null,
       "grid_gap": null,
       "grid_row": null,
       "grid_template_areas": null,
       "grid_template_columns": null,
       "grid_template_rows": null,
       "height": null,
       "justify_content": null,
       "justify_items": null,
       "left": null,
       "margin": null,
       "max_height": null,
       "max_width": null,
       "min_height": null,
       "min_width": null,
       "object_fit": null,
       "object_position": null,
       "order": null,
       "overflow": null,
       "padding": null,
       "right": null,
       "top": null,
       "visibility": null,
       "width": null
      }
     },
     "9bf19ca07b424177ab35376b0fe15c5f": {
      "model_module": "@jupyter-widgets/controls",
      "model_module_version": "2.0.0",
      "model_name": "HTMLStyleModel",
      "state": {
       "_model_module": "@jupyter-widgets/controls",
       "_model_module_version": "2.0.0",
       "_model_name": "HTMLStyleModel",
       "_view_count": null,
       "_view_module": "@jupyter-widgets/base",
       "_view_module_version": "2.0.0",
       "_view_name": "StyleView",
       "background": null,
       "description_width": "",
       "font_size": null,
       "text_color": null
      }
     },
     "a28b818b076b44ae8f53baa05859f253": {
      "model_module": "@jupyter-widgets/base",
      "model_module_version": "2.0.0",
      "model_name": "LayoutModel",
      "state": {
       "_model_module": "@jupyter-widgets/base",
       "_model_module_version": "2.0.0",
       "_model_name": "LayoutModel",
       "_view_count": null,
       "_view_module": "@jupyter-widgets/base",
       "_view_module_version": "2.0.0",
       "_view_name": "LayoutView",
       "align_content": null,
       "align_items": null,
       "align_self": null,
       "border_bottom": null,
       "border_left": null,
       "border_right": null,
       "border_top": null,
       "bottom": null,
       "display": null,
       "flex": null,
       "flex_flow": null,
       "grid_area": null,
       "grid_auto_columns": null,
       "grid_auto_flow": null,
       "grid_auto_rows": null,
       "grid_column": null,
       "grid_gap": null,
       "grid_row": null,
       "grid_template_areas": null,
       "grid_template_columns": null,
       "grid_template_rows": null,
       "height": null,
       "justify_content": null,
       "justify_items": null,
       "left": null,
       "margin": null,
       "max_height": null,
       "max_width": null,
       "min_height": null,
       "min_width": null,
       "object_fit": null,
       "object_position": null,
       "order": null,
       "overflow": null,
       "padding": null,
       "right": null,
       "top": null,
       "visibility": null,
       "width": null
      }
     },
     "a30869868f3641168a82e0e7fca9678b": {
      "model_module": "@jupyter-widgets/base",
      "model_module_version": "2.0.0",
      "model_name": "LayoutModel",
      "state": {
       "_model_module": "@jupyter-widgets/base",
       "_model_module_version": "2.0.0",
       "_model_name": "LayoutModel",
       "_view_count": null,
       "_view_module": "@jupyter-widgets/base",
       "_view_module_version": "2.0.0",
       "_view_name": "LayoutView",
       "align_content": null,
       "align_items": null,
       "align_self": null,
       "border_bottom": null,
       "border_left": null,
       "border_right": null,
       "border_top": null,
       "bottom": null,
       "display": null,
       "flex": null,
       "flex_flow": null,
       "grid_area": null,
       "grid_auto_columns": null,
       "grid_auto_flow": null,
       "grid_auto_rows": null,
       "grid_column": null,
       "grid_gap": null,
       "grid_row": null,
       "grid_template_areas": null,
       "grid_template_columns": null,
       "grid_template_rows": null,
       "height": null,
       "justify_content": null,
       "justify_items": null,
       "left": null,
       "margin": null,
       "max_height": null,
       "max_width": null,
       "min_height": null,
       "min_width": null,
       "object_fit": null,
       "object_position": null,
       "order": null,
       "overflow": null,
       "padding": null,
       "right": null,
       "top": null,
       "visibility": null,
       "width": null
      }
     },
     "a5a0cc2721cc48aaad4d5678a8fced1b": {
      "model_module": "@jupyter-widgets/controls",
      "model_module_version": "2.0.0",
      "model_name": "HTMLModel",
      "state": {
       "_dom_classes": [],
       "_model_module": "@jupyter-widgets/controls",
       "_model_module_version": "2.0.0",
       "_model_name": "HTMLModel",
       "_view_count": null,
       "_view_module": "@jupyter-widgets/controls",
       "_view_module_version": "2.0.0",
       "_view_name": "HTMLView",
       "description": "",
       "description_allow_html": false,
       "layout": "IPY_MODEL_95843da26f8548a4b70186b62e3b2dc2",
       "placeholder": "​",
       "style": "IPY_MODEL_d54e1cba3fe443c1b9fe870cf0e6d886",
       "tabbable": null,
       "tooltip": null,
       "value": "model.safetensors: 100%"
      }
     },
     "a65df5d8821a480bb8a4bebf7c483ef1": {
      "model_module": "@jupyter-widgets/controls",
      "model_module_version": "2.0.0",
      "model_name": "FloatProgressModel",
      "state": {
       "_dom_classes": [],
       "_model_module": "@jupyter-widgets/controls",
       "_model_module_version": "2.0.0",
       "_model_name": "FloatProgressModel",
       "_view_count": null,
       "_view_module": "@jupyter-widgets/controls",
       "_view_module_version": "2.0.0",
       "_view_name": "ProgressView",
       "bar_style": "success",
       "description": "",
       "description_allow_html": false,
       "layout": "IPY_MODEL_c68957d6553c456e81ce30672e920c1f",
       "max": 898823.0,
       "min": 0.0,
       "orientation": "horizontal",
       "style": "IPY_MODEL_a8c7ee51af154dec9c639b89845aa8e1",
       "tabbable": null,
       "tooltip": null,
       "value": 898823.0
      }
     },
     "a664ffd713254aca9c2e10d2048f3668": {
      "model_module": "@jupyter-widgets/controls",
      "model_module_version": "2.0.0",
      "model_name": "FloatProgressModel",
      "state": {
       "_dom_classes": [],
       "_model_module": "@jupyter-widgets/controls",
       "_model_module_version": "2.0.0",
       "_model_name": "FloatProgressModel",
       "_view_count": null,
       "_view_module": "@jupyter-widgets/controls",
       "_view_module_version": "2.0.0",
       "_view_name": "ProgressView",
       "bar_style": "success",
       "description": "",
       "description_allow_html": false,
       "layout": "IPY_MODEL_5d1610bb070144de928a6f7c59e2171c",
       "max": 498818054.0,
       "min": 0.0,
       "orientation": "horizontal",
       "style": "IPY_MODEL_ca505b93420e4c9a8fd9d8d161970eaa",
       "tabbable": null,
       "tooltip": null,
       "value": 498818054.0
      }
     },
     "a8c7ee51af154dec9c639b89845aa8e1": {
      "model_module": "@jupyter-widgets/controls",
      "model_module_version": "2.0.0",
      "model_name": "ProgressStyleModel",
      "state": {
       "_model_module": "@jupyter-widgets/controls",
       "_model_module_version": "2.0.0",
       "_model_name": "ProgressStyleModel",
       "_view_count": null,
       "_view_module": "@jupyter-widgets/base",
       "_view_module_version": "2.0.0",
       "_view_name": "StyleView",
       "bar_color": null,
       "description_width": ""
      }
     },
     "af43b7be86e84309879f96374345d559": {
      "model_module": "@jupyter-widgets/controls",
      "model_module_version": "2.0.0",
      "model_name": "ProgressStyleModel",
      "state": {
       "_model_module": "@jupyter-widgets/controls",
       "_model_module_version": "2.0.0",
       "_model_name": "ProgressStyleModel",
       "_view_count": null,
       "_view_module": "@jupyter-widgets/base",
       "_view_module_version": "2.0.0",
       "_view_name": "StyleView",
       "bar_color": null,
       "description_width": ""
      }
     },
     "b1a6e56945e440f49d136f13b2e60228": {
      "model_module": "@jupyter-widgets/controls",
      "model_module_version": "2.0.0",
      "model_name": "HTMLModel",
      "state": {
       "_dom_classes": [],
       "_model_module": "@jupyter-widgets/controls",
       "_model_module_version": "2.0.0",
       "_model_name": "HTMLModel",
       "_view_count": null,
       "_view_module": "@jupyter-widgets/controls",
       "_view_module_version": "2.0.0",
       "_view_name": "HTMLView",
       "description": "",
       "description_allow_html": false,
       "layout": "IPY_MODEL_669b05d86a2f4ec8a8f98f72dc1a5bc3",
       "placeholder": "​",
       "style": "IPY_MODEL_003c0417db7742f49858ba7dd65f260c",
       "tabbable": null,
       "tooltip": null,
       "value": "vocab.json: 100%"
      }
     },
     "b1e8bf8027e745d29f77ef8a5a2eb10c": {
      "model_module": "@jupyter-widgets/base",
      "model_module_version": "2.0.0",
      "model_name": "LayoutModel",
      "state": {
       "_model_module": "@jupyter-widgets/base",
       "_model_module_version": "2.0.0",
       "_model_name": "LayoutModel",
       "_view_count": null,
       "_view_module": "@jupyter-widgets/base",
       "_view_module_version": "2.0.0",
       "_view_name": "LayoutView",
       "align_content": null,
       "align_items": null,
       "align_self": null,
       "border_bottom": null,
       "border_left": null,
       "border_right": null,
       "border_top": null,
       "bottom": null,
       "display": null,
       "flex": null,
       "flex_flow": null,
       "grid_area": null,
       "grid_auto_columns": null,
       "grid_auto_flow": null,
       "grid_auto_rows": null,
       "grid_column": null,
       "grid_gap": null,
       "grid_row": null,
       "grid_template_areas": null,
       "grid_template_columns": null,
       "grid_template_rows": null,
       "height": null,
       "justify_content": null,
       "justify_items": null,
       "left": null,
       "margin": null,
       "max_height": null,
       "max_width": null,
       "min_height": null,
       "min_width": null,
       "object_fit": null,
       "object_position": null,
       "order": null,
       "overflow": null,
       "padding": null,
       "right": null,
       "top": null,
       "visibility": null,
       "width": null
      }
     },
     "b8464b208bdb4144b0464dfdb34c12d4": {
      "model_module": "@jupyter-widgets/base",
      "model_module_version": "2.0.0",
      "model_name": "LayoutModel",
      "state": {
       "_model_module": "@jupyter-widgets/base",
       "_model_module_version": "2.0.0",
       "_model_name": "LayoutModel",
       "_view_count": null,
       "_view_module": "@jupyter-widgets/base",
       "_view_module_version": "2.0.0",
       "_view_name": "LayoutView",
       "align_content": null,
       "align_items": null,
       "align_self": null,
       "border_bottom": null,
       "border_left": null,
       "border_right": null,
       "border_top": null,
       "bottom": null,
       "display": null,
       "flex": null,
       "flex_flow": null,
       "grid_area": null,
       "grid_auto_columns": null,
       "grid_auto_flow": null,
       "grid_auto_rows": null,
       "grid_column": null,
       "grid_gap": null,
       "grid_row": null,
       "grid_template_areas": null,
       "grid_template_columns": null,
       "grid_template_rows": null,
       "height": null,
       "justify_content": null,
       "justify_items": null,
       "left": null,
       "margin": null,
       "max_height": null,
       "max_width": null,
       "min_height": null,
       "min_width": null,
       "object_fit": null,
       "object_position": null,
       "order": null,
       "overflow": null,
       "padding": null,
       "right": null,
       "top": null,
       "visibility": null,
       "width": null
      }
     },
     "b8c0a1c0e81e4bccb402fae096227dfb": {
      "model_module": "@jupyter-widgets/base",
      "model_module_version": "2.0.0",
      "model_name": "LayoutModel",
      "state": {
       "_model_module": "@jupyter-widgets/base",
       "_model_module_version": "2.0.0",
       "_model_name": "LayoutModel",
       "_view_count": null,
       "_view_module": "@jupyter-widgets/base",
       "_view_module_version": "2.0.0",
       "_view_name": "LayoutView",
       "align_content": null,
       "align_items": null,
       "align_self": null,
       "border_bottom": null,
       "border_left": null,
       "border_right": null,
       "border_top": null,
       "bottom": null,
       "display": null,
       "flex": null,
       "flex_flow": null,
       "grid_area": null,
       "grid_auto_columns": null,
       "grid_auto_flow": null,
       "grid_auto_rows": null,
       "grid_column": null,
       "grid_gap": null,
       "grid_row": null,
       "grid_template_areas": null,
       "grid_template_columns": null,
       "grid_template_rows": null,
       "height": null,
       "justify_content": null,
       "justify_items": null,
       "left": null,
       "margin": null,
       "max_height": null,
       "max_width": null,
       "min_height": null,
       "min_width": null,
       "object_fit": null,
       "object_position": null,
       "order": null,
       "overflow": null,
       "padding": null,
       "right": null,
       "top": null,
       "visibility": null,
       "width": null
      }
     },
     "b93e852e966649e7bc7ab911f321164e": {
      "model_module": "@jupyter-widgets/controls",
      "model_module_version": "2.0.0",
      "model_name": "HTMLModel",
      "state": {
       "_dom_classes": [],
       "_model_module": "@jupyter-widgets/controls",
       "_model_module_version": "2.0.0",
       "_model_name": "HTMLModel",
       "_view_count": null,
       "_view_module": "@jupyter-widgets/controls",
       "_view_module_version": "2.0.0",
       "_view_name": "HTMLView",
       "description": "",
       "description_allow_html": false,
       "layout": "IPY_MODEL_818bc5d1dc84459d8cc6cee3a3e0c10b",
       "placeholder": "​",
       "style": "IPY_MODEL_655e05381d6344fabe0522bd6fe63c6e",
       "tabbable": null,
       "tooltip": null,
       "value": " 456k/456k [00:00&lt;00:00, 2.72MB/s]"
      }
     },
     "bc8c6295e0064bd48ded60e5b4298d46": {
      "model_module": "@jupyter-widgets/controls",
      "model_module_version": "2.0.0",
      "model_name": "HBoxModel",
      "state": {
       "_dom_classes": [],
       "_model_module": "@jupyter-widgets/controls",
       "_model_module_version": "2.0.0",
       "_model_name": "HBoxModel",
       "_view_count": null,
       "_view_module": "@jupyter-widgets/controls",
       "_view_module_version": "2.0.0",
       "_view_name": "HBoxView",
       "box_style": "",
       "children": [
        "IPY_MODEL_e113b487bce2433989bbda2bb7c01a13",
        "IPY_MODEL_91cff0035c414f7c9778278f438cce56",
        "IPY_MODEL_7419ea13979b47469637cabfca60c080"
       ],
       "layout": "IPY_MODEL_2d569d4cab97450088a687c146fbdb74",
       "tabbable": null,
       "tooltip": null
      }
     },
     "bd88c25f1bac420cad9e228f8b86d1f4": {
      "model_module": "@jupyter-widgets/base",
      "model_module_version": "2.0.0",
      "model_name": "LayoutModel",
      "state": {
       "_model_module": "@jupyter-widgets/base",
       "_model_module_version": "2.0.0",
       "_model_name": "LayoutModel",
       "_view_count": null,
       "_view_module": "@jupyter-widgets/base",
       "_view_module_version": "2.0.0",
       "_view_name": "LayoutView",
       "align_content": null,
       "align_items": null,
       "align_self": null,
       "border_bottom": null,
       "border_left": null,
       "border_right": null,
       "border_top": null,
       "bottom": null,
       "display": null,
       "flex": null,
       "flex_flow": null,
       "grid_area": null,
       "grid_auto_columns": null,
       "grid_auto_flow": null,
       "grid_auto_rows": null,
       "grid_column": null,
       "grid_gap": null,
       "grid_row": null,
       "grid_template_areas": null,
       "grid_template_columns": null,
       "grid_template_rows": null,
       "height": null,
       "justify_content": null,
       "justify_items": null,
       "left": null,
       "margin": null,
       "max_height": null,
       "max_width": null,
       "min_height": null,
       "min_width": null,
       "object_fit": null,
       "object_position": null,
       "order": null,
       "overflow": null,
       "padding": null,
       "right": null,
       "top": null,
       "visibility": null,
       "width": null
      }
     },
     "c0648e9d31734bd5941c1082968fec98": {
      "model_module": "@jupyter-widgets/controls",
      "model_module_version": "2.0.0",
      "model_name": "HBoxModel",
      "state": {
       "_dom_classes": [],
       "_model_module": "@jupyter-widgets/controls",
       "_model_module_version": "2.0.0",
       "_model_name": "HBoxModel",
       "_view_count": null,
       "_view_module": "@jupyter-widgets/controls",
       "_view_module_version": "2.0.0",
       "_view_name": "HBoxView",
       "box_style": "",
       "children": [
        "IPY_MODEL_b1a6e56945e440f49d136f13b2e60228",
        "IPY_MODEL_a65df5d8821a480bb8a4bebf7c483ef1",
        "IPY_MODEL_5f3538bc24524f02ad095360bee0a566"
       ],
       "layout": "IPY_MODEL_b8c0a1c0e81e4bccb402fae096227dfb",
       "tabbable": null,
       "tooltip": null
      }
     },
     "c3ea2b29b2634d0a9d3c6b82fa8d6266": {
      "model_module": "@jupyter-widgets/base",
      "model_module_version": "2.0.0",
      "model_name": "LayoutModel",
      "state": {
       "_model_module": "@jupyter-widgets/base",
       "_model_module_version": "2.0.0",
       "_model_name": "LayoutModel",
       "_view_count": null,
       "_view_module": "@jupyter-widgets/base",
       "_view_module_version": "2.0.0",
       "_view_name": "LayoutView",
       "align_content": null,
       "align_items": null,
       "align_self": null,
       "border_bottom": null,
       "border_left": null,
       "border_right": null,
       "border_top": null,
       "bottom": null,
       "display": null,
       "flex": null,
       "flex_flow": null,
       "grid_area": null,
       "grid_auto_columns": null,
       "grid_auto_flow": null,
       "grid_auto_rows": null,
       "grid_column": null,
       "grid_gap": null,
       "grid_row": null,
       "grid_template_areas": null,
       "grid_template_columns": null,
       "grid_template_rows": null,
       "height": null,
       "justify_content": null,
       "justify_items": null,
       "left": null,
       "margin": null,
       "max_height": null,
       "max_width": null,
       "min_height": null,
       "min_width": null,
       "object_fit": null,
       "object_position": null,
       "order": null,
       "overflow": null,
       "padding": null,
       "right": null,
       "top": null,
       "visibility": null,
       "width": null
      }
     },
     "c68957d6553c456e81ce30672e920c1f": {
      "model_module": "@jupyter-widgets/base",
      "model_module_version": "2.0.0",
      "model_name": "LayoutModel",
      "state": {
       "_model_module": "@jupyter-widgets/base",
       "_model_module_version": "2.0.0",
       "_model_name": "LayoutModel",
       "_view_count": null,
       "_view_module": "@jupyter-widgets/base",
       "_view_module_version": "2.0.0",
       "_view_name": "LayoutView",
       "align_content": null,
       "align_items": null,
       "align_self": null,
       "border_bottom": null,
       "border_left": null,
       "border_right": null,
       "border_top": null,
       "bottom": null,
       "display": null,
       "flex": null,
       "flex_flow": null,
       "grid_area": null,
       "grid_auto_columns": null,
       "grid_auto_flow": null,
       "grid_auto_rows": null,
       "grid_column": null,
       "grid_gap": null,
       "grid_row": null,
       "grid_template_areas": null,
       "grid_template_columns": null,
       "grid_template_rows": null,
       "height": null,
       "justify_content": null,
       "justify_items": null,
       "left": null,
       "margin": null,
       "max_height": null,
       "max_width": null,
       "min_height": null,
       "min_width": null,
       "object_fit": null,
       "object_position": null,
       "order": null,
       "overflow": null,
       "padding": null,
       "right": null,
       "top": null,
       "visibility": null,
       "width": null
      }
     },
     "ca505b93420e4c9a8fd9d8d161970eaa": {
      "model_module": "@jupyter-widgets/controls",
      "model_module_version": "2.0.0",
      "model_name": "ProgressStyleModel",
      "state": {
       "_model_module": "@jupyter-widgets/controls",
       "_model_module_version": "2.0.0",
       "_model_name": "ProgressStyleModel",
       "_view_count": null,
       "_view_module": "@jupyter-widgets/base",
       "_view_module_version": "2.0.0",
       "_view_name": "StyleView",
       "bar_color": null,
       "description_width": ""
      }
     },
     "cf4bb6de88b04972b0e4b83e45d06b7a": {
      "model_module": "@jupyter-widgets/controls",
      "model_module_version": "2.0.0",
      "model_name": "ProgressStyleModel",
      "state": {
       "_model_module": "@jupyter-widgets/controls",
       "_model_module_version": "2.0.0",
       "_model_name": "ProgressStyleModel",
       "_view_count": null,
       "_view_module": "@jupyter-widgets/base",
       "_view_module_version": "2.0.0",
       "_view_name": "StyleView",
       "bar_color": null,
       "description_width": ""
      }
     },
     "d069731f36a7407aa02033c6a3e593b2": {
      "model_module": "@jupyter-widgets/base",
      "model_module_version": "2.0.0",
      "model_name": "LayoutModel",
      "state": {
       "_model_module": "@jupyter-widgets/base",
       "_model_module_version": "2.0.0",
       "_model_name": "LayoutModel",
       "_view_count": null,
       "_view_module": "@jupyter-widgets/base",
       "_view_module_version": "2.0.0",
       "_view_name": "LayoutView",
       "align_content": null,
       "align_items": null,
       "align_self": null,
       "border_bottom": null,
       "border_left": null,
       "border_right": null,
       "border_top": null,
       "bottom": null,
       "display": null,
       "flex": null,
       "flex_flow": null,
       "grid_area": null,
       "grid_auto_columns": null,
       "grid_auto_flow": null,
       "grid_auto_rows": null,
       "grid_column": null,
       "grid_gap": null,
       "grid_row": null,
       "grid_template_areas": null,
       "grid_template_columns": null,
       "grid_template_rows": null,
       "height": null,
       "justify_content": null,
       "justify_items": null,
       "left": null,
       "margin": null,
       "max_height": null,
       "max_width": null,
       "min_height": null,
       "min_width": null,
       "object_fit": null,
       "object_position": null,
       "order": null,
       "overflow": null,
       "padding": null,
       "right": null,
       "top": null,
       "visibility": null,
       "width": null
      }
     },
     "d54e1cba3fe443c1b9fe870cf0e6d886": {
      "model_module": "@jupyter-widgets/controls",
      "model_module_version": "2.0.0",
      "model_name": "HTMLStyleModel",
      "state": {
       "_model_module": "@jupyter-widgets/controls",
       "_model_module_version": "2.0.0",
       "_model_name": "HTMLStyleModel",
       "_view_count": null,
       "_view_module": "@jupyter-widgets/base",
       "_view_module_version": "2.0.0",
       "_view_name": "StyleView",
       "background": null,
       "description_width": "",
       "font_size": null,
       "text_color": null
      }
     },
     "e113b487bce2433989bbda2bb7c01a13": {
      "model_module": "@jupyter-widgets/controls",
      "model_module_version": "2.0.0",
      "model_name": "HTMLModel",
      "state": {
       "_dom_classes": [],
       "_model_module": "@jupyter-widgets/controls",
       "_model_module_version": "2.0.0",
       "_model_name": "HTMLModel",
       "_view_count": null,
       "_view_module": "@jupyter-widgets/controls",
       "_view_module_version": "2.0.0",
       "_view_name": "HTMLView",
       "description": "",
       "description_allow_html": false,
       "layout": "IPY_MODEL_b8464b208bdb4144b0464dfdb34c12d4",
       "placeholder": "​",
       "style": "IPY_MODEL_495498c9332b4646aaaf91da425586d4",
       "tabbable": null,
       "tooltip": null,
       "value": "tokenizer.json: 100%"
      }
     },
     "e650e175e3044f83b3cc9bd1ce49b87d": {
      "model_module": "@jupyter-widgets/base",
      "model_module_version": "2.0.0",
      "model_name": "LayoutModel",
      "state": {
       "_model_module": "@jupyter-widgets/base",
       "_model_module_version": "2.0.0",
       "_model_name": "LayoutModel",
       "_view_count": null,
       "_view_module": "@jupyter-widgets/base",
       "_view_module_version": "2.0.0",
       "_view_name": "LayoutView",
       "align_content": null,
       "align_items": null,
       "align_self": null,
       "border_bottom": null,
       "border_left": null,
       "border_right": null,
       "border_top": null,
       "bottom": null,
       "display": null,
       "flex": null,
       "flex_flow": null,
       "grid_area": null,
       "grid_auto_columns": null,
       "grid_auto_flow": null,
       "grid_auto_rows": null,
       "grid_column": null,
       "grid_gap": null,
       "grid_row": null,
       "grid_template_areas": null,
       "grid_template_columns": null,
       "grid_template_rows": null,
       "height": null,
       "justify_content": null,
       "justify_items": null,
       "left": null,
       "margin": null,
       "max_height": null,
       "max_width": null,
       "min_height": null,
       "min_width": null,
       "object_fit": null,
       "object_position": null,
       "order": null,
       "overflow": null,
       "padding": null,
       "right": null,
       "top": null,
       "visibility": null,
       "width": null
      }
     },
     "ed874e11718547d89b3a6412a64ea069": {
      "model_module": "@jupyter-widgets/base",
      "model_module_version": "2.0.0",
      "model_name": "LayoutModel",
      "state": {
       "_model_module": "@jupyter-widgets/base",
       "_model_module_version": "2.0.0",
       "_model_name": "LayoutModel",
       "_view_count": null,
       "_view_module": "@jupyter-widgets/base",
       "_view_module_version": "2.0.0",
       "_view_name": "LayoutView",
       "align_content": null,
       "align_items": null,
       "align_self": null,
       "border_bottom": null,
       "border_left": null,
       "border_right": null,
       "border_top": null,
       "bottom": null,
       "display": null,
       "flex": null,
       "flex_flow": null,
       "grid_area": null,
       "grid_auto_columns": null,
       "grid_auto_flow": null,
       "grid_auto_rows": null,
       "grid_column": null,
       "grid_gap": null,
       "grid_row": null,
       "grid_template_areas": null,
       "grid_template_columns": null,
       "grid_template_rows": null,
       "height": null,
       "justify_content": null,
       "justify_items": null,
       "left": null,
       "margin": null,
       "max_height": null,
       "max_width": null,
       "min_height": null,
       "min_width": null,
       "object_fit": null,
       "object_position": null,
       "order": null,
       "overflow": null,
       "padding": null,
       "right": null,
       "top": null,
       "visibility": null,
       "width": null
      }
     },
     "ee4784be8ae341868727f109af370ffd": {
      "model_module": "@jupyter-widgets/controls",
      "model_module_version": "2.0.0",
      "model_name": "HTMLModel",
      "state": {
       "_dom_classes": [],
       "_model_module": "@jupyter-widgets/controls",
       "_model_module_version": "2.0.0",
       "_model_name": "HTMLModel",
       "_view_count": null,
       "_view_module": "@jupyter-widgets/controls",
       "_view_module_version": "2.0.0",
       "_view_name": "HTMLView",
       "description": "",
       "description_allow_html": false,
       "layout": "IPY_MODEL_2fa57e17558e47f8aa8b202f735ff33d",
       "placeholder": "​",
       "style": "IPY_MODEL_0c35cc83828f4755807f7cb9fab7c26f",
       "tabbable": null,
       "tooltip": null,
       "value": " 25.0/25.0 [00:00&lt;00:00, 3.27kB/s]"
      }
     },
     "f2deab2ec3dd4baea094b4269e2b57ac": {
      "model_module": "@jupyter-widgets/controls",
      "model_module_version": "2.0.0",
      "model_name": "HTMLStyleModel",
      "state": {
       "_model_module": "@jupyter-widgets/controls",
       "_model_module_version": "2.0.0",
       "_model_name": "HTMLStyleModel",
       "_view_count": null,
       "_view_module": "@jupyter-widgets/base",
       "_view_module_version": "2.0.0",
       "_view_name": "StyleView",
       "background": null,
       "description_width": "",
       "font_size": null,
       "text_color": null
      }
     },
     "f76ce66e421c418cbb0ad75b580205ec": {
      "model_module": "@jupyter-widgets/controls",
      "model_module_version": "2.0.0",
      "model_name": "HTMLModel",
      "state": {
       "_dom_classes": [],
       "_model_module": "@jupyter-widgets/controls",
       "_model_module_version": "2.0.0",
       "_model_name": "HTMLModel",
       "_view_count": null,
       "_view_module": "@jupyter-widgets/controls",
       "_view_module_version": "2.0.0",
       "_view_name": "HTMLView",
       "description": "",
       "description_allow_html": false,
       "layout": "IPY_MODEL_92e0165700e2412a85ac98e07caddd9e",
       "placeholder": "​",
       "style": "IPY_MODEL_89e9852373f747e4b12239c91665419b",
       "tabbable": null,
       "tooltip": null,
       "value": " 481/481 [00:00&lt;00:00, 65.5kB/s]"
      }
     },
     "fd35ea0031674d30911025b5216b95a0": {
      "model_module": "@jupyter-widgets/controls",
      "model_module_version": "2.0.0",
      "model_name": "HTMLModel",
      "state": {
       "_dom_classes": [],
       "_model_module": "@jupyter-widgets/controls",
       "_model_module_version": "2.0.0",
       "_model_name": "HTMLModel",
       "_view_count": null,
       "_view_module": "@jupyter-widgets/controls",
       "_view_module_version": "2.0.0",
       "_view_name": "HTMLView",
       "description": "",
       "description_allow_html": false,
       "layout": "IPY_MODEL_b1e8bf8027e745d29f77ef8a5a2eb10c",
       "placeholder": "​",
       "style": "IPY_MODEL_2af80467021347a8a28556d6f3ebf775",
       "tabbable": null,
       "tooltip": null,
       "value": "tokenizer_config.json: 100%"
      }
     }
    },
    "version_major": 2,
    "version_minor": 0
   }
  }
 },
 "nbformat": 4,
 "nbformat_minor": 5
}
