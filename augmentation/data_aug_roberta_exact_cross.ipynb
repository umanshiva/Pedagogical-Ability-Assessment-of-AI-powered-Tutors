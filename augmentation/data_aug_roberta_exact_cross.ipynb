{
 "cells": [
  {
   "cell_type": "code",
   "execution_count": 1,
   "id": "a4e49616",
   "metadata": {
    "_cell_guid": "b1076dfc-b9ad-4769-8c92-a6c4dae69d19",
    "_uuid": "8f2839f25d086af736a60e9eeb907d3b93b6e0e5",
    "execution": {
     "iopub.execute_input": "2025-04-27T12:50:27.642744Z",
     "iopub.status.busy": "2025-04-27T12:50:27.642058Z",
     "iopub.status.idle": "2025-04-27T12:50:29.133513Z",
     "shell.execute_reply": "2025-04-27T12:50:29.132677Z"
    },
    "papermill": {
     "duration": 1.497663,
     "end_time": "2025-04-27T12:50:29.134794",
     "exception": false,
     "start_time": "2025-04-27T12:50:27.637131",
     "status": "completed"
    },
    "tags": []
   },
   "outputs": [
    {
     "name": "stdout",
     "output_type": "stream",
     "text": [
      "/kaggle/input/nlp-assg3/assignment_3_ai_tutors_dataset.json\n"
     ]
    }
   ],
   "source": [
    "# This Python 3 environment comes with many helpful analytics libraries installed\n",
    "# It is defined by the kaggle/python Docker image: https://github.com/kaggle/docker-python\n",
    "# For example, here's several helpful packages to load\n",
    "\n",
    "import numpy as np # linear algebra\n",
    "import pandas as pd # data processing, CSV file I/O (e.g. pd.read_csv)\n",
    "\n",
    "# Input data files are available in the read-only \"../input/\" directory\n",
    "# For example, running this (by clicking run or pressing Shift+Enter) will list all files under the input directory\n",
    "\n",
    "import os\n",
    "for dirname, _, filenames in os.walk('/kaggle/input'):\n",
    "    for filename in filenames:\n",
    "        print(os.path.join(dirname, filename))\n",
    "\n",
    "# You can write up to 20GB to the current directory (/kaggle/working/) that gets preserved as output when you create a version using \"Save & Run All\" \n",
    "# You can also write temporary files to /kaggle/temp/, but they won't be saved outside of the current session"
   ]
  },
  {
   "cell_type": "code",
   "execution_count": 2,
   "id": "56a424f5",
   "metadata": {
    "collapsed": true,
    "execution": {
     "iopub.execute_input": "2025-04-27T12:50:29.142300Z",
     "iopub.status.busy": "2025-04-27T12:50:29.142005Z",
     "iopub.status.idle": "2025-04-27T12:50:33.920464Z",
     "shell.execute_reply": "2025-04-27T12:50:33.919718Z"
    },
    "jupyter": {
     "outputs_hidden": true
    },
    "papermill": {
     "duration": 4.783546,
     "end_time": "2025-04-27T12:50:33.921872",
     "exception": false,
     "start_time": "2025-04-27T12:50:29.138326",
     "status": "completed"
    },
    "tags": []
   },
   "outputs": [
    {
     "name": "stdout",
     "output_type": "stream",
     "text": [
      "Requirement already satisfied: scikit-learn==1.2.2 in /usr/local/lib/python3.11/dist-packages (1.2.2)\r\n",
      "Collecting imbalanced-learn==0.10.1\r\n",
      "  Downloading imbalanced_learn-0.10.1-py3-none-any.whl.metadata (8.2 kB)\r\n",
      "Requirement already satisfied: numpy>=1.17.3 in /usr/local/lib/python3.11/dist-packages (from scikit-learn==1.2.2) (1.26.4)\r\n",
      "Requirement already satisfied: scipy>=1.3.2 in /usr/local/lib/python3.11/dist-packages (from scikit-learn==1.2.2) (1.15.2)\r\n",
      "Requirement already satisfied: joblib>=1.1.1 in /usr/local/lib/python3.11/dist-packages (from scikit-learn==1.2.2) (1.4.2)\r\n",
      "Requirement already satisfied: threadpoolctl>=2.0.0 in /usr/local/lib/python3.11/dist-packages (from scikit-learn==1.2.2) (3.6.0)\r\n",
      "Requirement already satisfied: mkl_fft in /usr/local/lib/python3.11/dist-packages (from numpy>=1.17.3->scikit-learn==1.2.2) (1.3.8)\r\n",
      "Requirement already satisfied: mkl_random in /usr/local/lib/python3.11/dist-packages (from numpy>=1.17.3->scikit-learn==1.2.2) (1.2.4)\r\n",
      "Requirement already satisfied: mkl_umath in /usr/local/lib/python3.11/dist-packages (from numpy>=1.17.3->scikit-learn==1.2.2) (0.1.1)\r\n",
      "Requirement already satisfied: mkl in /usr/local/lib/python3.11/dist-packages (from numpy>=1.17.3->scikit-learn==1.2.2) (2025.1.0)\r\n",
      "Requirement already satisfied: tbb4py in /usr/local/lib/python3.11/dist-packages (from numpy>=1.17.3->scikit-learn==1.2.2) (2022.1.0)\r\n",
      "Requirement already satisfied: mkl-service in /usr/local/lib/python3.11/dist-packages (from numpy>=1.17.3->scikit-learn==1.2.2) (2.4.1)\r\n",
      "Requirement already satisfied: intel-openmp<2026,>=2024 in /usr/local/lib/python3.11/dist-packages (from mkl->numpy>=1.17.3->scikit-learn==1.2.2) (2024.2.0)\r\n",
      "Requirement already satisfied: tbb==2022.* in /usr/local/lib/python3.11/dist-packages (from mkl->numpy>=1.17.3->scikit-learn==1.2.2) (2022.1.0)\r\n",
      "Requirement already satisfied: tcmlib==1.* in /usr/local/lib/python3.11/dist-packages (from tbb==2022.*->mkl->numpy>=1.17.3->scikit-learn==1.2.2) (1.2.0)\r\n",
      "Requirement already satisfied: intel-cmplr-lib-rt in /usr/local/lib/python3.11/dist-packages (from mkl_umath->numpy>=1.17.3->scikit-learn==1.2.2) (2024.2.0)\r\n",
      "Requirement already satisfied: intel-cmplr-lib-ur==2024.2.0 in /usr/local/lib/python3.11/dist-packages (from intel-openmp<2026,>=2024->mkl->numpy>=1.17.3->scikit-learn==1.2.2) (2024.2.0)\r\n",
      "Downloading imbalanced_learn-0.10.1-py3-none-any.whl (226 kB)\r\n",
      "\u001b[2K   \u001b[90m━━━━━━━━━━━━━━━━━━━━━━━━━━━━━━━━━━━━━━━━\u001b[0m \u001b[32m226.0/226.0 kB\u001b[0m \u001b[31m6.7 MB/s\u001b[0m eta \u001b[36m0:00:00\u001b[0m\r\n",
      "\u001b[?25hInstalling collected packages: imbalanced-learn\r\n",
      "  Attempting uninstall: imbalanced-learn\r\n",
      "    Found existing installation: imbalanced-learn 0.13.0\r\n",
      "    Uninstalling imbalanced-learn-0.13.0:\r\n",
      "      Successfully uninstalled imbalanced-learn-0.13.0\r\n",
      "Successfully installed imbalanced-learn-0.10.1\r\n"
     ]
    }
   ],
   "source": [
    "!pip install scikit-learn==1.2.2 imbalanced-learn==0.10.1"
   ]
  },
  {
   "cell_type": "code",
   "execution_count": 3,
   "id": "af552d9e",
   "metadata": {
    "execution": {
     "iopub.execute_input": "2025-04-27T12:50:33.930602Z",
     "iopub.status.busy": "2025-04-27T12:50:33.930002Z",
     "iopub.status.idle": "2025-04-27T12:50:43.380138Z",
     "shell.execute_reply": "2025-04-27T12:50:43.379495Z"
    },
    "papermill": {
     "duration": 9.455694,
     "end_time": "2025-04-27T12:50:43.381476",
     "exception": false,
     "start_time": "2025-04-27T12:50:33.925782",
     "status": "completed"
    },
    "tags": []
   },
   "outputs": [],
   "source": [
    "from imblearn.over_sampling import SMOTE\n",
    "import json\n",
    "import pandas as pd\n",
    "from transformers import BertTokenizer\n",
    "import torch\n",
    "from torch.utils.data import Dataset\n",
    "from sklearn.model_selection import train_test_split\n",
    "from sklearn.metrics import classification_report\n",
    "from transformers import RobertaTokenizer"
   ]
  },
  {
   "cell_type": "code",
   "execution_count": 4,
   "id": "b42adefa",
   "metadata": {
    "execution": {
     "iopub.execute_input": "2025-04-27T12:50:43.389629Z",
     "iopub.status.busy": "2025-04-27T12:50:43.389093Z",
     "iopub.status.idle": "2025-04-27T12:50:43.393379Z",
     "shell.execute_reply": "2025-04-27T12:50:43.392881Z"
    },
    "papermill": {
     "duration": 0.009276,
     "end_time": "2025-04-27T12:50:43.394413",
     "exception": false,
     "start_time": "2025-04-27T12:50:43.385137",
     "status": "completed"
    },
    "tags": []
   },
   "outputs": [],
   "source": [
    "# ---------- Dataset Definition ----------\n",
    "class TutorEvalSingleTaskDataset(Dataset):\n",
    "    def __init__(self, encodings, labels):\n",
    "        self.encodings = encodings\n",
    "        self.labels = labels\n",
    "\n",
    "    def __getitem__(self, idx):\n",
    "        return {\n",
    "            'input_ids': self.encodings['input_ids'][idx],\n",
    "            'attention_mask': self.encodings['attention_mask'][idx],\n",
    "            'labels': self.labels[idx]\n",
    "        }\n",
    "\n",
    "    def __len__(self):\n",
    "        return len(self.labels)"
   ]
  },
  {
   "cell_type": "code",
   "execution_count": 5,
   "id": "6f7efe71",
   "metadata": {
    "execution": {
     "iopub.execute_input": "2025-04-27T12:50:43.402197Z",
     "iopub.status.busy": "2025-04-27T12:50:43.401712Z",
     "iopub.status.idle": "2025-04-27T12:50:43.406304Z",
     "shell.execute_reply": "2025-04-27T12:50:43.405770Z"
    },
    "papermill": {
     "duration": 0.009533,
     "end_time": "2025-04-27T12:50:43.407315",
     "exception": false,
     "start_time": "2025-04-27T12:50:43.397782",
     "status": "completed"
    },
    "tags": []
   },
   "outputs": [],
   "source": [
    "# ---------- Preprocessing ----------\n",
    "def load_and_flatten(json_path):\n",
    "    with open(json_path) as f:\n",
    "        data = json.load(f)\n",
    "\n",
    "    rows = []\n",
    "    for instance in data:\n",
    "        convo_id = instance[\"conversation_id\"]\n",
    "        history = instance[\"conversation_history\"]\n",
    "        for tutor_id, tutor_data in instance[\"tutor_responses\"].items():\n",
    "            row = {\n",
    "                \"conversation_id\": convo_id,\n",
    "                \"tutor_id\": tutor_id,\n",
    "                \"conversation_history\": history,\n",
    "                \"tutor_response\": tutor_data[\"response\"],\n",
    "                \"Mistake_Identification\": tutor_data[\"annotation\"][\"Mistake_Identification\"],\n",
    "                \"Mistake_Location\": tutor_data[\"annotation\"][\"Mistake_Location\"],\n",
    "                \"Pedagogical_Guidance\": tutor_data[\"annotation\"][\"Providing_Guidance\"],\n",
    "                \"Actionability\": tutor_data[\"annotation\"][\"Actionability\"]\n",
    "            }\n",
    "            rows.append(row)\n",
    "    return pd.DataFrame(rows)"
   ]
  },
  {
   "cell_type": "code",
   "execution_count": 6,
   "id": "d7a0703b",
   "metadata": {
    "execution": {
     "iopub.execute_input": "2025-04-27T12:50:43.414926Z",
     "iopub.status.busy": "2025-04-27T12:50:43.414710Z",
     "iopub.status.idle": "2025-04-27T12:50:43.419519Z",
     "shell.execute_reply": "2025-04-27T12:50:43.418900Z"
    },
    "papermill": {
     "duration": 0.009876,
     "end_time": "2025-04-27T12:50:43.420615",
     "exception": false,
     "start_time": "2025-04-27T12:50:43.410739",
     "status": "completed"
    },
    "tags": []
   },
   "outputs": [],
   "source": [
    "def build_input_text(row):\n",
    "    return f\"Context:\\n{row['conversation_history']}\\n\\nTutor Response:\\n{row['tutor_response']}\"\n",
    "\n",
    "LABEL_MAP = {\"Yes\": 0, \"To some extent\": 1, \"No\": 2}\n",
    "MERGED_LABEL_MAP = {\"Yes\": 1, \"To some extent\": 1, \"No\": 0}\n",
    "\n",
    "def encode_labels(df):\n",
    "    for task in [\"Mistake_Identification\", \"Mistake_Location\", \"Pedagogical_Guidance\", \"Actionability\"]:\n",
    "        df[f\"{task}_label\"] = df[task].map(LABEL_MAP)\n",
    "        df[f\"{task}_binary\"] = df[task].map(MERGED_LABEL_MAP)\n",
    "    return df\n",
    "\n",
    "def tokenize_inputs(tokenizer, texts, max_length=256):\n",
    "    return tokenizer(\n",
    "        texts,\n",
    "        add_special_tokens=True,\n",
    "        truncation=True,\n",
    "        padding=True,\n",
    "        max_length=max_length,\n",
    "        return_tensors=\"pt\"\n",
    "    )"
   ]
  },
  {
   "cell_type": "code",
   "execution_count": 7,
   "id": "44555563",
   "metadata": {
    "execution": {
     "iopub.execute_input": "2025-04-27T12:50:43.428343Z",
     "iopub.status.busy": "2025-04-27T12:50:43.427923Z",
     "iopub.status.idle": "2025-04-27T12:50:43.433739Z",
     "shell.execute_reply": "2025-04-27T12:50:43.433277Z"
    },
    "papermill": {
     "duration": 0.010723,
     "end_time": "2025-04-27T12:50:43.434722",
     "exception": false,
     "start_time": "2025-04-27T12:50:43.423999",
     "status": "completed"
    },
    "tags": []
   },
   "outputs": [],
   "source": [
    "def preprocess_dataset(json_path, task_label, mode=None, max_length=256):\n",
    "    df = load_and_flatten(json_path)\n",
    "    df[\"input_text\"] = df.apply(build_input_text, axis=1)\n",
    "    df = encode_labels(df)\n",
    "\n",
    "    train_df, val_df = train_test_split(df, test_size=0.1, stratify=df[task_label], random_state=42)\n",
    "\n",
    "    tokenizer = RobertaTokenizer.from_pretrained(\"roberta-base\",do_lower_case=True)\n",
    "    train_enc = tokenize_inputs(tokenizer, train_df[\"input_text\"].tolist(), max_length=max_length)\n",
    "    val_enc = tokenize_inputs(tokenizer, val_df[\"input_text\"].tolist(), max_length=max_length)\n",
    "\n",
    "    train_labels = torch.tensor(train_df[task_label].tolist())\n",
    "    val_labels = torch.tensor(val_df[task_label].tolist())\n",
    "\n",
    "    if mode == 'balanced':\n",
    "        # Perform SMOTE oversampling\n",
    "        smote = SMOTE(random_state=42)\n",
    "        \n",
    "        X1 = train_enc['input_ids']\n",
    "        X2 = train_enc['attention_mask']\n",
    "        X = torch.cat((X1, X2), dim=1)  # Combine input_ids and attention_mask for SMOTE\n",
    "        y = train_labels.numpy()\n",
    "\n",
    "        X_resampled, y_resampled = smote.fit_resample(X, y)\n",
    "\n",
    "        # Split back input_ids and attention_mask after SMOTE\n",
    "        seq_len = X1.shape[1]\n",
    "        train_enc['input_ids'] = torch.tensor(X_resampled[:, :seq_len])\n",
    "        train_enc['attention_mask'] = torch.tensor(X_resampled[:, seq_len:])\n",
    "        train_labels = torch.tensor(y_resampled)\n",
    "\n",
    "    train_dataset = TutorEvalSingleTaskDataset(train_enc, train_labels)\n",
    "    val_dataset = TutorEvalSingleTaskDataset(val_enc, val_labels)\n",
    "\n",
    "    return train_dataset, val_dataset, tokenizer, df"
   ]
  },
  {
   "cell_type": "code",
   "execution_count": 8,
   "id": "818be0bb",
   "metadata": {
    "execution": {
     "iopub.execute_input": "2025-04-27T12:50:43.441932Z",
     "iopub.status.busy": "2025-04-27T12:50:43.441709Z",
     "iopub.status.idle": "2025-04-27T12:50:43.501988Z",
     "shell.execute_reply": "2025-04-27T12:50:43.501418Z"
    },
    "papermill": {
     "duration": 0.064917,
     "end_time": "2025-04-27T12:50:43.502966",
     "exception": false,
     "start_time": "2025-04-27T12:50:43.438049",
     "status": "completed"
    },
    "tags": []
   },
   "outputs": [
    {
     "data": {
      "text/html": [
       "<div>\n",
       "<style scoped>\n",
       "    .dataframe tbody tr th:only-of-type {\n",
       "        vertical-align: middle;\n",
       "    }\n",
       "\n",
       "    .dataframe tbody tr th {\n",
       "        vertical-align: top;\n",
       "    }\n",
       "\n",
       "    .dataframe thead th {\n",
       "        text-align: right;\n",
       "    }\n",
       "</style>\n",
       "<table border=\"1\" class=\"dataframe\">\n",
       "  <thead>\n",
       "    <tr style=\"text-align: right;\">\n",
       "      <th></th>\n",
       "      <th>conversation_id</th>\n",
       "      <th>tutor_id</th>\n",
       "      <th>conversation_history</th>\n",
       "      <th>tutor_response</th>\n",
       "      <th>Mistake_Identification</th>\n",
       "      <th>Mistake_Location</th>\n",
       "      <th>Pedagogical_Guidance</th>\n",
       "      <th>Actionability</th>\n",
       "    </tr>\n",
       "  </thead>\n",
       "  <tbody>\n",
       "    <tr>\n",
       "      <th>0</th>\n",
       "      <td>221-362eb11a-f190-42a6-b2a4-985fafdcfa9e</td>\n",
       "      <td>Sonnet</td>\n",
       "      <td>Tutor: Hi, could you please provide a step-by-...</td>\n",
       "      <td>Great, you've correctly identified the cost of...</td>\n",
       "      <td>Yes</td>\n",
       "      <td>Yes</td>\n",
       "      <td>Yes</td>\n",
       "      <td>Yes</td>\n",
       "    </tr>\n",
       "    <tr>\n",
       "      <th>1</th>\n",
       "      <td>221-362eb11a-f190-42a6-b2a4-985fafdcfa9e</td>\n",
       "      <td>Llama318B</td>\n",
       "      <td>Tutor: Hi, could you please provide a step-by-...</td>\n",
       "      <td>Now that we know the cost of 1 pound of meat i...</td>\n",
       "      <td>Yes</td>\n",
       "      <td>To some extent</td>\n",
       "      <td>To some extent</td>\n",
       "      <td>To some extent</td>\n",
       "    </tr>\n",
       "    <tr>\n",
       "      <th>2</th>\n",
       "      <td>221-362eb11a-f190-42a6-b2a4-985fafdcfa9e</td>\n",
       "      <td>Llama31405B</td>\n",
       "      <td>Tutor: Hi, could you please provide a step-by-...</td>\n",
       "      <td>You're close, but I notice that you calculated...</td>\n",
       "      <td>Yes</td>\n",
       "      <td>Yes</td>\n",
       "      <td>Yes</td>\n",
       "      <td>Yes</td>\n",
       "    </tr>\n",
       "    <tr>\n",
       "      <th>3</th>\n",
       "      <td>221-362eb11a-f190-42a6-b2a4-985fafdcfa9e</td>\n",
       "      <td>GPT4</td>\n",
       "      <td>Tutor: Hi, could you please provide a step-by-...</td>\n",
       "      <td>That's correct. So, if 1 pound of meat costs $...</td>\n",
       "      <td>Yes</td>\n",
       "      <td>Yes</td>\n",
       "      <td>Yes</td>\n",
       "      <td>Yes</td>\n",
       "    </tr>\n",
       "    <tr>\n",
       "      <th>4</th>\n",
       "      <td>221-362eb11a-f190-42a6-b2a4-985fafdcfa9e</td>\n",
       "      <td>Mistral</td>\n",
       "      <td>Tutor: Hi, could you please provide a step-by-...</td>\n",
       "      <td>It seems like you've calculated the cost as if...</td>\n",
       "      <td>Yes</td>\n",
       "      <td>Yes</td>\n",
       "      <td>Yes</td>\n",
       "      <td>Yes</td>\n",
       "    </tr>\n",
       "  </tbody>\n",
       "</table>\n",
       "</div>"
      ],
      "text/plain": [
       "                            conversation_id     tutor_id  \\\n",
       "0  221-362eb11a-f190-42a6-b2a4-985fafdcfa9e       Sonnet   \n",
       "1  221-362eb11a-f190-42a6-b2a4-985fafdcfa9e    Llama318B   \n",
       "2  221-362eb11a-f190-42a6-b2a4-985fafdcfa9e  Llama31405B   \n",
       "3  221-362eb11a-f190-42a6-b2a4-985fafdcfa9e         GPT4   \n",
       "4  221-362eb11a-f190-42a6-b2a4-985fafdcfa9e      Mistral   \n",
       "\n",
       "                                conversation_history  \\\n",
       "0  Tutor: Hi, could you please provide a step-by-...   \n",
       "1  Tutor: Hi, could you please provide a step-by-...   \n",
       "2  Tutor: Hi, could you please provide a step-by-...   \n",
       "3  Tutor: Hi, could you please provide a step-by-...   \n",
       "4  Tutor: Hi, could you please provide a step-by-...   \n",
       "\n",
       "                                      tutor_response Mistake_Identification  \\\n",
       "0  Great, you've correctly identified the cost of...                    Yes   \n",
       "1  Now that we know the cost of 1 pound of meat i...                    Yes   \n",
       "2  You're close, but I notice that you calculated...                    Yes   \n",
       "3  That's correct. So, if 1 pound of meat costs $...                    Yes   \n",
       "4  It seems like you've calculated the cost as if...                    Yes   \n",
       "\n",
       "  Mistake_Location Pedagogical_Guidance   Actionability  \n",
       "0              Yes                  Yes             Yes  \n",
       "1   To some extent       To some extent  To some extent  \n",
       "2              Yes                  Yes             Yes  \n",
       "3              Yes                  Yes             Yes  \n",
       "4              Yes                  Yes             Yes  "
      ]
     },
     "execution_count": 8,
     "metadata": {},
     "output_type": "execute_result"
    }
   ],
   "source": [
    "file_path=\"/kaggle/input/nlp-assg3/assignment_3_ai_tutors_dataset.json\"\n",
    "df=load_and_flatten(file_path)\n",
    "df.head()"
   ]
  },
  {
   "cell_type": "code",
   "execution_count": 9,
   "id": "5e14ecca",
   "metadata": {
    "execution": {
     "iopub.execute_input": "2025-04-27T12:50:43.510744Z",
     "iopub.status.busy": "2025-04-27T12:50:43.510560Z",
     "iopub.status.idle": "2025-04-27T12:51:03.238087Z",
     "shell.execute_reply": "2025-04-27T12:51:03.237308Z"
    },
    "papermill": {
     "duration": 19.732808,
     "end_time": "2025-04-27T12:51:03.239445",
     "exception": false,
     "start_time": "2025-04-27T12:50:43.506637",
     "status": "completed"
    },
    "tags": []
   },
   "outputs": [
    {
     "name": "stderr",
     "output_type": "stream",
     "text": [
      "2025-04-27 12:50:51.811109: E external/local_xla/xla/stream_executor/cuda/cuda_fft.cc:477] Unable to register cuFFT factory: Attempting to register factory for plugin cuFFT when one has already been registered\n",
      "WARNING: All log messages before absl::InitializeLog() is called are written to STDERR\n",
      "E0000 00:00:1745758252.038347      19 cuda_dnn.cc:8310] Unable to register cuDNN factory: Attempting to register factory for plugin cuDNN when one has already been registered\n",
      "E0000 00:00:1745758252.105726      19 cuda_blas.cc:1418] Unable to register cuBLAS factory: Attempting to register factory for plugin cuBLAS when one has already been registered\n"
     ]
    }
   ],
   "source": [
    "import torch\n",
    "import torch.nn as nn\n",
    "from transformers import BertTokenizer, BertForSequenceClassification\n",
    "from torch.optim import AdamW  \n",
    "from torch.utils.data import DataLoader\n",
    "from sklearn.metrics import accuracy_score\n",
    "from sklearn.metrics import f1_score"
   ]
  },
  {
   "cell_type": "code",
   "execution_count": 10,
   "id": "c3085db4",
   "metadata": {
    "execution": {
     "iopub.execute_input": "2025-04-27T12:51:03.248184Z",
     "iopub.status.busy": "2025-04-27T12:51:03.247442Z",
     "iopub.status.idle": "2025-04-27T12:51:03.273175Z",
     "shell.execute_reply": "2025-04-27T12:51:03.272681Z"
    },
    "papermill": {
     "duration": 0.030928,
     "end_time": "2025-04-27T12:51:03.274216",
     "exception": false,
     "start_time": "2025-04-27T12:51:03.243288",
     "status": "completed"
    },
    "tags": []
   },
   "outputs": [],
   "source": [
    "from transformers import RobertaForSequenceClassification\n",
    "import torch.nn as nn\n",
    "\n",
    "class SingleTaskRobertaClassifier(nn.Module):\n",
    "    def __init__(self, num_labels):\n",
    "        super(SingleTaskRobertaClassifier, self).__init__()\n",
    "        self.roberta = RobertaForSequenceClassification.from_pretrained(\"roberta-base\", num_labels=num_labels)\n",
    "    \n",
    "    def forward(self, input_ids, attention_mask):\n",
    "        outputs = self.roberta(input_ids=input_ids, attention_mask=attention_mask)\n",
    "        return outputs.logits\n"
   ]
  },
  {
   "cell_type": "code",
   "execution_count": 11,
   "id": "570b20aa",
   "metadata": {
    "execution": {
     "iopub.execute_input": "2025-04-27T12:51:03.282135Z",
     "iopub.status.busy": "2025-04-27T12:51:03.281933Z",
     "iopub.status.idle": "2025-04-27T12:51:03.286127Z",
     "shell.execute_reply": "2025-04-27T12:51:03.285607Z"
    },
    "papermill": {
     "duration": 0.009357,
     "end_time": "2025-04-27T12:51:03.287169",
     "exception": false,
     "start_time": "2025-04-27T12:51:03.277812",
     "status": "completed"
    },
    "tags": []
   },
   "outputs": [
    {
     "data": {
      "text/plain": [
       "device(type='cuda')"
      ]
     },
     "execution_count": 11,
     "metadata": {},
     "output_type": "execute_result"
    }
   ],
   "source": [
    "device = torch.device(\"cuda\" if torch.cuda.is_available() else \"cpu\")\n",
    "device"
   ]
  },
  {
   "cell_type": "code",
   "execution_count": 12,
   "id": "5d139492",
   "metadata": {
    "execution": {
     "iopub.execute_input": "2025-04-27T12:51:03.295278Z",
     "iopub.status.busy": "2025-04-27T12:51:03.295060Z",
     "iopub.status.idle": "2025-04-27T12:51:03.302479Z",
     "shell.execute_reply": "2025-04-27T12:51:03.301778Z"
    },
    "papermill": {
     "duration": 0.012804,
     "end_time": "2025-04-27T12:51:03.303552",
     "exception": false,
     "start_time": "2025-04-27T12:51:03.290748",
     "status": "completed"
    },
    "tags": []
   },
   "outputs": [],
   "source": [
    "# ---------- Training ----------\n",
    "def evaluate_model(model, val_loader):\n",
    "    model.eval()\n",
    "    all_preds, all_labels = [], []\n",
    "    with torch.no_grad():\n",
    "        for batch in val_loader:\n",
    "            input_ids = batch['input_ids'].to(device)\n",
    "            attention_mask = batch['attention_mask'].to(device)\n",
    "            labels = batch['labels'].cpu().numpy()\n",
    "\n",
    "            outputs = model(input_ids, attention_mask)\n",
    "            preds = torch.argmax(outputs, dim=1)\n",
    "            all_preds.extend(preds.cpu().numpy())\n",
    "            all_labels.extend(labels)\n",
    "\n",
    "    acc = accuracy_score(all_labels, all_preds)\n",
    "    macro_f1 = f1_score(all_labels, all_preds, average='macro')\n",
    "    print(f\"Validation Accuracy: {acc:.4f}  Validation Macro F1: {macro_f1:.4f}\")\n",
    "    print(classification_report(all_labels, all_preds, target_names=[\"Yes\", \"To some extent\", \"No\"], zero_division=0))\n",
    "\n",
    "def train_model(loss_type, train_loader, val_loader, num_labels, epochs=10):\n",
    "    print(f\"\\n Training with: {loss_type.upper()} Loss\\n\")\n",
    "\n",
    "    model = SingleTaskRobertaClassifier(num_labels).to(device)\n",
    "    optimizer = torch.optim.AdamW(model.parameters(), lr=2e-5)\n",
    "\n",
    "    #train_labels_list = [label.item() for batch in train_loader for label in batch['labels']]\n",
    "    #class_weights = get_class_weights(train_labels_list, num_labels)\n",
    "\n",
    "    if loss_type == \"focal\":\n",
    "        criterion = FocalLossWithWeights()\n",
    "    elif loss_type == \"smoothing\":\n",
    "        criterion = nn.CrossEntropyLoss(label_smoothing=0.1)\n",
    "    else:\n",
    "        criterion = nn.CrossEntropyLoss(weight=None)\n",
    "\n",
    "\n",
    "    for epoch in range(epochs):\n",
    "        model.train()\n",
    "        total_loss = 0\n",
    "        for batch in tqdm(train_loader, desc=f\"Epoch {epoch+1}/{epochs}\"):\n",
    "            optimizer.zero_grad()\n",
    "            input_ids = batch['input_ids'].to(device)\n",
    "            attention_mask = batch['attention_mask'].to(device)\n",
    "            labels = batch['labels'].to(device)\n",
    "\n",
    "            outputs = model(input_ids, attention_mask)\n",
    "            loss = criterion(outputs, labels)\n",
    "            loss.backward()\n",
    "            optimizer.step()\n",
    "\n",
    "            total_loss += loss.item()\n",
    "\n",
    "        avg_loss = total_loss / len(train_loader)\n",
    "        print(f\"Epoch {epoch+1} Loss: {avg_loss:.4f}\")\n",
    "        evaluate_model(model, val_loader)\n",
    "\n"
   ]
  },
  {
   "cell_type": "code",
   "execution_count": 13,
   "id": "36bd948b",
   "metadata": {
    "execution": {
     "iopub.execute_input": "2025-04-27T12:51:03.311324Z",
     "iopub.status.busy": "2025-04-27T12:51:03.311129Z",
     "iopub.status.idle": "2025-04-27T12:51:03.314193Z",
     "shell.execute_reply": "2025-04-27T12:51:03.313700Z"
    },
    "papermill": {
     "duration": 0.008138,
     "end_time": "2025-04-27T12:51:03.315249",
     "exception": false,
     "start_time": "2025-04-27T12:51:03.307111",
     "status": "completed"
    },
    "tags": []
   },
   "outputs": [],
   "source": [
    "import warnings\n",
    "\n",
    "warnings.filterwarnings(\"ignore\", message=\"Some weights of RobertaForSequenceClassification were not initialized.*\")\n"
   ]
  },
  {
   "cell_type": "code",
   "execution_count": 14,
   "id": "483962d5",
   "metadata": {
    "execution": {
     "iopub.execute_input": "2025-04-27T12:51:03.323445Z",
     "iopub.status.busy": "2025-04-27T12:51:03.322926Z",
     "iopub.status.idle": "2025-04-27T12:51:03.326351Z",
     "shell.execute_reply": "2025-04-27T12:51:03.325683Z"
    },
    "papermill": {
     "duration": 0.008716,
     "end_time": "2025-04-27T12:51:03.327509",
     "exception": false,
     "start_time": "2025-04-27T12:51:03.318793",
     "status": "completed"
    },
    "tags": []
   },
   "outputs": [],
   "source": [
    "from transformers import logging\n",
    "\n",
    "logging.set_verbosity_error()  # suppress all warnings and info logs from transformers\n"
   ]
  },
  {
   "cell_type": "code",
   "execution_count": 15,
   "id": "2e9c227d",
   "metadata": {
    "execution": {
     "iopub.execute_input": "2025-04-27T12:51:03.335626Z",
     "iopub.status.busy": "2025-04-27T12:51:03.335153Z",
     "iopub.status.idle": "2025-04-27T12:51:03.339025Z",
     "shell.execute_reply": "2025-04-27T12:51:03.338542Z"
    },
    "papermill": {
     "duration": 0.008794,
     "end_time": "2025-04-27T12:51:03.339953",
     "exception": false,
     "start_time": "2025-04-27T12:51:03.331159",
     "status": "completed"
    },
    "tags": []
   },
   "outputs": [],
   "source": [
    "import torch\n",
    "import torch.nn as nn\n",
    "from transformers import BertForSequenceClassification, BertTokenizer\n",
    "from sklearn.metrics import accuracy_score, f1_score, classification_report\n",
    "from torch.utils.data import DataLoader\n",
    "from tqdm import tqdm\n",
    "import pandas as pd\n",
    "import json\n",
    "from torch.utils.data import Dataset\n",
    "from sklearn.model_selection import train_test_split\n",
    "from sklearn.utils.class_weight import compute_class_weight\n",
    "\n",
    "\n",
    "device = torch.device(\"cuda\" if torch.cuda.is_available() else \"cpu\")"
   ]
  },
  {
   "cell_type": "markdown",
   "id": "f3029404",
   "metadata": {
    "papermill": {
     "duration": 0.003423,
     "end_time": "2025-04-27T12:51:03.346941",
     "exception": false,
     "start_time": "2025-04-27T12:51:03.343518",
     "status": "completed"
    },
    "tags": []
   },
   "source": [
    "### TAsk 1"
   ]
  },
  {
   "cell_type": "code",
   "execution_count": 16,
   "id": "56ab0c88",
   "metadata": {
    "execution": {
     "iopub.execute_input": "2025-04-27T12:51:03.355230Z",
     "iopub.status.busy": "2025-04-27T12:51:03.355041Z",
     "iopub.status.idle": "2025-04-27T13:37:55.939919Z",
     "shell.execute_reply": "2025-04-27T13:37:55.938914Z"
    },
    "papermill": {
     "duration": 2812.590646,
     "end_time": "2025-04-27T13:37:55.941193",
     "exception": false,
     "start_time": "2025-04-27T12:51:03.350547",
     "status": "completed"
    },
    "tags": []
   },
   "outputs": [
    {
     "data": {
      "application/vnd.jupyter.widget-view+json": {
       "model_id": "85cbb2e6e4b94adf9983b7117b51f9a8",
       "version_major": 2,
       "version_minor": 0
      },
      "text/plain": [
       "tokenizer_config.json:   0%|          | 0.00/25.0 [00:00<?, ?B/s]"
      ]
     },
     "metadata": {},
     "output_type": "display_data"
    },
    {
     "data": {
      "application/vnd.jupyter.widget-view+json": {
       "model_id": "da93720be00f440aa30e68217fd23f6d",
       "version_major": 2,
       "version_minor": 0
      },
      "text/plain": [
       "vocab.json:   0%|          | 0.00/899k [00:00<?, ?B/s]"
      ]
     },
     "metadata": {},
     "output_type": "display_data"
    },
    {
     "data": {
      "application/vnd.jupyter.widget-view+json": {
       "model_id": "649a4ecc8e2445cf9605199c49c02300",
       "version_major": 2,
       "version_minor": 0
      },
      "text/plain": [
       "merges.txt:   0%|          | 0.00/456k [00:00<?, ?B/s]"
      ]
     },
     "metadata": {},
     "output_type": "display_data"
    },
    {
     "data": {
      "application/vnd.jupyter.widget-view+json": {
       "model_id": "e2b7e8e412e94edc8ff59da327d6b900",
       "version_major": 2,
       "version_minor": 0
      },
      "text/plain": [
       "tokenizer.json:   0%|          | 0.00/1.36M [00:00<?, ?B/s]"
      ]
     },
     "metadata": {},
     "output_type": "display_data"
    },
    {
     "data": {
      "application/vnd.jupyter.widget-view+json": {
       "model_id": "99c4a106f333478fa98395f65082a998",
       "version_major": 2,
       "version_minor": 0
      },
      "text/plain": [
       "config.json:   0%|          | 0.00/481 [00:00<?, ?B/s]"
      ]
     },
     "metadata": {},
     "output_type": "display_data"
    },
    {
     "name": "stdout",
     "output_type": "stream",
     "text": [
      "\n",
      " Training with: CE Loss\n",
      "\n"
     ]
    },
    {
     "name": "stderr",
     "output_type": "stream",
     "text": [
      "Xet Storage is enabled for this repo, but the 'hf_xet' package is not installed. Falling back to regular HTTP download. For better performance, install the package with: `pip install huggingface_hub[hf_xet]` or `pip install hf_xet`\n"
     ]
    },
    {
     "data": {
      "application/vnd.jupyter.widget-view+json": {
       "model_id": "1a3379563ffc4c3d892ec10fd0f66bb1",
       "version_major": 2,
       "version_minor": 0
      },
      "text/plain": [
       "model.safetensors:   0%|          | 0.00/499M [00:00<?, ?B/s]"
      ]
     },
     "metadata": {},
     "output_type": "display_data"
    },
    {
     "name": "stderr",
     "output_type": "stream",
     "text": [
      "Epoch 1/10: 100%|██████████| 1304/1304 [04:31<00:00,  4.80it/s]\n"
     ]
    },
    {
     "name": "stdout",
     "output_type": "stream",
     "text": [
      "Epoch 1 Loss: 0.8186\n",
      "Validation Accuracy: 0.7863  Validation Macro F1: 0.4659\n",
      "                precision    recall  f1-score   support\n",
      "\n",
      "           Yes       0.81      0.95      0.88       194\n",
      "To some extent       0.67      0.12      0.20        17\n",
      "            No       0.47      0.24      0.32        37\n",
      "\n",
      "      accuracy                           0.79       248\n",
      "     macro avg       0.65      0.44      0.47       248\n",
      "  weighted avg       0.75      0.79      0.75       248\n",
      "\n"
     ]
    },
    {
     "name": "stderr",
     "output_type": "stream",
     "text": [
      "Epoch 2/10: 100%|██████████| 1304/1304 [04:37<00:00,  4.70it/s]\n"
     ]
    },
    {
     "name": "stdout",
     "output_type": "stream",
     "text": [
      "Epoch 2 Loss: 0.7246\n",
      "Validation Accuracy: 0.7581  Validation Macro F1: 0.4205\n",
      "                precision    recall  f1-score   support\n",
      "\n",
      "           Yes       0.83      0.91      0.87       194\n",
      "To some extent       0.20      0.06      0.09        17\n",
      "            No       0.34      0.27      0.30        37\n",
      "\n",
      "      accuracy                           0.76       248\n",
      "     macro avg       0.46      0.41      0.42       248\n",
      "  weighted avg       0.71      0.76      0.73       248\n",
      "\n"
     ]
    },
    {
     "name": "stderr",
     "output_type": "stream",
     "text": [
      "Epoch 3/10: 100%|██████████| 1304/1304 [04:37<00:00,  4.70it/s]\n"
     ]
    },
    {
     "name": "stdout",
     "output_type": "stream",
     "text": [
      "Epoch 3 Loss: 0.6747\n",
      "Validation Accuracy: 0.7460  Validation Macro F1: 0.4593\n",
      "                precision    recall  f1-score   support\n",
      "\n",
      "           Yes       0.83      0.89      0.86       194\n",
      "To some extent       0.25      0.41      0.31        17\n",
      "            No       0.45      0.14      0.21        37\n",
      "\n",
      "      accuracy                           0.75       248\n",
      "     macro avg       0.51      0.48      0.46       248\n",
      "  weighted avg       0.73      0.75      0.72       248\n",
      "\n"
     ]
    },
    {
     "name": "stderr",
     "output_type": "stream",
     "text": [
      "Epoch 4/10: 100%|██████████| 1304/1304 [04:37<00:00,  4.70it/s]\n"
     ]
    },
    {
     "name": "stdout",
     "output_type": "stream",
     "text": [
      "Epoch 4 Loss: 0.6376\n",
      "Validation Accuracy: 0.7258  Validation Macro F1: 0.4469\n",
      "                precision    recall  f1-score   support\n",
      "\n",
      "           Yes       0.83      0.86      0.85       194\n",
      "To some extent       0.17      0.24      0.20        17\n",
      "            No       0.38      0.24      0.30        37\n",
      "\n",
      "      accuracy                           0.73       248\n",
      "     macro avg       0.46      0.45      0.45       248\n",
      "  weighted avg       0.72      0.73      0.72       248\n",
      "\n"
     ]
    },
    {
     "name": "stderr",
     "output_type": "stream",
     "text": [
      "Epoch 5/10: 100%|██████████| 1304/1304 [04:37<00:00,  4.70it/s]\n"
     ]
    },
    {
     "name": "stdout",
     "output_type": "stream",
     "text": [
      "Epoch 5 Loss: 0.6265\n",
      "Validation Accuracy: 0.7218  Validation Macro F1: 0.4215\n",
      "                precision    recall  f1-score   support\n",
      "\n",
      "           Yes       0.83      0.87      0.85       194\n",
      "To some extent       0.15      0.18      0.16        17\n",
      "            No       0.31      0.22      0.25        37\n",
      "\n",
      "      accuracy                           0.72       248\n",
      "     macro avg       0.43      0.42      0.42       248\n",
      "  weighted avg       0.71      0.72      0.71       248\n",
      "\n"
     ]
    },
    {
     "name": "stderr",
     "output_type": "stream",
     "text": [
      "Epoch 6/10: 100%|██████████| 1304/1304 [04:37<00:00,  4.70it/s]\n"
     ]
    },
    {
     "name": "stdout",
     "output_type": "stream",
     "text": [
      "Epoch 6 Loss: 0.6188\n",
      "Validation Accuracy: 0.7097  Validation Macro F1: 0.4639\n",
      "                precision    recall  f1-score   support\n",
      "\n",
      "           Yes       0.83      0.82      0.83       194\n",
      "To some extent       0.21      0.29      0.24        17\n",
      "            No       0.34      0.30      0.32        37\n",
      "\n",
      "      accuracy                           0.71       248\n",
      "     macro avg       0.46      0.47      0.46       248\n",
      "  weighted avg       0.72      0.71      0.71       248\n",
      "\n"
     ]
    },
    {
     "name": "stderr",
     "output_type": "stream",
     "text": [
      "Epoch 7/10: 100%|██████████| 1304/1304 [04:37<00:00,  4.70it/s]\n"
     ]
    },
    {
     "name": "stdout",
     "output_type": "stream",
     "text": [
      "Epoch 7 Loss: 0.5988\n",
      "Validation Accuracy: 0.7460  Validation Macro F1: 0.5079\n",
      "                precision    recall  f1-score   support\n",
      "\n",
      "           Yes       0.84      0.87      0.85       194\n",
      "To some extent       0.30      0.47      0.36        17\n",
      "            No       0.41      0.24      0.31        37\n",
      "\n",
      "      accuracy                           0.75       248\n",
      "     macro avg       0.52      0.53      0.51       248\n",
      "  weighted avg       0.74      0.75      0.74       248\n",
      "\n"
     ]
    },
    {
     "name": "stderr",
     "output_type": "stream",
     "text": [
      "Epoch 8/10: 100%|██████████| 1304/1304 [04:37<00:00,  4.70it/s]\n"
     ]
    },
    {
     "name": "stdout",
     "output_type": "stream",
     "text": [
      "Epoch 8 Loss: 0.5873\n",
      "Validation Accuracy: 0.7379  Validation Macro F1: 0.4747\n",
      "                precision    recall  f1-score   support\n",
      "\n",
      "           Yes       0.84      0.87      0.85       194\n",
      "To some extent       0.20      0.29      0.24        17\n",
      "            No       0.43      0.27      0.33        37\n",
      "\n",
      "      accuracy                           0.74       248\n",
      "     macro avg       0.49      0.48      0.47       248\n",
      "  weighted avg       0.74      0.74      0.73       248\n",
      "\n"
     ]
    },
    {
     "name": "stderr",
     "output_type": "stream",
     "text": [
      "Epoch 9/10: 100%|██████████| 1304/1304 [04:37<00:00,  4.70it/s]\n"
     ]
    },
    {
     "name": "stdout",
     "output_type": "stream",
     "text": [
      "Epoch 9 Loss: 0.5732\n",
      "Validation Accuracy: 0.7460  Validation Macro F1: 0.4644\n",
      "                precision    recall  f1-score   support\n",
      "\n",
      "           Yes       0.83      0.89      0.86       194\n",
      "To some extent       0.25      0.24      0.24        17\n",
      "            No       0.38      0.24      0.30        37\n",
      "\n",
      "      accuracy                           0.75       248\n",
      "     macro avg       0.48      0.46      0.46       248\n",
      "  weighted avg       0.72      0.75      0.73       248\n",
      "\n"
     ]
    },
    {
     "name": "stderr",
     "output_type": "stream",
     "text": [
      "Epoch 10/10: 100%|██████████| 1304/1304 [04:37<00:00,  4.70it/s]\n"
     ]
    },
    {
     "name": "stdout",
     "output_type": "stream",
     "text": [
      "Epoch 10 Loss: 0.5792\n",
      "Validation Accuracy: 0.7339  Validation Macro F1: 0.4993\n",
      "                precision    recall  f1-score   support\n",
      "\n",
      "           Yes       0.84      0.85      0.84       194\n",
      "To some extent       0.29      0.41      0.34        17\n",
      "            No       0.37      0.27      0.31        37\n",
      "\n",
      "      accuracy                           0.73       248\n",
      "     macro avg       0.50      0.51      0.50       248\n",
      "  weighted avg       0.73      0.73      0.73       248\n",
      "\n"
     ]
    }
   ],
   "source": [
    "# ---------- Run ----------\n",
    "json_path =\"/kaggle/input/nlp-assg3/assignment_3_ai_tutors_dataset.json\"\n",
    "train_dataset, val_dataset, tokenizer, df = preprocess_dataset(json_path, \"Mistake_Identification_label\", mode = 'balanced')\n",
    "train_loader = DataLoader(train_dataset, batch_size=4, shuffle=True)\n",
    "val_loader = DataLoader(val_dataset, batch_size=4)\n",
    "train_model(\"ce\", train_loader, val_loader, num_labels=3)"
   ]
  },
  {
   "cell_type": "code",
   "execution_count": 17,
   "id": "c8d4cce5",
   "metadata": {
    "execution": {
     "iopub.execute_input": "2025-04-27T13:37:57.010571Z",
     "iopub.status.busy": "2025-04-27T13:37:57.009763Z",
     "iopub.status.idle": "2025-04-27T14:15:35.630687Z",
     "shell.execute_reply": "2025-04-27T14:15:35.629883Z"
    },
    "papermill": {
     "duration": 2260.114569,
     "end_time": "2025-04-27T14:15:36.616938",
     "exception": false,
     "start_time": "2025-04-27T13:37:56.502369",
     "status": "completed"
    },
    "tags": []
   },
   "outputs": [
    {
     "name": "stdout",
     "output_type": "stream",
     "text": [
      "\n",
      " Training with: CE Loss\n",
      "\n"
     ]
    },
    {
     "name": "stderr",
     "output_type": "stream",
     "text": [
      "Epoch 1/10: 100%|██████████| 1041/1041 [03:41<00:00,  4.69it/s]\n"
     ]
    },
    {
     "name": "stdout",
     "output_type": "stream",
     "text": [
      "Epoch 1 Loss: 0.8410\n",
      "Validation Accuracy: 0.4879  Validation Macro F1: 0.4038\n",
      "                precision    recall  f1-score   support\n",
      "\n",
      "           Yes       0.73      0.48      0.58       155\n",
      "To some extent       0.15      0.23      0.18        22\n",
      "            No       0.37      0.58      0.45        71\n",
      "\n",
      "      accuracy                           0.49       248\n",
      "     macro avg       0.42      0.43      0.40       248\n",
      "  weighted avg       0.57      0.49      0.51       248\n",
      "\n"
     ]
    },
    {
     "name": "stderr",
     "output_type": "stream",
     "text": [
      "Epoch 2/10: 100%|██████████| 1041/1041 [03:41<00:00,  4.70it/s]\n"
     ]
    },
    {
     "name": "stdout",
     "output_type": "stream",
     "text": [
      "Epoch 2 Loss: 0.7377\n",
      "Validation Accuracy: 0.5645  Validation Macro F1: 0.4341\n",
      "                precision    recall  f1-score   support\n",
      "\n",
      "           Yes       0.69      0.66      0.68       155\n",
      "To some extent       0.14      0.18      0.16        22\n",
      "            No       0.46      0.46      0.46        71\n",
      "\n",
      "      accuracy                           0.56       248\n",
      "     macro avg       0.43      0.44      0.43       248\n",
      "  weighted avg       0.58      0.56      0.57       248\n",
      "\n"
     ]
    },
    {
     "name": "stderr",
     "output_type": "stream",
     "text": [
      "Epoch 3/10: 100%|██████████| 1041/1041 [03:41<00:00,  4.69it/s]\n"
     ]
    },
    {
     "name": "stdout",
     "output_type": "stream",
     "text": [
      "Epoch 3 Loss: 0.6794\n",
      "Validation Accuracy: 0.5645  Validation Macro F1: 0.4020\n",
      "                precision    recall  f1-score   support\n",
      "\n",
      "           Yes       0.67      0.75      0.71       155\n",
      "To some extent       0.13      0.18      0.15        22\n",
      "            No       0.44      0.28      0.34        71\n",
      "\n",
      "      accuracy                           0.56       248\n",
      "     macro avg       0.42      0.40      0.40       248\n",
      "  weighted avg       0.56      0.56      0.55       248\n",
      "\n"
     ]
    },
    {
     "name": "stderr",
     "output_type": "stream",
     "text": [
      "Epoch 4/10: 100%|██████████| 1041/1041 [03:41<00:00,  4.69it/s]\n"
     ]
    },
    {
     "name": "stdout",
     "output_type": "stream",
     "text": [
      "Epoch 4 Loss: 0.6573\n",
      "Validation Accuracy: 0.5323  Validation Macro F1: 0.4470\n",
      "                precision    recall  f1-score   support\n",
      "\n",
      "           Yes       0.71      0.60      0.65       155\n",
      "To some extent       0.21      0.41      0.28        22\n",
      "            No       0.41      0.42      0.41        71\n",
      "\n",
      "      accuracy                           0.53       248\n",
      "     macro avg       0.44      0.48      0.45       248\n",
      "  weighted avg       0.58      0.53      0.55       248\n",
      "\n"
     ]
    },
    {
     "name": "stderr",
     "output_type": "stream",
     "text": [
      "Epoch 5/10: 100%|██████████| 1041/1041 [03:41<00:00,  4.70it/s]\n"
     ]
    },
    {
     "name": "stdout",
     "output_type": "stream",
     "text": [
      "Epoch 5 Loss: 0.6318\n",
      "Validation Accuracy: 0.5484  Validation Macro F1: 0.4142\n",
      "                precision    recall  f1-score   support\n",
      "\n",
      "           Yes       0.66      0.68      0.67       155\n",
      "To some extent       0.19      0.18      0.19        22\n",
      "            No       0.39      0.38      0.39        71\n",
      "\n",
      "      accuracy                           0.55       248\n",
      "     macro avg       0.42      0.41      0.41       248\n",
      "  weighted avg       0.54      0.55      0.55       248\n",
      "\n"
     ]
    },
    {
     "name": "stderr",
     "output_type": "stream",
     "text": [
      "Epoch 6/10: 100%|██████████| 1041/1041 [03:41<00:00,  4.70it/s]\n"
     ]
    },
    {
     "name": "stdout",
     "output_type": "stream",
     "text": [
      "Epoch 6 Loss: 0.6032\n",
      "Validation Accuracy: 0.5282  Validation Macro F1: 0.4275\n",
      "                precision    recall  f1-score   support\n",
      "\n",
      "           Yes       0.71      0.54      0.61       155\n",
      "To some extent       0.19      0.18      0.19        22\n",
      "            No       0.40      0.62      0.49        71\n",
      "\n",
      "      accuracy                           0.53       248\n",
      "     macro avg       0.43      0.45      0.43       248\n",
      "  weighted avg       0.57      0.53      0.54       248\n",
      "\n"
     ]
    },
    {
     "name": "stderr",
     "output_type": "stream",
     "text": [
      "Epoch 7/10: 100%|██████████| 1041/1041 [03:41<00:00,  4.69it/s]\n"
     ]
    },
    {
     "name": "stdout",
     "output_type": "stream",
     "text": [
      "Epoch 7 Loss: 0.5679\n",
      "Validation Accuracy: 0.5524  Validation Macro F1: 0.4729\n",
      "                precision    recall  f1-score   support\n",
      "\n",
      "           Yes       0.73      0.60      0.66       155\n",
      "To some extent       0.25      0.41      0.31        22\n",
      "            No       0.41      0.49      0.45        71\n",
      "\n",
      "      accuracy                           0.55       248\n",
      "     macro avg       0.46      0.50      0.47       248\n",
      "  weighted avg       0.60      0.55      0.57       248\n",
      "\n"
     ]
    },
    {
     "name": "stderr",
     "output_type": "stream",
     "text": [
      "Epoch 8/10: 100%|██████████| 1041/1041 [03:41<00:00,  4.69it/s]\n"
     ]
    },
    {
     "name": "stdout",
     "output_type": "stream",
     "text": [
      "Epoch 8 Loss: 0.5308\n",
      "Validation Accuracy: 0.5847  Validation Macro F1: 0.4294\n",
      "                precision    recall  f1-score   support\n",
      "\n",
      "           Yes       0.67      0.75      0.71       155\n",
      "To some extent       0.21      0.18      0.20        22\n",
      "            No       0.44      0.34      0.38        71\n",
      "\n",
      "      accuracy                           0.58       248\n",
      "     macro avg       0.44      0.42      0.43       248\n",
      "  weighted avg       0.56      0.58      0.57       248\n",
      "\n"
     ]
    },
    {
     "name": "stderr",
     "output_type": "stream",
     "text": [
      "Epoch 9/10: 100%|██████████| 1041/1041 [03:41<00:00,  4.70it/s]\n"
     ]
    },
    {
     "name": "stdout",
     "output_type": "stream",
     "text": [
      "Epoch 9 Loss: 0.4912\n",
      "Validation Accuracy: 0.5847  Validation Macro F1: 0.4564\n",
      "                precision    recall  f1-score   support\n",
      "\n",
      "           Yes       0.71      0.75      0.73       155\n",
      "To some extent       0.24      0.41      0.30        22\n",
      "            No       0.43      0.28      0.34        71\n",
      "\n",
      "      accuracy                           0.58       248\n",
      "     macro avg       0.46      0.48      0.46       248\n",
      "  weighted avg       0.59      0.58      0.58       248\n",
      "\n"
     ]
    },
    {
     "name": "stderr",
     "output_type": "stream",
     "text": [
      "Epoch 10/10: 100%|██████████| 1041/1041 [03:41<00:00,  4.69it/s]\n"
     ]
    },
    {
     "name": "stdout",
     "output_type": "stream",
     "text": [
      "Epoch 10 Loss: 0.4620\n",
      "Validation Accuracy: 0.5363  Validation Macro F1: 0.4354\n",
      "                precision    recall  f1-score   support\n",
      "\n",
      "           Yes       0.70      0.61      0.65       155\n",
      "To some extent       0.19      0.27      0.23        22\n",
      "            No       0.40      0.46      0.43        71\n",
      "\n",
      "      accuracy                           0.54       248\n",
      "     macro avg       0.43      0.45      0.44       248\n",
      "  weighted avg       0.57      0.54      0.55       248\n",
      "\n"
     ]
    }
   ],
   "source": [
    "# ---------- Run ----------\n",
    "json_path =\"/kaggle/input/nlp-assg3/assignment_3_ai_tutors_dataset.json\"\n",
    "train_dataset, val_dataset, tokenizer, df = preprocess_dataset(json_path, \"Mistake_Location_label\", mode = 'balanced')\n",
    "train_loader = DataLoader(train_dataset, batch_size=4, shuffle=True)\n",
    "val_loader = DataLoader(val_dataset, batch_size=4)\n",
    "train_model(\"ce\", train_loader, val_loader, num_labels=3)"
   ]
  },
  {
   "cell_type": "code",
   "execution_count": 18,
   "id": "e28e4cbe",
   "metadata": {
    "execution": {
     "iopub.execute_input": "2025-04-27T14:15:38.604366Z",
     "iopub.status.busy": "2025-04-27T14:15:38.604095Z",
     "iopub.status.idle": "2025-04-27T14:50:01.226013Z",
     "shell.execute_reply": "2025-04-27T14:50:01.225248Z"
    },
    "papermill": {
     "duration": 2063.598069,
     "end_time": "2025-04-27T14:50:01.227479",
     "exception": false,
     "start_time": "2025-04-27T14:15:37.629410",
     "status": "completed"
    },
    "tags": []
   },
   "outputs": [
    {
     "name": "stdout",
     "output_type": "stream",
     "text": [
      "\n",
      " Training with: CE Loss\n",
      "\n"
     ]
    },
    {
     "name": "stderr",
     "output_type": "stream",
     "text": [
      "Epoch 1/10: 100%|██████████| 950/950 [03:22<00:00,  4.69it/s]\n"
     ]
    },
    {
     "name": "stdout",
     "output_type": "stream",
     "text": [
      "Epoch 1 Loss: 0.9701\n",
      "Validation Accuracy: 0.5323  Validation Macro F1: 0.4456\n",
      "                precision    recall  f1-score   support\n",
      "\n",
      "           Yes       0.62      0.68      0.65       141\n",
      "To some extent       0.32      0.52      0.39        50\n",
      "            No       0.91      0.18      0.29        57\n",
      "\n",
      "      accuracy                           0.53       248\n",
      "     macro avg       0.62      0.46      0.45       248\n",
      "  weighted avg       0.63      0.53      0.52       248\n",
      "\n"
     ]
    },
    {
     "name": "stderr",
     "output_type": "stream",
     "text": [
      "Epoch 2/10: 100%|██████████| 950/950 [03:22<00:00,  4.70it/s]\n"
     ]
    },
    {
     "name": "stdout",
     "output_type": "stream",
     "text": [
      "Epoch 2 Loss: 0.8646\n",
      "Validation Accuracy: 0.5927  Validation Macro F1: 0.4021\n",
      "                precision    recall  f1-score   support\n",
      "\n",
      "           Yes       0.60      0.92      0.73       141\n",
      "To some extent       0.31      0.10      0.15        50\n",
      "            No       0.71      0.21      0.32        57\n",
      "\n",
      "      accuracy                           0.59       248\n",
      "     macro avg       0.54      0.41      0.40       248\n",
      "  weighted avg       0.57      0.59      0.52       248\n",
      "\n"
     ]
    },
    {
     "name": "stderr",
     "output_type": "stream",
     "text": [
      "Epoch 3/10: 100%|██████████| 950/950 [03:22<00:00,  4.70it/s]\n"
     ]
    },
    {
     "name": "stdout",
     "output_type": "stream",
     "text": [
      "Epoch 3 Loss: 0.8074\n",
      "Validation Accuracy: 0.6331  Validation Macro F1: 0.5237\n",
      "                precision    recall  f1-score   support\n",
      "\n",
      "           Yes       0.66      0.86      0.75       141\n",
      "To some extent       0.48      0.44      0.46        50\n",
      "            No       0.70      0.25      0.36        57\n",
      "\n",
      "      accuracy                           0.63       248\n",
      "     macro avg       0.61      0.51      0.52       248\n",
      "  weighted avg       0.64      0.63      0.60       248\n",
      "\n"
     ]
    },
    {
     "name": "stderr",
     "output_type": "stream",
     "text": [
      "Epoch 4/10: 100%|██████████| 950/950 [03:22<00:00,  4.70it/s]\n"
     ]
    },
    {
     "name": "stdout",
     "output_type": "stream",
     "text": [
      "Epoch 4 Loss: 0.7660\n",
      "Validation Accuracy: 0.5766  Validation Macro F1: 0.5002\n",
      "                precision    recall  f1-score   support\n",
      "\n",
      "           Yes       0.65      0.73      0.69       141\n",
      "To some extent       0.40      0.42      0.41        50\n",
      "            No       0.50      0.33      0.40        57\n",
      "\n",
      "      accuracy                           0.58       248\n",
      "     macro avg       0.52      0.49      0.50       248\n",
      "  weighted avg       0.57      0.58      0.57       248\n",
      "\n"
     ]
    },
    {
     "name": "stderr",
     "output_type": "stream",
     "text": [
      "Epoch 5/10: 100%|██████████| 950/950 [03:22<00:00,  4.70it/s]\n"
     ]
    },
    {
     "name": "stdout",
     "output_type": "stream",
     "text": [
      "Epoch 5 Loss: 0.7329\n",
      "Validation Accuracy: 0.5524  Validation Macro F1: 0.4725\n",
      "                precision    recall  f1-score   support\n",
      "\n",
      "           Yes       0.64      0.71      0.67       141\n",
      "To some extent       0.39      0.34      0.36        50\n",
      "            No       0.43      0.35      0.38        57\n",
      "\n",
      "      accuracy                           0.55       248\n",
      "     macro avg       0.48      0.47      0.47       248\n",
      "  weighted avg       0.54      0.55      0.54       248\n",
      "\n"
     ]
    },
    {
     "name": "stderr",
     "output_type": "stream",
     "text": [
      "Epoch 6/10: 100%|██████████| 950/950 [03:22<00:00,  4.70it/s]\n"
     ]
    },
    {
     "name": "stdout",
     "output_type": "stream",
     "text": [
      "Epoch 6 Loss: 0.7131\n",
      "Validation Accuracy: 0.5605  Validation Macro F1: 0.4674\n",
      "                precision    recall  f1-score   support\n",
      "\n",
      "           Yes       0.64      0.74      0.69       141\n",
      "To some extent       0.32      0.30      0.31        50\n",
      "            No       0.51      0.33      0.40        57\n",
      "\n",
      "      accuracy                           0.56       248\n",
      "     macro avg       0.49      0.46      0.47       248\n",
      "  weighted avg       0.55      0.56      0.55       248\n",
      "\n"
     ]
    },
    {
     "name": "stderr",
     "output_type": "stream",
     "text": [
      "Epoch 7/10: 100%|██████████| 950/950 [03:22<00:00,  4.70it/s]\n"
     ]
    },
    {
     "name": "stdout",
     "output_type": "stream",
     "text": [
      "Epoch 7 Loss: 0.7054\n",
      "Validation Accuracy: 0.5766  Validation Macro F1: 0.4809\n",
      "                precision    recall  f1-score   support\n",
      "\n",
      "           Yes       0.65      0.76      0.70       141\n",
      "To some extent       0.35      0.26      0.30        50\n",
      "            No       0.49      0.40      0.44        57\n",
      "\n",
      "      accuracy                           0.58       248\n",
      "     macro avg       0.50      0.47      0.48       248\n",
      "  weighted avg       0.55      0.58      0.56       248\n",
      "\n"
     ]
    },
    {
     "name": "stderr",
     "output_type": "stream",
     "text": [
      "Epoch 8/10: 100%|██████████| 950/950 [03:22<00:00,  4.70it/s]\n"
     ]
    },
    {
     "name": "stdout",
     "output_type": "stream",
     "text": [
      "Epoch 8 Loss: 0.6732\n",
      "Validation Accuracy: 0.5565  Validation Macro F1: 0.4787\n",
      "                precision    recall  f1-score   support\n",
      "\n",
      "           Yes       0.64      0.71      0.67       141\n",
      "To some extent       0.35      0.34      0.35        50\n",
      "            No       0.48      0.37      0.42        57\n",
      "\n",
      "      accuracy                           0.56       248\n",
      "     macro avg       0.49      0.47      0.48       248\n",
      "  weighted avg       0.55      0.56      0.55       248\n",
      "\n"
     ]
    },
    {
     "name": "stderr",
     "output_type": "stream",
     "text": [
      "Epoch 9/10: 100%|██████████| 950/950 [03:22<00:00,  4.69it/s]\n"
     ]
    },
    {
     "name": "stdout",
     "output_type": "stream",
     "text": [
      "Epoch 9 Loss: 0.6580\n",
      "Validation Accuracy: 0.5766  Validation Macro F1: 0.4879\n",
      "                precision    recall  f1-score   support\n",
      "\n",
      "           Yes       0.65      0.75      0.70       141\n",
      "To some extent       0.31      0.28      0.29        50\n",
      "            No       0.56      0.40      0.47        57\n",
      "\n",
      "      accuracy                           0.58       248\n",
      "     macro avg       0.51      0.48      0.49       248\n",
      "  weighted avg       0.56      0.58      0.57       248\n",
      "\n"
     ]
    },
    {
     "name": "stderr",
     "output_type": "stream",
     "text": [
      "Epoch 10/10: 100%|██████████| 950/950 [03:22<00:00,  4.70it/s]\n"
     ]
    },
    {
     "name": "stdout",
     "output_type": "stream",
     "text": [
      "Epoch 10 Loss: 0.6431\n",
      "Validation Accuracy: 0.5927  Validation Macro F1: 0.5034\n",
      "                precision    recall  f1-score   support\n",
      "\n",
      "           Yes       0.66      0.77      0.71       141\n",
      "To some extent       0.40      0.32      0.36        50\n",
      "            No       0.52      0.39      0.44        57\n",
      "\n",
      "      accuracy                           0.59       248\n",
      "     macro avg       0.53      0.49      0.50       248\n",
      "  weighted avg       0.57      0.59      0.58       248\n",
      "\n"
     ]
    }
   ],
   "source": [
    "# ---------- Run ----------\n",
    "json_path =\"/kaggle/input/nlp-assg3/assignment_3_ai_tutors_dataset.json\"\n",
    "train_dataset, val_dataset, tokenizer, df = preprocess_dataset(json_path, \"Pedagogical_Guidance_label\", mode = 'balanced')\n",
    "train_loader = DataLoader(train_dataset, batch_size=4, shuffle=True)\n",
    "val_loader = DataLoader(val_dataset, batch_size=4)\n",
    "train_model(\"ce\", train_loader, val_loader, num_labels=3)"
   ]
  },
  {
   "cell_type": "code",
   "execution_count": 19,
   "id": "c9e33fcf",
   "metadata": {
    "execution": {
     "iopub.execute_input": "2025-04-27T14:50:03.948806Z",
     "iopub.status.busy": "2025-04-27T14:50:03.948510Z",
     "iopub.status.idle": "2025-04-27T15:22:04.976218Z",
     "shell.execute_reply": "2025-04-27T15:22:04.975442Z"
    },
    "papermill": {
     "duration": 1922.383016,
     "end_time": "2025-04-27T15:22:04.978016",
     "exception": false,
     "start_time": "2025-04-27T14:50:02.595000",
     "status": "completed"
    },
    "tags": []
   },
   "outputs": [
    {
     "name": "stdout",
     "output_type": "stream",
     "text": [
      "\n",
      " Training with: CE Loss\n",
      "\n"
     ]
    },
    {
     "name": "stderr",
     "output_type": "stream",
     "text": [
      "Epoch 1/10: 100%|██████████| 885/885 [03:08<00:00,  4.70it/s]\n"
     ]
    },
    {
     "name": "stdout",
     "output_type": "stream",
     "text": [
      "Epoch 1 Loss: 0.9438\n",
      "Validation Accuracy: 0.5282  Validation Macro F1: 0.2304\n",
      "                precision    recall  f1-score   support\n",
      "\n",
      "           Yes       0.53      1.00      0.69       131\n",
      "To some extent       0.00      0.00      0.00        37\n",
      "            No       0.00      0.00      0.00        80\n",
      "\n",
      "      accuracy                           0.53       248\n",
      "     macro avg       0.18      0.33      0.23       248\n",
      "  weighted avg       0.28      0.53      0.37       248\n",
      "\n"
     ]
    },
    {
     "name": "stderr",
     "output_type": "stream",
     "text": [
      "Epoch 2/10: 100%|██████████| 885/885 [03:07<00:00,  4.71it/s]\n"
     ]
    },
    {
     "name": "stdout",
     "output_type": "stream",
     "text": [
      "Epoch 2 Loss: 0.9232\n",
      "Validation Accuracy: 0.5605  Validation Macro F1: 0.2966\n",
      "                precision    recall  f1-score   support\n",
      "\n",
      "           Yes       0.55      1.00      0.71       131\n",
      "To some extent       0.00      0.00      0.00        37\n",
      "            No       0.89      0.10      0.18        80\n",
      "\n",
      "      accuracy                           0.56       248\n",
      "     macro avg       0.48      0.37      0.30       248\n",
      "  weighted avg       0.58      0.56      0.43       248\n",
      "\n"
     ]
    },
    {
     "name": "stderr",
     "output_type": "stream",
     "text": [
      "Epoch 3/10: 100%|██████████| 885/885 [03:07<00:00,  4.71it/s]\n"
     ]
    },
    {
     "name": "stdout",
     "output_type": "stream",
     "text": [
      "Epoch 3 Loss: 0.9153\n",
      "Validation Accuracy: 0.5444  Validation Macro F1: 0.3170\n",
      "                precision    recall  f1-score   support\n",
      "\n",
      "           Yes       0.55      0.92      0.69       131\n",
      "To some extent       0.00      0.00      0.00        37\n",
      "            No       0.52      0.17      0.26        80\n",
      "\n",
      "      accuracy                           0.54       248\n",
      "     macro avg       0.36      0.37      0.32       248\n",
      "  weighted avg       0.46      0.54      0.45       248\n",
      "\n"
     ]
    },
    {
     "name": "stderr",
     "output_type": "stream",
     "text": [
      "Epoch 4/10: 100%|██████████| 885/885 [03:07<00:00,  4.71it/s]\n"
     ]
    },
    {
     "name": "stdout",
     "output_type": "stream",
     "text": [
      "Epoch 4 Loss: 0.9093\n",
      "Validation Accuracy: 0.5685  Validation Macro F1: 0.3209\n",
      "                precision    recall  f1-score   support\n",
      "\n",
      "           Yes       0.56      0.98      0.71       131\n",
      "To some extent       0.00      0.00      0.00        37\n",
      "            No       0.75      0.15      0.25        80\n",
      "\n",
      "      accuracy                           0.57       248\n",
      "     macro avg       0.44      0.38      0.32       248\n",
      "  weighted avg       0.54      0.57      0.46       248\n",
      "\n"
     ]
    },
    {
     "name": "stderr",
     "output_type": "stream",
     "text": [
      "Epoch 5/10: 100%|██████████| 885/885 [03:08<00:00,  4.71it/s]\n"
     ]
    },
    {
     "name": "stdout",
     "output_type": "stream",
     "text": [
      "Epoch 5 Loss: 0.9013\n",
      "Validation Accuracy: 0.6129  Validation Macro F1: 0.4150\n",
      "                precision    recall  f1-score   support\n",
      "\n",
      "           Yes       0.59      0.95      0.73       131\n",
      "To some extent       0.33      0.03      0.05        37\n",
      "            No       0.75      0.34      0.47        80\n",
      "\n",
      "      accuracy                           0.61       248\n",
      "     macro avg       0.56      0.44      0.41       248\n",
      "  weighted avg       0.61      0.61      0.54       248\n",
      "\n"
     ]
    },
    {
     "name": "stderr",
     "output_type": "stream",
     "text": [
      "Epoch 6/10: 100%|██████████| 885/885 [03:07<00:00,  4.71it/s]\n"
     ]
    },
    {
     "name": "stdout",
     "output_type": "stream",
     "text": [
      "Epoch 6 Loss: 0.8509\n",
      "Validation Accuracy: 0.6290  Validation Macro F1: 0.4632\n",
      "                precision    recall  f1-score   support\n",
      "\n",
      "           Yes       0.61      0.95      0.75       131\n",
      "To some extent       0.50      0.11      0.18        37\n",
      "            No       0.75      0.34      0.47        80\n",
      "\n",
      "      accuracy                           0.63       248\n",
      "     macro avg       0.62      0.47      0.46       248\n",
      "  weighted avg       0.64      0.63      0.57       248\n",
      "\n"
     ]
    },
    {
     "name": "stderr",
     "output_type": "stream",
     "text": [
      "Epoch 7/10: 100%|██████████| 885/885 [03:08<00:00,  4.70it/s]\n"
     ]
    },
    {
     "name": "stdout",
     "output_type": "stream",
     "text": [
      "Epoch 7 Loss: 0.8410\n",
      "Validation Accuracy: 0.5887  Validation Macro F1: 0.3443\n",
      "                precision    recall  f1-score   support\n",
      "\n",
      "           Yes       0.57      1.00      0.73       131\n",
      "To some extent       0.00      0.00      0.00        37\n",
      "            No       0.79      0.19      0.30        80\n",
      "\n",
      "      accuracy                           0.59       248\n",
      "     macro avg       0.45      0.40      0.34       248\n",
      "  weighted avg       0.56      0.59      0.48       248\n",
      "\n"
     ]
    },
    {
     "name": "stderr",
     "output_type": "stream",
     "text": [
      "Epoch 8/10: 100%|██████████| 885/885 [03:08<00:00,  4.70it/s]\n"
     ]
    },
    {
     "name": "stdout",
     "output_type": "stream",
     "text": [
      "Epoch 8 Loss: 0.8145\n",
      "Validation Accuracy: 0.5685  Validation Macro F1: 0.4669\n",
      "                precision    recall  f1-score   support\n",
      "\n",
      "           Yes       0.61      0.80      0.69       131\n",
      "To some extent       0.29      0.27      0.28        37\n",
      "            No       0.63      0.33      0.43        80\n",
      "\n",
      "      accuracy                           0.57       248\n",
      "     macro avg       0.51      0.47      0.47       248\n",
      "  weighted avg       0.57      0.57      0.55       248\n",
      "\n"
     ]
    },
    {
     "name": "stderr",
     "output_type": "stream",
     "text": [
      "Epoch 9/10: 100%|██████████| 885/885 [03:08<00:00,  4.71it/s]\n"
     ]
    },
    {
     "name": "stdout",
     "output_type": "stream",
     "text": [
      "Epoch 9 Loss: 0.7972\n",
      "Validation Accuracy: 0.6169  Validation Macro F1: 0.5032\n",
      "                precision    recall  f1-score   support\n",
      "\n",
      "           Yes       0.64      0.88      0.74       131\n",
      "To some extent       0.45      0.24      0.32        37\n",
      "            No       0.62      0.36      0.46        80\n",
      "\n",
      "      accuracy                           0.62       248\n",
      "     macro avg       0.57      0.49      0.50       248\n",
      "  weighted avg       0.60      0.62      0.58       248\n",
      "\n"
     ]
    },
    {
     "name": "stderr",
     "output_type": "stream",
     "text": [
      "Epoch 10/10: 100%|██████████| 885/885 [03:08<00:00,  4.71it/s]\n"
     ]
    },
    {
     "name": "stdout",
     "output_type": "stream",
     "text": [
      "Epoch 10 Loss: 0.8147\n",
      "Validation Accuracy: 0.6250  Validation Macro F1: 0.5208\n",
      "                precision    recall  f1-score   support\n",
      "\n",
      "           Yes       0.62      0.91      0.73       131\n",
      "To some extent       0.45      0.35      0.39        37\n",
      "            No       0.88      0.29      0.43        80\n",
      "\n",
      "      accuracy                           0.62       248\n",
      "     macro avg       0.65      0.52      0.52       248\n",
      "  weighted avg       0.68      0.62      0.59       248\n",
      "\n"
     ]
    }
   ],
   "source": [
    "# ---------- Run ----------\n",
    "json_path =\"/kaggle/input/nlp-assg3/assignment_3_ai_tutors_dataset.json\"\n",
    "train_dataset, val_dataset, tokenizer, df = preprocess_dataset(json_path, \"Actionability_label\", mode = 'balanced')\n",
    "train_loader = DataLoader(train_dataset, batch_size=4, shuffle=True)\n",
    "val_loader = DataLoader(val_dataset, batch_size=4)\n",
    "train_model(\"ce\", train_loader, val_loader, num_labels=3)"
   ]
  }
 ],
 "metadata": {
  "kaggle": {
   "accelerator": "nvidiaTeslaT4",
   "dataSources": [
    {
     "datasetId": 7194733,
     "sourceId": 11479309,
     "sourceType": "datasetVersion"
    }
   ],
   "dockerImageVersionId": 31011,
   "isGpuEnabled": true,
   "isInternetEnabled": true,
   "language": "python",
   "sourceType": "notebook"
  },
  "kernelspec": {
   "display_name": "Python 3",
   "language": "python",
   "name": "python3"
  },
  "language_info": {
   "codemirror_mode": {
    "name": "ipython",
    "version": 3
   },
   "file_extension": ".py",
   "mimetype": "text/x-python",
   "name": "python",
   "nbconvert_exporter": "python",
   "pygments_lexer": "ipython3",
   "version": "3.11.11"
  },
  "papermill": {
   "default_parameters": {},
   "duration": 9106.284732,
   "end_time": "2025-04-27T15:22:09.507889",
   "environment_variables": {},
   "exception": null,
   "input_path": "__notebook__.ipynb",
   "output_path": "__notebook__.ipynb",
   "parameters": {},
   "start_time": "2025-04-27T12:50:23.223157",
   "version": "2.6.0"
  },
  "widgets": {
   "application/vnd.jupyter.widget-state+json": {
    "state": {
     "0168045aba49403abe1843818552d4f8": {
      "model_module": "@jupyter-widgets/controls",
      "model_module_version": "2.0.0",
      "model_name": "HTMLStyleModel",
      "state": {
       "_model_module": "@jupyter-widgets/controls",
       "_model_module_version": "2.0.0",
       "_model_name": "HTMLStyleModel",
       "_view_count": null,
       "_view_module": "@jupyter-widgets/base",
       "_view_module_version": "2.0.0",
       "_view_name": "StyleView",
       "background": null,
       "description_width": "",
       "font_size": null,
       "text_color": null
      }
     },
     "0ac70bdf1423437b9b2ae9c4eb5899ee": {
      "model_module": "@jupyter-widgets/controls",
      "model_module_version": "2.0.0",
      "model_name": "HTMLModel",
      "state": {
       "_dom_classes": [],
       "_model_module": "@jupyter-widgets/controls",
       "_model_module_version": "2.0.0",
       "_model_name": "HTMLModel",
       "_view_count": null,
       "_view_module": "@jupyter-widgets/controls",
       "_view_module_version": "2.0.0",
       "_view_name": "HTMLView",
       "description": "",
       "description_allow_html": false,
       "layout": "IPY_MODEL_bc62fa5204c446539038e00ee6dd7bdd",
       "placeholder": "​",
       "style": "IPY_MODEL_c4e972ac955741478bb0d8df8a808fc8",
       "tabbable": null,
       "tooltip": null,
       "value": " 25.0/25.0 [00:00&lt;00:00, 3.02kB/s]"
      }
     },
     "10f81713660440399d5260224189a856": {
      "model_module": "@jupyter-widgets/controls",
      "model_module_version": "2.0.0",
      "model_name": "FloatProgressModel",
      "state": {
       "_dom_classes": [],
       "_model_module": "@jupyter-widgets/controls",
       "_model_module_version": "2.0.0",
       "_model_name": "FloatProgressModel",
       "_view_count": null,
       "_view_module": "@jupyter-widgets/controls",
       "_view_module_version": "2.0.0",
       "_view_name": "ProgressView",
       "bar_style": "success",
       "description": "",
       "description_allow_html": false,
       "layout": "IPY_MODEL_db64f64525f247c38af4f6982e1dd0d4",
       "max": 456318.0,
       "min": 0.0,
       "orientation": "horizontal",
       "style": "IPY_MODEL_dea7b0c380824d94832fa35c162c0e77",
       "tabbable": null,
       "tooltip": null,
       "value": 456318.0
      }
     },
     "12e93435ad0947e69cb05d3d551f10a1": {
      "model_module": "@jupyter-widgets/controls",
      "model_module_version": "2.0.0",
      "model_name": "HTMLModel",
      "state": {
       "_dom_classes": [],
       "_model_module": "@jupyter-widgets/controls",
       "_model_module_version": "2.0.0",
       "_model_name": "HTMLModel",
       "_view_count": null,
       "_view_module": "@jupyter-widgets/controls",
       "_view_module_version": "2.0.0",
       "_view_name": "HTMLView",
       "description": "",
       "description_allow_html": false,
       "layout": "IPY_MODEL_5dfcce8ca2874be5a307422245c4e5bb",
       "placeholder": "​",
       "style": "IPY_MODEL_d3ab858c392a471e8d4df68ce2096382",
       "tabbable": null,
       "tooltip": null,
       "value": "vocab.json: 100%"
      }
     },
     "12fac9ebccbd465e92dbeb7ceca57c50": {
      "model_module": "@jupyter-widgets/controls",
      "model_module_version": "2.0.0",
      "model_name": "ProgressStyleModel",
      "state": {
       "_model_module": "@jupyter-widgets/controls",
       "_model_module_version": "2.0.0",
       "_model_name": "ProgressStyleModel",
       "_view_count": null,
       "_view_module": "@jupyter-widgets/base",
       "_view_module_version": "2.0.0",
       "_view_name": "StyleView",
       "bar_color": null,
       "description_width": ""
      }
     },
     "15094e1558af4f0e8d6d5e78a49efd36": {
      "model_module": "@jupyter-widgets/base",
      "model_module_version": "2.0.0",
      "model_name": "LayoutModel",
      "state": {
       "_model_module": "@jupyter-widgets/base",
       "_model_module_version": "2.0.0",
       "_model_name": "LayoutModel",
       "_view_count": null,
       "_view_module": "@jupyter-widgets/base",
       "_view_module_version": "2.0.0",
       "_view_name": "LayoutView",
       "align_content": null,
       "align_items": null,
       "align_self": null,
       "border_bottom": null,
       "border_left": null,
       "border_right": null,
       "border_top": null,
       "bottom": null,
       "display": null,
       "flex": null,
       "flex_flow": null,
       "grid_area": null,
       "grid_auto_columns": null,
       "grid_auto_flow": null,
       "grid_auto_rows": null,
       "grid_column": null,
       "grid_gap": null,
       "grid_row": null,
       "grid_template_areas": null,
       "grid_template_columns": null,
       "grid_template_rows": null,
       "height": null,
       "justify_content": null,
       "justify_items": null,
       "left": null,
       "margin": null,
       "max_height": null,
       "max_width": null,
       "min_height": null,
       "min_width": null,
       "object_fit": null,
       "object_position": null,
       "order": null,
       "overflow": null,
       "padding": null,
       "right": null,
       "top": null,
       "visibility": null,
       "width": null
      }
     },
     "1a3379563ffc4c3d892ec10fd0f66bb1": {
      "model_module": "@jupyter-widgets/controls",
      "model_module_version": "2.0.0",
      "model_name": "HBoxModel",
      "state": {
       "_dom_classes": [],
       "_model_module": "@jupyter-widgets/controls",
       "_model_module_version": "2.0.0",
       "_model_name": "HBoxModel",
       "_view_count": null,
       "_view_module": "@jupyter-widgets/controls",
       "_view_module_version": "2.0.0",
       "_view_name": "HBoxView",
       "box_style": "",
       "children": [
        "IPY_MODEL_65cc6e5b525b43cb9282f0523e512421",
        "IPY_MODEL_d361667b8c6241b0b1d09bce9caa87fe",
        "IPY_MODEL_a9730c6ce4d44be090216f257f8ae4fa"
       ],
       "layout": "IPY_MODEL_2c0261cbf6364f5ea920160fdee304e8",
       "tabbable": null,
       "tooltip": null
      }
     },
     "1ed77f86465046f9ae550216589b0ad2": {
      "model_module": "@jupyter-widgets/base",
      "model_module_version": "2.0.0",
      "model_name": "LayoutModel",
      "state": {
       "_model_module": "@jupyter-widgets/base",
       "_model_module_version": "2.0.0",
       "_model_name": "LayoutModel",
       "_view_count": null,
       "_view_module": "@jupyter-widgets/base",
       "_view_module_version": "2.0.0",
       "_view_name": "LayoutView",
       "align_content": null,
       "align_items": null,
       "align_self": null,
       "border_bottom": null,
       "border_left": null,
       "border_right": null,
       "border_top": null,
       "bottom": null,
       "display": null,
       "flex": null,
       "flex_flow": null,
       "grid_area": null,
       "grid_auto_columns": null,
       "grid_auto_flow": null,
       "grid_auto_rows": null,
       "grid_column": null,
       "grid_gap": null,
       "grid_row": null,
       "grid_template_areas": null,
       "grid_template_columns": null,
       "grid_template_rows": null,
       "height": null,
       "justify_content": null,
       "justify_items": null,
       "left": null,
       "margin": null,
       "max_height": null,
       "max_width": null,
       "min_height": null,
       "min_width": null,
       "object_fit": null,
       "object_position": null,
       "order": null,
       "overflow": null,
       "padding": null,
       "right": null,
       "top": null,
       "visibility": null,
       "width": null
      }
     },
     "1f85d5edad934fb8a70ce120568fc29a": {
      "model_module": "@jupyter-widgets/controls",
      "model_module_version": "2.0.0",
      "model_name": "HTMLStyleModel",
      "state": {
       "_model_module": "@jupyter-widgets/controls",
       "_model_module_version": "2.0.0",
       "_model_name": "HTMLStyleModel",
       "_view_count": null,
       "_view_module": "@jupyter-widgets/base",
       "_view_module_version": "2.0.0",
       "_view_name": "StyleView",
       "background": null,
       "description_width": "",
       "font_size": null,
       "text_color": null
      }
     },
     "2c0261cbf6364f5ea920160fdee304e8": {
      "model_module": "@jupyter-widgets/base",
      "model_module_version": "2.0.0",
      "model_name": "LayoutModel",
      "state": {
       "_model_module": "@jupyter-widgets/base",
       "_model_module_version": "2.0.0",
       "_model_name": "LayoutModel",
       "_view_count": null,
       "_view_module": "@jupyter-widgets/base",
       "_view_module_version": "2.0.0",
       "_view_name": "LayoutView",
       "align_content": null,
       "align_items": null,
       "align_self": null,
       "border_bottom": null,
       "border_left": null,
       "border_right": null,
       "border_top": null,
       "bottom": null,
       "display": null,
       "flex": null,
       "flex_flow": null,
       "grid_area": null,
       "grid_auto_columns": null,
       "grid_auto_flow": null,
       "grid_auto_rows": null,
       "grid_column": null,
       "grid_gap": null,
       "grid_row": null,
       "grid_template_areas": null,
       "grid_template_columns": null,
       "grid_template_rows": null,
       "height": null,
       "justify_content": null,
       "justify_items": null,
       "left": null,
       "margin": null,
       "max_height": null,
       "max_width": null,
       "min_height": null,
       "min_width": null,
       "object_fit": null,
       "object_position": null,
       "order": null,
       "overflow": null,
       "padding": null,
       "right": null,
       "top": null,
       "visibility": null,
       "width": null
      }
     },
     "2fe0782396c44a75952b258fdab9708f": {
      "model_module": "@jupyter-widgets/base",
      "model_module_version": "2.0.0",
      "model_name": "LayoutModel",
      "state": {
       "_model_module": "@jupyter-widgets/base",
       "_model_module_version": "2.0.0",
       "_model_name": "LayoutModel",
       "_view_count": null,
       "_view_module": "@jupyter-widgets/base",
       "_view_module_version": "2.0.0",
       "_view_name": "LayoutView",
       "align_content": null,
       "align_items": null,
       "align_self": null,
       "border_bottom": null,
       "border_left": null,
       "border_right": null,
       "border_top": null,
       "bottom": null,
       "display": null,
       "flex": null,
       "flex_flow": null,
       "grid_area": null,
       "grid_auto_columns": null,
       "grid_auto_flow": null,
       "grid_auto_rows": null,
       "grid_column": null,
       "grid_gap": null,
       "grid_row": null,
       "grid_template_areas": null,
       "grid_template_columns": null,
       "grid_template_rows": null,
       "height": null,
       "justify_content": null,
       "justify_items": null,
       "left": null,
       "margin": null,
       "max_height": null,
       "max_width": null,
       "min_height": null,
       "min_width": null,
       "object_fit": null,
       "object_position": null,
       "order": null,
       "overflow": null,
       "padding": null,
       "right": null,
       "top": null,
       "visibility": null,
       "width": null
      }
     },
     "2fe7b3b4c7a44ee3a8457b65b7e604fd": {
      "model_module": "@jupyter-widgets/base",
      "model_module_version": "2.0.0",
      "model_name": "LayoutModel",
      "state": {
       "_model_module": "@jupyter-widgets/base",
       "_model_module_version": "2.0.0",
       "_model_name": "LayoutModel",
       "_view_count": null,
       "_view_module": "@jupyter-widgets/base",
       "_view_module_version": "2.0.0",
       "_view_name": "LayoutView",
       "align_content": null,
       "align_items": null,
       "align_self": null,
       "border_bottom": null,
       "border_left": null,
       "border_right": null,
       "border_top": null,
       "bottom": null,
       "display": null,
       "flex": null,
       "flex_flow": null,
       "grid_area": null,
       "grid_auto_columns": null,
       "grid_auto_flow": null,
       "grid_auto_rows": null,
       "grid_column": null,
       "grid_gap": null,
       "grid_row": null,
       "grid_template_areas": null,
       "grid_template_columns": null,
       "grid_template_rows": null,
       "height": null,
       "justify_content": null,
       "justify_items": null,
       "left": null,
       "margin": null,
       "max_height": null,
       "max_width": null,
       "min_height": null,
       "min_width": null,
       "object_fit": null,
       "object_position": null,
       "order": null,
       "overflow": null,
       "padding": null,
       "right": null,
       "top": null,
       "visibility": null,
       "width": null
      }
     },
     "3c7afbf0040c40228154a9a32a16df48": {
      "model_module": "@jupyter-widgets/controls",
      "model_module_version": "2.0.0",
      "model_name": "FloatProgressModel",
      "state": {
       "_dom_classes": [],
       "_model_module": "@jupyter-widgets/controls",
       "_model_module_version": "2.0.0",
       "_model_name": "FloatProgressModel",
       "_view_count": null,
       "_view_module": "@jupyter-widgets/controls",
       "_view_module_version": "2.0.0",
       "_view_name": "ProgressView",
       "bar_style": "success",
       "description": "",
       "description_allow_html": false,
       "layout": "IPY_MODEL_2fe0782396c44a75952b258fdab9708f",
       "max": 1355863.0,
       "min": 0.0,
       "orientation": "horizontal",
       "style": "IPY_MODEL_c13b0afd064e444897df33c24641740c",
       "tabbable": null,
       "tooltip": null,
       "value": 1355863.0
      }
     },
     "3ca461e42bfd4ba798ce5a54f5147068": {
      "model_module": "@jupyter-widgets/controls",
      "model_module_version": "2.0.0",
      "model_name": "HTMLModel",
      "state": {
       "_dom_classes": [],
       "_model_module": "@jupyter-widgets/controls",
       "_model_module_version": "2.0.0",
       "_model_name": "HTMLModel",
       "_view_count": null,
       "_view_module": "@jupyter-widgets/controls",
       "_view_module_version": "2.0.0",
       "_view_name": "HTMLView",
       "description": "",
       "description_allow_html": false,
       "layout": "IPY_MODEL_77a96ef56c714ee7b10d434f2c75256a",
       "placeholder": "​",
       "style": "IPY_MODEL_ae0d3be09be14312b24a97db28c9f128",
       "tabbable": null,
       "tooltip": null,
       "value": " 481/481 [00:00&lt;00:00, 67.3kB/s]"
      }
     },
     "3ee48d392a414c9a88476b0497895c84": {
      "model_module": "@jupyter-widgets/base",
      "model_module_version": "2.0.0",
      "model_name": "LayoutModel",
      "state": {
       "_model_module": "@jupyter-widgets/base",
       "_model_module_version": "2.0.0",
       "_model_name": "LayoutModel",
       "_view_count": null,
       "_view_module": "@jupyter-widgets/base",
       "_view_module_version": "2.0.0",
       "_view_name": "LayoutView",
       "align_content": null,
       "align_items": null,
       "align_self": null,
       "border_bottom": null,
       "border_left": null,
       "border_right": null,
       "border_top": null,
       "bottom": null,
       "display": null,
       "flex": null,
       "flex_flow": null,
       "grid_area": null,
       "grid_auto_columns": null,
       "grid_auto_flow": null,
       "grid_auto_rows": null,
       "grid_column": null,
       "grid_gap": null,
       "grid_row": null,
       "grid_template_areas": null,
       "grid_template_columns": null,
       "grid_template_rows": null,
       "height": null,
       "justify_content": null,
       "justify_items": null,
       "left": null,
       "margin": null,
       "max_height": null,
       "max_width": null,
       "min_height": null,
       "min_width": null,
       "object_fit": null,
       "object_position": null,
       "order": null,
       "overflow": null,
       "padding": null,
       "right": null,
       "top": null,
       "visibility": null,
       "width": null
      }
     },
     "4ada84939c23403ead1d8fd0cf1e8f3c": {
      "model_module": "@jupyter-widgets/controls",
      "model_module_version": "2.0.0",
      "model_name": "HTMLModel",
      "state": {
       "_dom_classes": [],
       "_model_module": "@jupyter-widgets/controls",
       "_model_module_version": "2.0.0",
       "_model_name": "HTMLModel",
       "_view_count": null,
       "_view_module": "@jupyter-widgets/controls",
       "_view_module_version": "2.0.0",
       "_view_name": "HTMLView",
       "description": "",
       "description_allow_html": false,
       "layout": "IPY_MODEL_c86491de04d24a25a3eb589c64d73ce7",
       "placeholder": "​",
       "style": "IPY_MODEL_fffd181f3bdc43abbb2b9938a7f63872",
       "tabbable": null,
       "tooltip": null,
       "value": " 456k/456k [00:00&lt;00:00, 25.8MB/s]"
      }
     },
     "4b7d18166b484f829cad375b1460f43c": {
      "model_module": "@jupyter-widgets/controls",
      "model_module_version": "2.0.0",
      "model_name": "HTMLStyleModel",
      "state": {
       "_model_module": "@jupyter-widgets/controls",
       "_model_module_version": "2.0.0",
       "_model_name": "HTMLStyleModel",
       "_view_count": null,
       "_view_module": "@jupyter-widgets/base",
       "_view_module_version": "2.0.0",
       "_view_name": "StyleView",
       "background": null,
       "description_width": "",
       "font_size": null,
       "text_color": null
      }
     },
     "4fce26e206fa45bfae714ae0db912f92": {
      "model_module": "@jupyter-widgets/controls",
      "model_module_version": "2.0.0",
      "model_name": "FloatProgressModel",
      "state": {
       "_dom_classes": [],
       "_model_module": "@jupyter-widgets/controls",
       "_model_module_version": "2.0.0",
       "_model_name": "FloatProgressModel",
       "_view_count": null,
       "_view_module": "@jupyter-widgets/controls",
       "_view_module_version": "2.0.0",
       "_view_name": "ProgressView",
       "bar_style": "success",
       "description": "",
       "description_allow_html": false,
       "layout": "IPY_MODEL_50024b53f7374742aaf603027db81262",
       "max": 481.0,
       "min": 0.0,
       "orientation": "horizontal",
       "style": "IPY_MODEL_12fac9ebccbd465e92dbeb7ceca57c50",
       "tabbable": null,
       "tooltip": null,
       "value": 481.0
      }
     },
     "50024b53f7374742aaf603027db81262": {
      "model_module": "@jupyter-widgets/base",
      "model_module_version": "2.0.0",
      "model_name": "LayoutModel",
      "state": {
       "_model_module": "@jupyter-widgets/base",
       "_model_module_version": "2.0.0",
       "_model_name": "LayoutModel",
       "_view_count": null,
       "_view_module": "@jupyter-widgets/base",
       "_view_module_version": "2.0.0",
       "_view_name": "LayoutView",
       "align_content": null,
       "align_items": null,
       "align_self": null,
       "border_bottom": null,
       "border_left": null,
       "border_right": null,
       "border_top": null,
       "bottom": null,
       "display": null,
       "flex": null,
       "flex_flow": null,
       "grid_area": null,
       "grid_auto_columns": null,
       "grid_auto_flow": null,
       "grid_auto_rows": null,
       "grid_column": null,
       "grid_gap": null,
       "grid_row": null,
       "grid_template_areas": null,
       "grid_template_columns": null,
       "grid_template_rows": null,
       "height": null,
       "justify_content": null,
       "justify_items": null,
       "left": null,
       "margin": null,
       "max_height": null,
       "max_width": null,
       "min_height": null,
       "min_width": null,
       "object_fit": null,
       "object_position": null,
       "order": null,
       "overflow": null,
       "padding": null,
       "right": null,
       "top": null,
       "visibility": null,
       "width": null
      }
     },
     "55ed058da4a74e509c8020856c42b5e9": {
      "model_module": "@jupyter-widgets/controls",
      "model_module_version": "2.0.0",
      "model_name": "ProgressStyleModel",
      "state": {
       "_model_module": "@jupyter-widgets/controls",
       "_model_module_version": "2.0.0",
       "_model_name": "ProgressStyleModel",
       "_view_count": null,
       "_view_module": "@jupyter-widgets/base",
       "_view_module_version": "2.0.0",
       "_view_name": "StyleView",
       "bar_color": null,
       "description_width": ""
      }
     },
     "5c02a9f638f7498c919507fbb7610ec2": {
      "model_module": "@jupyter-widgets/controls",
      "model_module_version": "2.0.0",
      "model_name": "HTMLModel",
      "state": {
       "_dom_classes": [],
       "_model_module": "@jupyter-widgets/controls",
       "_model_module_version": "2.0.0",
       "_model_name": "HTMLModel",
       "_view_count": null,
       "_view_module": "@jupyter-widgets/controls",
       "_view_module_version": "2.0.0",
       "_view_name": "HTMLView",
       "description": "",
       "description_allow_html": false,
       "layout": "IPY_MODEL_97981aba054c4056a7725a9bd605e01f",
       "placeholder": "​",
       "style": "IPY_MODEL_4b7d18166b484f829cad375b1460f43c",
       "tabbable": null,
       "tooltip": null,
       "value": "tokenizer_config.json: 100%"
      }
     },
     "5dfcce8ca2874be5a307422245c4e5bb": {
      "model_module": "@jupyter-widgets/base",
      "model_module_version": "2.0.0",
      "model_name": "LayoutModel",
      "state": {
       "_model_module": "@jupyter-widgets/base",
       "_model_module_version": "2.0.0",
       "_model_name": "LayoutModel",
       "_view_count": null,
       "_view_module": "@jupyter-widgets/base",
       "_view_module_version": "2.0.0",
       "_view_name": "LayoutView",
       "align_content": null,
       "align_items": null,
       "align_self": null,
       "border_bottom": null,
       "border_left": null,
       "border_right": null,
       "border_top": null,
       "bottom": null,
       "display": null,
       "flex": null,
       "flex_flow": null,
       "grid_area": null,
       "grid_auto_columns": null,
       "grid_auto_flow": null,
       "grid_auto_rows": null,
       "grid_column": null,
       "grid_gap": null,
       "grid_row": null,
       "grid_template_areas": null,
       "grid_template_columns": null,
       "grid_template_rows": null,
       "height": null,
       "justify_content": null,
       "justify_items": null,
       "left": null,
       "margin": null,
       "max_height": null,
       "max_width": null,
       "min_height": null,
       "min_width": null,
       "object_fit": null,
       "object_position": null,
       "order": null,
       "overflow": null,
       "padding": null,
       "right": null,
       "top": null,
       "visibility": null,
       "width": null
      }
     },
     "649a4ecc8e2445cf9605199c49c02300": {
      "model_module": "@jupyter-widgets/controls",
      "model_module_version": "2.0.0",
      "model_name": "HBoxModel",
      "state": {
       "_dom_classes": [],
       "_model_module": "@jupyter-widgets/controls",
       "_model_module_version": "2.0.0",
       "_model_name": "HBoxModel",
       "_view_count": null,
       "_view_module": "@jupyter-widgets/controls",
       "_view_module_version": "2.0.0",
       "_view_name": "HBoxView",
       "box_style": "",
       "children": [
        "IPY_MODEL_ccbb169282524dbda5b38a957f511b9e",
        "IPY_MODEL_10f81713660440399d5260224189a856",
        "IPY_MODEL_4ada84939c23403ead1d8fd0cf1e8f3c"
       ],
       "layout": "IPY_MODEL_f14023dfd4e9473388b140e85488a846",
       "tabbable": null,
       "tooltip": null
      }
     },
     "656306ed53e349139cd112ded57febe1": {
      "model_module": "@jupyter-widgets/base",
      "model_module_version": "2.0.0",
      "model_name": "LayoutModel",
      "state": {
       "_model_module": "@jupyter-widgets/base",
       "_model_module_version": "2.0.0",
       "_model_name": "LayoutModel",
       "_view_count": null,
       "_view_module": "@jupyter-widgets/base",
       "_view_module_version": "2.0.0",
       "_view_name": "LayoutView",
       "align_content": null,
       "align_items": null,
       "align_self": null,
       "border_bottom": null,
       "border_left": null,
       "border_right": null,
       "border_top": null,
       "bottom": null,
       "display": null,
       "flex": null,
       "flex_flow": null,
       "grid_area": null,
       "grid_auto_columns": null,
       "grid_auto_flow": null,
       "grid_auto_rows": null,
       "grid_column": null,
       "grid_gap": null,
       "grid_row": null,
       "grid_template_areas": null,
       "grid_template_columns": null,
       "grid_template_rows": null,
       "height": null,
       "justify_content": null,
       "justify_items": null,
       "left": null,
       "margin": null,
       "max_height": null,
       "max_width": null,
       "min_height": null,
       "min_width": null,
       "object_fit": null,
       "object_position": null,
       "order": null,
       "overflow": null,
       "padding": null,
       "right": null,
       "top": null,
       "visibility": null,
       "width": null
      }
     },
     "65cc6e5b525b43cb9282f0523e512421": {
      "model_module": "@jupyter-widgets/controls",
      "model_module_version": "2.0.0",
      "model_name": "HTMLModel",
      "state": {
       "_dom_classes": [],
       "_model_module": "@jupyter-widgets/controls",
       "_model_module_version": "2.0.0",
       "_model_name": "HTMLModel",
       "_view_count": null,
       "_view_module": "@jupyter-widgets/controls",
       "_view_module_version": "2.0.0",
       "_view_name": "HTMLView",
       "description": "",
       "description_allow_html": false,
       "layout": "IPY_MODEL_ec93d98080ee479392a4640346c6551e",
       "placeholder": "​",
       "style": "IPY_MODEL_0168045aba49403abe1843818552d4f8",
       "tabbable": null,
       "tooltip": null,
       "value": "model.safetensors: 100%"
      }
     },
     "6d438af7a4144296bc3805e9858558c6": {
      "model_module": "@jupyter-widgets/controls",
      "model_module_version": "2.0.0",
      "model_name": "ProgressStyleModel",
      "state": {
       "_model_module": "@jupyter-widgets/controls",
       "_model_module_version": "2.0.0",
       "_model_name": "ProgressStyleModel",
       "_view_count": null,
       "_view_module": "@jupyter-widgets/base",
       "_view_module_version": "2.0.0",
       "_view_name": "StyleView",
       "bar_color": null,
       "description_width": ""
      }
     },
     "6e6257ec73be4080a8e9a2c7c6bd34ec": {
      "model_module": "@jupyter-widgets/controls",
      "model_module_version": "2.0.0",
      "model_name": "HTMLModel",
      "state": {
       "_dom_classes": [],
       "_model_module": "@jupyter-widgets/controls",
       "_model_module_version": "2.0.0",
       "_model_name": "HTMLModel",
       "_view_count": null,
       "_view_module": "@jupyter-widgets/controls",
       "_view_module_version": "2.0.0",
       "_view_name": "HTMLView",
       "description": "",
       "description_allow_html": false,
       "layout": "IPY_MODEL_dd250453934e41e599a710c9f2d2bbcc",
       "placeholder": "​",
       "style": "IPY_MODEL_dc2732b805b7400c982ce6f9f84ab27e",
       "tabbable": null,
       "tooltip": null,
       "value": "config.json: 100%"
      }
     },
     "720af851704c48f08c90757c98a8acdb": {
      "model_module": "@jupyter-widgets/base",
      "model_module_version": "2.0.0",
      "model_name": "LayoutModel",
      "state": {
       "_model_module": "@jupyter-widgets/base",
       "_model_module_version": "2.0.0",
       "_model_name": "LayoutModel",
       "_view_count": null,
       "_view_module": "@jupyter-widgets/base",
       "_view_module_version": "2.0.0",
       "_view_name": "LayoutView",
       "align_content": null,
       "align_items": null,
       "align_self": null,
       "border_bottom": null,
       "border_left": null,
       "border_right": null,
       "border_top": null,
       "bottom": null,
       "display": null,
       "flex": null,
       "flex_flow": null,
       "grid_area": null,
       "grid_auto_columns": null,
       "grid_auto_flow": null,
       "grid_auto_rows": null,
       "grid_column": null,
       "grid_gap": null,
       "grid_row": null,
       "grid_template_areas": null,
       "grid_template_columns": null,
       "grid_template_rows": null,
       "height": null,
       "justify_content": null,
       "justify_items": null,
       "left": null,
       "margin": null,
       "max_height": null,
       "max_width": null,
       "min_height": null,
       "min_width": null,
       "object_fit": null,
       "object_position": null,
       "order": null,
       "overflow": null,
       "padding": null,
       "right": null,
       "top": null,
       "visibility": null,
       "width": null
      }
     },
     "7263d1eddf704d8bbd2eeae53155afa8": {
      "model_module": "@jupyter-widgets/base",
      "model_module_version": "2.0.0",
      "model_name": "LayoutModel",
      "state": {
       "_model_module": "@jupyter-widgets/base",
       "_model_module_version": "2.0.0",
       "_model_name": "LayoutModel",
       "_view_count": null,
       "_view_module": "@jupyter-widgets/base",
       "_view_module_version": "2.0.0",
       "_view_name": "LayoutView",
       "align_content": null,
       "align_items": null,
       "align_self": null,
       "border_bottom": null,
       "border_left": null,
       "border_right": null,
       "border_top": null,
       "bottom": null,
       "display": null,
       "flex": null,
       "flex_flow": null,
       "grid_area": null,
       "grid_auto_columns": null,
       "grid_auto_flow": null,
       "grid_auto_rows": null,
       "grid_column": null,
       "grid_gap": null,
       "grid_row": null,
       "grid_template_areas": null,
       "grid_template_columns": null,
       "grid_template_rows": null,
       "height": null,
       "justify_content": null,
       "justify_items": null,
       "left": null,
       "margin": null,
       "max_height": null,
       "max_width": null,
       "min_height": null,
       "min_width": null,
       "object_fit": null,
       "object_position": null,
       "order": null,
       "overflow": null,
       "padding": null,
       "right": null,
       "top": null,
       "visibility": null,
       "width": null
      }
     },
     "77a96ef56c714ee7b10d434f2c75256a": {
      "model_module": "@jupyter-widgets/base",
      "model_module_version": "2.0.0",
      "model_name": "LayoutModel",
      "state": {
       "_model_module": "@jupyter-widgets/base",
       "_model_module_version": "2.0.0",
       "_model_name": "LayoutModel",
       "_view_count": null,
       "_view_module": "@jupyter-widgets/base",
       "_view_module_version": "2.0.0",
       "_view_name": "LayoutView",
       "align_content": null,
       "align_items": null,
       "align_self": null,
       "border_bottom": null,
       "border_left": null,
       "border_right": null,
       "border_top": null,
       "bottom": null,
       "display": null,
       "flex": null,
       "flex_flow": null,
       "grid_area": null,
       "grid_auto_columns": null,
       "grid_auto_flow": null,
       "grid_auto_rows": null,
       "grid_column": null,
       "grid_gap": null,
       "grid_row": null,
       "grid_template_areas": null,
       "grid_template_columns": null,
       "grid_template_rows": null,
       "height": null,
       "justify_content": null,
       "justify_items": null,
       "left": null,
       "margin": null,
       "max_height": null,
       "max_width": null,
       "min_height": null,
       "min_width": null,
       "object_fit": null,
       "object_position": null,
       "order": null,
       "overflow": null,
       "padding": null,
       "right": null,
       "top": null,
       "visibility": null,
       "width": null
      }
     },
     "7a42330d4e8c4cd6a49a86e5d6646679": {
      "model_module": "@jupyter-widgets/base",
      "model_module_version": "2.0.0",
      "model_name": "LayoutModel",
      "state": {
       "_model_module": "@jupyter-widgets/base",
       "_model_module_version": "2.0.0",
       "_model_name": "LayoutModel",
       "_view_count": null,
       "_view_module": "@jupyter-widgets/base",
       "_view_module_version": "2.0.0",
       "_view_name": "LayoutView",
       "align_content": null,
       "align_items": null,
       "align_self": null,
       "border_bottom": null,
       "border_left": null,
       "border_right": null,
       "border_top": null,
       "bottom": null,
       "display": null,
       "flex": null,
       "flex_flow": null,
       "grid_area": null,
       "grid_auto_columns": null,
       "grid_auto_flow": null,
       "grid_auto_rows": null,
       "grid_column": null,
       "grid_gap": null,
       "grid_row": null,
       "grid_template_areas": null,
       "grid_template_columns": null,
       "grid_template_rows": null,
       "height": null,
       "justify_content": null,
       "justify_items": null,
       "left": null,
       "margin": null,
       "max_height": null,
       "max_width": null,
       "min_height": null,
       "min_width": null,
       "object_fit": null,
       "object_position": null,
       "order": null,
       "overflow": null,
       "padding": null,
       "right": null,
       "top": null,
       "visibility": null,
       "width": null
      }
     },
     "7d7b7355d273403fb782195e31422b52": {
      "model_module": "@jupyter-widgets/controls",
      "model_module_version": "2.0.0",
      "model_name": "HTMLStyleModel",
      "state": {
       "_model_module": "@jupyter-widgets/controls",
       "_model_module_version": "2.0.0",
       "_model_name": "HTMLStyleModel",
       "_view_count": null,
       "_view_module": "@jupyter-widgets/base",
       "_view_module_version": "2.0.0",
       "_view_name": "StyleView",
       "background": null,
       "description_width": "",
       "font_size": null,
       "text_color": null
      }
     },
     "7ed3bd90d6c6472a9fff1c86053a540b": {
      "model_module": "@jupyter-widgets/base",
      "model_module_version": "2.0.0",
      "model_name": "LayoutModel",
      "state": {
       "_model_module": "@jupyter-widgets/base",
       "_model_module_version": "2.0.0",
       "_model_name": "LayoutModel",
       "_view_count": null,
       "_view_module": "@jupyter-widgets/base",
       "_view_module_version": "2.0.0",
       "_view_name": "LayoutView",
       "align_content": null,
       "align_items": null,
       "align_self": null,
       "border_bottom": null,
       "border_left": null,
       "border_right": null,
       "border_top": null,
       "bottom": null,
       "display": null,
       "flex": null,
       "flex_flow": null,
       "grid_area": null,
       "grid_auto_columns": null,
       "grid_auto_flow": null,
       "grid_auto_rows": null,
       "grid_column": null,
       "grid_gap": null,
       "grid_row": null,
       "grid_template_areas": null,
       "grid_template_columns": null,
       "grid_template_rows": null,
       "height": null,
       "justify_content": null,
       "justify_items": null,
       "left": null,
       "margin": null,
       "max_height": null,
       "max_width": null,
       "min_height": null,
       "min_width": null,
       "object_fit": null,
       "object_position": null,
       "order": null,
       "overflow": null,
       "padding": null,
       "right": null,
       "top": null,
       "visibility": null,
       "width": null
      }
     },
     "85cbb2e6e4b94adf9983b7117b51f9a8": {
      "model_module": "@jupyter-widgets/controls",
      "model_module_version": "2.0.0",
      "model_name": "HBoxModel",
      "state": {
       "_dom_classes": [],
       "_model_module": "@jupyter-widgets/controls",
       "_model_module_version": "2.0.0",
       "_model_name": "HBoxModel",
       "_view_count": null,
       "_view_module": "@jupyter-widgets/controls",
       "_view_module_version": "2.0.0",
       "_view_name": "HBoxView",
       "box_style": "",
       "children": [
        "IPY_MODEL_5c02a9f638f7498c919507fbb7610ec2",
        "IPY_MODEL_bf62a33bde5045edaf8a5361ffa3b11e",
        "IPY_MODEL_0ac70bdf1423437b9b2ae9c4eb5899ee"
       ],
       "layout": "IPY_MODEL_3ee48d392a414c9a88476b0497895c84",
       "tabbable": null,
       "tooltip": null
      }
     },
     "8843222c49c444af98fa828075ece6c1": {
      "model_module": "@jupyter-widgets/controls",
      "model_module_version": "2.0.0",
      "model_name": "ProgressStyleModel",
      "state": {
       "_model_module": "@jupyter-widgets/controls",
       "_model_module_version": "2.0.0",
       "_model_name": "ProgressStyleModel",
       "_view_count": null,
       "_view_module": "@jupyter-widgets/base",
       "_view_module_version": "2.0.0",
       "_view_name": "StyleView",
       "bar_color": null,
       "description_width": ""
      }
     },
     "8fb15935c1e64cc4b8fda1d021e3e5be": {
      "model_module": "@jupyter-widgets/base",
      "model_module_version": "2.0.0",
      "model_name": "LayoutModel",
      "state": {
       "_model_module": "@jupyter-widgets/base",
       "_model_module_version": "2.0.0",
       "_model_name": "LayoutModel",
       "_view_count": null,
       "_view_module": "@jupyter-widgets/base",
       "_view_module_version": "2.0.0",
       "_view_name": "LayoutView",
       "align_content": null,
       "align_items": null,
       "align_self": null,
       "border_bottom": null,
       "border_left": null,
       "border_right": null,
       "border_top": null,
       "bottom": null,
       "display": null,
       "flex": null,
       "flex_flow": null,
       "grid_area": null,
       "grid_auto_columns": null,
       "grid_auto_flow": null,
       "grid_auto_rows": null,
       "grid_column": null,
       "grid_gap": null,
       "grid_row": null,
       "grid_template_areas": null,
       "grid_template_columns": null,
       "grid_template_rows": null,
       "height": null,
       "justify_content": null,
       "justify_items": null,
       "left": null,
       "margin": null,
       "max_height": null,
       "max_width": null,
       "min_height": null,
       "min_width": null,
       "object_fit": null,
       "object_position": null,
       "order": null,
       "overflow": null,
       "padding": null,
       "right": null,
       "top": null,
       "visibility": null,
       "width": null
      }
     },
     "97981aba054c4056a7725a9bd605e01f": {
      "model_module": "@jupyter-widgets/base",
      "model_module_version": "2.0.0",
      "model_name": "LayoutModel",
      "state": {
       "_model_module": "@jupyter-widgets/base",
       "_model_module_version": "2.0.0",
       "_model_name": "LayoutModel",
       "_view_count": null,
       "_view_module": "@jupyter-widgets/base",
       "_view_module_version": "2.0.0",
       "_view_name": "LayoutView",
       "align_content": null,
       "align_items": null,
       "align_self": null,
       "border_bottom": null,
       "border_left": null,
       "border_right": null,
       "border_top": null,
       "bottom": null,
       "display": null,
       "flex": null,
       "flex_flow": null,
       "grid_area": null,
       "grid_auto_columns": null,
       "grid_auto_flow": null,
       "grid_auto_rows": null,
       "grid_column": null,
       "grid_gap": null,
       "grid_row": null,
       "grid_template_areas": null,
       "grid_template_columns": null,
       "grid_template_rows": null,
       "height": null,
       "justify_content": null,
       "justify_items": null,
       "left": null,
       "margin": null,
       "max_height": null,
       "max_width": null,
       "min_height": null,
       "min_width": null,
       "object_fit": null,
       "object_position": null,
       "order": null,
       "overflow": null,
       "padding": null,
       "right": null,
       "top": null,
       "visibility": null,
       "width": null
      }
     },
     "99c4a106f333478fa98395f65082a998": {
      "model_module": "@jupyter-widgets/controls",
      "model_module_version": "2.0.0",
      "model_name": "HBoxModel",
      "state": {
       "_dom_classes": [],
       "_model_module": "@jupyter-widgets/controls",
       "_model_module_version": "2.0.0",
       "_model_name": "HBoxModel",
       "_view_count": null,
       "_view_module": "@jupyter-widgets/controls",
       "_view_module_version": "2.0.0",
       "_view_name": "HBoxView",
       "box_style": "",
       "children": [
        "IPY_MODEL_6e6257ec73be4080a8e9a2c7c6bd34ec",
        "IPY_MODEL_4fce26e206fa45bfae714ae0db912f92",
        "IPY_MODEL_3ca461e42bfd4ba798ce5a54f5147068"
       ],
       "layout": "IPY_MODEL_15094e1558af4f0e8d6d5e78a49efd36",
       "tabbable": null,
       "tooltip": null
      }
     },
     "a32738646a434e9b825b1e4a9d7cfb2a": {
      "model_module": "@jupyter-widgets/controls",
      "model_module_version": "2.0.0",
      "model_name": "HTMLModel",
      "state": {
       "_dom_classes": [],
       "_model_module": "@jupyter-widgets/controls",
       "_model_module_version": "2.0.0",
       "_model_name": "HTMLModel",
       "_view_count": null,
       "_view_module": "@jupyter-widgets/controls",
       "_view_module_version": "2.0.0",
       "_view_name": "HTMLView",
       "description": "",
       "description_allow_html": false,
       "layout": "IPY_MODEL_656306ed53e349139cd112ded57febe1",
       "placeholder": "​",
       "style": "IPY_MODEL_a35dbc7ef05a4a4fa848a66cd5ece664",
       "tabbable": null,
       "tooltip": null,
       "value": "tokenizer.json: 100%"
      }
     },
     "a35dbc7ef05a4a4fa848a66cd5ece664": {
      "model_module": "@jupyter-widgets/controls",
      "model_module_version": "2.0.0",
      "model_name": "HTMLStyleModel",
      "state": {
       "_model_module": "@jupyter-widgets/controls",
       "_model_module_version": "2.0.0",
       "_model_name": "HTMLStyleModel",
       "_view_count": null,
       "_view_module": "@jupyter-widgets/base",
       "_view_module_version": "2.0.0",
       "_view_name": "StyleView",
       "background": null,
       "description_width": "",
       "font_size": null,
       "text_color": null
      }
     },
     "a7edcc429f844bf3aa136f9b220cf304": {
      "model_module": "@jupyter-widgets/base",
      "model_module_version": "2.0.0",
      "model_name": "LayoutModel",
      "state": {
       "_model_module": "@jupyter-widgets/base",
       "_model_module_version": "2.0.0",
       "_model_name": "LayoutModel",
       "_view_count": null,
       "_view_module": "@jupyter-widgets/base",
       "_view_module_version": "2.0.0",
       "_view_name": "LayoutView",
       "align_content": null,
       "align_items": null,
       "align_self": null,
       "border_bottom": null,
       "border_left": null,
       "border_right": null,
       "border_top": null,
       "bottom": null,
       "display": null,
       "flex": null,
       "flex_flow": null,
       "grid_area": null,
       "grid_auto_columns": null,
       "grid_auto_flow": null,
       "grid_auto_rows": null,
       "grid_column": null,
       "grid_gap": null,
       "grid_row": null,
       "grid_template_areas": null,
       "grid_template_columns": null,
       "grid_template_rows": null,
       "height": null,
       "justify_content": null,
       "justify_items": null,
       "left": null,
       "margin": null,
       "max_height": null,
       "max_width": null,
       "min_height": null,
       "min_width": null,
       "object_fit": null,
       "object_position": null,
       "order": null,
       "overflow": null,
       "padding": null,
       "right": null,
       "top": null,
       "visibility": null,
       "width": null
      }
     },
     "a9730c6ce4d44be090216f257f8ae4fa": {
      "model_module": "@jupyter-widgets/controls",
      "model_module_version": "2.0.0",
      "model_name": "HTMLModel",
      "state": {
       "_dom_classes": [],
       "_model_module": "@jupyter-widgets/controls",
       "_model_module_version": "2.0.0",
       "_model_name": "HTMLModel",
       "_view_count": null,
       "_view_module": "@jupyter-widgets/controls",
       "_view_module_version": "2.0.0",
       "_view_name": "HTMLView",
       "description": "",
       "description_allow_html": false,
       "layout": "IPY_MODEL_f38c03432ad44e91932dd5037a912526",
       "placeholder": "​",
       "style": "IPY_MODEL_e14c4d66d73f44d98c6d61231488e26f",
       "tabbable": null,
       "tooltip": null,
       "value": " 499M/499M [00:01&lt;00:00, 349MB/s]"
      }
     },
     "ad304ab5a05f4fcaadc1334dfae4da1f": {
      "model_module": "@jupyter-widgets/controls",
      "model_module_version": "2.0.0",
      "model_name": "HTMLStyleModel",
      "state": {
       "_model_module": "@jupyter-widgets/controls",
       "_model_module_version": "2.0.0",
       "_model_name": "HTMLStyleModel",
       "_view_count": null,
       "_view_module": "@jupyter-widgets/base",
       "_view_module_version": "2.0.0",
       "_view_name": "StyleView",
       "background": null,
       "description_width": "",
       "font_size": null,
       "text_color": null
      }
     },
     "ae0d3be09be14312b24a97db28c9f128": {
      "model_module": "@jupyter-widgets/controls",
      "model_module_version": "2.0.0",
      "model_name": "HTMLStyleModel",
      "state": {
       "_model_module": "@jupyter-widgets/controls",
       "_model_module_version": "2.0.0",
       "_model_name": "HTMLStyleModel",
       "_view_count": null,
       "_view_module": "@jupyter-widgets/base",
       "_view_module_version": "2.0.0",
       "_view_name": "StyleView",
       "background": null,
       "description_width": "",
       "font_size": null,
       "text_color": null
      }
     },
     "bc62fa5204c446539038e00ee6dd7bdd": {
      "model_module": "@jupyter-widgets/base",
      "model_module_version": "2.0.0",
      "model_name": "LayoutModel",
      "state": {
       "_model_module": "@jupyter-widgets/base",
       "_model_module_version": "2.0.0",
       "_model_name": "LayoutModel",
       "_view_count": null,
       "_view_module": "@jupyter-widgets/base",
       "_view_module_version": "2.0.0",
       "_view_name": "LayoutView",
       "align_content": null,
       "align_items": null,
       "align_self": null,
       "border_bottom": null,
       "border_left": null,
       "border_right": null,
       "border_top": null,
       "bottom": null,
       "display": null,
       "flex": null,
       "flex_flow": null,
       "grid_area": null,
       "grid_auto_columns": null,
       "grid_auto_flow": null,
       "grid_auto_rows": null,
       "grid_column": null,
       "grid_gap": null,
       "grid_row": null,
       "grid_template_areas": null,
       "grid_template_columns": null,
       "grid_template_rows": null,
       "height": null,
       "justify_content": null,
       "justify_items": null,
       "left": null,
       "margin": null,
       "max_height": null,
       "max_width": null,
       "min_height": null,
       "min_width": null,
       "object_fit": null,
       "object_position": null,
       "order": null,
       "overflow": null,
       "padding": null,
       "right": null,
       "top": null,
       "visibility": null,
       "width": null
      }
     },
     "bf62a33bde5045edaf8a5361ffa3b11e": {
      "model_module": "@jupyter-widgets/controls",
      "model_module_version": "2.0.0",
      "model_name": "FloatProgressModel",
      "state": {
       "_dom_classes": [],
       "_model_module": "@jupyter-widgets/controls",
       "_model_module_version": "2.0.0",
       "_model_name": "FloatProgressModel",
       "_view_count": null,
       "_view_module": "@jupyter-widgets/controls",
       "_view_module_version": "2.0.0",
       "_view_name": "ProgressView",
       "bar_style": "success",
       "description": "",
       "description_allow_html": false,
       "layout": "IPY_MODEL_a7edcc429f844bf3aa136f9b220cf304",
       "max": 25.0,
       "min": 0.0,
       "orientation": "horizontal",
       "style": "IPY_MODEL_8843222c49c444af98fa828075ece6c1",
       "tabbable": null,
       "tooltip": null,
       "value": 25.0
      }
     },
     "c13b0afd064e444897df33c24641740c": {
      "model_module": "@jupyter-widgets/controls",
      "model_module_version": "2.0.0",
      "model_name": "ProgressStyleModel",
      "state": {
       "_model_module": "@jupyter-widgets/controls",
       "_model_module_version": "2.0.0",
       "_model_name": "ProgressStyleModel",
       "_view_count": null,
       "_view_module": "@jupyter-widgets/base",
       "_view_module_version": "2.0.0",
       "_view_name": "StyleView",
       "bar_color": null,
       "description_width": ""
      }
     },
     "c4e972ac955741478bb0d8df8a808fc8": {
      "model_module": "@jupyter-widgets/controls",
      "model_module_version": "2.0.0",
      "model_name": "HTMLStyleModel",
      "state": {
       "_model_module": "@jupyter-widgets/controls",
       "_model_module_version": "2.0.0",
       "_model_name": "HTMLStyleModel",
       "_view_count": null,
       "_view_module": "@jupyter-widgets/base",
       "_view_module_version": "2.0.0",
       "_view_name": "StyleView",
       "background": null,
       "description_width": "",
       "font_size": null,
       "text_color": null
      }
     },
     "c69439be3b64428a9ef045b548c88592": {
      "model_module": "@jupyter-widgets/controls",
      "model_module_version": "2.0.0",
      "model_name": "HTMLModel",
      "state": {
       "_dom_classes": [],
       "_model_module": "@jupyter-widgets/controls",
       "_model_module_version": "2.0.0",
       "_model_name": "HTMLModel",
       "_view_count": null,
       "_view_module": "@jupyter-widgets/controls",
       "_view_module_version": "2.0.0",
       "_view_name": "HTMLView",
       "description": "",
       "description_allow_html": false,
       "layout": "IPY_MODEL_720af851704c48f08c90757c98a8acdb",
       "placeholder": "​",
       "style": "IPY_MODEL_ad304ab5a05f4fcaadc1334dfae4da1f",
       "tabbable": null,
       "tooltip": null,
       "value": " 899k/899k [00:00&lt;00:00, 12.6MB/s]"
      }
     },
     "c86491de04d24a25a3eb589c64d73ce7": {
      "model_module": "@jupyter-widgets/base",
      "model_module_version": "2.0.0",
      "model_name": "LayoutModel",
      "state": {
       "_model_module": "@jupyter-widgets/base",
       "_model_module_version": "2.0.0",
       "_model_name": "LayoutModel",
       "_view_count": null,
       "_view_module": "@jupyter-widgets/base",
       "_view_module_version": "2.0.0",
       "_view_name": "LayoutView",
       "align_content": null,
       "align_items": null,
       "align_self": null,
       "border_bottom": null,
       "border_left": null,
       "border_right": null,
       "border_top": null,
       "bottom": null,
       "display": null,
       "flex": null,
       "flex_flow": null,
       "grid_area": null,
       "grid_auto_columns": null,
       "grid_auto_flow": null,
       "grid_auto_rows": null,
       "grid_column": null,
       "grid_gap": null,
       "grid_row": null,
       "grid_template_areas": null,
       "grid_template_columns": null,
       "grid_template_rows": null,
       "height": null,
       "justify_content": null,
       "justify_items": null,
       "left": null,
       "margin": null,
       "max_height": null,
       "max_width": null,
       "min_height": null,
       "min_width": null,
       "object_fit": null,
       "object_position": null,
       "order": null,
       "overflow": null,
       "padding": null,
       "right": null,
       "top": null,
       "visibility": null,
       "width": null
      }
     },
     "ccbb169282524dbda5b38a957f511b9e": {
      "model_module": "@jupyter-widgets/controls",
      "model_module_version": "2.0.0",
      "model_name": "HTMLModel",
      "state": {
       "_dom_classes": [],
       "_model_module": "@jupyter-widgets/controls",
       "_model_module_version": "2.0.0",
       "_model_name": "HTMLModel",
       "_view_count": null,
       "_view_module": "@jupyter-widgets/controls",
       "_view_module_version": "2.0.0",
       "_view_name": "HTMLView",
       "description": "",
       "description_allow_html": false,
       "layout": "IPY_MODEL_2fe7b3b4c7a44ee3a8457b65b7e604fd",
       "placeholder": "​",
       "style": "IPY_MODEL_7d7b7355d273403fb782195e31422b52",
       "tabbable": null,
       "tooltip": null,
       "value": "merges.txt: 100%"
      }
     },
     "d361667b8c6241b0b1d09bce9caa87fe": {
      "model_module": "@jupyter-widgets/controls",
      "model_module_version": "2.0.0",
      "model_name": "FloatProgressModel",
      "state": {
       "_dom_classes": [],
       "_model_module": "@jupyter-widgets/controls",
       "_model_module_version": "2.0.0",
       "_model_name": "FloatProgressModel",
       "_view_count": null,
       "_view_module": "@jupyter-widgets/controls",
       "_view_module_version": "2.0.0",
       "_view_name": "ProgressView",
       "bar_style": "success",
       "description": "",
       "description_allow_html": false,
       "layout": "IPY_MODEL_7a42330d4e8c4cd6a49a86e5d6646679",
       "max": 498818054.0,
       "min": 0.0,
       "orientation": "horizontal",
       "style": "IPY_MODEL_6d438af7a4144296bc3805e9858558c6",
       "tabbable": null,
       "tooltip": null,
       "value": 498818054.0
      }
     },
     "d3ab858c392a471e8d4df68ce2096382": {
      "model_module": "@jupyter-widgets/controls",
      "model_module_version": "2.0.0",
      "model_name": "HTMLStyleModel",
      "state": {
       "_model_module": "@jupyter-widgets/controls",
       "_model_module_version": "2.0.0",
       "_model_name": "HTMLStyleModel",
       "_view_count": null,
       "_view_module": "@jupyter-widgets/base",
       "_view_module_version": "2.0.0",
       "_view_name": "StyleView",
       "background": null,
       "description_width": "",
       "font_size": null,
       "text_color": null
      }
     },
     "da93720be00f440aa30e68217fd23f6d": {
      "model_module": "@jupyter-widgets/controls",
      "model_module_version": "2.0.0",
      "model_name": "HBoxModel",
      "state": {
       "_dom_classes": [],
       "_model_module": "@jupyter-widgets/controls",
       "_model_module_version": "2.0.0",
       "_model_name": "HBoxModel",
       "_view_count": null,
       "_view_module": "@jupyter-widgets/controls",
       "_view_module_version": "2.0.0",
       "_view_name": "HBoxView",
       "box_style": "",
       "children": [
        "IPY_MODEL_12e93435ad0947e69cb05d3d551f10a1",
        "IPY_MODEL_ff4949d279564a4ab662c2cf97b032d7",
        "IPY_MODEL_c69439be3b64428a9ef045b548c88592"
       ],
       "layout": "IPY_MODEL_1ed77f86465046f9ae550216589b0ad2",
       "tabbable": null,
       "tooltip": null
      }
     },
     "db64f64525f247c38af4f6982e1dd0d4": {
      "model_module": "@jupyter-widgets/base",
      "model_module_version": "2.0.0",
      "model_name": "LayoutModel",
      "state": {
       "_model_module": "@jupyter-widgets/base",
       "_model_module_version": "2.0.0",
       "_model_name": "LayoutModel",
       "_view_count": null,
       "_view_module": "@jupyter-widgets/base",
       "_view_module_version": "2.0.0",
       "_view_name": "LayoutView",
       "align_content": null,
       "align_items": null,
       "align_self": null,
       "border_bottom": null,
       "border_left": null,
       "border_right": null,
       "border_top": null,
       "bottom": null,
       "display": null,
       "flex": null,
       "flex_flow": null,
       "grid_area": null,
       "grid_auto_columns": null,
       "grid_auto_flow": null,
       "grid_auto_rows": null,
       "grid_column": null,
       "grid_gap": null,
       "grid_row": null,
       "grid_template_areas": null,
       "grid_template_columns": null,
       "grid_template_rows": null,
       "height": null,
       "justify_content": null,
       "justify_items": null,
       "left": null,
       "margin": null,
       "max_height": null,
       "max_width": null,
       "min_height": null,
       "min_width": null,
       "object_fit": null,
       "object_position": null,
       "order": null,
       "overflow": null,
       "padding": null,
       "right": null,
       "top": null,
       "visibility": null,
       "width": null
      }
     },
     "dc2732b805b7400c982ce6f9f84ab27e": {
      "model_module": "@jupyter-widgets/controls",
      "model_module_version": "2.0.0",
      "model_name": "HTMLStyleModel",
      "state": {
       "_model_module": "@jupyter-widgets/controls",
       "_model_module_version": "2.0.0",
       "_model_name": "HTMLStyleModel",
       "_view_count": null,
       "_view_module": "@jupyter-widgets/base",
       "_view_module_version": "2.0.0",
       "_view_name": "StyleView",
       "background": null,
       "description_width": "",
       "font_size": null,
       "text_color": null
      }
     },
     "dd250453934e41e599a710c9f2d2bbcc": {
      "model_module": "@jupyter-widgets/base",
      "model_module_version": "2.0.0",
      "model_name": "LayoutModel",
      "state": {
       "_model_module": "@jupyter-widgets/base",
       "_model_module_version": "2.0.0",
       "_model_name": "LayoutModel",
       "_view_count": null,
       "_view_module": "@jupyter-widgets/base",
       "_view_module_version": "2.0.0",
       "_view_name": "LayoutView",
       "align_content": null,
       "align_items": null,
       "align_self": null,
       "border_bottom": null,
       "border_left": null,
       "border_right": null,
       "border_top": null,
       "bottom": null,
       "display": null,
       "flex": null,
       "flex_flow": null,
       "grid_area": null,
       "grid_auto_columns": null,
       "grid_auto_flow": null,
       "grid_auto_rows": null,
       "grid_column": null,
       "grid_gap": null,
       "grid_row": null,
       "grid_template_areas": null,
       "grid_template_columns": null,
       "grid_template_rows": null,
       "height": null,
       "justify_content": null,
       "justify_items": null,
       "left": null,
       "margin": null,
       "max_height": null,
       "max_width": null,
       "min_height": null,
       "min_width": null,
       "object_fit": null,
       "object_position": null,
       "order": null,
       "overflow": null,
       "padding": null,
       "right": null,
       "top": null,
       "visibility": null,
       "width": null
      }
     },
     "dea7b0c380824d94832fa35c162c0e77": {
      "model_module": "@jupyter-widgets/controls",
      "model_module_version": "2.0.0",
      "model_name": "ProgressStyleModel",
      "state": {
       "_model_module": "@jupyter-widgets/controls",
       "_model_module_version": "2.0.0",
       "_model_name": "ProgressStyleModel",
       "_view_count": null,
       "_view_module": "@jupyter-widgets/base",
       "_view_module_version": "2.0.0",
       "_view_name": "StyleView",
       "bar_color": null,
       "description_width": ""
      }
     },
     "e14c4d66d73f44d98c6d61231488e26f": {
      "model_module": "@jupyter-widgets/controls",
      "model_module_version": "2.0.0",
      "model_name": "HTMLStyleModel",
      "state": {
       "_model_module": "@jupyter-widgets/controls",
       "_model_module_version": "2.0.0",
       "_model_name": "HTMLStyleModel",
       "_view_count": null,
       "_view_module": "@jupyter-widgets/base",
       "_view_module_version": "2.0.0",
       "_view_name": "StyleView",
       "background": null,
       "description_width": "",
       "font_size": null,
       "text_color": null
      }
     },
     "e2b7e8e412e94edc8ff59da327d6b900": {
      "model_module": "@jupyter-widgets/controls",
      "model_module_version": "2.0.0",
      "model_name": "HBoxModel",
      "state": {
       "_dom_classes": [],
       "_model_module": "@jupyter-widgets/controls",
       "_model_module_version": "2.0.0",
       "_model_name": "HBoxModel",
       "_view_count": null,
       "_view_module": "@jupyter-widgets/controls",
       "_view_module_version": "2.0.0",
       "_view_name": "HBoxView",
       "box_style": "",
       "children": [
        "IPY_MODEL_a32738646a434e9b825b1e4a9d7cfb2a",
        "IPY_MODEL_3c7afbf0040c40228154a9a32a16df48",
        "IPY_MODEL_ffcb36a2e86043319effc28a44f59ad2"
       ],
       "layout": "IPY_MODEL_7ed3bd90d6c6472a9fff1c86053a540b",
       "tabbable": null,
       "tooltip": null
      }
     },
     "ec93d98080ee479392a4640346c6551e": {
      "model_module": "@jupyter-widgets/base",
      "model_module_version": "2.0.0",
      "model_name": "LayoutModel",
      "state": {
       "_model_module": "@jupyter-widgets/base",
       "_model_module_version": "2.0.0",
       "_model_name": "LayoutModel",
       "_view_count": null,
       "_view_module": "@jupyter-widgets/base",
       "_view_module_version": "2.0.0",
       "_view_name": "LayoutView",
       "align_content": null,
       "align_items": null,
       "align_self": null,
       "border_bottom": null,
       "border_left": null,
       "border_right": null,
       "border_top": null,
       "bottom": null,
       "display": null,
       "flex": null,
       "flex_flow": null,
       "grid_area": null,
       "grid_auto_columns": null,
       "grid_auto_flow": null,
       "grid_auto_rows": null,
       "grid_column": null,
       "grid_gap": null,
       "grid_row": null,
       "grid_template_areas": null,
       "grid_template_columns": null,
       "grid_template_rows": null,
       "height": null,
       "justify_content": null,
       "justify_items": null,
       "left": null,
       "margin": null,
       "max_height": null,
       "max_width": null,
       "min_height": null,
       "min_width": null,
       "object_fit": null,
       "object_position": null,
       "order": null,
       "overflow": null,
       "padding": null,
       "right": null,
       "top": null,
       "visibility": null,
       "width": null
      }
     },
     "f14023dfd4e9473388b140e85488a846": {
      "model_module": "@jupyter-widgets/base",
      "model_module_version": "2.0.0",
      "model_name": "LayoutModel",
      "state": {
       "_model_module": "@jupyter-widgets/base",
       "_model_module_version": "2.0.0",
       "_model_name": "LayoutModel",
       "_view_count": null,
       "_view_module": "@jupyter-widgets/base",
       "_view_module_version": "2.0.0",
       "_view_name": "LayoutView",
       "align_content": null,
       "align_items": null,
       "align_self": null,
       "border_bottom": null,
       "border_left": null,
       "border_right": null,
       "border_top": null,
       "bottom": null,
       "display": null,
       "flex": null,
       "flex_flow": null,
       "grid_area": null,
       "grid_auto_columns": null,
       "grid_auto_flow": null,
       "grid_auto_rows": null,
       "grid_column": null,
       "grid_gap": null,
       "grid_row": null,
       "grid_template_areas": null,
       "grid_template_columns": null,
       "grid_template_rows": null,
       "height": null,
       "justify_content": null,
       "justify_items": null,
       "left": null,
       "margin": null,
       "max_height": null,
       "max_width": null,
       "min_height": null,
       "min_width": null,
       "object_fit": null,
       "object_position": null,
       "order": null,
       "overflow": null,
       "padding": null,
       "right": null,
       "top": null,
       "visibility": null,
       "width": null
      }
     },
     "f38c03432ad44e91932dd5037a912526": {
      "model_module": "@jupyter-widgets/base",
      "model_module_version": "2.0.0",
      "model_name": "LayoutModel",
      "state": {
       "_model_module": "@jupyter-widgets/base",
       "_model_module_version": "2.0.0",
       "_model_name": "LayoutModel",
       "_view_count": null,
       "_view_module": "@jupyter-widgets/base",
       "_view_module_version": "2.0.0",
       "_view_name": "LayoutView",
       "align_content": null,
       "align_items": null,
       "align_self": null,
       "border_bottom": null,
       "border_left": null,
       "border_right": null,
       "border_top": null,
       "bottom": null,
       "display": null,
       "flex": null,
       "flex_flow": null,
       "grid_area": null,
       "grid_auto_columns": null,
       "grid_auto_flow": null,
       "grid_auto_rows": null,
       "grid_column": null,
       "grid_gap": null,
       "grid_row": null,
       "grid_template_areas": null,
       "grid_template_columns": null,
       "grid_template_rows": null,
       "height": null,
       "justify_content": null,
       "justify_items": null,
       "left": null,
       "margin": null,
       "max_height": null,
       "max_width": null,
       "min_height": null,
       "min_width": null,
       "object_fit": null,
       "object_position": null,
       "order": null,
       "overflow": null,
       "padding": null,
       "right": null,
       "top": null,
       "visibility": null,
       "width": null
      }
     },
     "ff4949d279564a4ab662c2cf97b032d7": {
      "model_module": "@jupyter-widgets/controls",
      "model_module_version": "2.0.0",
      "model_name": "FloatProgressModel",
      "state": {
       "_dom_classes": [],
       "_model_module": "@jupyter-widgets/controls",
       "_model_module_version": "2.0.0",
       "_model_name": "FloatProgressModel",
       "_view_count": null,
       "_view_module": "@jupyter-widgets/controls",
       "_view_module_version": "2.0.0",
       "_view_name": "ProgressView",
       "bar_style": "success",
       "description": "",
       "description_allow_html": false,
       "layout": "IPY_MODEL_8fb15935c1e64cc4b8fda1d021e3e5be",
       "max": 898823.0,
       "min": 0.0,
       "orientation": "horizontal",
       "style": "IPY_MODEL_55ed058da4a74e509c8020856c42b5e9",
       "tabbable": null,
       "tooltip": null,
       "value": 898823.0
      }
     },
     "ffcb36a2e86043319effc28a44f59ad2": {
      "model_module": "@jupyter-widgets/controls",
      "model_module_version": "2.0.0",
      "model_name": "HTMLModel",
      "state": {
       "_dom_classes": [],
       "_model_module": "@jupyter-widgets/controls",
       "_model_module_version": "2.0.0",
       "_model_name": "HTMLModel",
       "_view_count": null,
       "_view_module": "@jupyter-widgets/controls",
       "_view_module_version": "2.0.0",
       "_view_name": "HTMLView",
       "description": "",
       "description_allow_html": false,
       "layout": "IPY_MODEL_7263d1eddf704d8bbd2eeae53155afa8",
       "placeholder": "​",
       "style": "IPY_MODEL_1f85d5edad934fb8a70ce120568fc29a",
       "tabbable": null,
       "tooltip": null,
       "value": " 1.36M/1.36M [00:00&lt;00:00, 10.6MB/s]"
      }
     },
     "fffd181f3bdc43abbb2b9938a7f63872": {
      "model_module": "@jupyter-widgets/controls",
      "model_module_version": "2.0.0",
      "model_name": "HTMLStyleModel",
      "state": {
       "_model_module": "@jupyter-widgets/controls",
       "_model_module_version": "2.0.0",
       "_model_name": "HTMLStyleModel",
       "_view_count": null,
       "_view_module": "@jupyter-widgets/base",
       "_view_module_version": "2.0.0",
       "_view_name": "StyleView",
       "background": null,
       "description_width": "",
       "font_size": null,
       "text_color": null
      }
     }
    },
    "version_major": 2,
    "version_minor": 0
   }
  }
 },
 "nbformat": 4,
 "nbformat_minor": 5
}
