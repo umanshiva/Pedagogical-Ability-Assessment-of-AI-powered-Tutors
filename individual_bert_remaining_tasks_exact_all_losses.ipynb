{
 "cells": [
  {
   "cell_type": "code",
   "execution_count": 1,
   "id": "a63c477f",
   "metadata": {
    "execution": {
     "iopub.execute_input": "2025-04-24T18:41:37.071077Z",
     "iopub.status.busy": "2025-04-24T18:41:37.070836Z",
     "iopub.status.idle": "2025-04-24T18:41:38.460054Z",
     "shell.execute_reply": "2025-04-24T18:41:38.459191Z"
    },
    "papermill": {
     "duration": 1.394853,
     "end_time": "2025-04-24T18:41:38.461413",
     "exception": false,
     "start_time": "2025-04-24T18:41:37.066560",
     "status": "completed"
    },
    "tags": []
   },
   "outputs": [
    {
     "name": "stdout",
     "output_type": "stream",
     "text": [
      "/kaggle/input/json-data/assignment_3_ai_tutors_dataset.json\n"
     ]
    }
   ],
   "source": [
    "# This Python 3 environment comes with many helpful analytics libraries installed\n",
    "# It is defined by the kaggle/python Docker image: https://github.com/kaggle/docker-python\n",
    "# For example, here's several helpful packages to load\n",
    "\n",
    "import numpy as np # linear algebra\n",
    "import pandas as pd # data processing, CSV file I/O (e.g. pd.read_csv)\n",
    "\n",
    "# Input data files are available in the read-only \"../input/\" directory\n",
    "# For example, running this (by clicking run or pressing Shift+Enter) will list all files under the input directory\n",
    "\n",
    "import os\n",
    "for dirname, _, filenames in os.walk('/kaggle/input'):\n",
    "    for filename in filenames:\n",
    "        print(os.path.join(dirname, filename))\n",
    "\n",
    "# You can write up to 20GB to the current directory (/kaggle/working/) that gets preserved as output when you create a version using \"Save & Run All\" \n",
    "# You can also write temporary files to /kaggle/temp/, but they won't be saved outside of the current session"
   ]
  },
  {
   "cell_type": "code",
   "execution_count": 2,
   "id": "4096b599",
   "metadata": {
    "execution": {
     "iopub.execute_input": "2025-04-24T18:41:38.469502Z",
     "iopub.status.busy": "2025-04-24T18:41:38.468823Z",
     "iopub.status.idle": "2025-04-24T18:42:05.021636Z",
     "shell.execute_reply": "2025-04-24T18:42:05.021025Z"
    },
    "papermill": {
     "duration": 26.557957,
     "end_time": "2025-04-24T18:42:05.022885",
     "exception": false,
     "start_time": "2025-04-24T18:41:38.464928",
     "status": "completed"
    },
    "tags": []
   },
   "outputs": [
    {
     "name": "stderr",
     "output_type": "stream",
     "text": [
      "2025-04-24 18:41:54.253146: E external/local_xla/xla/stream_executor/cuda/cuda_fft.cc:477] Unable to register cuFFT factory: Attempting to register factory for plugin cuFFT when one has already been registered\n",
      "WARNING: All log messages before absl::InitializeLog() is called are written to STDERR\n",
      "E0000 00:00:1745520114.453637      19 cuda_dnn.cc:8310] Unable to register cuDNN factory: Attempting to register factory for plugin cuDNN when one has already been registered\n",
      "E0000 00:00:1745520114.512685      19 cuda_blas.cc:1418] Unable to register cuBLAS factory: Attempting to register factory for plugin cuBLAS when one has already been registered\n"
     ]
    }
   ],
   "source": [
    "import torch\n",
    "import torch.nn as nn\n",
    "from transformers import BertForSequenceClassification, BertTokenizer\n",
    "from sklearn.metrics import accuracy_score, f1_score, classification_report\n",
    "from torch.utils.data import DataLoader\n",
    "from tqdm import tqdm\n",
    "import pandas as pd\n",
    "import json\n",
    "from torch.utils.data import Dataset\n",
    "from sklearn.model_selection import train_test_split"
   ]
  },
  {
   "cell_type": "code",
   "execution_count": 3,
   "id": "e95e8d6c",
   "metadata": {
    "execution": {
     "iopub.execute_input": "2025-04-24T18:42:05.030064Z",
     "iopub.status.busy": "2025-04-24T18:42:05.029601Z",
     "iopub.status.idle": "2025-04-24T18:42:05.033355Z",
     "shell.execute_reply": "2025-04-24T18:42:05.032785Z"
    },
    "papermill": {
     "duration": 0.008258,
     "end_time": "2025-04-24T18:42:05.034410",
     "exception": false,
     "start_time": "2025-04-24T18:42:05.026152",
     "status": "completed"
    },
    "tags": []
   },
   "outputs": [],
   "source": [
    "device = torch.device(\"cuda\" if torch.cuda.is_available() else \"cpu\")"
   ]
  },
  {
   "cell_type": "code",
   "execution_count": 4,
   "id": "d9e35ed6",
   "metadata": {
    "execution": {
     "iopub.execute_input": "2025-04-24T18:42:05.041174Z",
     "iopub.status.busy": "2025-04-24T18:42:05.040585Z",
     "iopub.status.idle": "2025-04-24T18:42:05.045295Z",
     "shell.execute_reply": "2025-04-24T18:42:05.044705Z"
    },
    "papermill": {
     "duration": 0.00897,
     "end_time": "2025-04-24T18:42:05.046261",
     "exception": false,
     "start_time": "2025-04-24T18:42:05.037291",
     "status": "completed"
    },
    "tags": []
   },
   "outputs": [],
   "source": [
    "class FocalLossWithWeights(nn.Module):\n",
    "    def __init__(self, weight=None, gamma=2.0):\n",
    "        super(FocalLossWithWeights, self).__init__()\n",
    "        self.weight = weight\n",
    "        self.gamma = gamma\n",
    "        self.ce = nn.CrossEntropyLoss(reduction='none', weight=weight)\n",
    "\n",
    "    def forward(self, inputs, targets):\n",
    "        logp = self.ce(inputs, targets)\n",
    "        p = torch.exp(-logp)\n",
    "        loss = (1 - p) ** self.gamma * logp\n",
    "        return loss.mean()\n"
   ]
  },
  {
   "cell_type": "code",
   "execution_count": 5,
   "id": "88d59d57",
   "metadata": {
    "execution": {
     "iopub.execute_input": "2025-04-24T18:42:05.052425Z",
     "iopub.status.busy": "2025-04-24T18:42:05.052247Z",
     "iopub.status.idle": "2025-04-24T18:42:05.056436Z",
     "shell.execute_reply": "2025-04-24T18:42:05.055742Z"
    },
    "papermill": {
     "duration": 0.008466,
     "end_time": "2025-04-24T18:42:05.057520",
     "exception": false,
     "start_time": "2025-04-24T18:42:05.049054",
     "status": "completed"
    },
    "tags": []
   },
   "outputs": [],
   "source": [
    "# ---------- Dataset Definition ----------\n",
    "class TutorEvalSingleTaskDataset(Dataset):\n",
    "    def __init__(self, encodings, labels):\n",
    "        self.encodings = encodings\n",
    "        self.labels = labels\n",
    "\n",
    "    def __getitem__(self, idx):\n",
    "        return {\n",
    "            'input_ids': self.encodings['input_ids'][idx],\n",
    "            'attention_mask': self.encodings['attention_mask'][idx],\n",
    "            'labels': self.labels[idx]\n",
    "        }\n",
    "\n",
    "    def __len__(self):\n",
    "        return len(self.labels)"
   ]
  },
  {
   "cell_type": "code",
   "execution_count": 6,
   "id": "e0722393",
   "metadata": {
    "execution": {
     "iopub.execute_input": "2025-04-24T18:42:05.064131Z",
     "iopub.status.busy": "2025-04-24T18:42:05.063587Z",
     "iopub.status.idle": "2025-04-24T18:42:05.068465Z",
     "shell.execute_reply": "2025-04-24T18:42:05.067653Z"
    },
    "papermill": {
     "duration": 0.009236,
     "end_time": "2025-04-24T18:42:05.069573",
     "exception": false,
     "start_time": "2025-04-24T18:42:05.060337",
     "status": "completed"
    },
    "tags": []
   },
   "outputs": [],
   "source": [
    "# ---------- Preprocessing ----------\n",
    "def load_and_flatten(json_path):\n",
    "    with open(json_path) as f:\n",
    "        data = json.load(f)\n",
    "\n",
    "    rows = []\n",
    "    for instance in data:\n",
    "        convo_id = instance[\"conversation_id\"]\n",
    "        history = instance[\"conversation_history\"]\n",
    "        for tutor_id, tutor_data in instance[\"tutor_responses\"].items():\n",
    "            row = {\n",
    "                \"conversation_id\": convo_id,\n",
    "                \"tutor_id\": tutor_id,\n",
    "                \"conversation_history\": history,\n",
    "                \"tutor_response\": tutor_data[\"response\"],\n",
    "                \"Mistake_Identification\": tutor_data[\"annotation\"][\"Mistake_Identification\"],\n",
    "                \"Mistake_Location\": tutor_data[\"annotation\"][\"Mistake_Location\"],\n",
    "                \"Pedagogical_Guidance\": tutor_data[\"annotation\"][\"Providing_Guidance\"],\n",
    "                \"Actionability\": tutor_data[\"annotation\"][\"Actionability\"]\n",
    "            }\n",
    "            rows.append(row)\n",
    "    return pd.DataFrame(rows)"
   ]
  },
  {
   "cell_type": "code",
   "execution_count": 7,
   "id": "6135a8d3",
   "metadata": {
    "execution": {
     "iopub.execute_input": "2025-04-24T18:42:05.076174Z",
     "iopub.status.busy": "2025-04-24T18:42:05.075613Z",
     "iopub.status.idle": "2025-04-24T18:42:05.080238Z",
     "shell.execute_reply": "2025-04-24T18:42:05.079719Z"
    },
    "papermill": {
     "duration": 0.008916,
     "end_time": "2025-04-24T18:42:05.081296",
     "exception": false,
     "start_time": "2025-04-24T18:42:05.072380",
     "status": "completed"
    },
    "tags": []
   },
   "outputs": [],
   "source": [
    "def build_input_text(row):\n",
    "    return f\"Context:\\n{row['conversation_history']}\\n\\nTutor Response:\\n{row['tutor_response']}\"\n",
    "\n",
    "LABEL_MAP = {\"Yes\": 0, \"To some extent\": 1, \"No\": 2}\n",
    "MERGED_LABEL_MAP = {\"Yes\": 1, \"To some extent\": 1, \"No\": 0}\n",
    "\n",
    "def encode_labels(df):\n",
    "    for task in [\"Mistake_Identification\", \"Mistake_Location\", \"Pedagogical_Guidance\", \"Actionability\"]:\n",
    "        df[f\"{task}_label\"] = df[task].map(LABEL_MAP)\n",
    "        df[f\"{task}_binary\"] = df[task].map(MERGED_LABEL_MAP)\n",
    "    return df\n",
    "\n",
    "def tokenize_inputs(tokenizer, texts, max_length=256):\n",
    "    return tokenizer(\n",
    "        texts,\n",
    "        add_special_tokens=True,\n",
    "        truncation=True,\n",
    "        padding=True,\n",
    "        max_length=max_length,\n",
    "        return_tensors=\"pt\"\n",
    "    )"
   ]
  },
  {
   "cell_type": "code",
   "execution_count": 8,
   "id": "52e4ef5f",
   "metadata": {
    "execution": {
     "iopub.execute_input": "2025-04-24T18:42:05.087483Z",
     "iopub.status.busy": "2025-04-24T18:42:05.087282Z",
     "iopub.status.idle": "2025-04-24T18:42:05.091687Z",
     "shell.execute_reply": "2025-04-24T18:42:05.091200Z"
    },
    "papermill": {
     "duration": 0.008612,
     "end_time": "2025-04-24T18:42:05.092692",
     "exception": false,
     "start_time": "2025-04-24T18:42:05.084080",
     "status": "completed"
    },
    "tags": []
   },
   "outputs": [],
   "source": [
    "def preprocess_dataset(json_path, task_label):\n",
    "    df = load_and_flatten(json_path)\n",
    "    df[\"input_text\"] = df.apply(build_input_text, axis=1)\n",
    "    df = encode_labels(df)\n",
    "\n",
    "    train_df, val_df = train_test_split(df, test_size=0.1, stratify=df[task_label], random_state=42)\n",
    "\n",
    "    tokenizer = BertTokenizer.from_pretrained(\"bert-base-uncased\", do_lower_case=True)\n",
    "    train_enc = tokenize_inputs(tokenizer, train_df[\"input_text\"].tolist())\n",
    "    val_enc = tokenize_inputs(tokenizer, val_df[\"input_text\"].tolist())\n",
    "\n",
    "    train_labels = torch.tensor(train_df[task_label].tolist())\n",
    "    val_labels = torch.tensor(val_df[task_label].tolist())\n",
    "\n",
    "    train_dataset = TutorEvalSingleTaskDataset(train_enc, train_labels)\n",
    "    val_dataset = TutorEvalSingleTaskDataset(val_enc, val_labels)\n",
    "\n",
    "    return train_dataset, val_dataset, tokenizer, df\n"
   ]
  },
  {
   "cell_type": "code",
   "execution_count": 9,
   "id": "0e47ef92",
   "metadata": {
    "execution": {
     "iopub.execute_input": "2025-04-24T18:42:05.099101Z",
     "iopub.status.busy": "2025-04-24T18:42:05.098846Z",
     "iopub.status.idle": "2025-04-24T18:42:05.102396Z",
     "shell.execute_reply": "2025-04-24T18:42:05.101891Z"
    },
    "papermill": {
     "duration": 0.007759,
     "end_time": "2025-04-24T18:42:05.103428",
     "exception": false,
     "start_time": "2025-04-24T18:42:05.095669",
     "status": "completed"
    },
    "tags": []
   },
   "outputs": [],
   "source": [
    "from sklearn.utils.class_weight import compute_class_weight\n",
    "import numpy as np\n",
    "\n",
    "def get_class_weights(labels, num_classes):\n",
    "    class_weights = compute_class_weight(class_weight='balanced', classes=np.arange(num_classes), y=labels)\n",
    "    return torch.tensor(class_weights, dtype=torch.float).to(device)\n"
   ]
  },
  {
   "cell_type": "code",
   "execution_count": 10,
   "id": "1b6c8be0",
   "metadata": {
    "execution": {
     "iopub.execute_input": "2025-04-24T18:42:05.109892Z",
     "iopub.status.busy": "2025-04-24T18:42:05.109346Z",
     "iopub.status.idle": "2025-04-24T18:42:05.113084Z",
     "shell.execute_reply": "2025-04-24T18:42:05.112556Z"
    },
    "papermill": {
     "duration": 0.007963,
     "end_time": "2025-04-24T18:42:05.114141",
     "exception": false,
     "start_time": "2025-04-24T18:42:05.106178",
     "status": "completed"
    },
    "tags": []
   },
   "outputs": [],
   "source": [
    "# ---------- Model ----------\n",
    "class SingleTaskBertClassifier(nn.Module):\n",
    "    def __init__(self, num_labels):\n",
    "        super().__init__()\n",
    "        self.bert = BertForSequenceClassification.from_pretrained(\"bert-base-uncased\", num_labels=num_labels)\n",
    "\n",
    "    def forward(self, input_ids, attention_mask):\n",
    "        return self.bert(input_ids=input_ids, attention_mask=attention_mask).logits"
   ]
  },
  {
   "cell_type": "code",
   "execution_count": 11,
   "id": "b918c3a8",
   "metadata": {
    "execution": {
     "iopub.execute_input": "2025-04-24T18:42:05.120536Z",
     "iopub.status.busy": "2025-04-24T18:42:05.120359Z",
     "iopub.status.idle": "2025-04-24T18:42:05.127873Z",
     "shell.execute_reply": "2025-04-24T18:42:05.127412Z"
    },
    "papermill": {
     "duration": 0.011988,
     "end_time": "2025-04-24T18:42:05.128888",
     "exception": false,
     "start_time": "2025-04-24T18:42:05.116900",
     "status": "completed"
    },
    "tags": []
   },
   "outputs": [],
   "source": [
    "# ---------- Training ----------\n",
    "def evaluate_model(model, val_loader):\n",
    "    model.eval()\n",
    "    all_preds, all_labels = [], []\n",
    "    with torch.no_grad():\n",
    "        for batch in val_loader:\n",
    "            input_ids = batch['input_ids'].to(device)\n",
    "            attention_mask = batch['attention_mask'].to(device)\n",
    "            labels = batch['labels'].cpu().numpy()\n",
    "\n",
    "            outputs = model(input_ids, attention_mask)\n",
    "            preds = torch.argmax(outputs, dim=1)\n",
    "            all_preds.extend(preds.cpu().numpy())\n",
    "            all_labels.extend(labels)\n",
    "\n",
    "    acc = accuracy_score(all_labels, all_preds)\n",
    "    macro_f1 = f1_score(all_labels, all_preds, average='macro')\n",
    "    print(f\"Validation Accuracy: {acc:.4f}  Validation Macro F1: {macro_f1:.4f}\")\n",
    "    print(classification_report(all_labels, all_preds, target_names=[\"Yes\", \"To some extent\", \"No\"], zero_division=0))\n",
    "\n",
    "def train_model(loss_type, train_loader, val_loader, num_labels, epochs=15):\n",
    "    print(f\"\\n🔁 Training with: {loss_type.upper()} Loss\\n\")\n",
    "\n",
    "    model = SingleTaskBertClassifier(num_labels).to(device)\n",
    "    optimizer = torch.optim.AdamW(model.parameters(), lr=2e-5)\n",
    "\n",
    "    train_labels_list = [label.item() for batch in train_loader for label in batch['labels']]\n",
    "    class_weights = get_class_weights(train_labels_list, num_labels)\n",
    "\n",
    "    if loss_type == \"focal\":\n",
    "        criterion = FocalLossWithWeights(class_weights)\n",
    "    elif loss_type == \"smoothing\":\n",
    "        criterion = nn.CrossEntropyLoss(weight=class_weights, label_smoothing=0.1)\n",
    "    else:\n",
    "        criterion = nn.CrossEntropyLoss(weight=class_weights)\n",
    "\n",
    "\n",
    "    for epoch in range(epochs):\n",
    "        model.train()\n",
    "        total_loss = 0\n",
    "        for batch in tqdm(train_loader, desc=f\"Epoch {epoch+1}/{epochs}\"):\n",
    "            optimizer.zero_grad()\n",
    "            input_ids = batch['input_ids'].to(device)\n",
    "            attention_mask = batch['attention_mask'].to(device)\n",
    "            labels = batch['labels'].to(device)\n",
    "\n",
    "            outputs = model(input_ids, attention_mask)\n",
    "            loss = criterion(outputs, labels)\n",
    "            loss.backward()\n",
    "            optimizer.step()\n",
    "\n",
    "            total_loss += loss.item()\n",
    "\n",
    "        avg_loss = total_loss / len(train_loader)\n",
    "        print(f\"Epoch {epoch+1} Loss: {avg_loss:.4f}\")\n",
    "        evaluate_model(model, val_loader)\n",
    "\n"
   ]
  },
  {
   "cell_type": "code",
   "execution_count": 12,
   "id": "baae3748",
   "metadata": {
    "execution": {
     "iopub.execute_input": "2025-04-24T18:42:05.135059Z",
     "iopub.status.busy": "2025-04-24T18:42:05.134847Z",
     "iopub.status.idle": "2025-04-24T18:42:14.063849Z",
     "shell.execute_reply": "2025-04-24T18:42:14.063284Z"
    },
    "papermill": {
     "duration": 8.933563,
     "end_time": "2025-04-24T18:42:14.065184",
     "exception": false,
     "start_time": "2025-04-24T18:42:05.131621",
     "status": "completed"
    },
    "tags": []
   },
   "outputs": [
    {
     "data": {
      "application/vnd.jupyter.widget-view+json": {
       "model_id": "3dda392ed8ec42368f4c08a91744d506",
       "version_major": 2,
       "version_minor": 0
      },
      "text/plain": [
       "tokenizer_config.json:   0%|          | 0.00/48.0 [00:00<?, ?B/s]"
      ]
     },
     "metadata": {},
     "output_type": "display_data"
    },
    {
     "data": {
      "application/vnd.jupyter.widget-view+json": {
       "model_id": "89174c2b64c546f78c5319f63cd94a3c",
       "version_major": 2,
       "version_minor": 0
      },
      "text/plain": [
       "vocab.txt:   0%|          | 0.00/232k [00:00<?, ?B/s]"
      ]
     },
     "metadata": {},
     "output_type": "display_data"
    },
    {
     "data": {
      "application/vnd.jupyter.widget-view+json": {
       "model_id": "2bff928ca96c48a587262847625161f9",
       "version_major": 2,
       "version_minor": 0
      },
      "text/plain": [
       "tokenizer.json:   0%|          | 0.00/466k [00:00<?, ?B/s]"
      ]
     },
     "metadata": {},
     "output_type": "display_data"
    },
    {
     "data": {
      "application/vnd.jupyter.widget-view+json": {
       "model_id": "c265dfb868084d68a44ea8dd990de29c",
       "version_major": 2,
       "version_minor": 0
      },
      "text/plain": [
       "config.json:   0%|          | 0.00/570 [00:00<?, ?B/s]"
      ]
     },
     "metadata": {},
     "output_type": "display_data"
    }
   ],
   "source": [
    "# ---------- Run ----------\n",
    "json_path = \"/kaggle/input/json-data/assignment_3_ai_tutors_dataset.json\"\n",
    "train_dataset, val_dataset, tokenizer, df = preprocess_dataset(json_path, \"Mistake_Location_label\")\n",
    "train_loader = DataLoader(train_dataset, batch_size=4, shuffle=True)\n",
    "val_loader = DataLoader(val_dataset, batch_size=4)\n",
    "\n"
   ]
  },
  {
   "cell_type": "code",
   "execution_count": 13,
   "id": "38a8fb48",
   "metadata": {
    "execution": {
     "iopub.execute_input": "2025-04-24T18:42:14.072870Z",
     "iopub.status.busy": "2025-04-24T18:42:14.072477Z",
     "iopub.status.idle": "2025-04-24T18:42:14.093662Z",
     "shell.execute_reply": "2025-04-24T18:42:14.093010Z"
    },
    "papermill": {
     "duration": 0.026065,
     "end_time": "2025-04-24T18:42:14.094854",
     "exception": false,
     "start_time": "2025-04-24T18:42:14.068789",
     "status": "completed"
    },
    "tags": []
   },
   "outputs": [
    {
     "data": {
      "text/html": [
       "<div>\n",
       "<style scoped>\n",
       "    .dataframe tbody tr th:only-of-type {\n",
       "        vertical-align: middle;\n",
       "    }\n",
       "\n",
       "    .dataframe tbody tr th {\n",
       "        vertical-align: top;\n",
       "    }\n",
       "\n",
       "    .dataframe thead th {\n",
       "        text-align: right;\n",
       "    }\n",
       "</style>\n",
       "<table border=\"1\" class=\"dataframe\">\n",
       "  <thead>\n",
       "    <tr style=\"text-align: right;\">\n",
       "      <th></th>\n",
       "      <th>conversation_id</th>\n",
       "      <th>tutor_id</th>\n",
       "      <th>conversation_history</th>\n",
       "      <th>tutor_response</th>\n",
       "      <th>Mistake_Identification</th>\n",
       "      <th>Mistake_Location</th>\n",
       "      <th>Pedagogical_Guidance</th>\n",
       "      <th>Actionability</th>\n",
       "      <th>input_text</th>\n",
       "      <th>Mistake_Identification_label</th>\n",
       "      <th>Mistake_Identification_binary</th>\n",
       "      <th>Mistake_Location_label</th>\n",
       "      <th>Mistake_Location_binary</th>\n",
       "      <th>Pedagogical_Guidance_label</th>\n",
       "      <th>Pedagogical_Guidance_binary</th>\n",
       "      <th>Actionability_label</th>\n",
       "      <th>Actionability_binary</th>\n",
       "    </tr>\n",
       "  </thead>\n",
       "  <tbody>\n",
       "    <tr>\n",
       "      <th>0</th>\n",
       "      <td>221-362eb11a-f190-42a6-b2a4-985fafdcfa9e</td>\n",
       "      <td>Sonnet</td>\n",
       "      <td>Tutor: Hi, could you please provide a step-by-...</td>\n",
       "      <td>Great, you've correctly identified the cost of...</td>\n",
       "      <td>Yes</td>\n",
       "      <td>Yes</td>\n",
       "      <td>Yes</td>\n",
       "      <td>Yes</td>\n",
       "      <td>Context:\\nTutor: Hi, could you please provide ...</td>\n",
       "      <td>0</td>\n",
       "      <td>1</td>\n",
       "      <td>0</td>\n",
       "      <td>1</td>\n",
       "      <td>0</td>\n",
       "      <td>1</td>\n",
       "      <td>0</td>\n",
       "      <td>1</td>\n",
       "    </tr>\n",
       "    <tr>\n",
       "      <th>1</th>\n",
       "      <td>221-362eb11a-f190-42a6-b2a4-985fafdcfa9e</td>\n",
       "      <td>Llama318B</td>\n",
       "      <td>Tutor: Hi, could you please provide a step-by-...</td>\n",
       "      <td>Now that we know the cost of 1 pound of meat i...</td>\n",
       "      <td>Yes</td>\n",
       "      <td>To some extent</td>\n",
       "      <td>To some extent</td>\n",
       "      <td>To some extent</td>\n",
       "      <td>Context:\\nTutor: Hi, could you please provide ...</td>\n",
       "      <td>0</td>\n",
       "      <td>1</td>\n",
       "      <td>1</td>\n",
       "      <td>1</td>\n",
       "      <td>1</td>\n",
       "      <td>1</td>\n",
       "      <td>1</td>\n",
       "      <td>1</td>\n",
       "    </tr>\n",
       "    <tr>\n",
       "      <th>2</th>\n",
       "      <td>221-362eb11a-f190-42a6-b2a4-985fafdcfa9e</td>\n",
       "      <td>Llama31405B</td>\n",
       "      <td>Tutor: Hi, could you please provide a step-by-...</td>\n",
       "      <td>You're close, but I notice that you calculated...</td>\n",
       "      <td>Yes</td>\n",
       "      <td>Yes</td>\n",
       "      <td>Yes</td>\n",
       "      <td>Yes</td>\n",
       "      <td>Context:\\nTutor: Hi, could you please provide ...</td>\n",
       "      <td>0</td>\n",
       "      <td>1</td>\n",
       "      <td>0</td>\n",
       "      <td>1</td>\n",
       "      <td>0</td>\n",
       "      <td>1</td>\n",
       "      <td>0</td>\n",
       "      <td>1</td>\n",
       "    </tr>\n",
       "    <tr>\n",
       "      <th>3</th>\n",
       "      <td>221-362eb11a-f190-42a6-b2a4-985fafdcfa9e</td>\n",
       "      <td>GPT4</td>\n",
       "      <td>Tutor: Hi, could you please provide a step-by-...</td>\n",
       "      <td>That's correct. So, if 1 pound of meat costs $...</td>\n",
       "      <td>Yes</td>\n",
       "      <td>Yes</td>\n",
       "      <td>Yes</td>\n",
       "      <td>Yes</td>\n",
       "      <td>Context:\\nTutor: Hi, could you please provide ...</td>\n",
       "      <td>0</td>\n",
       "      <td>1</td>\n",
       "      <td>0</td>\n",
       "      <td>1</td>\n",
       "      <td>0</td>\n",
       "      <td>1</td>\n",
       "      <td>0</td>\n",
       "      <td>1</td>\n",
       "    </tr>\n",
       "    <tr>\n",
       "      <th>4</th>\n",
       "      <td>221-362eb11a-f190-42a6-b2a4-985fafdcfa9e</td>\n",
       "      <td>Mistral</td>\n",
       "      <td>Tutor: Hi, could you please provide a step-by-...</td>\n",
       "      <td>It seems like you've calculated the cost as if...</td>\n",
       "      <td>Yes</td>\n",
       "      <td>Yes</td>\n",
       "      <td>Yes</td>\n",
       "      <td>Yes</td>\n",
       "      <td>Context:\\nTutor: Hi, could you please provide ...</td>\n",
       "      <td>0</td>\n",
       "      <td>1</td>\n",
       "      <td>0</td>\n",
       "      <td>1</td>\n",
       "      <td>0</td>\n",
       "      <td>1</td>\n",
       "      <td>0</td>\n",
       "      <td>1</td>\n",
       "    </tr>\n",
       "    <tr>\n",
       "      <th>...</th>\n",
       "      <td>...</td>\n",
       "      <td>...</td>\n",
       "      <td>...</td>\n",
       "      <td>...</td>\n",
       "      <td>...</td>\n",
       "      <td>...</td>\n",
       "      <td>...</td>\n",
       "      <td>...</td>\n",
       "      <td>...</td>\n",
       "      <td>...</td>\n",
       "      <td>...</td>\n",
       "      <td>...</td>\n",
       "      <td>...</td>\n",
       "      <td>...</td>\n",
       "      <td>...</td>\n",
       "      <td>...</td>\n",
       "      <td>...</td>\n",
       "    </tr>\n",
       "    <tr>\n",
       "      <th>2471</th>\n",
       "      <td>5910-25617a89-a4ae-47bb-8812-d6b39fa4e691</td>\n",
       "      <td>Mistral</td>\n",
       "      <td>Tutor: Hi, could you please provide a step-by-...</td>\n",
       "      <td>It seems there might be a misunderstanding in ...</td>\n",
       "      <td>Yes</td>\n",
       "      <td>Yes</td>\n",
       "      <td>To some extent</td>\n",
       "      <td>Yes</td>\n",
       "      <td>Context:\\nTutor: Hi, could you please provide ...</td>\n",
       "      <td>0</td>\n",
       "      <td>1</td>\n",
       "      <td>0</td>\n",
       "      <td>1</td>\n",
       "      <td>1</td>\n",
       "      <td>1</td>\n",
       "      <td>0</td>\n",
       "      <td>1</td>\n",
       "    </tr>\n",
       "    <tr>\n",
       "      <th>2472</th>\n",
       "      <td>5910-25617a89-a4ae-47bb-8812-d6b39fa4e691</td>\n",
       "      <td>Phi3</td>\n",
       "      <td>Tutor: Hi, could you please provide a step-by-...</td>\n",
       "      <td>To solve this problem, we need to add the numb...</td>\n",
       "      <td>No</td>\n",
       "      <td>No</td>\n",
       "      <td>No</td>\n",
       "      <td>No</td>\n",
       "      <td>Context:\\nTutor: Hi, could you please provide ...</td>\n",
       "      <td>2</td>\n",
       "      <td>0</td>\n",
       "      <td>2</td>\n",
       "      <td>0</td>\n",
       "      <td>2</td>\n",
       "      <td>0</td>\n",
       "      <td>2</td>\n",
       "      <td>0</td>\n",
       "    </tr>\n",
       "    <tr>\n",
       "      <th>2473</th>\n",
       "      <td>5910-25617a89-a4ae-47bb-8812-d6b39fa4e691</td>\n",
       "      <td>Sonnet</td>\n",
       "      <td>Tutor: Hi, could you please provide a step-by-...</td>\n",
       "      <td>That's a great start and I like how you worked...</td>\n",
       "      <td>Yes</td>\n",
       "      <td>Yes</td>\n",
       "      <td>Yes</td>\n",
       "      <td>Yes</td>\n",
       "      <td>Context:\\nTutor: Hi, could you please provide ...</td>\n",
       "      <td>0</td>\n",
       "      <td>1</td>\n",
       "      <td>0</td>\n",
       "      <td>1</td>\n",
       "      <td>0</td>\n",
       "      <td>1</td>\n",
       "      <td>0</td>\n",
       "      <td>1</td>\n",
       "    </tr>\n",
       "    <tr>\n",
       "      <th>2474</th>\n",
       "      <td>5910-25617a89-a4ae-47bb-8812-d6b39fa4e691</td>\n",
       "      <td>Expert</td>\n",
       "      <td>Tutor: Hi, could you please provide a step-by-...</td>\n",
       "      <td>Okay. So Hector gave 5 less than four times as...</td>\n",
       "      <td>Yes</td>\n",
       "      <td>Yes</td>\n",
       "      <td>Yes</td>\n",
       "      <td>Yes</td>\n",
       "      <td>Context:\\nTutor: Hi, could you please provide ...</td>\n",
       "      <td>0</td>\n",
       "      <td>1</td>\n",
       "      <td>0</td>\n",
       "      <td>1</td>\n",
       "      <td>0</td>\n",
       "      <td>1</td>\n",
       "      <td>0</td>\n",
       "      <td>1</td>\n",
       "    </tr>\n",
       "    <tr>\n",
       "      <th>2475</th>\n",
       "      <td>5910-25617a89-a4ae-47bb-8812-d6b39fa4e691</td>\n",
       "      <td>Llama318B</td>\n",
       "      <td>Tutor: Hi, could you please provide a step-by-...</td>\n",
       "      <td>That's a good attempt, but let's examine the s...</td>\n",
       "      <td>To some extent</td>\n",
       "      <td>To some extent</td>\n",
       "      <td>Yes</td>\n",
       "      <td>Yes</td>\n",
       "      <td>Context:\\nTutor: Hi, could you please provide ...</td>\n",
       "      <td>1</td>\n",
       "      <td>1</td>\n",
       "      <td>1</td>\n",
       "      <td>1</td>\n",
       "      <td>0</td>\n",
       "      <td>1</td>\n",
       "      <td>0</td>\n",
       "      <td>1</td>\n",
       "    </tr>\n",
       "  </tbody>\n",
       "</table>\n",
       "<p>2476 rows × 17 columns</p>\n",
       "</div>"
      ],
      "text/plain": [
       "                                conversation_id     tutor_id  \\\n",
       "0      221-362eb11a-f190-42a6-b2a4-985fafdcfa9e       Sonnet   \n",
       "1      221-362eb11a-f190-42a6-b2a4-985fafdcfa9e    Llama318B   \n",
       "2      221-362eb11a-f190-42a6-b2a4-985fafdcfa9e  Llama31405B   \n",
       "3      221-362eb11a-f190-42a6-b2a4-985fafdcfa9e         GPT4   \n",
       "4      221-362eb11a-f190-42a6-b2a4-985fafdcfa9e      Mistral   \n",
       "...                                         ...          ...   \n",
       "2471  5910-25617a89-a4ae-47bb-8812-d6b39fa4e691      Mistral   \n",
       "2472  5910-25617a89-a4ae-47bb-8812-d6b39fa4e691         Phi3   \n",
       "2473  5910-25617a89-a4ae-47bb-8812-d6b39fa4e691       Sonnet   \n",
       "2474  5910-25617a89-a4ae-47bb-8812-d6b39fa4e691       Expert   \n",
       "2475  5910-25617a89-a4ae-47bb-8812-d6b39fa4e691    Llama318B   \n",
       "\n",
       "                                   conversation_history  \\\n",
       "0     Tutor: Hi, could you please provide a step-by-...   \n",
       "1     Tutor: Hi, could you please provide a step-by-...   \n",
       "2     Tutor: Hi, could you please provide a step-by-...   \n",
       "3     Tutor: Hi, could you please provide a step-by-...   \n",
       "4     Tutor: Hi, could you please provide a step-by-...   \n",
       "...                                                 ...   \n",
       "2471  Tutor: Hi, could you please provide a step-by-...   \n",
       "2472  Tutor: Hi, could you please provide a step-by-...   \n",
       "2473  Tutor: Hi, could you please provide a step-by-...   \n",
       "2474  Tutor: Hi, could you please provide a step-by-...   \n",
       "2475  Tutor: Hi, could you please provide a step-by-...   \n",
       "\n",
       "                                         tutor_response  \\\n",
       "0     Great, you've correctly identified the cost of...   \n",
       "1     Now that we know the cost of 1 pound of meat i...   \n",
       "2     You're close, but I notice that you calculated...   \n",
       "3     That's correct. So, if 1 pound of meat costs $...   \n",
       "4     It seems like you've calculated the cost as if...   \n",
       "...                                                 ...   \n",
       "2471  It seems there might be a misunderstanding in ...   \n",
       "2472  To solve this problem, we need to add the numb...   \n",
       "2473  That's a great start and I like how you worked...   \n",
       "2474  Okay. So Hector gave 5 less than four times as...   \n",
       "2475  That's a good attempt, but let's examine the s...   \n",
       "\n",
       "     Mistake_Identification Mistake_Location Pedagogical_Guidance  \\\n",
       "0                       Yes              Yes                  Yes   \n",
       "1                       Yes   To some extent       To some extent   \n",
       "2                       Yes              Yes                  Yes   \n",
       "3                       Yes              Yes                  Yes   \n",
       "4                       Yes              Yes                  Yes   \n",
       "...                     ...              ...                  ...   \n",
       "2471                    Yes              Yes       To some extent   \n",
       "2472                     No               No                   No   \n",
       "2473                    Yes              Yes                  Yes   \n",
       "2474                    Yes              Yes                  Yes   \n",
       "2475         To some extent   To some extent                  Yes   \n",
       "\n",
       "       Actionability                                         input_text  \\\n",
       "0                Yes  Context:\\nTutor: Hi, could you please provide ...   \n",
       "1     To some extent  Context:\\nTutor: Hi, could you please provide ...   \n",
       "2                Yes  Context:\\nTutor: Hi, could you please provide ...   \n",
       "3                Yes  Context:\\nTutor: Hi, could you please provide ...   \n",
       "4                Yes  Context:\\nTutor: Hi, could you please provide ...   \n",
       "...              ...                                                ...   \n",
       "2471             Yes  Context:\\nTutor: Hi, could you please provide ...   \n",
       "2472              No  Context:\\nTutor: Hi, could you please provide ...   \n",
       "2473             Yes  Context:\\nTutor: Hi, could you please provide ...   \n",
       "2474             Yes  Context:\\nTutor: Hi, could you please provide ...   \n",
       "2475             Yes  Context:\\nTutor: Hi, could you please provide ...   \n",
       "\n",
       "      Mistake_Identification_label  Mistake_Identification_binary  \\\n",
       "0                                0                              1   \n",
       "1                                0                              1   \n",
       "2                                0                              1   \n",
       "3                                0                              1   \n",
       "4                                0                              1   \n",
       "...                            ...                            ...   \n",
       "2471                             0                              1   \n",
       "2472                             2                              0   \n",
       "2473                             0                              1   \n",
       "2474                             0                              1   \n",
       "2475                             1                              1   \n",
       "\n",
       "      Mistake_Location_label  Mistake_Location_binary  \\\n",
       "0                          0                        1   \n",
       "1                          1                        1   \n",
       "2                          0                        1   \n",
       "3                          0                        1   \n",
       "4                          0                        1   \n",
       "...                      ...                      ...   \n",
       "2471                       0                        1   \n",
       "2472                       2                        0   \n",
       "2473                       0                        1   \n",
       "2474                       0                        1   \n",
       "2475                       1                        1   \n",
       "\n",
       "      Pedagogical_Guidance_label  Pedagogical_Guidance_binary  \\\n",
       "0                              0                            1   \n",
       "1                              1                            1   \n",
       "2                              0                            1   \n",
       "3                              0                            1   \n",
       "4                              0                            1   \n",
       "...                          ...                          ...   \n",
       "2471                           1                            1   \n",
       "2472                           2                            0   \n",
       "2473                           0                            1   \n",
       "2474                           0                            1   \n",
       "2475                           0                            1   \n",
       "\n",
       "      Actionability_label  Actionability_binary  \n",
       "0                       0                     1  \n",
       "1                       1                     1  \n",
       "2                       0                     1  \n",
       "3                       0                     1  \n",
       "4                       0                     1  \n",
       "...                   ...                   ...  \n",
       "2471                    0                     1  \n",
       "2472                    2                     0  \n",
       "2473                    0                     1  \n",
       "2474                    0                     1  \n",
       "2475                    0                     1  \n",
       "\n",
       "[2476 rows x 17 columns]"
      ]
     },
     "execution_count": 13,
     "metadata": {},
     "output_type": "execute_result"
    }
   ],
   "source": [
    "df"
   ]
  },
  {
   "cell_type": "code",
   "execution_count": 14,
   "id": "3801ef85",
   "metadata": {
    "execution": {
     "iopub.execute_input": "2025-04-24T18:42:14.103072Z",
     "iopub.status.busy": "2025-04-24T18:42:14.102826Z",
     "iopub.status.idle": "2025-04-24T20:18:36.776798Z",
     "shell.execute_reply": "2025-04-24T20:18:36.775923Z"
    },
    "papermill": {
     "duration": 5782.679236,
     "end_time": "2025-04-24T20:18:36.778045",
     "exception": false,
     "start_time": "2025-04-24T18:42:14.098809",
     "status": "completed"
    },
    "tags": []
   },
   "outputs": [
    {
     "name": "stdout",
     "output_type": "stream",
     "text": [
      "\n",
      "🔁 Training with: CE Loss\n",
      "\n"
     ]
    },
    {
     "name": "stderr",
     "output_type": "stream",
     "text": [
      "Xet Storage is enabled for this repo, but the 'hf_xet' package is not installed. Falling back to regular HTTP download. For better performance, install the package with: `pip install huggingface_hub[hf_xet]` or `pip install hf_xet`\n"
     ]
    },
    {
     "data": {
      "application/vnd.jupyter.widget-view+json": {
       "model_id": "33c8c25b9b3e48bc9c67e19ea158ec0d",
       "version_major": 2,
       "version_minor": 0
      },
      "text/plain": [
       "model.safetensors:   0%|          | 0.00/440M [00:00<?, ?B/s]"
      ]
     },
     "metadata": {},
     "output_type": "display_data"
    },
    {
     "name": "stderr",
     "output_type": "stream",
     "text": [
      "Some weights of BertForSequenceClassification were not initialized from the model checkpoint at bert-base-uncased and are newly initialized: ['classifier.bias', 'classifier.weight']\n",
      "You should probably TRAIN this model on a down-stream task to be able to use it for predictions and inference.\n",
      "Epoch 1/15: 100%|██████████| 557/557 [01:56<00:00,  4.77it/s]\n"
     ]
    },
    {
     "name": "stdout",
     "output_type": "stream",
     "text": [
      "Epoch 1 Loss: 1.0364\n",
      "Validation Accuracy: 0.5968  Validation Macro F1: 0.3697\n",
      "                precision    recall  f1-score   support\n",
      "\n",
      "           Yes       0.68      0.78      0.73       155\n",
      "To some extent       0.00      0.00      0.00        22\n",
      "            No       0.38      0.38      0.38        71\n",
      "\n",
      "      accuracy                           0.60       248\n",
      "     macro avg       0.35      0.39      0.37       248\n",
      "  weighted avg       0.54      0.60      0.56       248\n",
      "\n"
     ]
    },
    {
     "name": "stderr",
     "output_type": "stream",
     "text": [
      "Epoch 2/15: 100%|██████████| 557/557 [02:04<00:00,  4.47it/s]\n"
     ]
    },
    {
     "name": "stdout",
     "output_type": "stream",
     "text": [
      "Epoch 2 Loss: 0.9692\n",
      "Validation Accuracy: 0.4597  Validation Macro F1: 0.3450\n",
      "                precision    recall  f1-score   support\n",
      "\n",
      "           Yes       0.82      0.32      0.46       155\n",
      "To some extent       0.20      0.05      0.07        22\n",
      "            No       0.35      0.89      0.50        71\n",
      "\n",
      "      accuracy                           0.46       248\n",
      "     macro avg       0.46      0.42      0.35       248\n",
      "  weighted avg       0.63      0.46      0.44       248\n",
      "\n"
     ]
    },
    {
     "name": "stderr",
     "output_type": "stream",
     "text": [
      "Epoch 3/15: 100%|██████████| 557/557 [02:04<00:00,  4.47it/s]\n"
     ]
    },
    {
     "name": "stdout",
     "output_type": "stream",
     "text": [
      "Epoch 3 Loss: 0.8921\n",
      "Validation Accuracy: 0.5645  Validation Macro F1: 0.4363\n",
      "                precision    recall  f1-score   support\n",
      "\n",
      "           Yes       0.70      0.70      0.70       155\n",
      "To some extent       0.15      0.27      0.19        22\n",
      "            No       0.49      0.37      0.42        71\n",
      "\n",
      "      accuracy                           0.56       248\n",
      "     macro avg       0.45      0.45      0.44       248\n",
      "  weighted avg       0.59      0.56      0.57       248\n",
      "\n"
     ]
    },
    {
     "name": "stderr",
     "output_type": "stream",
     "text": [
      "Epoch 4/15: 100%|██████████| 557/557 [02:04<00:00,  4.46it/s]\n"
     ]
    },
    {
     "name": "stdout",
     "output_type": "stream",
     "text": [
      "Epoch 4 Loss: 0.8394\n",
      "Validation Accuracy: 0.5444  Validation Macro F1: 0.4007\n",
      "                precision    recall  f1-score   support\n",
      "\n",
      "           Yes       0.77      0.55      0.64       155\n",
      "To some extent       0.06      0.05      0.05        22\n",
      "            No       0.40      0.69      0.51        71\n",
      "\n",
      "      accuracy                           0.54       248\n",
      "     macro avg       0.41      0.43      0.40       248\n",
      "  weighted avg       0.60      0.54      0.55       248\n",
      "\n"
     ]
    },
    {
     "name": "stderr",
     "output_type": "stream",
     "text": [
      "Epoch 5/15: 100%|██████████| 557/557 [02:04<00:00,  4.47it/s]\n"
     ]
    },
    {
     "name": "stdout",
     "output_type": "stream",
     "text": [
      "Epoch 5 Loss: 0.7851\n",
      "Validation Accuracy: 0.4556  Validation Macro F1: 0.4033\n",
      "                precision    recall  f1-score   support\n",
      "\n",
      "           Yes       0.74      0.49      0.59       155\n",
      "To some extent       0.17      0.73      0.27        22\n",
      "            No       0.42      0.30      0.35        71\n",
      "\n",
      "      accuracy                           0.46       248\n",
      "     macro avg       0.44      0.50      0.40       248\n",
      "  weighted avg       0.60      0.46      0.49       248\n",
      "\n"
     ]
    },
    {
     "name": "stderr",
     "output_type": "stream",
     "text": [
      "Epoch 6/15: 100%|██████████| 557/557 [02:04<00:00,  4.48it/s]\n"
     ]
    },
    {
     "name": "stdout",
     "output_type": "stream",
     "text": [
      "Epoch 6 Loss: 0.7396\n",
      "Validation Accuracy: 0.5161  Validation Macro F1: 0.4487\n",
      "                precision    recall  f1-score   support\n",
      "\n",
      "           Yes       0.75      0.54      0.62       155\n",
      "To some extent       0.20      0.45      0.28        22\n",
      "            No       0.40      0.49      0.44        71\n",
      "\n",
      "      accuracy                           0.52       248\n",
      "     macro avg       0.45      0.49      0.45       248\n",
      "  weighted avg       0.60      0.52      0.54       248\n",
      "\n"
     ]
    },
    {
     "name": "stderr",
     "output_type": "stream",
     "text": [
      "Epoch 7/15: 100%|██████████| 557/557 [02:04<00:00,  4.48it/s]\n"
     ]
    },
    {
     "name": "stdout",
     "output_type": "stream",
     "text": [
      "Epoch 7 Loss: 0.7161\n",
      "Validation Accuracy: 0.5242  Validation Macro F1: 0.4520\n",
      "                precision    recall  f1-score   support\n",
      "\n",
      "           Yes       0.75      0.57      0.65       155\n",
      "To some extent       0.20      0.55      0.29        22\n",
      "            No       0.41      0.41      0.41        71\n",
      "\n",
      "      accuracy                           0.52       248\n",
      "     macro avg       0.46      0.51      0.45       248\n",
      "  weighted avg       0.61      0.52      0.55       248\n",
      "\n"
     ]
    },
    {
     "name": "stderr",
     "output_type": "stream",
     "text": [
      "Epoch 8/15: 100%|██████████| 557/557 [02:04<00:00,  4.48it/s]\n"
     ]
    },
    {
     "name": "stdout",
     "output_type": "stream",
     "text": [
      "Epoch 8 Loss: 0.6859\n",
      "Validation Accuracy: 0.5766  Validation Macro F1: 0.4703\n",
      "                precision    recall  f1-score   support\n",
      "\n",
      "           Yes       0.71      0.66      0.68       155\n",
      "To some extent       0.29      0.27      0.28        22\n",
      "            No       0.42      0.48      0.45        71\n",
      "\n",
      "      accuracy                           0.58       248\n",
      "     macro avg       0.47      0.47      0.47       248\n",
      "  weighted avg       0.59      0.58      0.58       248\n",
      "\n"
     ]
    },
    {
     "name": "stderr",
     "output_type": "stream",
     "text": [
      "Epoch 9/15: 100%|██████████| 557/557 [02:04<00:00,  4.47it/s]\n"
     ]
    },
    {
     "name": "stdout",
     "output_type": "stream",
     "text": [
      "Epoch 9 Loss: 0.6868\n",
      "Validation Accuracy: 0.5323  Validation Macro F1: 0.4061\n",
      "                precision    recall  f1-score   support\n",
      "\n",
      "           Yes       0.68      0.64      0.66       155\n",
      "To some extent       0.15      0.18      0.16        22\n",
      "            No       0.39      0.41      0.40        71\n",
      "\n",
      "      accuracy                           0.53       248\n",
      "     macro avg       0.40      0.41      0.41       248\n",
      "  weighted avg       0.55      0.53      0.54       248\n",
      "\n"
     ]
    },
    {
     "name": "stderr",
     "output_type": "stream",
     "text": [
      "Epoch 10/15: 100%|██████████| 557/557 [02:04<00:00,  4.47it/s]\n"
     ]
    },
    {
     "name": "stdout",
     "output_type": "stream",
     "text": [
      "Epoch 10 Loss: 0.6530\n",
      "Validation Accuracy: 0.5282  Validation Macro F1: 0.4620\n",
      "                precision    recall  f1-score   support\n",
      "\n",
      "           Yes       0.75      0.56      0.64       155\n",
      "To some extent       0.24      0.50      0.32        22\n",
      "            No       0.38      0.46      0.42        71\n",
      "\n",
      "      accuracy                           0.53       248\n",
      "     macro avg       0.46      0.51      0.46       248\n",
      "  weighted avg       0.60      0.53      0.55       248\n",
      "\n"
     ]
    },
    {
     "name": "stderr",
     "output_type": "stream",
     "text": [
      "Epoch 11/15: 100%|██████████| 557/557 [02:04<00:00,  4.47it/s]\n"
     ]
    },
    {
     "name": "stdout",
     "output_type": "stream",
     "text": [
      "Epoch 11 Loss: 0.6742\n",
      "Validation Accuracy: 0.5726  Validation Macro F1: 0.4345\n",
      "                precision    recall  f1-score   support\n",
      "\n",
      "           Yes       0.69      0.72      0.70       155\n",
      "To some extent       0.18      0.23      0.20        22\n",
      "            No       0.45      0.37      0.40        71\n",
      "\n",
      "      accuracy                           0.57       248\n",
      "     macro avg       0.44      0.44      0.43       248\n",
      "  weighted avg       0.57      0.57      0.57       248\n",
      "\n"
     ]
    },
    {
     "name": "stderr",
     "output_type": "stream",
     "text": [
      "Epoch 12/15: 100%|██████████| 557/557 [02:04<00:00,  4.47it/s]\n"
     ]
    },
    {
     "name": "stdout",
     "output_type": "stream",
     "text": [
      "Epoch 12 Loss: 0.6435\n",
      "Validation Accuracy: 0.5363  Validation Macro F1: 0.4361\n",
      "                precision    recall  f1-score   support\n",
      "\n",
      "           Yes       0.73      0.63      0.67       155\n",
      "To some extent       0.17      0.36      0.23        22\n",
      "            No       0.41      0.39      0.40        71\n",
      "\n",
      "      accuracy                           0.54       248\n",
      "     macro avg       0.44      0.46      0.44       248\n",
      "  weighted avg       0.59      0.54      0.56       248\n",
      "\n"
     ]
    },
    {
     "name": "stderr",
     "output_type": "stream",
     "text": [
      "Epoch 13/15: 100%|██████████| 557/557 [02:04<00:00,  4.48it/s]\n"
     ]
    },
    {
     "name": "stdout",
     "output_type": "stream",
     "text": [
      "Epoch 13 Loss: 0.6336\n",
      "Validation Accuracy: 0.5000  Validation Macro F1: 0.4041\n",
      "                precision    recall  f1-score   support\n",
      "\n",
      "           Yes       0.72      0.58      0.64       155\n",
      "To some extent       0.14      0.32      0.19        22\n",
      "            No       0.38      0.38      0.38        71\n",
      "\n",
      "      accuracy                           0.50       248\n",
      "     macro avg       0.41      0.43      0.40       248\n",
      "  weighted avg       0.57      0.50      0.53       248\n",
      "\n"
     ]
    },
    {
     "name": "stderr",
     "output_type": "stream",
     "text": [
      "Epoch 14/15: 100%|██████████| 557/557 [02:04<00:00,  4.47it/s]\n"
     ]
    },
    {
     "name": "stdout",
     "output_type": "stream",
     "text": [
      "Epoch 14 Loss: 0.6134\n",
      "Validation Accuracy: 0.5766  Validation Macro F1: 0.4838\n",
      "                precision    recall  f1-score   support\n",
      "\n",
      "           Yes       0.75      0.60      0.67       155\n",
      "To some extent       0.29      0.27      0.28        22\n",
      "            No       0.43      0.62      0.51        71\n",
      "\n",
      "      accuracy                           0.58       248\n",
      "     macro avg       0.49      0.50      0.48       248\n",
      "  weighted avg       0.62      0.58      0.59       248\n",
      "\n"
     ]
    },
    {
     "name": "stderr",
     "output_type": "stream",
     "text": [
      "Epoch 15/15: 100%|██████████| 557/557 [02:04<00:00,  4.47it/s]\n"
     ]
    },
    {
     "name": "stdout",
     "output_type": "stream",
     "text": [
      "Epoch 15 Loss: 0.6274\n",
      "Validation Accuracy: 0.5806  Validation Macro F1: 0.4590\n",
      "                precision    recall  f1-score   support\n",
      "\n",
      "           Yes       0.74      0.70      0.72       155\n",
      "To some extent       0.20      0.32      0.25        22\n",
      "            No       0.43      0.39      0.41        71\n",
      "\n",
      "      accuracy                           0.58       248\n",
      "     macro avg       0.46      0.47      0.46       248\n",
      "  weighted avg       0.60      0.58      0.59       248\n",
      "\n",
      "\n",
      "🔁 Training with: SMOOTHING Loss\n",
      "\n"
     ]
    },
    {
     "name": "stderr",
     "output_type": "stream",
     "text": [
      "Some weights of BertForSequenceClassification were not initialized from the model checkpoint at bert-base-uncased and are newly initialized: ['classifier.bias', 'classifier.weight']\n",
      "You should probably TRAIN this model on a down-stream task to be able to use it for predictions and inference.\n",
      "Epoch 1/15: 100%|██████████| 557/557 [02:04<00:00,  4.47it/s]\n"
     ]
    },
    {
     "name": "stdout",
     "output_type": "stream",
     "text": [
      "Epoch 1 Loss: 1.2069\n",
      "Validation Accuracy: 0.3508  Validation Macro F1: 0.2908\n",
      "                precision    recall  f1-score   support\n",
      "\n",
      "           Yes       0.77      0.42      0.54       155\n",
      "To some extent       0.11      0.73      0.18        22\n",
      "            No       0.50      0.08      0.14        71\n",
      "\n",
      "      accuracy                           0.35       248\n",
      "     macro avg       0.46      0.41      0.29       248\n",
      "  weighted avg       0.64      0.35      0.40       248\n",
      "\n"
     ]
    },
    {
     "name": "stderr",
     "output_type": "stream",
     "text": [
      "Epoch 2/15: 100%|██████████| 557/557 [02:04<00:00,  4.48it/s]\n"
     ]
    },
    {
     "name": "stdout",
     "output_type": "stream",
     "text": [
      "Epoch 2 Loss: 1.1643\n",
      "Validation Accuracy: 0.3145  Validation Macro F1: 0.3087\n",
      "                precision    recall  f1-score   support\n",
      "\n",
      "           Yes       0.79      0.27      0.40       155\n",
      "To some extent       0.11      0.73      0.19        22\n",
      "            No       0.40      0.28      0.33        71\n",
      "\n",
      "      accuracy                           0.31       248\n",
      "     macro avg       0.43      0.43      0.31       248\n",
      "  weighted avg       0.62      0.31      0.36       248\n",
      "\n"
     ]
    },
    {
     "name": "stderr",
     "output_type": "stream",
     "text": [
      "Epoch 3/15: 100%|██████████| 557/557 [02:04<00:00,  4.49it/s]\n"
     ]
    },
    {
     "name": "stdout",
     "output_type": "stream",
     "text": [
      "Epoch 3 Loss: 1.1100\n",
      "Validation Accuracy: 0.4879  Validation Macro F1: 0.4169\n",
      "                precision    recall  f1-score   support\n",
      "\n",
      "           Yes       0.76      0.50      0.61       155\n",
      "To some extent       0.17      0.36      0.23        22\n",
      "            No       0.35      0.49      0.41        71\n",
      "\n",
      "      accuracy                           0.49       248\n",
      "     macro avg       0.43      0.45      0.42       248\n",
      "  weighted avg       0.59      0.49      0.52       248\n",
      "\n"
     ]
    },
    {
     "name": "stderr",
     "output_type": "stream",
     "text": [
      "Epoch 4/15: 100%|██████████| 557/557 [02:04<00:00,  4.48it/s]\n"
     ]
    },
    {
     "name": "stdout",
     "output_type": "stream",
     "text": [
      "Epoch 4 Loss: 1.0768\n",
      "Validation Accuracy: 0.4476  Validation Macro F1: 0.3947\n",
      "                precision    recall  f1-score   support\n",
      "\n",
      "           Yes       0.76      0.48      0.58       155\n",
      "To some extent       0.12      0.50      0.19        22\n",
      "            No       0.46      0.37      0.41        71\n",
      "\n",
      "      accuracy                           0.45       248\n",
      "     macro avg       0.45      0.45      0.39       248\n",
      "  weighted avg       0.62      0.45      0.50       248\n",
      "\n"
     ]
    },
    {
     "name": "stderr",
     "output_type": "stream",
     "text": [
      "Epoch 5/15: 100%|██████████| 557/557 [02:04<00:00,  4.47it/s]\n"
     ]
    },
    {
     "name": "stdout",
     "output_type": "stream",
     "text": [
      "Epoch 5 Loss: 1.0547\n",
      "Validation Accuracy: 0.4556  Validation Macro F1: 0.3952\n",
      "                precision    recall  f1-score   support\n",
      "\n",
      "           Yes       0.76      0.51      0.61       155\n",
      "To some extent       0.13      0.59      0.22        22\n",
      "            No       0.46      0.30      0.36        71\n",
      "\n",
      "      accuracy                           0.46       248\n",
      "     macro avg       0.45      0.47      0.40       248\n",
      "  weighted avg       0.62      0.46      0.50       248\n",
      "\n"
     ]
    },
    {
     "name": "stderr",
     "output_type": "stream",
     "text": [
      "Epoch 6/15: 100%|██████████| 557/557 [02:04<00:00,  4.48it/s]\n"
     ]
    },
    {
     "name": "stdout",
     "output_type": "stream",
     "text": [
      "Epoch 6 Loss: 1.0234\n",
      "Validation Accuracy: 0.5363  Validation Macro F1: 0.4543\n",
      "                precision    recall  f1-score   support\n",
      "\n",
      "           Yes       0.76      0.60      0.67       155\n",
      "To some extent       0.18      0.50      0.26        22\n",
      "            No       0.45      0.41      0.43        71\n",
      "\n",
      "      accuracy                           0.54       248\n",
      "     macro avg       0.46      0.50      0.45       248\n",
      "  weighted avg       0.62      0.54      0.57       248\n",
      "\n"
     ]
    },
    {
     "name": "stderr",
     "output_type": "stream",
     "text": [
      "Epoch 7/15: 100%|██████████| 557/557 [02:04<00:00,  4.49it/s]\n"
     ]
    },
    {
     "name": "stdout",
     "output_type": "stream",
     "text": [
      "Epoch 7 Loss: 1.0164\n",
      "Validation Accuracy: 0.5565  Validation Macro F1: 0.4766\n",
      "                precision    recall  f1-score   support\n",
      "\n",
      "           Yes       0.73      0.61      0.66       155\n",
      "To some extent       0.23      0.45      0.30        22\n",
      "            No       0.45      0.48      0.46        71\n",
      "\n",
      "      accuracy                           0.56       248\n",
      "     macro avg       0.47      0.51      0.48       248\n",
      "  weighted avg       0.61      0.56      0.57       248\n",
      "\n"
     ]
    },
    {
     "name": "stderr",
     "output_type": "stream",
     "text": [
      "Epoch 8/15: 100%|██████████| 557/557 [02:04<00:00,  4.48it/s]\n"
     ]
    },
    {
     "name": "stdout",
     "output_type": "stream",
     "text": [
      "Epoch 8 Loss: 0.9986\n",
      "Validation Accuracy: 0.5282  Validation Macro F1: 0.4607\n",
      "                precision    recall  f1-score   support\n",
      "\n",
      "           Yes       0.79      0.53      0.63       155\n",
      "To some extent       0.19      0.45      0.27        22\n",
      "            No       0.42      0.55      0.48        71\n",
      "\n",
      "      accuracy                           0.53       248\n",
      "     macro avg       0.47      0.51      0.46       248\n",
      "  weighted avg       0.63      0.53      0.56       248\n",
      "\n"
     ]
    },
    {
     "name": "stderr",
     "output_type": "stream",
     "text": [
      "Epoch 9/15: 100%|██████████| 557/557 [02:04<00:00,  4.47it/s]\n"
     ]
    },
    {
     "name": "stdout",
     "output_type": "stream",
     "text": [
      "Epoch 9 Loss: 0.9784\n",
      "Validation Accuracy: 0.5363  Validation Macro F1: 0.4658\n",
      "                precision    recall  f1-score   support\n",
      "\n",
      "           Yes       0.76      0.57      0.65       155\n",
      "To some extent       0.20      0.55      0.29        22\n",
      "            No       0.46      0.45      0.45        71\n",
      "\n",
      "      accuracy                           0.54       248\n",
      "     macro avg       0.47      0.52      0.47       248\n",
      "  weighted avg       0.62      0.54      0.56       248\n",
      "\n"
     ]
    },
    {
     "name": "stderr",
     "output_type": "stream",
     "text": [
      "Epoch 10/15: 100%|██████████| 557/557 [02:04<00:00,  4.49it/s]\n"
     ]
    },
    {
     "name": "stdout",
     "output_type": "stream",
     "text": [
      "Epoch 10 Loss: 0.9799\n",
      "Validation Accuracy: 0.5444  Validation Macro F1: 0.4383\n",
      "                precision    recall  f1-score   support\n",
      "\n",
      "           Yes       0.71      0.66      0.68       155\n",
      "To some extent       0.16      0.41      0.23        22\n",
      "            No       0.48      0.34      0.40        71\n",
      "\n",
      "      accuracy                           0.54       248\n",
      "     macro avg       0.45      0.47      0.44       248\n",
      "  weighted avg       0.60      0.54      0.56       248\n",
      "\n"
     ]
    },
    {
     "name": "stderr",
     "output_type": "stream",
     "text": [
      "Epoch 11/15: 100%|██████████| 557/557 [02:04<00:00,  4.49it/s]\n"
     ]
    },
    {
     "name": "stdout",
     "output_type": "stream",
     "text": [
      "Epoch 11 Loss: 0.9768\n",
      "Validation Accuracy: 0.5363  Validation Macro F1: 0.4458\n",
      "                precision    recall  f1-score   support\n",
      "\n",
      "           Yes       0.74      0.63      0.68       155\n",
      "To some extent       0.17      0.50      0.26        22\n",
      "            No       0.47      0.35      0.40        71\n",
      "\n",
      "      accuracy                           0.54       248\n",
      "     macro avg       0.46      0.49      0.45       248\n",
      "  weighted avg       0.61      0.54      0.56       248\n",
      "\n"
     ]
    },
    {
     "name": "stderr",
     "output_type": "stream",
     "text": [
      "Epoch 12/15: 100%|██████████| 557/557 [02:04<00:00,  4.48it/s]\n"
     ]
    },
    {
     "name": "stdout",
     "output_type": "stream",
     "text": [
      "Epoch 12 Loss: 0.9652\n",
      "Validation Accuracy: 0.5363  Validation Macro F1: 0.4654\n",
      "                precision    recall  f1-score   support\n",
      "\n",
      "           Yes       0.75      0.56      0.64       155\n",
      "To some extent       0.22      0.45      0.30        22\n",
      "            No       0.41      0.51      0.46        71\n",
      "\n",
      "      accuracy                           0.54       248\n",
      "     macro avg       0.46      0.51      0.47       248\n",
      "  weighted avg       0.61      0.54      0.56       248\n",
      "\n"
     ]
    },
    {
     "name": "stderr",
     "output_type": "stream",
     "text": [
      "Epoch 13/15: 100%|██████████| 557/557 [02:04<00:00,  4.49it/s]\n"
     ]
    },
    {
     "name": "stdout",
     "output_type": "stream",
     "text": [
      "Epoch 13 Loss: 0.9614\n",
      "Validation Accuracy: 0.5605  Validation Macro F1: 0.4649\n",
      "                precision    recall  f1-score   support\n",
      "\n",
      "           Yes       0.75      0.65      0.70       155\n",
      "To some extent       0.21      0.45      0.29        22\n",
      "            No       0.42      0.39      0.41        71\n",
      "\n",
      "      accuracy                           0.56       248\n",
      "     macro avg       0.46      0.50      0.46       248\n",
      "  weighted avg       0.61      0.56      0.58       248\n",
      "\n"
     ]
    },
    {
     "name": "stderr",
     "output_type": "stream",
     "text": [
      "Epoch 14/15: 100%|██████████| 557/557 [02:04<00:00,  4.49it/s]\n"
     ]
    },
    {
     "name": "stdout",
     "output_type": "stream",
     "text": [
      "Epoch 14 Loss: 0.9600\n",
      "Validation Accuracy: 0.5444  Validation Macro F1: 0.4509\n",
      "                precision    recall  f1-score   support\n",
      "\n",
      "           Yes       0.74      0.64      0.69       155\n",
      "To some extent       0.18      0.50      0.27        22\n",
      "            No       0.46      0.35      0.40        71\n",
      "\n",
      "      accuracy                           0.54       248\n",
      "     macro avg       0.46      0.50      0.45       248\n",
      "  weighted avg       0.61      0.54      0.57       248\n",
      "\n"
     ]
    },
    {
     "name": "stderr",
     "output_type": "stream",
     "text": [
      "Epoch 15/15: 100%|██████████| 557/557 [02:04<00:00,  4.48it/s]\n"
     ]
    },
    {
     "name": "stdout",
     "output_type": "stream",
     "text": [
      "Epoch 15 Loss: 0.9529\n",
      "Validation Accuracy: 0.5363  Validation Macro F1: 0.4279\n",
      "                precision    recall  f1-score   support\n",
      "\n",
      "           Yes       0.70      0.66      0.68       155\n",
      "To some extent       0.17      0.41      0.24        22\n",
      "            No       0.44      0.31      0.36        71\n",
      "\n",
      "      accuracy                           0.54       248\n",
      "     macro avg       0.44      0.46      0.43       248\n",
      "  weighted avg       0.58      0.54      0.55       248\n",
      "\n",
      "\n",
      "🔁 Training with: FOCAL Loss\n",
      "\n"
     ]
    },
    {
     "name": "stderr",
     "output_type": "stream",
     "text": [
      "Some weights of BertForSequenceClassification were not initialized from the model checkpoint at bert-base-uncased and are newly initialized: ['classifier.bias', 'classifier.weight']\n",
      "You should probably TRAIN this model on a down-stream task to be able to use it for predictions and inference.\n",
      "Epoch 1/15: 100%|██████████| 557/557 [02:04<00:00,  4.47it/s]\n"
     ]
    },
    {
     "name": "stdout",
     "output_type": "stream",
     "text": [
      "Epoch 1 Loss: 0.5925\n",
      "Validation Accuracy: 0.2661  Validation Macro F1: 0.2456\n",
      "                precision    recall  f1-score   support\n",
      "\n",
      "           Yes       0.82      0.26      0.39       155\n",
      "To some extent       0.10      0.86      0.19        22\n",
      "            No       0.39      0.10      0.16        71\n",
      "\n",
      "      accuracy                           0.27       248\n",
      "     macro avg       0.44      0.41      0.25       248\n",
      "  weighted avg       0.63      0.27      0.31       248\n",
      "\n"
     ]
    },
    {
     "name": "stderr",
     "output_type": "stream",
     "text": [
      "Epoch 2/15: 100%|██████████| 557/557 [02:04<00:00,  4.47it/s]\n"
     ]
    },
    {
     "name": "stdout",
     "output_type": "stream",
     "text": [
      "Epoch 2 Loss: 0.5485\n",
      "Validation Accuracy: 0.2903  Validation Macro F1: 0.2512\n",
      "                precision    recall  f1-score   support\n",
      "\n",
      "           Yes       0.83      0.06      0.12       155\n",
      "To some extent       0.17      0.32      0.22        22\n",
      "            No       0.28      0.77      0.42        71\n",
      "\n",
      "      accuracy                           0.29       248\n",
      "     macro avg       0.43      0.39      0.25       248\n",
      "  weighted avg       0.62      0.29      0.21       248\n",
      "\n"
     ]
    },
    {
     "name": "stderr",
     "output_type": "stream",
     "text": [
      "Epoch 3/15: 100%|██████████| 557/557 [02:04<00:00,  4.47it/s]\n"
     ]
    },
    {
     "name": "stdout",
     "output_type": "stream",
     "text": [
      "Epoch 3 Loss: 0.4887\n",
      "Validation Accuracy: 0.3024  Validation Macro F1: 0.2928\n",
      "                precision    recall  f1-score   support\n",
      "\n",
      "           Yes       0.85      0.26      0.40       155\n",
      "To some extent       0.13      0.91      0.23        22\n",
      "            No       0.33      0.21      0.26        71\n",
      "\n",
      "      accuracy                           0.30       248\n",
      "     macro avg       0.44      0.46      0.29       248\n",
      "  weighted avg       0.64      0.30      0.34       248\n",
      "\n"
     ]
    },
    {
     "name": "stderr",
     "output_type": "stream",
     "text": [
      "Epoch 4/15: 100%|██████████| 557/557 [02:04<00:00,  4.48it/s]\n"
     ]
    },
    {
     "name": "stdout",
     "output_type": "stream",
     "text": [
      "Epoch 4 Loss: 0.4454\n",
      "Validation Accuracy: 0.3387  Validation Macro F1: 0.3346\n",
      "                precision    recall  f1-score   support\n",
      "\n",
      "           Yes       0.88      0.25      0.38       155\n",
      "To some extent       0.15      0.91      0.26        22\n",
      "            No       0.35      0.37      0.36        71\n",
      "\n",
      "      accuracy                           0.34       248\n",
      "     macro avg       0.46      0.51      0.33       248\n",
      "  weighted avg       0.67      0.34      0.37       248\n",
      "\n"
     ]
    },
    {
     "name": "stderr",
     "output_type": "stream",
     "text": [
      "Epoch 5/15: 100%|██████████| 557/557 [02:04<00:00,  4.47it/s]\n"
     ]
    },
    {
     "name": "stdout",
     "output_type": "stream",
     "text": [
      "Epoch 5 Loss: 0.4109\n",
      "Validation Accuracy: 0.3871  Validation Macro F1: 0.3751\n",
      "                precision    recall  f1-score   support\n",
      "\n",
      "           Yes       0.86      0.28      0.42       155\n",
      "To some extent       0.17      0.77      0.27        22\n",
      "            No       0.38      0.51      0.43        71\n",
      "\n",
      "      accuracy                           0.39       248\n",
      "     macro avg       0.47      0.52      0.38       248\n",
      "  weighted avg       0.66      0.39      0.41       248\n",
      "\n"
     ]
    },
    {
     "name": "stderr",
     "output_type": "stream",
     "text": [
      "Epoch 6/15: 100%|██████████| 557/557 [02:04<00:00,  4.47it/s]\n"
     ]
    },
    {
     "name": "stdout",
     "output_type": "stream",
     "text": [
      "Epoch 6 Loss: 0.3904\n",
      "Validation Accuracy: 0.3710  Validation Macro F1: 0.3599\n",
      "                precision    recall  f1-score   support\n",
      "\n",
      "           Yes       0.82      0.27      0.41       155\n",
      "To some extent       0.17      0.77      0.27        22\n",
      "            No       0.35      0.46      0.40        71\n",
      "\n",
      "      accuracy                           0.37       248\n",
      "     macro avg       0.45      0.50      0.36       248\n",
      "  weighted avg       0.63      0.37      0.39       248\n",
      "\n"
     ]
    },
    {
     "name": "stderr",
     "output_type": "stream",
     "text": [
      "Epoch 7/15: 100%|██████████| 557/557 [02:04<00:00,  4.48it/s]\n"
     ]
    },
    {
     "name": "stdout",
     "output_type": "stream",
     "text": [
      "Epoch 7 Loss: 0.3622\n",
      "Validation Accuracy: 0.3589  Validation Macro F1: 0.3437\n",
      "                precision    recall  f1-score   support\n",
      "\n",
      "           Yes       0.80      0.28      0.42       155\n",
      "To some extent       0.15      0.68      0.24        22\n",
      "            No       0.33      0.42      0.37        71\n",
      "\n",
      "      accuracy                           0.36       248\n",
      "     macro avg       0.42      0.46      0.34       248\n",
      "  weighted avg       0.61      0.36      0.39       248\n",
      "\n"
     ]
    },
    {
     "name": "stderr",
     "output_type": "stream",
     "text": [
      "Epoch 8/15: 100%|██████████| 557/557 [02:04<00:00,  4.47it/s]\n"
     ]
    },
    {
     "name": "stdout",
     "output_type": "stream",
     "text": [
      "Epoch 8 Loss: 0.3618\n",
      "Validation Accuracy: 0.3548  Validation Macro F1: 0.3413\n",
      "                precision    recall  f1-score   support\n",
      "\n",
      "           Yes       0.78      0.29      0.42       155\n",
      "To some extent       0.16      0.77      0.26        22\n",
      "            No       0.31      0.37      0.34        71\n",
      "\n",
      "      accuracy                           0.35       248\n",
      "     macro avg       0.42      0.48      0.34       248\n",
      "  weighted avg       0.59      0.35      0.38       248\n",
      "\n"
     ]
    },
    {
     "name": "stderr",
     "output_type": "stream",
     "text": [
      "Epoch 9/15: 100%|██████████| 557/557 [02:04<00:00,  4.47it/s]\n"
     ]
    },
    {
     "name": "stdout",
     "output_type": "stream",
     "text": [
      "Epoch 9 Loss: 0.3482\n",
      "Validation Accuracy: 0.3750  Validation Macro F1: 0.3571\n",
      "                precision    recall  f1-score   support\n",
      "\n",
      "           Yes       0.79      0.32      0.45       155\n",
      "To some extent       0.16      0.73      0.26        22\n",
      "            No       0.34      0.39      0.36        71\n",
      "\n",
      "      accuracy                           0.38       248\n",
      "     macro avg       0.43      0.48      0.36       248\n",
      "  weighted avg       0.60      0.38      0.41       248\n",
      "\n"
     ]
    },
    {
     "name": "stderr",
     "output_type": "stream",
     "text": [
      "Epoch 10/15: 100%|██████████| 557/557 [02:04<00:00,  4.47it/s]\n"
     ]
    },
    {
     "name": "stdout",
     "output_type": "stream",
     "text": [
      "Epoch 10 Loss: 0.3327\n",
      "Validation Accuracy: 0.3508  Validation Macro F1: 0.3403\n",
      "                precision    recall  f1-score   support\n",
      "\n",
      "           Yes       0.81      0.25      0.38       155\n",
      "To some extent       0.16      0.73      0.26        22\n",
      "            No       0.33      0.45      0.38        71\n",
      "\n",
      "      accuracy                           0.35       248\n",
      "     macro avg       0.43      0.48      0.34       248\n",
      "  weighted avg       0.62      0.35      0.37       248\n",
      "\n"
     ]
    },
    {
     "name": "stderr",
     "output_type": "stream",
     "text": [
      "Epoch 11/15: 100%|██████████| 557/557 [02:04<00:00,  4.48it/s]\n"
     ]
    },
    {
     "name": "stdout",
     "output_type": "stream",
     "text": [
      "Epoch 11 Loss: 0.3344\n",
      "Validation Accuracy: 0.3952  Validation Macro F1: 0.3774\n",
      "                precision    recall  f1-score   support\n",
      "\n",
      "           Yes       0.80      0.32      0.45       155\n",
      "To some extent       0.17      0.73      0.27        22\n",
      "            No       0.36      0.46      0.40        71\n",
      "\n",
      "      accuracy                           0.40       248\n",
      "     macro avg       0.44      0.50      0.38       248\n",
      "  weighted avg       0.62      0.40      0.42       248\n",
      "\n"
     ]
    },
    {
     "name": "stderr",
     "output_type": "stream",
     "text": [
      "Epoch 12/15: 100%|██████████| 557/557 [02:04<00:00,  4.47it/s]\n"
     ]
    },
    {
     "name": "stdout",
     "output_type": "stream",
     "text": [
      "Epoch 12 Loss: 0.3257\n",
      "Validation Accuracy: 0.4274  Validation Macro F1: 0.3961\n",
      "                precision    recall  f1-score   support\n",
      "\n",
      "           Yes       0.79      0.41      0.54       155\n",
      "To some extent       0.17      0.77      0.28        22\n",
      "            No       0.37      0.37      0.37        71\n",
      "\n",
      "      accuracy                           0.43       248\n",
      "     macro avg       0.44      0.52      0.40       248\n",
      "  weighted avg       0.61      0.43      0.47       248\n",
      "\n"
     ]
    },
    {
     "name": "stderr",
     "output_type": "stream",
     "text": [
      "Epoch 13/15: 100%|██████████| 557/557 [02:04<00:00,  4.47it/s]\n"
     ]
    },
    {
     "name": "stdout",
     "output_type": "stream",
     "text": [
      "Epoch 13 Loss: 0.3265\n",
      "Validation Accuracy: 0.3548  Validation Macro F1: 0.3409\n",
      "                precision    recall  f1-score   support\n",
      "\n",
      "           Yes       0.78      0.25      0.37       155\n",
      "To some extent       0.15      0.64      0.24        22\n",
      "            No       0.34      0.51      0.41        71\n",
      "\n",
      "      accuracy                           0.35       248\n",
      "     macro avg       0.42      0.46      0.34       248\n",
      "  weighted avg       0.60      0.35      0.37       248\n",
      "\n"
     ]
    },
    {
     "name": "stderr",
     "output_type": "stream",
     "text": [
      "Epoch 14/15: 100%|██████████| 557/557 [02:04<00:00,  4.48it/s]\n"
     ]
    },
    {
     "name": "stdout",
     "output_type": "stream",
     "text": [
      "Epoch 14 Loss: 0.3039\n",
      "Validation Accuracy: 0.3871  Validation Macro F1: 0.3652\n",
      "                precision    recall  f1-score   support\n",
      "\n",
      "           Yes       0.79      0.30      0.43       155\n",
      "To some extent       0.15      0.59      0.24        22\n",
      "            No       0.36      0.52      0.43        71\n",
      "\n",
      "      accuracy                           0.39       248\n",
      "     macro avg       0.43      0.47      0.37       248\n",
      "  weighted avg       0.61      0.39      0.41       248\n",
      "\n"
     ]
    },
    {
     "name": "stderr",
     "output_type": "stream",
     "text": [
      "Epoch 15/15: 100%|██████████| 557/557 [02:04<00:00,  4.47it/s]\n"
     ]
    },
    {
     "name": "stdout",
     "output_type": "stream",
     "text": [
      "Epoch 15 Loss: 0.3268\n",
      "Validation Accuracy: 0.3589  Validation Macro F1: 0.3460\n",
      "                precision    recall  f1-score   support\n",
      "\n",
      "           Yes       0.80      0.28      0.41       155\n",
      "To some extent       0.16      0.73      0.26        22\n",
      "            No       0.33      0.42      0.37        71\n",
      "\n",
      "      accuracy                           0.36       248\n",
      "     macro avg       0.43      0.48      0.35       248\n",
      "  weighted avg       0.61      0.36      0.39       248\n",
      "\n"
     ]
    }
   ],
   "source": [
    "for loss_name in [\"ce\", \"smoothing\", \"focal\"]:\n",
    "    train_model(loss_name, train_loader, val_loader, num_labels=3)"
   ]
  },
  {
   "cell_type": "code",
   "execution_count": 15,
   "id": "9bb5a9be",
   "metadata": {
    "execution": {
     "iopub.execute_input": "2025-04-24T20:18:38.820049Z",
     "iopub.status.busy": "2025-04-24T20:18:38.819702Z",
     "iopub.status.idle": "2025-04-24T20:18:47.012703Z",
     "shell.execute_reply": "2025-04-24T20:18:47.011909Z"
    },
    "papermill": {
     "duration": 9.176733,
     "end_time": "2025-04-24T20:18:47.014051",
     "exception": false,
     "start_time": "2025-04-24T20:18:37.837318",
     "status": "completed"
    },
    "tags": []
   },
   "outputs": [],
   "source": [
    "# ---------- Run ----------\n",
    "json_path = \"/kaggle/input/json-data/assignment_3_ai_tutors_dataset.json\"\n",
    "train_dataset, val_dataset, tokenizer, df = preprocess_dataset(json_path, \"Pedagogical_Guidance_label\")\n",
    "train_loader = DataLoader(train_dataset, batch_size=4, shuffle=True)\n",
    "val_loader = DataLoader(val_dataset, batch_size=4)"
   ]
  },
  {
   "cell_type": "code",
   "execution_count": 16,
   "id": "44c735b0",
   "metadata": {
    "execution": {
     "iopub.execute_input": "2025-04-24T20:18:49.151522Z",
     "iopub.status.busy": "2025-04-24T20:18:49.150820Z",
     "iopub.status.idle": "2025-04-24T21:55:20.483206Z",
     "shell.execute_reply": "2025-04-24T21:55:20.482304Z"
    },
    "papermill": {
     "duration": 5792.421482,
     "end_time": "2025-04-24T21:55:20.484552",
     "exception": false,
     "start_time": "2025-04-24T20:18:48.063070",
     "status": "completed"
    },
    "tags": []
   },
   "outputs": [
    {
     "name": "stderr",
     "output_type": "stream",
     "text": [
      "Some weights of BertForSequenceClassification were not initialized from the model checkpoint at bert-base-uncased and are newly initialized: ['classifier.bias', 'classifier.weight']\n",
      "You should probably TRAIN this model on a down-stream task to be able to use it for predictions and inference.\n"
     ]
    },
    {
     "name": "stdout",
     "output_type": "stream",
     "text": [
      "\n",
      "🔁 Training with: CE Loss\n",
      "\n"
     ]
    },
    {
     "name": "stderr",
     "output_type": "stream",
     "text": [
      "Epoch 1/15: 100%|██████████| 557/557 [02:05<00:00,  4.43it/s]\n"
     ]
    },
    {
     "name": "stdout",
     "output_type": "stream",
     "text": [
      "Epoch 1 Loss: 1.0905\n",
      "Validation Accuracy: 0.3750  Validation Macro F1: 0.3498\n",
      "                precision    recall  f1-score   support\n",
      "\n",
      "           Yes       0.67      0.30      0.41       141\n",
      "To some extent       0.24      0.84      0.38        50\n",
      "            No       0.75      0.16      0.26        57\n",
      "\n",
      "      accuracy                           0.38       248\n",
      "     macro avg       0.55      0.43      0.35       248\n",
      "  weighted avg       0.60      0.38      0.37       248\n",
      "\n"
     ]
    },
    {
     "name": "stderr",
     "output_type": "stream",
     "text": [
      "Epoch 2/15: 100%|██████████| 557/557 [02:04<00:00,  4.48it/s]\n"
     ]
    },
    {
     "name": "stdout",
     "output_type": "stream",
     "text": [
      "Epoch 2 Loss: 1.0394\n",
      "Validation Accuracy: 0.5887  Validation Macro F1: 0.4179\n",
      "                precision    recall  f1-score   support\n",
      "\n",
      "           Yes       0.62      0.89      0.73       141\n",
      "To some extent       0.34      0.24      0.28        50\n",
      "            No       0.80      0.14      0.24        57\n",
      "\n",
      "      accuracy                           0.59       248\n",
      "     macro avg       0.59      0.42      0.42       248\n",
      "  weighted avg       0.61      0.59      0.53       248\n",
      "\n"
     ]
    },
    {
     "name": "stderr",
     "output_type": "stream",
     "text": [
      "Epoch 3/15: 100%|██████████| 557/557 [02:04<00:00,  4.46it/s]\n"
     ]
    },
    {
     "name": "stdout",
     "output_type": "stream",
     "text": [
      "Epoch 3 Loss: 0.9659\n",
      "Validation Accuracy: 0.5726  Validation Macro F1: 0.4410\n",
      "                precision    recall  f1-score   support\n",
      "\n",
      "           Yes       0.62      0.82      0.71       141\n",
      "To some extent       0.41      0.18      0.25        50\n",
      "            No       0.44      0.32      0.37        57\n",
      "\n",
      "      accuracy                           0.57       248\n",
      "     macro avg       0.49      0.44      0.44       248\n",
      "  weighted avg       0.54      0.57      0.54       248\n",
      "\n"
     ]
    },
    {
     "name": "stderr",
     "output_type": "stream",
     "text": [
      "Epoch 4/15: 100%|██████████| 557/557 [02:04<00:00,  4.48it/s]\n"
     ]
    },
    {
     "name": "stdout",
     "output_type": "stream",
     "text": [
      "Epoch 4 Loss: 0.8934\n",
      "Validation Accuracy: 0.5121  Validation Macro F1: 0.4535\n",
      "                precision    recall  f1-score   support\n",
      "\n",
      "           Yes       0.66      0.61      0.63       141\n",
      "To some extent       0.29      0.50      0.37        50\n",
      "            No       0.48      0.28      0.36        57\n",
      "\n",
      "      accuracy                           0.51       248\n",
      "     macro avg       0.48      0.46      0.45       248\n",
      "  weighted avg       0.55      0.51      0.52       248\n",
      "\n"
     ]
    },
    {
     "name": "stderr",
     "output_type": "stream",
     "text": [
      "Epoch 5/15: 100%|██████████| 557/557 [02:04<00:00,  4.47it/s]\n"
     ]
    },
    {
     "name": "stdout",
     "output_type": "stream",
     "text": [
      "Epoch 5 Loss: 0.8332\n",
      "Validation Accuracy: 0.4879  Validation Macro F1: 0.4712\n",
      "                precision    recall  f1-score   support\n",
      "\n",
      "           Yes       0.68      0.46      0.55       141\n",
      "To some extent       0.33      0.52      0.40        50\n",
      "            No       0.42      0.53      0.47        57\n",
      "\n",
      "      accuracy                           0.49       248\n",
      "     macro avg       0.47      0.50      0.47       248\n",
      "  weighted avg       0.55      0.49      0.50       248\n",
      "\n"
     ]
    },
    {
     "name": "stderr",
     "output_type": "stream",
     "text": [
      "Epoch 6/15: 100%|██████████| 557/557 [02:04<00:00,  4.48it/s]\n"
     ]
    },
    {
     "name": "stdout",
     "output_type": "stream",
     "text": [
      "Epoch 6 Loss: 0.8047\n",
      "Validation Accuracy: 0.5323  Validation Macro F1: 0.4557\n",
      "                precision    recall  f1-score   support\n",
      "\n",
      "           Yes       0.65      0.67      0.66       141\n",
      "To some extent       0.29      0.46      0.36        50\n",
      "            No       0.58      0.25      0.35        57\n",
      "\n",
      "      accuracy                           0.53       248\n",
      "     macro avg       0.51      0.46      0.46       248\n",
      "  weighted avg       0.56      0.53      0.53       248\n",
      "\n"
     ]
    },
    {
     "name": "stderr",
     "output_type": "stream",
     "text": [
      "Epoch 7/15: 100%|██████████| 557/557 [02:04<00:00,  4.47it/s]\n"
     ]
    },
    {
     "name": "stdout",
     "output_type": "stream",
     "text": [
      "Epoch 7 Loss: 0.7604\n",
      "Validation Accuracy: 0.5121  Validation Macro F1: 0.4764\n",
      "                precision    recall  f1-score   support\n",
      "\n",
      "           Yes       0.66      0.56      0.61       141\n",
      "To some extent       0.30      0.58      0.39        50\n",
      "            No       0.59      0.33      0.43        57\n",
      "\n",
      "      accuracy                           0.51       248\n",
      "     macro avg       0.52      0.49      0.48       248\n",
      "  weighted avg       0.57      0.51      0.52       248\n",
      "\n"
     ]
    },
    {
     "name": "stderr",
     "output_type": "stream",
     "text": [
      "Epoch 8/15: 100%|██████████| 557/557 [02:04<00:00,  4.48it/s]\n"
     ]
    },
    {
     "name": "stdout",
     "output_type": "stream",
     "text": [
      "Epoch 8 Loss: 0.7161\n",
      "Validation Accuracy: 0.5282  Validation Macro F1: 0.4557\n",
      "                precision    recall  f1-score   support\n",
      "\n",
      "           Yes       0.64      0.67      0.66       141\n",
      "To some extent       0.26      0.36      0.31        50\n",
      "            No       0.56      0.32      0.40        57\n",
      "\n",
      "      accuracy                           0.53       248\n",
      "     macro avg       0.49      0.45      0.46       248\n",
      "  weighted avg       0.55      0.53      0.53       248\n",
      "\n"
     ]
    },
    {
     "name": "stderr",
     "output_type": "stream",
     "text": [
      "Epoch 9/15: 100%|██████████| 557/557 [02:04<00:00,  4.47it/s]\n"
     ]
    },
    {
     "name": "stdout",
     "output_type": "stream",
     "text": [
      "Epoch 9 Loss: 0.7091\n",
      "Validation Accuracy: 0.5202  Validation Macro F1: 0.4880\n",
      "                precision    recall  f1-score   support\n",
      "\n",
      "           Yes       0.69      0.55      0.61       141\n",
      "To some extent       0.31      0.52      0.39        50\n",
      "            No       0.48      0.44      0.46        57\n",
      "\n",
      "      accuracy                           0.52       248\n",
      "     macro avg       0.49      0.50      0.49       248\n",
      "  weighted avg       0.57      0.52      0.53       248\n",
      "\n"
     ]
    },
    {
     "name": "stderr",
     "output_type": "stream",
     "text": [
      "Epoch 10/15: 100%|██████████| 557/557 [02:04<00:00,  4.46it/s]\n"
     ]
    },
    {
     "name": "stdout",
     "output_type": "stream",
     "text": [
      "Epoch 10 Loss: 0.6939\n",
      "Validation Accuracy: 0.5242  Validation Macro F1: 0.4878\n",
      "                precision    recall  f1-score   support\n",
      "\n",
      "           Yes       0.72      0.55      0.62       141\n",
      "To some extent       0.32      0.40      0.36        50\n",
      "            No       0.42      0.58      0.49        57\n",
      "\n",
      "      accuracy                           0.52       248\n",
      "     macro avg       0.49      0.51      0.49       248\n",
      "  weighted avg       0.57      0.52      0.54       248\n",
      "\n"
     ]
    },
    {
     "name": "stderr",
     "output_type": "stream",
     "text": [
      "Epoch 11/15: 100%|██████████| 557/557 [02:04<00:00,  4.47it/s]\n"
     ]
    },
    {
     "name": "stdout",
     "output_type": "stream",
     "text": [
      "Epoch 11 Loss: 0.6623\n",
      "Validation Accuracy: 0.5282  Validation Macro F1: 0.4956\n",
      "                precision    recall  f1-score   support\n",
      "\n",
      "           Yes       0.75      0.54      0.63       141\n",
      "To some extent       0.30      0.42      0.35        50\n",
      "            No       0.45      0.60      0.51        57\n",
      "\n",
      "      accuracy                           0.53       248\n",
      "     macro avg       0.50      0.52      0.50       248\n",
      "  weighted avg       0.59      0.53      0.54       248\n",
      "\n"
     ]
    },
    {
     "name": "stderr",
     "output_type": "stream",
     "text": [
      "Epoch 12/15: 100%|██████████| 557/557 [02:04<00:00,  4.47it/s]\n"
     ]
    },
    {
     "name": "stdout",
     "output_type": "stream",
     "text": [
      "Epoch 12 Loss: 0.6427\n",
      "Validation Accuracy: 0.5806  Validation Macro F1: 0.4691\n",
      "                precision    recall  f1-score   support\n",
      "\n",
      "           Yes       0.64      0.81      0.71       141\n",
      "To some extent       0.30      0.30      0.30        50\n",
      "            No       0.79      0.26      0.39        57\n",
      "\n",
      "      accuracy                           0.58       248\n",
      "     macro avg       0.58      0.46      0.47       248\n",
      "  weighted avg       0.60      0.58      0.56       248\n",
      "\n"
     ]
    },
    {
     "name": "stderr",
     "output_type": "stream",
     "text": [
      "Epoch 13/15: 100%|██████████| 557/557 [02:04<00:00,  4.47it/s]\n"
     ]
    },
    {
     "name": "stdout",
     "output_type": "stream",
     "text": [
      "Epoch 13 Loss: 0.6625\n",
      "Validation Accuracy: 0.5323  Validation Macro F1: 0.4691\n",
      "                precision    recall  f1-score   support\n",
      "\n",
      "           Yes       0.65      0.65      0.65       141\n",
      "To some extent       0.30      0.40      0.34        50\n",
      "            No       0.50      0.35      0.41        57\n",
      "\n",
      "      accuracy                           0.53       248\n",
      "     macro avg       0.48      0.47      0.47       248\n",
      "  weighted avg       0.54      0.53      0.53       248\n",
      "\n"
     ]
    },
    {
     "name": "stderr",
     "output_type": "stream",
     "text": [
      "Epoch 14/15: 100%|██████████| 557/557 [02:04<00:00,  4.46it/s]\n"
     ]
    },
    {
     "name": "stdout",
     "output_type": "stream",
     "text": [
      "Epoch 14 Loss: 0.6259\n",
      "Validation Accuracy: 0.5242  Validation Macro F1: 0.4844\n",
      "                precision    recall  f1-score   support\n",
      "\n",
      "           Yes       0.69      0.56      0.62       141\n",
      "To some extent       0.32      0.38      0.35        50\n",
      "            No       0.43      0.56      0.48        57\n",
      "\n",
      "      accuracy                           0.52       248\n",
      "     macro avg       0.48      0.50      0.48       248\n",
      "  weighted avg       0.56      0.52      0.53       248\n",
      "\n"
     ]
    },
    {
     "name": "stderr",
     "output_type": "stream",
     "text": [
      "Epoch 15/15: 100%|██████████| 557/557 [02:04<00:00,  4.46it/s]\n"
     ]
    },
    {
     "name": "stdout",
     "output_type": "stream",
     "text": [
      "Epoch 15 Loss: 0.6465\n",
      "Validation Accuracy: 0.5403  Validation Macro F1: 0.4853\n",
      "                precision    recall  f1-score   support\n",
      "\n",
      "           Yes       0.67      0.64      0.65       141\n",
      "To some extent       0.31      0.40      0.35        50\n",
      "            No       0.49      0.42      0.45        57\n",
      "\n",
      "      accuracy                           0.54       248\n",
      "     macro avg       0.49      0.49      0.49       248\n",
      "  weighted avg       0.55      0.54      0.55       248\n",
      "\n",
      "\n",
      "🔁 Training with: SMOOTHING Loss\n",
      "\n"
     ]
    },
    {
     "name": "stderr",
     "output_type": "stream",
     "text": [
      "Some weights of BertForSequenceClassification were not initialized from the model checkpoint at bert-base-uncased and are newly initialized: ['classifier.bias', 'classifier.weight']\n",
      "You should probably TRAIN this model on a down-stream task to be able to use it for predictions and inference.\n",
      "Epoch 1/15: 100%|██████████| 557/557 [02:04<00:00,  4.48it/s]\n"
     ]
    },
    {
     "name": "stdout",
     "output_type": "stream",
     "text": [
      "Epoch 1 Loss: 1.1345\n",
      "Validation Accuracy: 0.4758  Validation Macro F1: 0.3927\n",
      "                precision    recall  f1-score   support\n",
      "\n",
      "           Yes       0.62      0.59      0.60       141\n",
      "To some extent       0.26      0.56      0.36        50\n",
      "            No       0.88      0.12      0.22        57\n",
      "\n",
      "      accuracy                           0.48       248\n",
      "     macro avg       0.59      0.42      0.39       248\n",
      "  weighted avg       0.61      0.48      0.47       248\n",
      "\n"
     ]
    },
    {
     "name": "stderr",
     "output_type": "stream",
     "text": [
      "Epoch 2/15: 100%|██████████| 557/557 [02:04<00:00,  4.48it/s]\n"
     ]
    },
    {
     "name": "stdout",
     "output_type": "stream",
     "text": [
      "Epoch 2 Loss: 1.1039\n",
      "Validation Accuracy: 0.4798  Validation Macro F1: 0.4163\n",
      "                precision    recall  f1-score   support\n",
      "\n",
      "           Yes       0.62      0.59      0.60       141\n",
      "To some extent       0.26      0.46      0.34        50\n",
      "            No       0.48      0.23      0.31        57\n",
      "\n",
      "      accuracy                           0.48       248\n",
      "     macro avg       0.46      0.43      0.42       248\n",
      "  weighted avg       0.52      0.48      0.48       248\n",
      "\n"
     ]
    },
    {
     "name": "stderr",
     "output_type": "stream",
     "text": [
      "Epoch 3/15: 100%|██████████| 557/557 [02:04<00:00,  4.48it/s]\n"
     ]
    },
    {
     "name": "stdout",
     "output_type": "stream",
     "text": [
      "Epoch 3 Loss: 1.0702\n",
      "Validation Accuracy: 0.4274  Validation Macro F1: 0.4188\n",
      "                precision    recall  f1-score   support\n",
      "\n",
      "           Yes       0.72      0.35      0.47       141\n",
      "To some extent       0.30      0.46      0.37        50\n",
      "            No       0.33      0.60      0.42        57\n",
      "\n",
      "      accuracy                           0.43       248\n",
      "     macro avg       0.45      0.47      0.42       248\n",
      "  weighted avg       0.55      0.43      0.44       248\n",
      "\n"
     ]
    },
    {
     "name": "stderr",
     "output_type": "stream",
     "text": [
      "Epoch 4/15: 100%|██████████| 557/557 [02:04<00:00,  4.48it/s]\n"
     ]
    },
    {
     "name": "stdout",
     "output_type": "stream",
     "text": [
      "Epoch 4 Loss: 1.0111\n",
      "Validation Accuracy: 0.5484  Validation Macro F1: 0.4487\n",
      "                precision    recall  f1-score   support\n",
      "\n",
      "           Yes       0.64      0.74      0.68       141\n",
      "To some extent       0.30      0.40      0.34        50\n",
      "            No       0.67      0.21      0.32        57\n",
      "\n",
      "      accuracy                           0.55       248\n",
      "     macro avg       0.53      0.45      0.45       248\n",
      "  weighted avg       0.58      0.55      0.53       248\n",
      "\n"
     ]
    },
    {
     "name": "stderr",
     "output_type": "stream",
     "text": [
      "Epoch 5/15: 100%|██████████| 557/557 [02:04<00:00,  4.48it/s]\n"
     ]
    },
    {
     "name": "stdout",
     "output_type": "stream",
     "text": [
      "Epoch 5 Loss: 0.9594\n",
      "Validation Accuracy: 0.5202  Validation Macro F1: 0.4878\n",
      "                precision    recall  f1-score   support\n",
      "\n",
      "           Yes       0.70      0.55      0.61       141\n",
      "To some extent       0.33      0.60      0.42        50\n",
      "            No       0.48      0.39      0.43        57\n",
      "\n",
      "      accuracy                           0.52       248\n",
      "     macro avg       0.50      0.51      0.49       248\n",
      "  weighted avg       0.57      0.52      0.53       248\n",
      "\n"
     ]
    },
    {
     "name": "stderr",
     "output_type": "stream",
     "text": [
      "Epoch 6/15: 100%|██████████| 557/557 [02:04<00:00,  4.47it/s]\n"
     ]
    },
    {
     "name": "stdout",
     "output_type": "stream",
     "text": [
      "Epoch 6 Loss: 0.9328\n",
      "Validation Accuracy: 0.5766  Validation Macro F1: 0.5028\n",
      "                precision    recall  f1-score   support\n",
      "\n",
      "           Yes       0.67      0.72      0.70       141\n",
      "To some extent       0.33      0.36      0.34        50\n",
      "            No       0.56      0.40      0.47        57\n",
      "\n",
      "      accuracy                           0.58       248\n",
      "     macro avg       0.52      0.50      0.50       248\n",
      "  weighted avg       0.58      0.58      0.57       248\n",
      "\n"
     ]
    },
    {
     "name": "stderr",
     "output_type": "stream",
     "text": [
      "Epoch 7/15: 100%|██████████| 557/557 [02:04<00:00,  4.47it/s]\n"
     ]
    },
    {
     "name": "stdout",
     "output_type": "stream",
     "text": [
      "Epoch 7 Loss: 0.8975\n",
      "Validation Accuracy: 0.5081  Validation Macro F1: 0.4475\n",
      "                precision    recall  f1-score   support\n",
      "\n",
      "           Yes       0.68      0.61      0.64       141\n",
      "To some extent       0.27      0.34      0.30        50\n",
      "            No       0.40      0.40      0.40        57\n",
      "\n",
      "      accuracy                           0.51       248\n",
      "     macro avg       0.45      0.45      0.45       248\n",
      "  weighted avg       0.53      0.51      0.52       248\n",
      "\n"
     ]
    },
    {
     "name": "stderr",
     "output_type": "stream",
     "text": [
      "Epoch 8/15: 100%|██████████| 557/557 [02:04<00:00,  4.49it/s]\n"
     ]
    },
    {
     "name": "stdout",
     "output_type": "stream",
     "text": [
      "Epoch 8 Loss: 0.8808\n",
      "Validation Accuracy: 0.4798  Validation Macro F1: 0.4637\n",
      "                precision    recall  f1-score   support\n",
      "\n",
      "           Yes       0.74      0.44      0.55       141\n",
      "To some extent       0.32      0.52      0.39        50\n",
      "            No       0.38      0.54      0.45        57\n",
      "\n",
      "      accuracy                           0.48       248\n",
      "     macro avg       0.48      0.50      0.46       248\n",
      "  weighted avg       0.57      0.48      0.50       248\n",
      "\n"
     ]
    },
    {
     "name": "stderr",
     "output_type": "stream",
     "text": [
      "Epoch 9/15: 100%|██████████| 557/557 [02:04<00:00,  4.48it/s]\n"
     ]
    },
    {
     "name": "stdout",
     "output_type": "stream",
     "text": [
      "Epoch 9 Loss: 0.8646\n",
      "Validation Accuracy: 0.5524  Validation Macro F1: 0.5112\n",
      "                precision    recall  f1-score   support\n",
      "\n",
      "           Yes       0.70      0.61      0.65       141\n",
      "To some extent       0.34      0.56      0.42        50\n",
      "            No       0.52      0.40      0.46        57\n",
      "\n",
      "      accuracy                           0.55       248\n",
      "     macro avg       0.52      0.52      0.51       248\n",
      "  weighted avg       0.59      0.55      0.56       248\n",
      "\n"
     ]
    },
    {
     "name": "stderr",
     "output_type": "stream",
     "text": [
      "Epoch 10/15: 100%|██████████| 557/557 [02:04<00:00,  4.48it/s]\n"
     ]
    },
    {
     "name": "stdout",
     "output_type": "stream",
     "text": [
      "Epoch 10 Loss: 0.8505\n",
      "Validation Accuracy: 0.5282  Validation Macro F1: 0.4802\n",
      "                precision    recall  f1-score   support\n",
      "\n",
      "           Yes       0.69      0.60      0.64       141\n",
      "To some extent       0.29      0.40      0.34        50\n",
      "            No       0.46      0.46      0.46        57\n",
      "\n",
      "      accuracy                           0.53       248\n",
      "     macro avg       0.48      0.49      0.48       248\n",
      "  weighted avg       0.56      0.53      0.54       248\n",
      "\n"
     ]
    },
    {
     "name": "stderr",
     "output_type": "stream",
     "text": [
      "Epoch 11/15: 100%|██████████| 557/557 [02:04<00:00,  4.47it/s]\n"
     ]
    },
    {
     "name": "stdout",
     "output_type": "stream",
     "text": [
      "Epoch 11 Loss: 0.8454\n",
      "Validation Accuracy: 0.5444  Validation Macro F1: 0.5036\n",
      "                precision    recall  f1-score   support\n",
      "\n",
      "           Yes       0.71      0.60      0.65       141\n",
      "To some extent       0.30      0.44      0.35        50\n",
      "            No       0.52      0.49      0.50        57\n",
      "\n",
      "      accuracy                           0.54       248\n",
      "     macro avg       0.51      0.51      0.50       248\n",
      "  weighted avg       0.58      0.54      0.56       248\n",
      "\n"
     ]
    },
    {
     "name": "stderr",
     "output_type": "stream",
     "text": [
      "Epoch 12/15: 100%|██████████| 557/557 [02:04<00:00,  4.49it/s]\n"
     ]
    },
    {
     "name": "stdout",
     "output_type": "stream",
     "text": [
      "Epoch 12 Loss: 0.8568\n",
      "Validation Accuracy: 0.5242  Validation Macro F1: 0.4943\n",
      "                precision    recall  f1-score   support\n",
      "\n",
      "           Yes       0.69      0.56      0.62       141\n",
      "To some extent       0.30      0.54      0.39        50\n",
      "            No       0.56      0.42      0.48        57\n",
      "\n",
      "      accuracy                           0.52       248\n",
      "     macro avg       0.52      0.51      0.49       248\n",
      "  weighted avg       0.58      0.52      0.54       248\n",
      "\n"
     ]
    },
    {
     "name": "stderr",
     "output_type": "stream",
     "text": [
      "Epoch 13/15: 100%|██████████| 557/557 [02:04<00:00,  4.48it/s]\n"
     ]
    },
    {
     "name": "stdout",
     "output_type": "stream",
     "text": [
      "Epoch 13 Loss: 0.8426\n",
      "Validation Accuracy: 0.5202  Validation Macro F1: 0.4920\n",
      "                precision    recall  f1-score   support\n",
      "\n",
      "           Yes       0.69      0.54      0.61       141\n",
      "To some extent       0.32      0.60      0.42        50\n",
      "            No       0.51      0.40      0.45        57\n",
      "\n",
      "      accuracy                           0.52       248\n",
      "     macro avg       0.51      0.51      0.49       248\n",
      "  weighted avg       0.58      0.52      0.53       248\n",
      "\n"
     ]
    },
    {
     "name": "stderr",
     "output_type": "stream",
     "text": [
      "Epoch 14/15: 100%|██████████| 557/557 [02:04<00:00,  4.47it/s]\n"
     ]
    },
    {
     "name": "stdout",
     "output_type": "stream",
     "text": [
      "Epoch 14 Loss: 0.8233\n",
      "Validation Accuracy: 0.5645  Validation Macro F1: 0.5017\n",
      "                precision    recall  f1-score   support\n",
      "\n",
      "           Yes       0.67      0.69      0.68       141\n",
      "To some extent       0.32      0.44      0.37        50\n",
      "            No       0.58      0.37      0.45        57\n",
      "\n",
      "      accuracy                           0.56       248\n",
      "     macro avg       0.53      0.50      0.50       248\n",
      "  weighted avg       0.58      0.56      0.57       248\n",
      "\n"
     ]
    },
    {
     "name": "stderr",
     "output_type": "stream",
     "text": [
      "Epoch 15/15: 100%|██████████| 557/557 [02:04<00:00,  4.47it/s]\n"
     ]
    },
    {
     "name": "stdout",
     "output_type": "stream",
     "text": [
      "Epoch 15 Loss: 0.8259\n",
      "Validation Accuracy: 0.5605  Validation Macro F1: 0.5043\n",
      "                precision    recall  f1-score   support\n",
      "\n",
      "           Yes       0.68      0.66      0.67       141\n",
      "To some extent       0.35      0.52      0.42        50\n",
      "            No       0.54      0.35      0.43        57\n",
      "\n",
      "      accuracy                           0.56       248\n",
      "     macro avg       0.52      0.51      0.50       248\n",
      "  weighted avg       0.58      0.56      0.56       248\n",
      "\n",
      "\n",
      "🔁 Training with: FOCAL Loss\n",
      "\n"
     ]
    },
    {
     "name": "stderr",
     "output_type": "stream",
     "text": [
      "Some weights of BertForSequenceClassification were not initialized from the model checkpoint at bert-base-uncased and are newly initialized: ['classifier.bias', 'classifier.weight']\n",
      "You should probably TRAIN this model on a down-stream task to be able to use it for predictions and inference.\n",
      "Epoch 1/15: 100%|██████████| 557/557 [02:04<00:00,  4.47it/s]\n"
     ]
    },
    {
     "name": "stdout",
     "output_type": "stream",
     "text": [
      "Epoch 1 Loss: 0.5429\n",
      "Validation Accuracy: 0.2137  Validation Macro F1: 0.1545\n",
      "                precision    recall  f1-score   support\n",
      "\n",
      "           Yes       0.00      0.00      0.00       141\n",
      "To some extent       0.20      0.98      0.33        50\n",
      "            No       0.80      0.07      0.13        57\n",
      "\n",
      "      accuracy                           0.21       248\n",
      "     macro avg       0.33      0.35      0.15       248\n",
      "  weighted avg       0.22      0.21      0.10       248\n",
      "\n"
     ]
    },
    {
     "name": "stderr",
     "output_type": "stream",
     "text": [
      "Epoch 2/15: 100%|██████████| 557/557 [02:04<00:00,  4.47it/s]\n"
     ]
    },
    {
     "name": "stdout",
     "output_type": "stream",
     "text": [
      "Epoch 2 Loss: 0.5123\n",
      "Validation Accuracy: 0.2863  Validation Macro F1: 0.2450\n",
      "                precision    recall  f1-score   support\n",
      "\n",
      "           Yes       1.00      0.06      0.11       141\n",
      "To some extent       0.42      0.16      0.23        50\n",
      "            No       0.25      0.96      0.40        57\n",
      "\n",
      "      accuracy                           0.29       248\n",
      "     macro avg       0.56      0.39      0.24       248\n",
      "  weighted avg       0.71      0.29      0.20       248\n",
      "\n"
     ]
    },
    {
     "name": "stderr",
     "output_type": "stream",
     "text": [
      "Epoch 3/15: 100%|██████████| 557/557 [02:04<00:00,  4.47it/s]\n"
     ]
    },
    {
     "name": "stdout",
     "output_type": "stream",
     "text": [
      "Epoch 3 Loss: 0.4623\n",
      "Validation Accuracy: 0.3226  Validation Macro F1: 0.3098\n",
      "                precision    recall  f1-score   support\n",
      "\n",
      "           Yes       0.90      0.13      0.22       141\n",
      "To some extent       0.33      0.30      0.31        50\n",
      "            No       0.26      0.82      0.39        57\n",
      "\n",
      "      accuracy                           0.32       248\n",
      "     macro avg       0.49      0.42      0.31       248\n",
      "  weighted avg       0.64      0.32      0.28       248\n",
      "\n"
     ]
    },
    {
     "name": "stderr",
     "output_type": "stream",
     "text": [
      "Epoch 4/15: 100%|██████████| 557/557 [02:04<00:00,  4.47it/s]\n"
     ]
    },
    {
     "name": "stdout",
     "output_type": "stream",
     "text": [
      "Epoch 4 Loss: 0.4314\n",
      "Validation Accuracy: 0.3992  Validation Macro F1: 0.4039\n",
      "                precision    recall  f1-score   support\n",
      "\n",
      "           Yes       0.85      0.20      0.32       141\n",
      "To some extent       0.28      0.74      0.41        50\n",
      "            No       0.40      0.60      0.48        57\n",
      "\n",
      "      accuracy                           0.40       248\n",
      "     macro avg       0.51      0.51      0.40       248\n",
      "  weighted avg       0.63      0.40      0.38       248\n",
      "\n"
     ]
    },
    {
     "name": "stderr",
     "output_type": "stream",
     "text": [
      "Epoch 5/15: 100%|██████████| 557/557 [02:04<00:00,  4.47it/s]\n"
     ]
    },
    {
     "name": "stdout",
     "output_type": "stream",
     "text": [
      "Epoch 5 Loss: 0.3938\n",
      "Validation Accuracy: 0.3145  Validation Macro F1: 0.3139\n",
      "                precision    recall  f1-score   support\n",
      "\n",
      "           Yes       0.88      0.05      0.09       141\n",
      "To some extent       0.24      0.86      0.38        50\n",
      "            No       0.45      0.49      0.47        57\n",
      "\n",
      "      accuracy                           0.31       248\n",
      "     macro avg       0.52      0.47      0.31       248\n",
      "  weighted avg       0.65      0.31      0.24       248\n",
      "\n"
     ]
    },
    {
     "name": "stderr",
     "output_type": "stream",
     "text": [
      "Epoch 6/15: 100%|██████████| 557/557 [02:04<00:00,  4.47it/s]\n"
     ]
    },
    {
     "name": "stdout",
     "output_type": "stream",
     "text": [
      "Epoch 6 Loss: 0.3710\n",
      "Validation Accuracy: 0.4153  Validation Macro F1: 0.4211\n",
      "                precision    recall  f1-score   support\n",
      "\n",
      "           Yes       0.79      0.23      0.36       141\n",
      "To some extent       0.29      0.80      0.43        50\n",
      "            No       0.43      0.53      0.47        57\n",
      "\n",
      "      accuracy                           0.42       248\n",
      "     macro avg       0.50      0.52      0.42       248\n",
      "  weighted avg       0.60      0.42      0.40       248\n",
      "\n"
     ]
    },
    {
     "name": "stderr",
     "output_type": "stream",
     "text": [
      "Epoch 7/15: 100%|██████████| 557/557 [02:04<00:00,  4.47it/s]\n"
     ]
    },
    {
     "name": "stdout",
     "output_type": "stream",
     "text": [
      "Epoch 7 Loss: 0.3526\n",
      "Validation Accuracy: 0.3911  Validation Macro F1: 0.3921\n",
      "                precision    recall  f1-score   support\n",
      "\n",
      "           Yes       0.74      0.23      0.35       141\n",
      "To some extent       0.30      0.78      0.43        50\n",
      "            No       0.36      0.46      0.40        57\n",
      "\n",
      "      accuracy                           0.39       248\n",
      "     macro avg       0.47      0.49      0.39       248\n",
      "  weighted avg       0.56      0.39      0.38       248\n",
      "\n"
     ]
    },
    {
     "name": "stderr",
     "output_type": "stream",
     "text": [
      "Epoch 8/15: 100%|██████████| 557/557 [02:04<00:00,  4.46it/s]\n"
     ]
    },
    {
     "name": "stdout",
     "output_type": "stream",
     "text": [
      "Epoch 8 Loss: 0.3301\n",
      "Validation Accuracy: 0.4194  Validation Macro F1: 0.4184\n",
      "                precision    recall  f1-score   support\n",
      "\n",
      "           Yes       0.76      0.30      0.43       141\n",
      "To some extent       0.31      0.62      0.41        50\n",
      "            No       0.34      0.54      0.42        57\n",
      "\n",
      "      accuracy                           0.42       248\n",
      "     macro avg       0.47      0.49      0.42       248\n",
      "  weighted avg       0.57      0.42      0.42       248\n",
      "\n"
     ]
    },
    {
     "name": "stderr",
     "output_type": "stream",
     "text": [
      "Epoch 9/15: 100%|██████████| 557/557 [02:04<00:00,  4.48it/s]\n"
     ]
    },
    {
     "name": "stdout",
     "output_type": "stream",
     "text": [
      "Epoch 9 Loss: 0.3271\n",
      "Validation Accuracy: 0.4073  Validation Macro F1: 0.4091\n",
      "                precision    recall  f1-score   support\n",
      "\n",
      "           Yes       0.84      0.22      0.35       141\n",
      "To some extent       0.31      0.64      0.42        50\n",
      "            No       0.36      0.67      0.46        57\n",
      "\n",
      "      accuracy                           0.41       248\n",
      "     macro avg       0.50      0.51      0.41       248\n",
      "  weighted avg       0.62      0.41      0.39       248\n",
      "\n"
     ]
    },
    {
     "name": "stderr",
     "output_type": "stream",
     "text": [
      "Epoch 10/15: 100%|██████████| 557/557 [02:04<00:00,  4.46it/s]\n"
     ]
    },
    {
     "name": "stdout",
     "output_type": "stream",
     "text": [
      "Epoch 10 Loss: 0.3152\n",
      "Validation Accuracy: 0.4395  Validation Macro F1: 0.4370\n",
      "                precision    recall  f1-score   support\n",
      "\n",
      "           Yes       0.78      0.32      0.45       141\n",
      "To some extent       0.32      0.56      0.41        50\n",
      "            No       0.35      0.63      0.45        57\n",
      "\n",
      "      accuracy                           0.44       248\n",
      "     macro avg       0.48      0.50      0.44       248\n",
      "  weighted avg       0.59      0.44      0.44       248\n",
      "\n"
     ]
    },
    {
     "name": "stderr",
     "output_type": "stream",
     "text": [
      "Epoch 11/15: 100%|██████████| 557/557 [02:04<00:00,  4.47it/s]\n"
     ]
    },
    {
     "name": "stdout",
     "output_type": "stream",
     "text": [
      "Epoch 11 Loss: 0.3083\n",
      "Validation Accuracy: 0.4516  Validation Macro F1: 0.4385\n",
      "                precision    recall  f1-score   support\n",
      "\n",
      "           Yes       0.75      0.39      0.51       141\n",
      "To some extent       0.29      0.72      0.42        50\n",
      "            No       0.40      0.37      0.39        57\n",
      "\n",
      "      accuracy                           0.45       248\n",
      "     macro avg       0.48      0.49      0.44       248\n",
      "  weighted avg       0.58      0.45      0.46       248\n",
      "\n"
     ]
    },
    {
     "name": "stderr",
     "output_type": "stream",
     "text": [
      "Epoch 12/15: 100%|██████████| 557/557 [02:04<00:00,  4.47it/s]\n"
     ]
    },
    {
     "name": "stdout",
     "output_type": "stream",
     "text": [
      "Epoch 12 Loss: 0.3059\n",
      "Validation Accuracy: 0.4032  Validation Macro F1: 0.4038\n",
      "                precision    recall  f1-score   support\n",
      "\n",
      "           Yes       0.83      0.24      0.37       141\n",
      "To some extent       0.33      0.54      0.41        50\n",
      "            No       0.31      0.68      0.43        57\n",
      "\n",
      "      accuracy                           0.40       248\n",
      "     macro avg       0.49      0.49      0.40       248\n",
      "  weighted avg       0.61      0.40      0.39       248\n",
      "\n"
     ]
    },
    {
     "name": "stderr",
     "output_type": "stream",
     "text": [
      "Epoch 13/15: 100%|██████████| 557/557 [02:04<00:00,  4.47it/s]\n"
     ]
    },
    {
     "name": "stdout",
     "output_type": "stream",
     "text": [
      "Epoch 13 Loss: 0.2933\n",
      "Validation Accuracy: 0.4798  Validation Macro F1: 0.4668\n",
      "                precision    recall  f1-score   support\n",
      "\n",
      "           Yes       0.72      0.43      0.54       141\n",
      "To some extent       0.31      0.66      0.43        50\n",
      "            No       0.43      0.44      0.43        57\n",
      "\n",
      "      accuracy                           0.48       248\n",
      "     macro avg       0.49      0.51      0.47       248\n",
      "  weighted avg       0.57      0.48      0.49       248\n",
      "\n"
     ]
    },
    {
     "name": "stderr",
     "output_type": "stream",
     "text": [
      "Epoch 14/15: 100%|██████████| 557/557 [02:04<00:00,  4.47it/s]\n"
     ]
    },
    {
     "name": "stdout",
     "output_type": "stream",
     "text": [
      "Epoch 14 Loss: 0.3067\n",
      "Validation Accuracy: 0.4032  Validation Macro F1: 0.4011\n",
      "                precision    recall  f1-score   support\n",
      "\n",
      "           Yes       0.82      0.26      0.40       141\n",
      "To some extent       0.33      0.46      0.39        50\n",
      "            No       0.30      0.70      0.42        57\n",
      "\n",
      "      accuracy                           0.40       248\n",
      "     macro avg       0.48      0.47      0.40       248\n",
      "  weighted avg       0.60      0.40      0.40       248\n",
      "\n"
     ]
    },
    {
     "name": "stderr",
     "output_type": "stream",
     "text": [
      "Epoch 15/15: 100%|██████████| 557/557 [02:04<00:00,  4.46it/s]\n"
     ]
    },
    {
     "name": "stdout",
     "output_type": "stream",
     "text": [
      "Epoch 15 Loss: 0.2941\n",
      "Validation Accuracy: 0.4476  Validation Macro F1: 0.4460\n",
      "                precision    recall  f1-score   support\n",
      "\n",
      "           Yes       0.80      0.32      0.46       141\n",
      "To some extent       0.33      0.60      0.43        50\n",
      "            No       0.36      0.63      0.46        57\n",
      "\n",
      "      accuracy                           0.45       248\n",
      "     macro avg       0.50      0.52      0.45       248\n",
      "  weighted avg       0.61      0.45      0.45       248\n",
      "\n"
     ]
    }
   ],
   "source": [
    "for loss_name in [\"ce\", \"smoothing\", \"focal\"]:\n",
    "    train_model(loss_name, train_loader, val_loader, num_labels=3)"
   ]
  },
  {
   "cell_type": "code",
   "execution_count": 17,
   "id": "36b40129",
   "metadata": {
    "execution": {
     "iopub.execute_input": "2025-04-24T21:55:24.742631Z",
     "iopub.status.busy": "2025-04-24T21:55:24.742362Z",
     "iopub.status.idle": "2025-04-24T21:55:32.979775Z",
     "shell.execute_reply": "2025-04-24T21:55:32.979203Z"
    },
    "papermill": {
     "duration": 10.367741,
     "end_time": "2025-04-24T21:55:32.980976",
     "exception": false,
     "start_time": "2025-04-24T21:55:22.613235",
     "status": "completed"
    },
    "tags": []
   },
   "outputs": [],
   "source": [
    "# ---------- Run ----------\n",
    "json_path = \"/kaggle/input/json-data/assignment_3_ai_tutors_dataset.json\"\n",
    "train_dataset, val_dataset, tokenizer, df = preprocess_dataset(json_path, \"Actionability_label\")\n",
    "train_loader = DataLoader(train_dataset, batch_size=4, shuffle=True)\n",
    "val_loader = DataLoader(val_dataset, batch_size=4)"
   ]
  },
  {
   "cell_type": "code",
   "execution_count": 18,
   "id": "0b6f6c82",
   "metadata": {
    "execution": {
     "iopub.execute_input": "2025-04-24T21:55:37.314725Z",
     "iopub.status.busy": "2025-04-24T21:55:37.314020Z",
     "iopub.status.idle": "2025-04-24T23:32:02.830838Z",
     "shell.execute_reply": "2025-04-24T23:32:02.830024Z"
    },
    "papermill": {
     "duration": 5787.6454,
     "end_time": "2025-04-24T23:32:02.832053",
     "exception": false,
     "start_time": "2025-04-24T21:55:35.186653",
     "status": "completed"
    },
    "tags": []
   },
   "outputs": [
    {
     "name": "stderr",
     "output_type": "stream",
     "text": [
      "Some weights of BertForSequenceClassification were not initialized from the model checkpoint at bert-base-uncased and are newly initialized: ['classifier.bias', 'classifier.weight']\n",
      "You should probably TRAIN this model on a down-stream task to be able to use it for predictions and inference.\n"
     ]
    },
    {
     "name": "stdout",
     "output_type": "stream",
     "text": [
      "\n",
      "🔁 Training with: CE Loss\n",
      "\n"
     ]
    },
    {
     "name": "stderr",
     "output_type": "stream",
     "text": [
      "Epoch 1/15: 100%|██████████| 557/557 [02:05<00:00,  4.43it/s]\n"
     ]
    },
    {
     "name": "stdout",
     "output_type": "stream",
     "text": [
      "Epoch 1 Loss: 1.0829\n",
      "Validation Accuracy: 0.6089  Validation Macro F1: 0.4092\n",
      "                precision    recall  f1-score   support\n",
      "\n",
      "           Yes       0.60      0.89      0.72       131\n",
      "To some extent       0.00      0.00      0.00        37\n",
      "            No       0.63      0.42      0.51        80\n",
      "\n",
      "      accuracy                           0.61       248\n",
      "     macro avg       0.41      0.44      0.41       248\n",
      "  weighted avg       0.52      0.61      0.54       248\n",
      "\n"
     ]
    },
    {
     "name": "stderr",
     "output_type": "stream",
     "text": [
      "Epoch 2/15: 100%|██████████| 557/557 [02:04<00:00,  4.47it/s]\n"
     ]
    },
    {
     "name": "stdout",
     "output_type": "stream",
     "text": [
      "Epoch 2 Loss: 0.9980\n",
      "Validation Accuracy: 0.5968  Validation Macro F1: 0.4809\n",
      "                precision    recall  f1-score   support\n",
      "\n",
      "           Yes       0.62      0.76      0.69       131\n",
      "To some extent       0.42      0.14      0.20        37\n",
      "            No       0.57      0.54      0.55        80\n",
      "\n",
      "      accuracy                           0.60       248\n",
      "     macro avg       0.54      0.48      0.48       248\n",
      "  weighted avg       0.57      0.60      0.57       248\n",
      "\n"
     ]
    },
    {
     "name": "stderr",
     "output_type": "stream",
     "text": [
      "Epoch 3/15: 100%|██████████| 557/557 [02:04<00:00,  4.48it/s]\n"
     ]
    },
    {
     "name": "stdout",
     "output_type": "stream",
     "text": [
      "Epoch 3 Loss: 0.9627\n",
      "Validation Accuracy: 0.6371  Validation Macro F1: 0.4770\n",
      "                precision    recall  f1-score   support\n",
      "\n",
      "           Yes       0.62      0.95      0.75       131\n",
      "To some extent       0.36      0.11      0.17        37\n",
      "            No       0.83      0.38      0.52        80\n",
      "\n",
      "      accuracy                           0.64       248\n",
      "     macro avg       0.60      0.48      0.48       248\n",
      "  weighted avg       0.65      0.64      0.59       248\n",
      "\n"
     ]
    },
    {
     "name": "stderr",
     "output_type": "stream",
     "text": [
      "Epoch 4/15: 100%|██████████| 557/557 [02:04<00:00,  4.48it/s]\n"
     ]
    },
    {
     "name": "stdout",
     "output_type": "stream",
     "text": [
      "Epoch 4 Loss: 0.8980\n",
      "Validation Accuracy: 0.6089  Validation Macro F1: 0.5595\n",
      "                precision    recall  f1-score   support\n",
      "\n",
      "           Yes       0.66      0.73      0.69       131\n",
      "To some extent       0.38      0.51      0.44        37\n",
      "            No       0.67      0.46      0.55        80\n",
      "\n",
      "      accuracy                           0.61       248\n",
      "     macro avg       0.57      0.57      0.56       248\n",
      "  weighted avg       0.62      0.61      0.61       248\n",
      "\n"
     ]
    },
    {
     "name": "stderr",
     "output_type": "stream",
     "text": [
      "Epoch 5/15: 100%|██████████| 557/557 [02:04<00:00,  4.47it/s]\n"
     ]
    },
    {
     "name": "stdout",
     "output_type": "stream",
     "text": [
      "Epoch 5 Loss: 0.8377\n",
      "Validation Accuracy: 0.5806  Validation Macro F1: 0.5318\n",
      "                precision    recall  f1-score   support\n",
      "\n",
      "           Yes       0.70      0.66      0.68       131\n",
      "To some extent       0.31      0.49      0.38        37\n",
      "            No       0.59      0.49      0.53        80\n",
      "\n",
      "      accuracy                           0.58       248\n",
      "     macro avg       0.53      0.55      0.53       248\n",
      "  weighted avg       0.61      0.58      0.59       248\n",
      "\n"
     ]
    },
    {
     "name": "stderr",
     "output_type": "stream",
     "text": [
      "Epoch 6/15: 100%|██████████| 557/557 [02:04<00:00,  4.46it/s]\n"
     ]
    },
    {
     "name": "stdout",
     "output_type": "stream",
     "text": [
      "Epoch 6 Loss: 0.7783\n",
      "Validation Accuracy: 0.6250  Validation Macro F1: 0.5397\n",
      "                precision    recall  f1-score   support\n",
      "\n",
      "           Yes       0.65      0.84      0.73       131\n",
      "To some extent       0.37      0.38      0.37        37\n",
      "            No       0.76      0.39      0.51        80\n",
      "\n",
      "      accuracy                           0.62       248\n",
      "     macro avg       0.59      0.54      0.54       248\n",
      "  weighted avg       0.64      0.62      0.61       248\n",
      "\n"
     ]
    },
    {
     "name": "stderr",
     "output_type": "stream",
     "text": [
      "Epoch 7/15: 100%|██████████| 557/557 [02:04<00:00,  4.48it/s]\n"
     ]
    },
    {
     "name": "stdout",
     "output_type": "stream",
     "text": [
      "Epoch 7 Loss: 0.7535\n",
      "Validation Accuracy: 0.5242  Validation Macro F1: 0.4835\n",
      "                precision    recall  f1-score   support\n",
      "\n",
      "           Yes       0.70      0.61      0.65       131\n",
      "To some extent       0.27      0.65      0.38        37\n",
      "            No       0.58      0.33      0.42        80\n",
      "\n",
      "      accuracy                           0.52       248\n",
      "     macro avg       0.52      0.53      0.48       248\n",
      "  weighted avg       0.59      0.52      0.54       248\n",
      "\n"
     ]
    },
    {
     "name": "stderr",
     "output_type": "stream",
     "text": [
      "Epoch 8/15: 100%|██████████| 557/557 [02:04<00:00,  4.47it/s]\n"
     ]
    },
    {
     "name": "stdout",
     "output_type": "stream",
     "text": [
      "Epoch 8 Loss: 0.7204\n",
      "Validation Accuracy: 0.5524  Validation Macro F1: 0.4991\n",
      "                precision    recall  f1-score   support\n",
      "\n",
      "           Yes       0.67      0.64      0.66       131\n",
      "To some extent       0.29      0.41      0.34        37\n",
      "            No       0.53      0.47      0.50        80\n",
      "\n",
      "      accuracy                           0.55       248\n",
      "     macro avg       0.50      0.51      0.50       248\n",
      "  weighted avg       0.57      0.55      0.56       248\n",
      "\n"
     ]
    },
    {
     "name": "stderr",
     "output_type": "stream",
     "text": [
      "Epoch 9/15: 100%|██████████| 557/557 [02:04<00:00,  4.46it/s]\n"
     ]
    },
    {
     "name": "stdout",
     "output_type": "stream",
     "text": [
      "Epoch 9 Loss: 0.6998\n",
      "Validation Accuracy: 0.5484  Validation Macro F1: 0.4843\n",
      "                precision    recall  f1-score   support\n",
      "\n",
      "           Yes       0.69      0.60      0.64       131\n",
      "To some extent       0.32      0.27      0.29        37\n",
      "            No       0.46      0.59      0.52        80\n",
      "\n",
      "      accuracy                           0.55       248\n",
      "     macro avg       0.49      0.49      0.48       248\n",
      "  weighted avg       0.56      0.55      0.55       248\n",
      "\n"
     ]
    },
    {
     "name": "stderr",
     "output_type": "stream",
     "text": [
      "Epoch 10/15: 100%|██████████| 557/557 [02:04<00:00,  4.47it/s]\n"
     ]
    },
    {
     "name": "stdout",
     "output_type": "stream",
     "text": [
      "Epoch 10 Loss: 0.6750\n",
      "Validation Accuracy: 0.5363  Validation Macro F1: 0.5045\n",
      "                precision    recall  f1-score   support\n",
      "\n",
      "           Yes       0.71      0.53      0.61       131\n",
      "To some extent       0.34      0.46      0.39        37\n",
      "            No       0.46      0.57      0.51        80\n",
      "\n",
      "      accuracy                           0.54       248\n",
      "     macro avg       0.50      0.52      0.50       248\n",
      "  weighted avg       0.57      0.54      0.55       248\n",
      "\n"
     ]
    },
    {
     "name": "stderr",
     "output_type": "stream",
     "text": [
      "Epoch 11/15: 100%|██████████| 557/557 [02:04<00:00,  4.47it/s]\n"
     ]
    },
    {
     "name": "stdout",
     "output_type": "stream",
     "text": [
      "Epoch 11 Loss: 0.6709\n",
      "Validation Accuracy: 0.5444  Validation Macro F1: 0.5175\n",
      "                precision    recall  f1-score   support\n",
      "\n",
      "           Yes       0.71      0.53      0.61       131\n",
      "To some extent       0.35      0.51      0.41        37\n",
      "            No       0.49      0.59      0.53        80\n",
      "\n",
      "      accuracy                           0.54       248\n",
      "     macro avg       0.52      0.54      0.52       248\n",
      "  weighted avg       0.59      0.54      0.55       248\n",
      "\n"
     ]
    },
    {
     "name": "stderr",
     "output_type": "stream",
     "text": [
      "Epoch 12/15: 100%|██████████| 557/557 [02:04<00:00,  4.47it/s]\n"
     ]
    },
    {
     "name": "stdout",
     "output_type": "stream",
     "text": [
      "Epoch 12 Loss: 0.6618\n",
      "Validation Accuracy: 0.5081  Validation Macro F1: 0.4761\n",
      "                precision    recall  f1-score   support\n",
      "\n",
      "           Yes       0.68      0.51      0.58       131\n",
      "To some extent       0.27      0.46      0.34        37\n",
      "            No       0.49      0.53      0.51        80\n",
      "\n",
      "      accuracy                           0.51       248\n",
      "     macro avg       0.48      0.50      0.48       248\n",
      "  weighted avg       0.56      0.51      0.52       248\n",
      "\n"
     ]
    },
    {
     "name": "stderr",
     "output_type": "stream",
     "text": [
      "Epoch 13/15: 100%|██████████| 557/557 [02:04<00:00,  4.47it/s]\n"
     ]
    },
    {
     "name": "stdout",
     "output_type": "stream",
     "text": [
      "Epoch 13 Loss: 0.6449\n",
      "Validation Accuracy: 0.5847  Validation Macro F1: 0.5299\n",
      "                precision    recall  f1-score   support\n",
      "\n",
      "           Yes       0.69      0.69      0.69       131\n",
      "To some extent       0.36      0.43      0.39        37\n",
      "            No       0.53      0.49      0.51        80\n",
      "\n",
      "      accuracy                           0.58       248\n",
      "     macro avg       0.53      0.54      0.53       248\n",
      "  weighted avg       0.59      0.58      0.59       248\n",
      "\n"
     ]
    },
    {
     "name": "stderr",
     "output_type": "stream",
     "text": [
      "Epoch 14/15: 100%|██████████| 557/557 [02:04<00:00,  4.48it/s]\n"
     ]
    },
    {
     "name": "stdout",
     "output_type": "stream",
     "text": [
      "Epoch 14 Loss: 0.6571\n",
      "Validation Accuracy: 0.5605  Validation Macro F1: 0.5208\n",
      "                precision    recall  f1-score   support\n",
      "\n",
      "           Yes       0.69      0.63      0.66       131\n",
      "To some extent       0.35      0.51      0.41        37\n",
      "            No       0.51      0.47      0.49        80\n",
      "\n",
      "      accuracy                           0.56       248\n",
      "     macro avg       0.52      0.54      0.52       248\n",
      "  weighted avg       0.58      0.56      0.57       248\n",
      "\n"
     ]
    },
    {
     "name": "stderr",
     "output_type": "stream",
     "text": [
      "Epoch 15/15: 100%|██████████| 557/557 [02:04<00:00,  4.47it/s]\n"
     ]
    },
    {
     "name": "stdout",
     "output_type": "stream",
     "text": [
      "Epoch 15 Loss: 0.6213\n",
      "Validation Accuracy: 0.5685  Validation Macro F1: 0.5268\n",
      "                precision    recall  f1-score   support\n",
      "\n",
      "           Yes       0.67      0.65      0.66       131\n",
      "To some extent       0.36      0.51      0.42        37\n",
      "            No       0.54      0.46      0.50        80\n",
      "\n",
      "      accuracy                           0.57       248\n",
      "     macro avg       0.52      0.54      0.53       248\n",
      "  weighted avg       0.58      0.57      0.57       248\n",
      "\n",
      "\n",
      "🔁 Training with: SMOOTHING Loss\n",
      "\n"
     ]
    },
    {
     "name": "stderr",
     "output_type": "stream",
     "text": [
      "Some weights of BertForSequenceClassification were not initialized from the model checkpoint at bert-base-uncased and are newly initialized: ['classifier.bias', 'classifier.weight']\n",
      "You should probably TRAIN this model on a down-stream task to be able to use it for predictions and inference.\n",
      "Epoch 1/15: 100%|██████████| 557/557 [02:04<00:00,  4.48it/s]\n"
     ]
    },
    {
     "name": "stdout",
     "output_type": "stream",
     "text": [
      "Epoch 1 Loss: 1.1518\n",
      "Validation Accuracy: 0.5282  Validation Macro F1: 0.2304\n",
      "                precision    recall  f1-score   support\n",
      "\n",
      "           Yes       0.53      1.00      0.69       131\n",
      "To some extent       0.00      0.00      0.00        37\n",
      "            No       0.00      0.00      0.00        80\n",
      "\n",
      "      accuracy                           0.53       248\n",
      "     macro avg       0.18      0.33      0.23       248\n",
      "  weighted avg       0.28      0.53      0.37       248\n",
      "\n"
     ]
    },
    {
     "name": "stderr",
     "output_type": "stream",
     "text": [
      "Epoch 2/15: 100%|██████████| 557/557 [02:04<00:00,  4.49it/s]\n"
     ]
    },
    {
     "name": "stdout",
     "output_type": "stream",
     "text": [
      "Epoch 2 Loss: 1.1521\n",
      "Validation Accuracy: 0.5282  Validation Macro F1: 0.2304\n",
      "                precision    recall  f1-score   support\n",
      "\n",
      "           Yes       0.53      1.00      0.69       131\n",
      "To some extent       0.00      0.00      0.00        37\n",
      "            No       0.00      0.00      0.00        80\n",
      "\n",
      "      accuracy                           0.53       248\n",
      "     macro avg       0.18      0.33      0.23       248\n",
      "  weighted avg       0.28      0.53      0.37       248\n",
      "\n"
     ]
    },
    {
     "name": "stderr",
     "output_type": "stream",
     "text": [
      "Epoch 3/15: 100%|██████████| 557/557 [02:03<00:00,  4.49it/s]\n"
     ]
    },
    {
     "name": "stdout",
     "output_type": "stream",
     "text": [
      "Epoch 3 Loss: 1.1490\n",
      "Validation Accuracy: 0.5282  Validation Macro F1: 0.2304\n",
      "                precision    recall  f1-score   support\n",
      "\n",
      "           Yes       0.53      1.00      0.69       131\n",
      "To some extent       0.00      0.00      0.00        37\n",
      "            No       0.00      0.00      0.00        80\n",
      "\n",
      "      accuracy                           0.53       248\n",
      "     macro avg       0.18      0.33      0.23       248\n",
      "  weighted avg       0.28      0.53      0.37       248\n",
      "\n"
     ]
    },
    {
     "name": "stderr",
     "output_type": "stream",
     "text": [
      "Epoch 4/15: 100%|██████████| 557/557 [02:04<00:00,  4.48it/s]\n"
     ]
    },
    {
     "name": "stdout",
     "output_type": "stream",
     "text": [
      "Epoch 4 Loss: 1.1214\n",
      "Validation Accuracy: 0.5968  Validation Macro F1: 0.3996\n",
      "                precision    recall  f1-score   support\n",
      "\n",
      "           Yes       0.60      0.88      0.71       131\n",
      "To some extent       0.00      0.00      0.00        37\n",
      "            No       0.60      0.41      0.49        80\n",
      "\n",
      "      accuracy                           0.60       248\n",
      "     macro avg       0.40      0.43      0.40       248\n",
      "  weighted avg       0.51      0.60      0.53       248\n",
      "\n"
     ]
    },
    {
     "name": "stderr",
     "output_type": "stream",
     "text": [
      "Epoch 5/15: 100%|██████████| 557/557 [02:04<00:00,  4.48it/s]\n"
     ]
    },
    {
     "name": "stdout",
     "output_type": "stream",
     "text": [
      "Epoch 5 Loss: 1.1064\n",
      "Validation Accuracy: 0.6048  Validation Macro F1: 0.4484\n",
      "                precision    recall  f1-score   support\n",
      "\n",
      "           Yes       0.61      0.87      0.72       131\n",
      "To some extent       0.38      0.08      0.13        37\n",
      "            No       0.61      0.41      0.49        80\n",
      "\n",
      "      accuracy                           0.60       248\n",
      "     macro avg       0.53      0.45      0.45       248\n",
      "  weighted avg       0.58      0.60      0.56       248\n",
      "\n"
     ]
    },
    {
     "name": "stderr",
     "output_type": "stream",
     "text": [
      "Epoch 6/15: 100%|██████████| 557/557 [02:04<00:00,  4.48it/s]\n"
     ]
    },
    {
     "name": "stdout",
     "output_type": "stream",
     "text": [
      "Epoch 6 Loss: 1.1042\n",
      "Validation Accuracy: 0.5040  Validation Macro F1: 0.3357\n",
      "                precision    recall  f1-score   support\n",
      "\n",
      "           Yes       0.55      0.73      0.63       131\n",
      "To some extent       0.00      0.00      0.00        37\n",
      "            No       0.40      0.36      0.38        80\n",
      "\n",
      "      accuracy                           0.50       248\n",
      "     macro avg       0.32      0.37      0.34       248\n",
      "  weighted avg       0.42      0.50      0.45       248\n",
      "\n"
     ]
    },
    {
     "name": "stderr",
     "output_type": "stream",
     "text": [
      "Epoch 7/15: 100%|██████████| 557/557 [02:04<00:00,  4.49it/s]\n"
     ]
    },
    {
     "name": "stdout",
     "output_type": "stream",
     "text": [
      "Epoch 7 Loss: 1.0975\n",
      "Validation Accuracy: 0.6048  Validation Macro F1: 0.3938\n",
      "                precision    recall  f1-score   support\n",
      "\n",
      "           Yes       0.60      0.93      0.73       131\n",
      "To some extent       0.00      0.00      0.00        37\n",
      "            No       0.65      0.35      0.46        80\n",
      "\n",
      "      accuracy                           0.60       248\n",
      "     macro avg       0.42      0.43      0.39       248\n",
      "  weighted avg       0.52      0.60      0.53       248\n",
      "\n"
     ]
    },
    {
     "name": "stderr",
     "output_type": "stream",
     "text": [
      "Epoch 8/15: 100%|██████████| 557/557 [02:04<00:00,  4.49it/s]\n"
     ]
    },
    {
     "name": "stdout",
     "output_type": "stream",
     "text": [
      "Epoch 8 Loss: 1.0562\n",
      "Validation Accuracy: 0.6089  Validation Macro F1: 0.4147\n",
      "                precision    recall  f1-score   support\n",
      "\n",
      "           Yes       0.59      0.97      0.73       131\n",
      "To some extent       0.22      0.05      0.09        37\n",
      "            No       0.92      0.28      0.42        80\n",
      "\n",
      "      accuracy                           0.61       248\n",
      "     macro avg       0.58      0.43      0.41       248\n",
      "  weighted avg       0.64      0.61      0.54       248\n",
      "\n"
     ]
    },
    {
     "name": "stderr",
     "output_type": "stream",
     "text": [
      "Epoch 9/15: 100%|██████████| 557/557 [02:04<00:00,  4.48it/s]\n"
     ]
    },
    {
     "name": "stdout",
     "output_type": "stream",
     "text": [
      "Epoch 9 Loss: 1.0327\n",
      "Validation Accuracy: 0.6169  Validation Macro F1: 0.4610\n",
      "                precision    recall  f1-score   support\n",
      "\n",
      "           Yes       0.63      0.87      0.73       131\n",
      "To some extent       0.33      0.08      0.13        37\n",
      "            No       0.62      0.45      0.52        80\n",
      "\n",
      "      accuracy                           0.62       248\n",
      "     macro avg       0.53      0.47      0.46       248\n",
      "  weighted avg       0.58      0.62      0.57       248\n",
      "\n"
     ]
    },
    {
     "name": "stderr",
     "output_type": "stream",
     "text": [
      "Epoch 10/15: 100%|██████████| 557/557 [02:04<00:00,  4.49it/s]\n"
     ]
    },
    {
     "name": "stdout",
     "output_type": "stream",
     "text": [
      "Epoch 10 Loss: 1.0011\n",
      "Validation Accuracy: 0.5282  Validation Macro F1: 0.5101\n",
      "                precision    recall  f1-score   support\n",
      "\n",
      "           Yes       0.66      0.50      0.57       131\n",
      "To some extent       0.34      0.59      0.43        37\n",
      "            No       0.52      0.54      0.53        80\n",
      "\n",
      "      accuracy                           0.53       248\n",
      "     macro avg       0.51      0.55      0.51       248\n",
      "  weighted avg       0.57      0.53      0.54       248\n",
      "\n"
     ]
    },
    {
     "name": "stderr",
     "output_type": "stream",
     "text": [
      "Epoch 11/15: 100%|██████████| 557/557 [02:04<00:00,  4.49it/s]\n"
     ]
    },
    {
     "name": "stdout",
     "output_type": "stream",
     "text": [
      "Epoch 11 Loss: 0.9765\n",
      "Validation Accuracy: 0.5685  Validation Macro F1: 0.5317\n",
      "                precision    recall  f1-score   support\n",
      "\n",
      "           Yes       0.71      0.64      0.67       131\n",
      "To some extent       0.28      0.62      0.38        37\n",
      "            No       0.74      0.42      0.54        80\n",
      "\n",
      "      accuracy                           0.57       248\n",
      "     macro avg       0.57      0.56      0.53       248\n",
      "  weighted avg       0.65      0.57      0.59       248\n",
      "\n"
     ]
    },
    {
     "name": "stderr",
     "output_type": "stream",
     "text": [
      "Epoch 12/15: 100%|██████████| 557/557 [02:04<00:00,  4.47it/s]\n"
     ]
    },
    {
     "name": "stdout",
     "output_type": "stream",
     "text": [
      "Epoch 12 Loss: 0.9576\n",
      "Validation Accuracy: 0.5484  Validation Macro F1: 0.5150\n",
      "                precision    recall  f1-score   support\n",
      "\n",
      "           Yes       0.68      0.57      0.62       131\n",
      "To some extent       0.29      0.51      0.37        37\n",
      "            No       0.58      0.53      0.55        80\n",
      "\n",
      "      accuracy                           0.55       248\n",
      "     macro avg       0.52      0.54      0.52       248\n",
      "  weighted avg       0.59      0.55      0.56       248\n",
      "\n"
     ]
    },
    {
     "name": "stderr",
     "output_type": "stream",
     "text": [
      "Epoch 13/15: 100%|██████████| 557/557 [02:04<00:00,  4.49it/s]\n"
     ]
    },
    {
     "name": "stdout",
     "output_type": "stream",
     "text": [
      "Epoch 13 Loss: 0.9409\n",
      "Validation Accuracy: 0.5444  Validation Macro F1: 0.5194\n",
      "                precision    recall  f1-score   support\n",
      "\n",
      "           Yes       0.70      0.56      0.63       131\n",
      "To some extent       0.28      0.65      0.39        37\n",
      "            No       0.66      0.46      0.54        80\n",
      "\n",
      "      accuracy                           0.54       248\n",
      "     macro avg       0.55      0.56      0.52       248\n",
      "  weighted avg       0.63      0.54      0.56       248\n",
      "\n"
     ]
    },
    {
     "name": "stderr",
     "output_type": "stream",
     "text": [
      "Epoch 14/15: 100%|██████████| 557/557 [02:04<00:00,  4.48it/s]\n"
     ]
    },
    {
     "name": "stdout",
     "output_type": "stream",
     "text": [
      "Epoch 14 Loss: 0.9213\n",
      "Validation Accuracy: 0.5806  Validation Macro F1: 0.5262\n",
      "                precision    recall  f1-score   support\n",
      "\n",
      "           Yes       0.68      0.69      0.68       131\n",
      "To some extent       0.30      0.46      0.37        37\n",
      "            No       0.62      0.46      0.53        80\n",
      "\n",
      "      accuracy                           0.58       248\n",
      "     macro avg       0.53      0.54      0.53       248\n",
      "  weighted avg       0.60      0.58      0.59       248\n",
      "\n"
     ]
    },
    {
     "name": "stderr",
     "output_type": "stream",
     "text": [
      "Epoch 15/15: 100%|██████████| 557/557 [02:04<00:00,  4.48it/s]\n"
     ]
    },
    {
     "name": "stdout",
     "output_type": "stream",
     "text": [
      "Epoch 15 Loss: 0.9110\n",
      "Validation Accuracy: 0.5806  Validation Macro F1: 0.5286\n",
      "                precision    recall  f1-score   support\n",
      "\n",
      "           Yes       0.66      0.71      0.69       131\n",
      "To some extent       0.32      0.57      0.41        37\n",
      "            No       0.71      0.38      0.49        80\n",
      "\n",
      "      accuracy                           0.58       248\n",
      "     macro avg       0.57      0.55      0.53       248\n",
      "  weighted avg       0.63      0.58      0.58       248\n",
      "\n",
      "\n",
      "🔁 Training with: FOCAL Loss\n",
      "\n"
     ]
    },
    {
     "name": "stderr",
     "output_type": "stream",
     "text": [
      "Some weights of BertForSequenceClassification were not initialized from the model checkpoint at bert-base-uncased and are newly initialized: ['classifier.bias', 'classifier.weight']\n",
      "You should probably TRAIN this model on a down-stream task to be able to use it for predictions and inference.\n",
      "Epoch 1/15: 100%|██████████| 557/557 [02:04<00:00,  4.48it/s]\n"
     ]
    },
    {
     "name": "stdout",
     "output_type": "stream",
     "text": [
      "Epoch 1 Loss: 0.5371\n",
      "Validation Accuracy: 0.2661  Validation Macro F1: 0.2647\n",
      "                precision    recall  f1-score   support\n",
      "\n",
      "           Yes       0.00      0.00      0.00       131\n",
      "To some extent       0.17      0.89      0.28        37\n",
      "            No       0.69      0.41      0.52        80\n",
      "\n",
      "      accuracy                           0.27       248\n",
      "     macro avg       0.28      0.43      0.26       248\n",
      "  weighted avg       0.25      0.27      0.21       248\n",
      "\n"
     ]
    },
    {
     "name": "stderr",
     "output_type": "stream",
     "text": [
      "Epoch 2/15: 100%|██████████| 557/557 [02:04<00:00,  4.48it/s]\n"
     ]
    },
    {
     "name": "stdout",
     "output_type": "stream",
     "text": [
      "Epoch 2 Loss: 0.4979\n",
      "Validation Accuracy: 0.3105  Validation Macro F1: 0.3273\n",
      "                precision    recall  f1-score   support\n",
      "\n",
      "           Yes       0.83      0.18      0.30       131\n",
      "To some extent       0.16      0.84      0.27        37\n",
      "            No       0.81      0.28      0.41        80\n",
      "\n",
      "      accuracy                           0.31       248\n",
      "     macro avg       0.60      0.43      0.33       248\n",
      "  weighted avg       0.72      0.31      0.33       248\n",
      "\n"
     ]
    },
    {
     "name": "stderr",
     "output_type": "stream",
     "text": [
      "Epoch 3/15: 100%|██████████| 557/557 [02:04<00:00,  4.47it/s]\n"
     ]
    },
    {
     "name": "stdout",
     "output_type": "stream",
     "text": [
      "Epoch 3 Loss: 0.4638\n",
      "Validation Accuracy: 0.4597  Validation Macro F1: 0.4407\n",
      "                precision    recall  f1-score   support\n",
      "\n",
      "           Yes       0.66      0.49      0.56       131\n",
      "To some extent       0.21      0.62      0.31        37\n",
      "            No       0.68      0.34      0.45        80\n",
      "\n",
      "      accuracy                           0.46       248\n",
      "     macro avg       0.51      0.48      0.44       248\n",
      "  weighted avg       0.60      0.46      0.49       248\n",
      "\n"
     ]
    },
    {
     "name": "stderr",
     "output_type": "stream",
     "text": [
      "Epoch 4/15: 100%|██████████| 557/557 [02:04<00:00,  4.48it/s]\n"
     ]
    },
    {
     "name": "stdout",
     "output_type": "stream",
     "text": [
      "Epoch 4 Loss: 0.4319\n",
      "Validation Accuracy: 0.4073  Validation Macro F1: 0.4183\n",
      "                precision    recall  f1-score   support\n",
      "\n",
      "           Yes       0.71      0.35      0.47       131\n",
      "To some extent       0.18      0.76      0.29        37\n",
      "            No       0.90      0.34      0.49        80\n",
      "\n",
      "      accuracy                           0.41       248\n",
      "     macro avg       0.60      0.48      0.42       248\n",
      "  weighted avg       0.69      0.41      0.45       248\n",
      "\n"
     ]
    },
    {
     "name": "stderr",
     "output_type": "stream",
     "text": [
      "Epoch 5/15: 100%|██████████| 557/557 [02:04<00:00,  4.47it/s]\n"
     ]
    },
    {
     "name": "stdout",
     "output_type": "stream",
     "text": [
      "Epoch 5 Loss: 0.3958\n",
      "Validation Accuracy: 0.3589  Validation Macro F1: 0.3673\n",
      "                precision    recall  f1-score   support\n",
      "\n",
      "           Yes       0.70      0.20      0.31       131\n",
      "To some extent       0.19      0.78      0.31        37\n",
      "            No       0.56      0.42      0.48        80\n",
      "\n",
      "      accuracy                           0.36       248\n",
      "     macro avg       0.48      0.47      0.37       248\n",
      "  weighted avg       0.58      0.36      0.37       248\n",
      "\n"
     ]
    },
    {
     "name": "stderr",
     "output_type": "stream",
     "text": [
      "Epoch 6/15: 100%|██████████| 557/557 [02:04<00:00,  4.47it/s]\n"
     ]
    },
    {
     "name": "stdout",
     "output_type": "stream",
     "text": [
      "Epoch 6 Loss: 0.3716\n",
      "Validation Accuracy: 0.4073  Validation Macro F1: 0.4117\n",
      "                precision    recall  f1-score   support\n",
      "\n",
      "           Yes       0.76      0.29      0.42       131\n",
      "To some extent       0.21      0.76      0.33        37\n",
      "            No       0.56      0.44      0.49        80\n",
      "\n",
      "      accuracy                           0.41       248\n",
      "     macro avg       0.51      0.49      0.41       248\n",
      "  weighted avg       0.61      0.41      0.43       248\n",
      "\n"
     ]
    },
    {
     "name": "stderr",
     "output_type": "stream",
     "text": [
      "Epoch 7/15: 100%|██████████| 557/557 [02:04<00:00,  4.48it/s]\n"
     ]
    },
    {
     "name": "stdout",
     "output_type": "stream",
     "text": [
      "Epoch 7 Loss: 0.3449\n",
      "Validation Accuracy: 0.4758  Validation Macro F1: 0.4587\n",
      "                precision    recall  f1-score   support\n",
      "\n",
      "           Yes       0.70      0.47      0.56       131\n",
      "To some extent       0.24      0.65      0.35        37\n",
      "            No       0.56      0.40      0.47        80\n",
      "\n",
      "      accuracy                           0.48       248\n",
      "     macro avg       0.50      0.51      0.46       248\n",
      "  weighted avg       0.58      0.48      0.50       248\n",
      "\n"
     ]
    },
    {
     "name": "stderr",
     "output_type": "stream",
     "text": [
      "Epoch 8/15: 100%|██████████| 557/557 [02:04<00:00,  4.47it/s]\n"
     ]
    },
    {
     "name": "stdout",
     "output_type": "stream",
     "text": [
      "Epoch 8 Loss: 0.3302\n",
      "Validation Accuracy: 0.4274  Validation Macro F1: 0.4263\n",
      "                precision    recall  f1-score   support\n",
      "\n",
      "           Yes       0.77      0.31      0.45       131\n",
      "To some extent       0.22      0.70      0.33        37\n",
      "            No       0.51      0.49      0.50        80\n",
      "\n",
      "      accuracy                           0.43       248\n",
      "     macro avg       0.50      0.50      0.43       248\n",
      "  weighted avg       0.61      0.43      0.45       248\n",
      "\n"
     ]
    },
    {
     "name": "stderr",
     "output_type": "stream",
     "text": [
      "Epoch 9/15: 100%|██████████| 557/557 [02:04<00:00,  4.48it/s]\n"
     ]
    },
    {
     "name": "stdout",
     "output_type": "stream",
     "text": [
      "Epoch 9 Loss: 0.3170\n",
      "Validation Accuracy: 0.4113  Validation Macro F1: 0.4131\n",
      "                precision    recall  f1-score   support\n",
      "\n",
      "           Yes       0.77      0.28      0.41       131\n",
      "To some extent       0.21      0.73      0.33        37\n",
      "            No       0.52      0.47      0.50        80\n",
      "\n",
      "      accuracy                           0.41       248\n",
      "     macro avg       0.50      0.50      0.41       248\n",
      "  weighted avg       0.61      0.41      0.43       248\n",
      "\n"
     ]
    },
    {
     "name": "stderr",
     "output_type": "stream",
     "text": [
      "Epoch 10/15: 100%|██████████| 557/557 [02:04<00:00,  4.48it/s]\n"
     ]
    },
    {
     "name": "stdout",
     "output_type": "stream",
     "text": [
      "Epoch 10 Loss: 0.3088\n",
      "Validation Accuracy: 0.4516  Validation Macro F1: 0.4405\n",
      "                precision    recall  f1-score   support\n",
      "\n",
      "           Yes       0.74      0.43      0.54       131\n",
      "To some extent       0.22      0.68      0.33        37\n",
      "            No       0.53      0.39      0.45        80\n",
      "\n",
      "      accuracy                           0.45       248\n",
      "     macro avg       0.50      0.50      0.44       248\n",
      "  weighted avg       0.59      0.45      0.48       248\n",
      "\n"
     ]
    },
    {
     "name": "stderr",
     "output_type": "stream",
     "text": [
      "Epoch 11/15: 100%|██████████| 557/557 [02:04<00:00,  4.47it/s]\n"
     ]
    },
    {
     "name": "stdout",
     "output_type": "stream",
     "text": [
      "Epoch 11 Loss: 0.3259\n",
      "Validation Accuracy: 0.3992  Validation Macro F1: 0.3995\n",
      "                precision    recall  f1-score   support\n",
      "\n",
      "           Yes       0.73      0.25      0.37       131\n",
      "To some extent       0.23      0.76      0.35        37\n",
      "            No       0.46      0.47      0.47        80\n",
      "\n",
      "      accuracy                           0.40       248\n",
      "     macro avg       0.48      0.49      0.40       248\n",
      "  weighted avg       0.57      0.40      0.40       248\n",
      "\n"
     ]
    },
    {
     "name": "stderr",
     "output_type": "stream",
     "text": [
      "Epoch 12/15: 100%|██████████| 557/557 [02:04<00:00,  4.48it/s]\n"
     ]
    },
    {
     "name": "stdout",
     "output_type": "stream",
     "text": [
      "Epoch 12 Loss: 0.3015\n",
      "Validation Accuracy: 0.4718  Validation Macro F1: 0.4602\n",
      "                precision    recall  f1-score   support\n",
      "\n",
      "           Yes       0.70      0.47      0.56       131\n",
      "To some extent       0.23      0.76      0.35        37\n",
      "            No       0.70      0.35      0.47        80\n",
      "\n",
      "      accuracy                           0.47       248\n",
      "     macro avg       0.54      0.52      0.46       248\n",
      "  weighted avg       0.63      0.47      0.50       248\n",
      "\n"
     ]
    },
    {
     "name": "stderr",
     "output_type": "stream",
     "text": [
      "Epoch 13/15: 100%|██████████| 557/557 [02:04<00:00,  4.47it/s]\n"
     ]
    },
    {
     "name": "stdout",
     "output_type": "stream",
     "text": [
      "Epoch 13 Loss: 0.2900\n",
      "Validation Accuracy: 0.4395  Validation Macro F1: 0.4337\n",
      "                precision    recall  f1-score   support\n",
      "\n",
      "           Yes       0.81      0.29      0.43       131\n",
      "To some extent       0.24      0.68      0.36        37\n",
      "            No       0.47      0.57      0.52        80\n",
      "\n",
      "      accuracy                           0.44       248\n",
      "     macro avg       0.51      0.51      0.43       248\n",
      "  weighted avg       0.61      0.44      0.45       248\n",
      "\n"
     ]
    },
    {
     "name": "stderr",
     "output_type": "stream",
     "text": [
      "Epoch 14/15: 100%|██████████| 557/557 [02:04<00:00,  4.49it/s]\n"
     ]
    },
    {
     "name": "stdout",
     "output_type": "stream",
     "text": [
      "Epoch 14 Loss: 0.2999\n",
      "Validation Accuracy: 0.4556  Validation Macro F1: 0.4355\n",
      "                precision    recall  f1-score   support\n",
      "\n",
      "           Yes       0.65      0.49      0.56       131\n",
      "To some extent       0.20      0.59      0.30        37\n",
      "            No       0.66      0.34      0.45        80\n",
      "\n",
      "      accuracy                           0.46       248\n",
      "     macro avg       0.50      0.47      0.44       248\n",
      "  weighted avg       0.59      0.46      0.48       248\n",
      "\n"
     ]
    },
    {
     "name": "stderr",
     "output_type": "stream",
     "text": [
      "Epoch 15/15: 100%|██████████| 557/557 [02:04<00:00,  4.47it/s]\n"
     ]
    },
    {
     "name": "stdout",
     "output_type": "stream",
     "text": [
      "Epoch 15 Loss: 0.3017\n",
      "Validation Accuracy: 0.4315  Validation Macro F1: 0.4324\n",
      "                precision    recall  f1-score   support\n",
      "\n",
      "           Yes       0.84      0.28      0.42       131\n",
      "To some extent       0.24      0.81      0.37        37\n",
      "            No       0.51      0.50      0.51        80\n",
      "\n",
      "      accuracy                           0.43       248\n",
      "     macro avg       0.53      0.53      0.43       248\n",
      "  weighted avg       0.65      0.43      0.44       248\n",
      "\n"
     ]
    }
   ],
   "source": [
    "for loss_name in [\"ce\", \"smoothing\", \"focal\"]:\n",
    "    train_model(loss_name, train_loader, val_loader, num_labels=3)"
   ]
  }
 ],
 "metadata": {
  "kaggle": {
   "accelerator": "nvidiaTeslaT4",
   "dataSources": [
    {
     "datasetId": 7241370,
     "sourceId": 11547141,
     "sourceType": "datasetVersion"
    }
   ],
   "dockerImageVersionId": 31011,
   "isGpuEnabled": true,
   "isInternetEnabled": true,
   "language": "python",
   "sourceType": "notebook"
  },
  "kernelspec": {
   "display_name": "Python 3",
   "language": "python",
   "name": "python3"
  },
  "language_info": {
   "codemirror_mode": {
    "name": "ipython",
    "version": 3
   },
   "file_extension": ".py",
   "mimetype": "text/x-python",
   "name": "python",
   "nbconvert_exporter": "python",
   "pygments_lexer": "ipython3",
   "version": "3.11.11"
  },
  "papermill": {
   "default_parameters": {},
   "duration": 17435.666347,
   "end_time": "2025-04-24T23:32:08.749147",
   "environment_variables": {},
   "exception": null,
   "input_path": "__notebook__.ipynb",
   "output_path": "__notebook__.ipynb",
   "parameters": {},
   "start_time": "2025-04-24T18:41:33.082800",
   "version": "2.6.0"
  },
  "widgets": {
   "application/vnd.jupyter.widget-state+json": {
    "state": {
     "00e0b9ca9f6c4768b45ecaa0ed344b3f": {
      "model_module": "@jupyter-widgets/controls",
      "model_module_version": "2.0.0",
      "model_name": "HTMLStyleModel",
      "state": {
       "_model_module": "@jupyter-widgets/controls",
       "_model_module_version": "2.0.0",
       "_model_name": "HTMLStyleModel",
       "_view_count": null,
       "_view_module": "@jupyter-widgets/base",
       "_view_module_version": "2.0.0",
       "_view_name": "StyleView",
       "background": null,
       "description_width": "",
       "font_size": null,
       "text_color": null
      }
     },
     "01bfc5df19154ae7bbc9271f302daf60": {
      "model_module": "@jupyter-widgets/base",
      "model_module_version": "2.0.0",
      "model_name": "LayoutModel",
      "state": {
       "_model_module": "@jupyter-widgets/base",
       "_model_module_version": "2.0.0",
       "_model_name": "LayoutModel",
       "_view_count": null,
       "_view_module": "@jupyter-widgets/base",
       "_view_module_version": "2.0.0",
       "_view_name": "LayoutView",
       "align_content": null,
       "align_items": null,
       "align_self": null,
       "border_bottom": null,
       "border_left": null,
       "border_right": null,
       "border_top": null,
       "bottom": null,
       "display": null,
       "flex": null,
       "flex_flow": null,
       "grid_area": null,
       "grid_auto_columns": null,
       "grid_auto_flow": null,
       "grid_auto_rows": null,
       "grid_column": null,
       "grid_gap": null,
       "grid_row": null,
       "grid_template_areas": null,
       "grid_template_columns": null,
       "grid_template_rows": null,
       "height": null,
       "justify_content": null,
       "justify_items": null,
       "left": null,
       "margin": null,
       "max_height": null,
       "max_width": null,
       "min_height": null,
       "min_width": null,
       "object_fit": null,
       "object_position": null,
       "order": null,
       "overflow": null,
       "padding": null,
       "right": null,
       "top": null,
       "visibility": null,
       "width": null
      }
     },
     "06c2cc373ee541b6841e94c30216edf4": {
      "model_module": "@jupyter-widgets/base",
      "model_module_version": "2.0.0",
      "model_name": "LayoutModel",
      "state": {
       "_model_module": "@jupyter-widgets/base",
       "_model_module_version": "2.0.0",
       "_model_name": "LayoutModel",
       "_view_count": null,
       "_view_module": "@jupyter-widgets/base",
       "_view_module_version": "2.0.0",
       "_view_name": "LayoutView",
       "align_content": null,
       "align_items": null,
       "align_self": null,
       "border_bottom": null,
       "border_left": null,
       "border_right": null,
       "border_top": null,
       "bottom": null,
       "display": null,
       "flex": null,
       "flex_flow": null,
       "grid_area": null,
       "grid_auto_columns": null,
       "grid_auto_flow": null,
       "grid_auto_rows": null,
       "grid_column": null,
       "grid_gap": null,
       "grid_row": null,
       "grid_template_areas": null,
       "grid_template_columns": null,
       "grid_template_rows": null,
       "height": null,
       "justify_content": null,
       "justify_items": null,
       "left": null,
       "margin": null,
       "max_height": null,
       "max_width": null,
       "min_height": null,
       "min_width": null,
       "object_fit": null,
       "object_position": null,
       "order": null,
       "overflow": null,
       "padding": null,
       "right": null,
       "top": null,
       "visibility": null,
       "width": null
      }
     },
     "10d3282badba4b44b650f0752fc12e65": {
      "model_module": "@jupyter-widgets/base",
      "model_module_version": "2.0.0",
      "model_name": "LayoutModel",
      "state": {
       "_model_module": "@jupyter-widgets/base",
       "_model_module_version": "2.0.0",
       "_model_name": "LayoutModel",
       "_view_count": null,
       "_view_module": "@jupyter-widgets/base",
       "_view_module_version": "2.0.0",
       "_view_name": "LayoutView",
       "align_content": null,
       "align_items": null,
       "align_self": null,
       "border_bottom": null,
       "border_left": null,
       "border_right": null,
       "border_top": null,
       "bottom": null,
       "display": null,
       "flex": null,
       "flex_flow": null,
       "grid_area": null,
       "grid_auto_columns": null,
       "grid_auto_flow": null,
       "grid_auto_rows": null,
       "grid_column": null,
       "grid_gap": null,
       "grid_row": null,
       "grid_template_areas": null,
       "grid_template_columns": null,
       "grid_template_rows": null,
       "height": null,
       "justify_content": null,
       "justify_items": null,
       "left": null,
       "margin": null,
       "max_height": null,
       "max_width": null,
       "min_height": null,
       "min_width": null,
       "object_fit": null,
       "object_position": null,
       "order": null,
       "overflow": null,
       "padding": null,
       "right": null,
       "top": null,
       "visibility": null,
       "width": null
      }
     },
     "13704f6ead154f15a10c5505bf5c5730": {
      "model_module": "@jupyter-widgets/controls",
      "model_module_version": "2.0.0",
      "model_name": "ProgressStyleModel",
      "state": {
       "_model_module": "@jupyter-widgets/controls",
       "_model_module_version": "2.0.0",
       "_model_name": "ProgressStyleModel",
       "_view_count": null,
       "_view_module": "@jupyter-widgets/base",
       "_view_module_version": "2.0.0",
       "_view_name": "StyleView",
       "bar_color": null,
       "description_width": ""
      }
     },
     "1fa7abd69766481b88f356d4a8c3cc56": {
      "model_module": "@jupyter-widgets/controls",
      "model_module_version": "2.0.0",
      "model_name": "HTMLStyleModel",
      "state": {
       "_model_module": "@jupyter-widgets/controls",
       "_model_module_version": "2.0.0",
       "_model_name": "HTMLStyleModel",
       "_view_count": null,
       "_view_module": "@jupyter-widgets/base",
       "_view_module_version": "2.0.0",
       "_view_name": "StyleView",
       "background": null,
       "description_width": "",
       "font_size": null,
       "text_color": null
      }
     },
     "2803d6e22f4a466e8f2fb38f208642ef": {
      "model_module": "@jupyter-widgets/controls",
      "model_module_version": "2.0.0",
      "model_name": "HTMLStyleModel",
      "state": {
       "_model_module": "@jupyter-widgets/controls",
       "_model_module_version": "2.0.0",
       "_model_name": "HTMLStyleModel",
       "_view_count": null,
       "_view_module": "@jupyter-widgets/base",
       "_view_module_version": "2.0.0",
       "_view_name": "StyleView",
       "background": null,
       "description_width": "",
       "font_size": null,
       "text_color": null
      }
     },
     "2bff928ca96c48a587262847625161f9": {
      "model_module": "@jupyter-widgets/controls",
      "model_module_version": "2.0.0",
      "model_name": "HBoxModel",
      "state": {
       "_dom_classes": [],
       "_model_module": "@jupyter-widgets/controls",
       "_model_module_version": "2.0.0",
       "_model_name": "HBoxModel",
       "_view_count": null,
       "_view_module": "@jupyter-widgets/controls",
       "_view_module_version": "2.0.0",
       "_view_name": "HBoxView",
       "box_style": "",
       "children": [
        "IPY_MODEL_cc771422779d4eca83d3533cb2c6477f",
        "IPY_MODEL_ed428bd8ef6342f382dc224e264799a9",
        "IPY_MODEL_b3deb761183b413facee7d26ffc50289"
       ],
       "layout": "IPY_MODEL_a9b5a76689424faea2bdd533c7245140",
       "tabbable": null,
       "tooltip": null
      }
     },
     "33c8c25b9b3e48bc9c67e19ea158ec0d": {
      "model_module": "@jupyter-widgets/controls",
      "model_module_version": "2.0.0",
      "model_name": "HBoxModel",
      "state": {
       "_dom_classes": [],
       "_model_module": "@jupyter-widgets/controls",
       "_model_module_version": "2.0.0",
       "_model_name": "HBoxModel",
       "_view_count": null,
       "_view_module": "@jupyter-widgets/controls",
       "_view_module_version": "2.0.0",
       "_view_name": "HBoxView",
       "box_style": "",
       "children": [
        "IPY_MODEL_b20f585de49b42628b46072bb10f7c7c",
        "IPY_MODEL_e6548485deb246919bdd26dc21dece8c",
        "IPY_MODEL_756fc094b0bd4baea84c2473d4e42062"
       ],
       "layout": "IPY_MODEL_e3111c46750c4c2a8297ff4afbc9a075",
       "tabbable": null,
       "tooltip": null
      }
     },
     "3b48c55bfe184c7aa42d0498c0d6f520": {
      "model_module": "@jupyter-widgets/base",
      "model_module_version": "2.0.0",
      "model_name": "LayoutModel",
      "state": {
       "_model_module": "@jupyter-widgets/base",
       "_model_module_version": "2.0.0",
       "_model_name": "LayoutModel",
       "_view_count": null,
       "_view_module": "@jupyter-widgets/base",
       "_view_module_version": "2.0.0",
       "_view_name": "LayoutView",
       "align_content": null,
       "align_items": null,
       "align_self": null,
       "border_bottom": null,
       "border_left": null,
       "border_right": null,
       "border_top": null,
       "bottom": null,
       "display": null,
       "flex": null,
       "flex_flow": null,
       "grid_area": null,
       "grid_auto_columns": null,
       "grid_auto_flow": null,
       "grid_auto_rows": null,
       "grid_column": null,
       "grid_gap": null,
       "grid_row": null,
       "grid_template_areas": null,
       "grid_template_columns": null,
       "grid_template_rows": null,
       "height": null,
       "justify_content": null,
       "justify_items": null,
       "left": null,
       "margin": null,
       "max_height": null,
       "max_width": null,
       "min_height": null,
       "min_width": null,
       "object_fit": null,
       "object_position": null,
       "order": null,
       "overflow": null,
       "padding": null,
       "right": null,
       "top": null,
       "visibility": null,
       "width": null
      }
     },
     "3b669023f7534d8aacc918285bc73f87": {
      "model_module": "@jupyter-widgets/base",
      "model_module_version": "2.0.0",
      "model_name": "LayoutModel",
      "state": {
       "_model_module": "@jupyter-widgets/base",
       "_model_module_version": "2.0.0",
       "_model_name": "LayoutModel",
       "_view_count": null,
       "_view_module": "@jupyter-widgets/base",
       "_view_module_version": "2.0.0",
       "_view_name": "LayoutView",
       "align_content": null,
       "align_items": null,
       "align_self": null,
       "border_bottom": null,
       "border_left": null,
       "border_right": null,
       "border_top": null,
       "bottom": null,
       "display": null,
       "flex": null,
       "flex_flow": null,
       "grid_area": null,
       "grid_auto_columns": null,
       "grid_auto_flow": null,
       "grid_auto_rows": null,
       "grid_column": null,
       "grid_gap": null,
       "grid_row": null,
       "grid_template_areas": null,
       "grid_template_columns": null,
       "grid_template_rows": null,
       "height": null,
       "justify_content": null,
       "justify_items": null,
       "left": null,
       "margin": null,
       "max_height": null,
       "max_width": null,
       "min_height": null,
       "min_width": null,
       "object_fit": null,
       "object_position": null,
       "order": null,
       "overflow": null,
       "padding": null,
       "right": null,
       "top": null,
       "visibility": null,
       "width": null
      }
     },
     "3bf0ade192b648cc851d6678f69b1f05": {
      "model_module": "@jupyter-widgets/controls",
      "model_module_version": "2.0.0",
      "model_name": "FloatProgressModel",
      "state": {
       "_dom_classes": [],
       "_model_module": "@jupyter-widgets/controls",
       "_model_module_version": "2.0.0",
       "_model_name": "FloatProgressModel",
       "_view_count": null,
       "_view_module": "@jupyter-widgets/controls",
       "_view_module_version": "2.0.0",
       "_view_name": "ProgressView",
       "bar_style": "success",
       "description": "",
       "description_allow_html": false,
       "layout": "IPY_MODEL_95f64a46aa6340d18f483eb231175b3c",
       "max": 48.0,
       "min": 0.0,
       "orientation": "horizontal",
       "style": "IPY_MODEL_460212c6429d4fa6b55ecc2282001717",
       "tabbable": null,
       "tooltip": null,
       "value": 48.0
      }
     },
     "3dda392ed8ec42368f4c08a91744d506": {
      "model_module": "@jupyter-widgets/controls",
      "model_module_version": "2.0.0",
      "model_name": "HBoxModel",
      "state": {
       "_dom_classes": [],
       "_model_module": "@jupyter-widgets/controls",
       "_model_module_version": "2.0.0",
       "_model_name": "HBoxModel",
       "_view_count": null,
       "_view_module": "@jupyter-widgets/controls",
       "_view_module_version": "2.0.0",
       "_view_name": "HBoxView",
       "box_style": "",
       "children": [
        "IPY_MODEL_e0738f4943704044a063bbd40b06701c",
        "IPY_MODEL_3bf0ade192b648cc851d6678f69b1f05",
        "IPY_MODEL_a95e1283b1284e32b361eecd85e8522c"
       ],
       "layout": "IPY_MODEL_f3f649c4c5014357a4ae99421d7c5826",
       "tabbable": null,
       "tooltip": null
      }
     },
     "44bdea87dd12478b8fc45df6449c2e12": {
      "model_module": "@jupyter-widgets/base",
      "model_module_version": "2.0.0",
      "model_name": "LayoutModel",
      "state": {
       "_model_module": "@jupyter-widgets/base",
       "_model_module_version": "2.0.0",
       "_model_name": "LayoutModel",
       "_view_count": null,
       "_view_module": "@jupyter-widgets/base",
       "_view_module_version": "2.0.0",
       "_view_name": "LayoutView",
       "align_content": null,
       "align_items": null,
       "align_self": null,
       "border_bottom": null,
       "border_left": null,
       "border_right": null,
       "border_top": null,
       "bottom": null,
       "display": null,
       "flex": null,
       "flex_flow": null,
       "grid_area": null,
       "grid_auto_columns": null,
       "grid_auto_flow": null,
       "grid_auto_rows": null,
       "grid_column": null,
       "grid_gap": null,
       "grid_row": null,
       "grid_template_areas": null,
       "grid_template_columns": null,
       "grid_template_rows": null,
       "height": null,
       "justify_content": null,
       "justify_items": null,
       "left": null,
       "margin": null,
       "max_height": null,
       "max_width": null,
       "min_height": null,
       "min_width": null,
       "object_fit": null,
       "object_position": null,
       "order": null,
       "overflow": null,
       "padding": null,
       "right": null,
       "top": null,
       "visibility": null,
       "width": null
      }
     },
     "460212c6429d4fa6b55ecc2282001717": {
      "model_module": "@jupyter-widgets/controls",
      "model_module_version": "2.0.0",
      "model_name": "ProgressStyleModel",
      "state": {
       "_model_module": "@jupyter-widgets/controls",
       "_model_module_version": "2.0.0",
       "_model_name": "ProgressStyleModel",
       "_view_count": null,
       "_view_module": "@jupyter-widgets/base",
       "_view_module_version": "2.0.0",
       "_view_name": "StyleView",
       "bar_color": null,
       "description_width": ""
      }
     },
     "506504f373d842fd9d2738f218b3a3f1": {
      "model_module": "@jupyter-widgets/controls",
      "model_module_version": "2.0.0",
      "model_name": "HTMLStyleModel",
      "state": {
       "_model_module": "@jupyter-widgets/controls",
       "_model_module_version": "2.0.0",
       "_model_name": "HTMLStyleModel",
       "_view_count": null,
       "_view_module": "@jupyter-widgets/base",
       "_view_module_version": "2.0.0",
       "_view_name": "StyleView",
       "background": null,
       "description_width": "",
       "font_size": null,
       "text_color": null
      }
     },
     "5d817f24fc8d4610b70796f62026cae7": {
      "model_module": "@jupyter-widgets/base",
      "model_module_version": "2.0.0",
      "model_name": "LayoutModel",
      "state": {
       "_model_module": "@jupyter-widgets/base",
       "_model_module_version": "2.0.0",
       "_model_name": "LayoutModel",
       "_view_count": null,
       "_view_module": "@jupyter-widgets/base",
       "_view_module_version": "2.0.0",
       "_view_name": "LayoutView",
       "align_content": null,
       "align_items": null,
       "align_self": null,
       "border_bottom": null,
       "border_left": null,
       "border_right": null,
       "border_top": null,
       "bottom": null,
       "display": null,
       "flex": null,
       "flex_flow": null,
       "grid_area": null,
       "grid_auto_columns": null,
       "grid_auto_flow": null,
       "grid_auto_rows": null,
       "grid_column": null,
       "grid_gap": null,
       "grid_row": null,
       "grid_template_areas": null,
       "grid_template_columns": null,
       "grid_template_rows": null,
       "height": null,
       "justify_content": null,
       "justify_items": null,
       "left": null,
       "margin": null,
       "max_height": null,
       "max_width": null,
       "min_height": null,
       "min_width": null,
       "object_fit": null,
       "object_position": null,
       "order": null,
       "overflow": null,
       "padding": null,
       "right": null,
       "top": null,
       "visibility": null,
       "width": null
      }
     },
     "5f9792db7e7d4074a0c7ae7ced72b82a": {
      "model_module": "@jupyter-widgets/controls",
      "model_module_version": "2.0.0",
      "model_name": "HTMLModel",
      "state": {
       "_dom_classes": [],
       "_model_module": "@jupyter-widgets/controls",
       "_model_module_version": "2.0.0",
       "_model_name": "HTMLModel",
       "_view_count": null,
       "_view_module": "@jupyter-widgets/controls",
       "_view_module_version": "2.0.0",
       "_view_name": "HTMLView",
       "description": "",
       "description_allow_html": false,
       "layout": "IPY_MODEL_5d817f24fc8d4610b70796f62026cae7",
       "placeholder": "​",
       "style": "IPY_MODEL_86804db36e964cd2b39c05746994c232",
       "tabbable": null,
       "tooltip": null,
       "value": "vocab.txt: 100%"
      }
     },
     "61bd535ed026419d9a87756af6232680": {
      "model_module": "@jupyter-widgets/controls",
      "model_module_version": "2.0.0",
      "model_name": "HTMLStyleModel",
      "state": {
       "_model_module": "@jupyter-widgets/controls",
       "_model_module_version": "2.0.0",
       "_model_name": "HTMLStyleModel",
       "_view_count": null,
       "_view_module": "@jupyter-widgets/base",
       "_view_module_version": "2.0.0",
       "_view_name": "StyleView",
       "background": null,
       "description_width": "",
       "font_size": null,
       "text_color": null
      }
     },
     "698714825fee44709b8b8e69b7ebce5b": {
      "model_module": "@jupyter-widgets/base",
      "model_module_version": "2.0.0",
      "model_name": "LayoutModel",
      "state": {
       "_model_module": "@jupyter-widgets/base",
       "_model_module_version": "2.0.0",
       "_model_name": "LayoutModel",
       "_view_count": null,
       "_view_module": "@jupyter-widgets/base",
       "_view_module_version": "2.0.0",
       "_view_name": "LayoutView",
       "align_content": null,
       "align_items": null,
       "align_self": null,
       "border_bottom": null,
       "border_left": null,
       "border_right": null,
       "border_top": null,
       "bottom": null,
       "display": null,
       "flex": null,
       "flex_flow": null,
       "grid_area": null,
       "grid_auto_columns": null,
       "grid_auto_flow": null,
       "grid_auto_rows": null,
       "grid_column": null,
       "grid_gap": null,
       "grid_row": null,
       "grid_template_areas": null,
       "grid_template_columns": null,
       "grid_template_rows": null,
       "height": null,
       "justify_content": null,
       "justify_items": null,
       "left": null,
       "margin": null,
       "max_height": null,
       "max_width": null,
       "min_height": null,
       "min_width": null,
       "object_fit": null,
       "object_position": null,
       "order": null,
       "overflow": null,
       "padding": null,
       "right": null,
       "top": null,
       "visibility": null,
       "width": null
      }
     },
     "6b22d5023d784e268102f94b74c4976b": {
      "model_module": "@jupyter-widgets/base",
      "model_module_version": "2.0.0",
      "model_name": "LayoutModel",
      "state": {
       "_model_module": "@jupyter-widgets/base",
       "_model_module_version": "2.0.0",
       "_model_name": "LayoutModel",
       "_view_count": null,
       "_view_module": "@jupyter-widgets/base",
       "_view_module_version": "2.0.0",
       "_view_name": "LayoutView",
       "align_content": null,
       "align_items": null,
       "align_self": null,
       "border_bottom": null,
       "border_left": null,
       "border_right": null,
       "border_top": null,
       "bottom": null,
       "display": null,
       "flex": null,
       "flex_flow": null,
       "grid_area": null,
       "grid_auto_columns": null,
       "grid_auto_flow": null,
       "grid_auto_rows": null,
       "grid_column": null,
       "grid_gap": null,
       "grid_row": null,
       "grid_template_areas": null,
       "grid_template_columns": null,
       "grid_template_rows": null,
       "height": null,
       "justify_content": null,
       "justify_items": null,
       "left": null,
       "margin": null,
       "max_height": null,
       "max_width": null,
       "min_height": null,
       "min_width": null,
       "object_fit": null,
       "object_position": null,
       "order": null,
       "overflow": null,
       "padding": null,
       "right": null,
       "top": null,
       "visibility": null,
       "width": null
      }
     },
     "756fc094b0bd4baea84c2473d4e42062": {
      "model_module": "@jupyter-widgets/controls",
      "model_module_version": "2.0.0",
      "model_name": "HTMLModel",
      "state": {
       "_dom_classes": [],
       "_model_module": "@jupyter-widgets/controls",
       "_model_module_version": "2.0.0",
       "_model_name": "HTMLModel",
       "_view_count": null,
       "_view_module": "@jupyter-widgets/controls",
       "_view_module_version": "2.0.0",
       "_view_name": "HTMLView",
       "description": "",
       "description_allow_html": false,
       "layout": "IPY_MODEL_9697bb334ee545dabd24e24e61a3be33",
       "placeholder": "​",
       "style": "IPY_MODEL_1fa7abd69766481b88f356d4a8c3cc56",
       "tabbable": null,
       "tooltip": null,
       "value": " 440M/440M [00:01&lt;00:00, 253MB/s]"
      }
     },
     "7f4b5a04c1f1491c896ae58616ef2920": {
      "model_module": "@jupyter-widgets/controls",
      "model_module_version": "2.0.0",
      "model_name": "HTMLStyleModel",
      "state": {
       "_model_module": "@jupyter-widgets/controls",
       "_model_module_version": "2.0.0",
       "_model_name": "HTMLStyleModel",
       "_view_count": null,
       "_view_module": "@jupyter-widgets/base",
       "_view_module_version": "2.0.0",
       "_view_name": "StyleView",
       "background": null,
       "description_width": "",
       "font_size": null,
       "text_color": null
      }
     },
     "86804db36e964cd2b39c05746994c232": {
      "model_module": "@jupyter-widgets/controls",
      "model_module_version": "2.0.0",
      "model_name": "HTMLStyleModel",
      "state": {
       "_model_module": "@jupyter-widgets/controls",
       "_model_module_version": "2.0.0",
       "_model_name": "HTMLStyleModel",
       "_view_count": null,
       "_view_module": "@jupyter-widgets/base",
       "_view_module_version": "2.0.0",
       "_view_name": "StyleView",
       "background": null,
       "description_width": "",
       "font_size": null,
       "text_color": null
      }
     },
     "8725284540684fcea810ddebb2351b1a": {
      "model_module": "@jupyter-widgets/controls",
      "model_module_version": "2.0.0",
      "model_name": "HTMLModel",
      "state": {
       "_dom_classes": [],
       "_model_module": "@jupyter-widgets/controls",
       "_model_module_version": "2.0.0",
       "_model_name": "HTMLModel",
       "_view_count": null,
       "_view_module": "@jupyter-widgets/controls",
       "_view_module_version": "2.0.0",
       "_view_name": "HTMLView",
       "description": "",
       "description_allow_html": false,
       "layout": "IPY_MODEL_3b48c55bfe184c7aa42d0498c0d6f520",
       "placeholder": "​",
       "style": "IPY_MODEL_efdaeb886060429d94bbfb80f2a9e7f5",
       "tabbable": null,
       "tooltip": null,
       "value": "config.json: 100%"
      }
     },
     "89174c2b64c546f78c5319f63cd94a3c": {
      "model_module": "@jupyter-widgets/controls",
      "model_module_version": "2.0.0",
      "model_name": "HBoxModel",
      "state": {
       "_dom_classes": [],
       "_model_module": "@jupyter-widgets/controls",
       "_model_module_version": "2.0.0",
       "_model_name": "HBoxModel",
       "_view_count": null,
       "_view_module": "@jupyter-widgets/controls",
       "_view_module_version": "2.0.0",
       "_view_name": "HBoxView",
       "box_style": "",
       "children": [
        "IPY_MODEL_5f9792db7e7d4074a0c7ae7ced72b82a",
        "IPY_MODEL_c5e8b88786984da1bfb4700fbe3c69ce",
        "IPY_MODEL_e86842b1cf9e4016b826a006befa2eb7"
       ],
       "layout": "IPY_MODEL_3b669023f7534d8aacc918285bc73f87",
       "tabbable": null,
       "tooltip": null
      }
     },
     "95f64a46aa6340d18f483eb231175b3c": {
      "model_module": "@jupyter-widgets/base",
      "model_module_version": "2.0.0",
      "model_name": "LayoutModel",
      "state": {
       "_model_module": "@jupyter-widgets/base",
       "_model_module_version": "2.0.0",
       "_model_name": "LayoutModel",
       "_view_count": null,
       "_view_module": "@jupyter-widgets/base",
       "_view_module_version": "2.0.0",
       "_view_name": "LayoutView",
       "align_content": null,
       "align_items": null,
       "align_self": null,
       "border_bottom": null,
       "border_left": null,
       "border_right": null,
       "border_top": null,
       "bottom": null,
       "display": null,
       "flex": null,
       "flex_flow": null,
       "grid_area": null,
       "grid_auto_columns": null,
       "grid_auto_flow": null,
       "grid_auto_rows": null,
       "grid_column": null,
       "grid_gap": null,
       "grid_row": null,
       "grid_template_areas": null,
       "grid_template_columns": null,
       "grid_template_rows": null,
       "height": null,
       "justify_content": null,
       "justify_items": null,
       "left": null,
       "margin": null,
       "max_height": null,
       "max_width": null,
       "min_height": null,
       "min_width": null,
       "object_fit": null,
       "object_position": null,
       "order": null,
       "overflow": null,
       "padding": null,
       "right": null,
       "top": null,
       "visibility": null,
       "width": null
      }
     },
     "9697bb334ee545dabd24e24e61a3be33": {
      "model_module": "@jupyter-widgets/base",
      "model_module_version": "2.0.0",
      "model_name": "LayoutModel",
      "state": {
       "_model_module": "@jupyter-widgets/base",
       "_model_module_version": "2.0.0",
       "_model_name": "LayoutModel",
       "_view_count": null,
       "_view_module": "@jupyter-widgets/base",
       "_view_module_version": "2.0.0",
       "_view_name": "LayoutView",
       "align_content": null,
       "align_items": null,
       "align_self": null,
       "border_bottom": null,
       "border_left": null,
       "border_right": null,
       "border_top": null,
       "bottom": null,
       "display": null,
       "flex": null,
       "flex_flow": null,
       "grid_area": null,
       "grid_auto_columns": null,
       "grid_auto_flow": null,
       "grid_auto_rows": null,
       "grid_column": null,
       "grid_gap": null,
       "grid_row": null,
       "grid_template_areas": null,
       "grid_template_columns": null,
       "grid_template_rows": null,
       "height": null,
       "justify_content": null,
       "justify_items": null,
       "left": null,
       "margin": null,
       "max_height": null,
       "max_width": null,
       "min_height": null,
       "min_width": null,
       "object_fit": null,
       "object_position": null,
       "order": null,
       "overflow": null,
       "padding": null,
       "right": null,
       "top": null,
       "visibility": null,
       "width": null
      }
     },
     "9e33f6600799471dac854e049e8559ae": {
      "model_module": "@jupyter-widgets/controls",
      "model_module_version": "2.0.0",
      "model_name": "HTMLStyleModel",
      "state": {
       "_model_module": "@jupyter-widgets/controls",
       "_model_module_version": "2.0.0",
       "_model_name": "HTMLStyleModel",
       "_view_count": null,
       "_view_module": "@jupyter-widgets/base",
       "_view_module_version": "2.0.0",
       "_view_name": "StyleView",
       "background": null,
       "description_width": "",
       "font_size": null,
       "text_color": null
      }
     },
     "9f1e71d196244688ab0b4f9693ba119b": {
      "model_module": "@jupyter-widgets/base",
      "model_module_version": "2.0.0",
      "model_name": "LayoutModel",
      "state": {
       "_model_module": "@jupyter-widgets/base",
       "_model_module_version": "2.0.0",
       "_model_name": "LayoutModel",
       "_view_count": null,
       "_view_module": "@jupyter-widgets/base",
       "_view_module_version": "2.0.0",
       "_view_name": "LayoutView",
       "align_content": null,
       "align_items": null,
       "align_self": null,
       "border_bottom": null,
       "border_left": null,
       "border_right": null,
       "border_top": null,
       "bottom": null,
       "display": null,
       "flex": null,
       "flex_flow": null,
       "grid_area": null,
       "grid_auto_columns": null,
       "grid_auto_flow": null,
       "grid_auto_rows": null,
       "grid_column": null,
       "grid_gap": null,
       "grid_row": null,
       "grid_template_areas": null,
       "grid_template_columns": null,
       "grid_template_rows": null,
       "height": null,
       "justify_content": null,
       "justify_items": null,
       "left": null,
       "margin": null,
       "max_height": null,
       "max_width": null,
       "min_height": null,
       "min_width": null,
       "object_fit": null,
       "object_position": null,
       "order": null,
       "overflow": null,
       "padding": null,
       "right": null,
       "top": null,
       "visibility": null,
       "width": null
      }
     },
     "a95e1283b1284e32b361eecd85e8522c": {
      "model_module": "@jupyter-widgets/controls",
      "model_module_version": "2.0.0",
      "model_name": "HTMLModel",
      "state": {
       "_dom_classes": [],
       "_model_module": "@jupyter-widgets/controls",
       "_model_module_version": "2.0.0",
       "_model_name": "HTMLModel",
       "_view_count": null,
       "_view_module": "@jupyter-widgets/controls",
       "_view_module_version": "2.0.0",
       "_view_name": "HTMLView",
       "description": "",
       "description_allow_html": false,
       "layout": "IPY_MODEL_bedaac3290f242869376b9bea375db3d",
       "placeholder": "​",
       "style": "IPY_MODEL_506504f373d842fd9d2738f218b3a3f1",
       "tabbable": null,
       "tooltip": null,
       "value": " 48.0/48.0 [00:00&lt;00:00, 5.60kB/s]"
      }
     },
     "a9b5a76689424faea2bdd533c7245140": {
      "model_module": "@jupyter-widgets/base",
      "model_module_version": "2.0.0",
      "model_name": "LayoutModel",
      "state": {
       "_model_module": "@jupyter-widgets/base",
       "_model_module_version": "2.0.0",
       "_model_name": "LayoutModel",
       "_view_count": null,
       "_view_module": "@jupyter-widgets/base",
       "_view_module_version": "2.0.0",
       "_view_name": "LayoutView",
       "align_content": null,
       "align_items": null,
       "align_self": null,
       "border_bottom": null,
       "border_left": null,
       "border_right": null,
       "border_top": null,
       "bottom": null,
       "display": null,
       "flex": null,
       "flex_flow": null,
       "grid_area": null,
       "grid_auto_columns": null,
       "grid_auto_flow": null,
       "grid_auto_rows": null,
       "grid_column": null,
       "grid_gap": null,
       "grid_row": null,
       "grid_template_areas": null,
       "grid_template_columns": null,
       "grid_template_rows": null,
       "height": null,
       "justify_content": null,
       "justify_items": null,
       "left": null,
       "margin": null,
       "max_height": null,
       "max_width": null,
       "min_height": null,
       "min_width": null,
       "object_fit": null,
       "object_position": null,
       "order": null,
       "overflow": null,
       "padding": null,
       "right": null,
       "top": null,
       "visibility": null,
       "width": null
      }
     },
     "adb6b5c40af94cceb03f80a223c9b43a": {
      "model_module": "@jupyter-widgets/base",
      "model_module_version": "2.0.0",
      "model_name": "LayoutModel",
      "state": {
       "_model_module": "@jupyter-widgets/base",
       "_model_module_version": "2.0.0",
       "_model_name": "LayoutModel",
       "_view_count": null,
       "_view_module": "@jupyter-widgets/base",
       "_view_module_version": "2.0.0",
       "_view_name": "LayoutView",
       "align_content": null,
       "align_items": null,
       "align_self": null,
       "border_bottom": null,
       "border_left": null,
       "border_right": null,
       "border_top": null,
       "bottom": null,
       "display": null,
       "flex": null,
       "flex_flow": null,
       "grid_area": null,
       "grid_auto_columns": null,
       "grid_auto_flow": null,
       "grid_auto_rows": null,
       "grid_column": null,
       "grid_gap": null,
       "grid_row": null,
       "grid_template_areas": null,
       "grid_template_columns": null,
       "grid_template_rows": null,
       "height": null,
       "justify_content": null,
       "justify_items": null,
       "left": null,
       "margin": null,
       "max_height": null,
       "max_width": null,
       "min_height": null,
       "min_width": null,
       "object_fit": null,
       "object_position": null,
       "order": null,
       "overflow": null,
       "padding": null,
       "right": null,
       "top": null,
       "visibility": null,
       "width": null
      }
     },
     "b20f585de49b42628b46072bb10f7c7c": {
      "model_module": "@jupyter-widgets/controls",
      "model_module_version": "2.0.0",
      "model_name": "HTMLModel",
      "state": {
       "_dom_classes": [],
       "_model_module": "@jupyter-widgets/controls",
       "_model_module_version": "2.0.0",
       "_model_name": "HTMLModel",
       "_view_count": null,
       "_view_module": "@jupyter-widgets/controls",
       "_view_module_version": "2.0.0",
       "_view_name": "HTMLView",
       "description": "",
       "description_allow_html": false,
       "layout": "IPY_MODEL_ce1f4e8dcb9a41408ef73496792fd3b7",
       "placeholder": "​",
       "style": "IPY_MODEL_7f4b5a04c1f1491c896ae58616ef2920",
       "tabbable": null,
       "tooltip": null,
       "value": "model.safetensors: 100%"
      }
     },
     "b3cdbefc17bd4da18b88c5b5e3a35f24": {
      "model_module": "@jupyter-widgets/base",
      "model_module_version": "2.0.0",
      "model_name": "LayoutModel",
      "state": {
       "_model_module": "@jupyter-widgets/base",
       "_model_module_version": "2.0.0",
       "_model_name": "LayoutModel",
       "_view_count": null,
       "_view_module": "@jupyter-widgets/base",
       "_view_module_version": "2.0.0",
       "_view_name": "LayoutView",
       "align_content": null,
       "align_items": null,
       "align_self": null,
       "border_bottom": null,
       "border_left": null,
       "border_right": null,
       "border_top": null,
       "bottom": null,
       "display": null,
       "flex": null,
       "flex_flow": null,
       "grid_area": null,
       "grid_auto_columns": null,
       "grid_auto_flow": null,
       "grid_auto_rows": null,
       "grid_column": null,
       "grid_gap": null,
       "grid_row": null,
       "grid_template_areas": null,
       "grid_template_columns": null,
       "grid_template_rows": null,
       "height": null,
       "justify_content": null,
       "justify_items": null,
       "left": null,
       "margin": null,
       "max_height": null,
       "max_width": null,
       "min_height": null,
       "min_width": null,
       "object_fit": null,
       "object_position": null,
       "order": null,
       "overflow": null,
       "padding": null,
       "right": null,
       "top": null,
       "visibility": null,
       "width": null
      }
     },
     "b3deb761183b413facee7d26ffc50289": {
      "model_module": "@jupyter-widgets/controls",
      "model_module_version": "2.0.0",
      "model_name": "HTMLModel",
      "state": {
       "_dom_classes": [],
       "_model_module": "@jupyter-widgets/controls",
       "_model_module_version": "2.0.0",
       "_model_name": "HTMLModel",
       "_view_count": null,
       "_view_module": "@jupyter-widgets/controls",
       "_view_module_version": "2.0.0",
       "_view_name": "HTMLView",
       "description": "",
       "description_allow_html": false,
       "layout": "IPY_MODEL_06c2cc373ee541b6841e94c30216edf4",
       "placeholder": "​",
       "style": "IPY_MODEL_00e0b9ca9f6c4768b45ecaa0ed344b3f",
       "tabbable": null,
       "tooltip": null,
       "value": " 466k/466k [00:00&lt;00:00, 16.8MB/s]"
      }
     },
     "b43b21fe7b06490394ff88d9fbfc0625": {
      "model_module": "@jupyter-widgets/controls",
      "model_module_version": "2.0.0",
      "model_name": "ProgressStyleModel",
      "state": {
       "_model_module": "@jupyter-widgets/controls",
       "_model_module_version": "2.0.0",
       "_model_name": "ProgressStyleModel",
       "_view_count": null,
       "_view_module": "@jupyter-widgets/base",
       "_view_module_version": "2.0.0",
       "_view_name": "StyleView",
       "bar_color": null,
       "description_width": ""
      }
     },
     "bb87679b516f48d3a808c419fa8d20b0": {
      "model_module": "@jupyter-widgets/base",
      "model_module_version": "2.0.0",
      "model_name": "LayoutModel",
      "state": {
       "_model_module": "@jupyter-widgets/base",
       "_model_module_version": "2.0.0",
       "_model_name": "LayoutModel",
       "_view_count": null,
       "_view_module": "@jupyter-widgets/base",
       "_view_module_version": "2.0.0",
       "_view_name": "LayoutView",
       "align_content": null,
       "align_items": null,
       "align_self": null,
       "border_bottom": null,
       "border_left": null,
       "border_right": null,
       "border_top": null,
       "bottom": null,
       "display": null,
       "flex": null,
       "flex_flow": null,
       "grid_area": null,
       "grid_auto_columns": null,
       "grid_auto_flow": null,
       "grid_auto_rows": null,
       "grid_column": null,
       "grid_gap": null,
       "grid_row": null,
       "grid_template_areas": null,
       "grid_template_columns": null,
       "grid_template_rows": null,
       "height": null,
       "justify_content": null,
       "justify_items": null,
       "left": null,
       "margin": null,
       "max_height": null,
       "max_width": null,
       "min_height": null,
       "min_width": null,
       "object_fit": null,
       "object_position": null,
       "order": null,
       "overflow": null,
       "padding": null,
       "right": null,
       "top": null,
       "visibility": null,
       "width": null
      }
     },
     "bedaac3290f242869376b9bea375db3d": {
      "model_module": "@jupyter-widgets/base",
      "model_module_version": "2.0.0",
      "model_name": "LayoutModel",
      "state": {
       "_model_module": "@jupyter-widgets/base",
       "_model_module_version": "2.0.0",
       "_model_name": "LayoutModel",
       "_view_count": null,
       "_view_module": "@jupyter-widgets/base",
       "_view_module_version": "2.0.0",
       "_view_name": "LayoutView",
       "align_content": null,
       "align_items": null,
       "align_self": null,
       "border_bottom": null,
       "border_left": null,
       "border_right": null,
       "border_top": null,
       "bottom": null,
       "display": null,
       "flex": null,
       "flex_flow": null,
       "grid_area": null,
       "grid_auto_columns": null,
       "grid_auto_flow": null,
       "grid_auto_rows": null,
       "grid_column": null,
       "grid_gap": null,
       "grid_row": null,
       "grid_template_areas": null,
       "grid_template_columns": null,
       "grid_template_rows": null,
       "height": null,
       "justify_content": null,
       "justify_items": null,
       "left": null,
       "margin": null,
       "max_height": null,
       "max_width": null,
       "min_height": null,
       "min_width": null,
       "object_fit": null,
       "object_position": null,
       "order": null,
       "overflow": null,
       "padding": null,
       "right": null,
       "top": null,
       "visibility": null,
       "width": null
      }
     },
     "c265dfb868084d68a44ea8dd990de29c": {
      "model_module": "@jupyter-widgets/controls",
      "model_module_version": "2.0.0",
      "model_name": "HBoxModel",
      "state": {
       "_dom_classes": [],
       "_model_module": "@jupyter-widgets/controls",
       "_model_module_version": "2.0.0",
       "_model_name": "HBoxModel",
       "_view_count": null,
       "_view_module": "@jupyter-widgets/controls",
       "_view_module_version": "2.0.0",
       "_view_name": "HBoxView",
       "box_style": "",
       "children": [
        "IPY_MODEL_8725284540684fcea810ddebb2351b1a",
        "IPY_MODEL_d80858bb4ca94dab961373123408169f",
        "IPY_MODEL_cfc14db2dece4303b62c07b2e15832e1"
       ],
       "layout": "IPY_MODEL_44bdea87dd12478b8fc45df6449c2e12",
       "tabbable": null,
       "tooltip": null
      }
     },
     "c5e8b88786984da1bfb4700fbe3c69ce": {
      "model_module": "@jupyter-widgets/controls",
      "model_module_version": "2.0.0",
      "model_name": "FloatProgressModel",
      "state": {
       "_dom_classes": [],
       "_model_module": "@jupyter-widgets/controls",
       "_model_module_version": "2.0.0",
       "_model_name": "FloatProgressModel",
       "_view_count": null,
       "_view_module": "@jupyter-widgets/controls",
       "_view_module_version": "2.0.0",
       "_view_name": "ProgressView",
       "bar_style": "success",
       "description": "",
       "description_allow_html": false,
       "layout": "IPY_MODEL_adb6b5c40af94cceb03f80a223c9b43a",
       "max": 231508.0,
       "min": 0.0,
       "orientation": "horizontal",
       "style": "IPY_MODEL_fbf16b5776af41b5ae09d1c84cbb201b",
       "tabbable": null,
       "tooltip": null,
       "value": 231508.0
      }
     },
     "cad2b65155b2416dbc6188239a438154": {
      "model_module": "@jupyter-widgets/controls",
      "model_module_version": "2.0.0",
      "model_name": "HTMLStyleModel",
      "state": {
       "_model_module": "@jupyter-widgets/controls",
       "_model_module_version": "2.0.0",
       "_model_name": "HTMLStyleModel",
       "_view_count": null,
       "_view_module": "@jupyter-widgets/base",
       "_view_module_version": "2.0.0",
       "_view_name": "StyleView",
       "background": null,
       "description_width": "",
       "font_size": null,
       "text_color": null
      }
     },
     "cc771422779d4eca83d3533cb2c6477f": {
      "model_module": "@jupyter-widgets/controls",
      "model_module_version": "2.0.0",
      "model_name": "HTMLModel",
      "state": {
       "_dom_classes": [],
       "_model_module": "@jupyter-widgets/controls",
       "_model_module_version": "2.0.0",
       "_model_name": "HTMLModel",
       "_view_count": null,
       "_view_module": "@jupyter-widgets/controls",
       "_view_module_version": "2.0.0",
       "_view_name": "HTMLView",
       "description": "",
       "description_allow_html": false,
       "layout": "IPY_MODEL_698714825fee44709b8b8e69b7ebce5b",
       "placeholder": "​",
       "style": "IPY_MODEL_2803d6e22f4a466e8f2fb38f208642ef",
       "tabbable": null,
       "tooltip": null,
       "value": "tokenizer.json: 100%"
      }
     },
     "ce1f4e8dcb9a41408ef73496792fd3b7": {
      "model_module": "@jupyter-widgets/base",
      "model_module_version": "2.0.0",
      "model_name": "LayoutModel",
      "state": {
       "_model_module": "@jupyter-widgets/base",
       "_model_module_version": "2.0.0",
       "_model_name": "LayoutModel",
       "_view_count": null,
       "_view_module": "@jupyter-widgets/base",
       "_view_module_version": "2.0.0",
       "_view_name": "LayoutView",
       "align_content": null,
       "align_items": null,
       "align_self": null,
       "border_bottom": null,
       "border_left": null,
       "border_right": null,
       "border_top": null,
       "bottom": null,
       "display": null,
       "flex": null,
       "flex_flow": null,
       "grid_area": null,
       "grid_auto_columns": null,
       "grid_auto_flow": null,
       "grid_auto_rows": null,
       "grid_column": null,
       "grid_gap": null,
       "grid_row": null,
       "grid_template_areas": null,
       "grid_template_columns": null,
       "grid_template_rows": null,
       "height": null,
       "justify_content": null,
       "justify_items": null,
       "left": null,
       "margin": null,
       "max_height": null,
       "max_width": null,
       "min_height": null,
       "min_width": null,
       "object_fit": null,
       "object_position": null,
       "order": null,
       "overflow": null,
       "padding": null,
       "right": null,
       "top": null,
       "visibility": null,
       "width": null
      }
     },
     "cfc14db2dece4303b62c07b2e15832e1": {
      "model_module": "@jupyter-widgets/controls",
      "model_module_version": "2.0.0",
      "model_name": "HTMLModel",
      "state": {
       "_dom_classes": [],
       "_model_module": "@jupyter-widgets/controls",
       "_model_module_version": "2.0.0",
       "_model_name": "HTMLModel",
       "_view_count": null,
       "_view_module": "@jupyter-widgets/controls",
       "_view_module_version": "2.0.0",
       "_view_name": "HTMLView",
       "description": "",
       "description_allow_html": false,
       "layout": "IPY_MODEL_bb87679b516f48d3a808c419fa8d20b0",
       "placeholder": "​",
       "style": "IPY_MODEL_cad2b65155b2416dbc6188239a438154",
       "tabbable": null,
       "tooltip": null,
       "value": " 570/570 [00:00&lt;00:00, 83.2kB/s]"
      }
     },
     "d80858bb4ca94dab961373123408169f": {
      "model_module": "@jupyter-widgets/controls",
      "model_module_version": "2.0.0",
      "model_name": "FloatProgressModel",
      "state": {
       "_dom_classes": [],
       "_model_module": "@jupyter-widgets/controls",
       "_model_module_version": "2.0.0",
       "_model_name": "FloatProgressModel",
       "_view_count": null,
       "_view_module": "@jupyter-widgets/controls",
       "_view_module_version": "2.0.0",
       "_view_name": "ProgressView",
       "bar_style": "success",
       "description": "",
       "description_allow_html": false,
       "layout": "IPY_MODEL_01bfc5df19154ae7bbc9271f302daf60",
       "max": 570.0,
       "min": 0.0,
       "orientation": "horizontal",
       "style": "IPY_MODEL_d970dcc0870845be8d1f27c966598ff5",
       "tabbable": null,
       "tooltip": null,
       "value": 570.0
      }
     },
     "d970dcc0870845be8d1f27c966598ff5": {
      "model_module": "@jupyter-widgets/controls",
      "model_module_version": "2.0.0",
      "model_name": "ProgressStyleModel",
      "state": {
       "_model_module": "@jupyter-widgets/controls",
       "_model_module_version": "2.0.0",
       "_model_name": "ProgressStyleModel",
       "_view_count": null,
       "_view_module": "@jupyter-widgets/base",
       "_view_module_version": "2.0.0",
       "_view_name": "StyleView",
       "bar_color": null,
       "description_width": ""
      }
     },
     "e0738f4943704044a063bbd40b06701c": {
      "model_module": "@jupyter-widgets/controls",
      "model_module_version": "2.0.0",
      "model_name": "HTMLModel",
      "state": {
       "_dom_classes": [],
       "_model_module": "@jupyter-widgets/controls",
       "_model_module_version": "2.0.0",
       "_model_name": "HTMLModel",
       "_view_count": null,
       "_view_module": "@jupyter-widgets/controls",
       "_view_module_version": "2.0.0",
       "_view_name": "HTMLView",
       "description": "",
       "description_allow_html": false,
       "layout": "IPY_MODEL_9f1e71d196244688ab0b4f9693ba119b",
       "placeholder": "​",
       "style": "IPY_MODEL_9e33f6600799471dac854e049e8559ae",
       "tabbable": null,
       "tooltip": null,
       "value": "tokenizer_config.json: 100%"
      }
     },
     "e3111c46750c4c2a8297ff4afbc9a075": {
      "model_module": "@jupyter-widgets/base",
      "model_module_version": "2.0.0",
      "model_name": "LayoutModel",
      "state": {
       "_model_module": "@jupyter-widgets/base",
       "_model_module_version": "2.0.0",
       "_model_name": "LayoutModel",
       "_view_count": null,
       "_view_module": "@jupyter-widgets/base",
       "_view_module_version": "2.0.0",
       "_view_name": "LayoutView",
       "align_content": null,
       "align_items": null,
       "align_self": null,
       "border_bottom": null,
       "border_left": null,
       "border_right": null,
       "border_top": null,
       "bottom": null,
       "display": null,
       "flex": null,
       "flex_flow": null,
       "grid_area": null,
       "grid_auto_columns": null,
       "grid_auto_flow": null,
       "grid_auto_rows": null,
       "grid_column": null,
       "grid_gap": null,
       "grid_row": null,
       "grid_template_areas": null,
       "grid_template_columns": null,
       "grid_template_rows": null,
       "height": null,
       "justify_content": null,
       "justify_items": null,
       "left": null,
       "margin": null,
       "max_height": null,
       "max_width": null,
       "min_height": null,
       "min_width": null,
       "object_fit": null,
       "object_position": null,
       "order": null,
       "overflow": null,
       "padding": null,
       "right": null,
       "top": null,
       "visibility": null,
       "width": null
      }
     },
     "e6548485deb246919bdd26dc21dece8c": {
      "model_module": "@jupyter-widgets/controls",
      "model_module_version": "2.0.0",
      "model_name": "FloatProgressModel",
      "state": {
       "_dom_classes": [],
       "_model_module": "@jupyter-widgets/controls",
       "_model_module_version": "2.0.0",
       "_model_name": "FloatProgressModel",
       "_view_count": null,
       "_view_module": "@jupyter-widgets/controls",
       "_view_module_version": "2.0.0",
       "_view_name": "ProgressView",
       "bar_style": "success",
       "description": "",
       "description_allow_html": false,
       "layout": "IPY_MODEL_b3cdbefc17bd4da18b88c5b5e3a35f24",
       "max": 440449768.0,
       "min": 0.0,
       "orientation": "horizontal",
       "style": "IPY_MODEL_13704f6ead154f15a10c5505bf5c5730",
       "tabbable": null,
       "tooltip": null,
       "value": 440449768.0
      }
     },
     "e86842b1cf9e4016b826a006befa2eb7": {
      "model_module": "@jupyter-widgets/controls",
      "model_module_version": "2.0.0",
      "model_name": "HTMLModel",
      "state": {
       "_dom_classes": [],
       "_model_module": "@jupyter-widgets/controls",
       "_model_module_version": "2.0.0",
       "_model_name": "HTMLModel",
       "_view_count": null,
       "_view_module": "@jupyter-widgets/controls",
       "_view_module_version": "2.0.0",
       "_view_name": "HTMLView",
       "description": "",
       "description_allow_html": false,
       "layout": "IPY_MODEL_10d3282badba4b44b650f0752fc12e65",
       "placeholder": "​",
       "style": "IPY_MODEL_61bd535ed026419d9a87756af6232680",
       "tabbable": null,
       "tooltip": null,
       "value": " 232k/232k [00:00&lt;00:00, 4.99MB/s]"
      }
     },
     "ed428bd8ef6342f382dc224e264799a9": {
      "model_module": "@jupyter-widgets/controls",
      "model_module_version": "2.0.0",
      "model_name": "FloatProgressModel",
      "state": {
       "_dom_classes": [],
       "_model_module": "@jupyter-widgets/controls",
       "_model_module_version": "2.0.0",
       "_model_name": "FloatProgressModel",
       "_view_count": null,
       "_view_module": "@jupyter-widgets/controls",
       "_view_module_version": "2.0.0",
       "_view_name": "ProgressView",
       "bar_style": "success",
       "description": "",
       "description_allow_html": false,
       "layout": "IPY_MODEL_6b22d5023d784e268102f94b74c4976b",
       "max": 466062.0,
       "min": 0.0,
       "orientation": "horizontal",
       "style": "IPY_MODEL_b43b21fe7b06490394ff88d9fbfc0625",
       "tabbable": null,
       "tooltip": null,
       "value": 466062.0
      }
     },
     "efdaeb886060429d94bbfb80f2a9e7f5": {
      "model_module": "@jupyter-widgets/controls",
      "model_module_version": "2.0.0",
      "model_name": "HTMLStyleModel",
      "state": {
       "_model_module": "@jupyter-widgets/controls",
       "_model_module_version": "2.0.0",
       "_model_name": "HTMLStyleModel",
       "_view_count": null,
       "_view_module": "@jupyter-widgets/base",
       "_view_module_version": "2.0.0",
       "_view_name": "StyleView",
       "background": null,
       "description_width": "",
       "font_size": null,
       "text_color": null
      }
     },
     "f3f649c4c5014357a4ae99421d7c5826": {
      "model_module": "@jupyter-widgets/base",
      "model_module_version": "2.0.0",
      "model_name": "LayoutModel",
      "state": {
       "_model_module": "@jupyter-widgets/base",
       "_model_module_version": "2.0.0",
       "_model_name": "LayoutModel",
       "_view_count": null,
       "_view_module": "@jupyter-widgets/base",
       "_view_module_version": "2.0.0",
       "_view_name": "LayoutView",
       "align_content": null,
       "align_items": null,
       "align_self": null,
       "border_bottom": null,
       "border_left": null,
       "border_right": null,
       "border_top": null,
       "bottom": null,
       "display": null,
       "flex": null,
       "flex_flow": null,
       "grid_area": null,
       "grid_auto_columns": null,
       "grid_auto_flow": null,
       "grid_auto_rows": null,
       "grid_column": null,
       "grid_gap": null,
       "grid_row": null,
       "grid_template_areas": null,
       "grid_template_columns": null,
       "grid_template_rows": null,
       "height": null,
       "justify_content": null,
       "justify_items": null,
       "left": null,
       "margin": null,
       "max_height": null,
       "max_width": null,
       "min_height": null,
       "min_width": null,
       "object_fit": null,
       "object_position": null,
       "order": null,
       "overflow": null,
       "padding": null,
       "right": null,
       "top": null,
       "visibility": null,
       "width": null
      }
     },
     "fbf16b5776af41b5ae09d1c84cbb201b": {
      "model_module": "@jupyter-widgets/controls",
      "model_module_version": "2.0.0",
      "model_name": "ProgressStyleModel",
      "state": {
       "_model_module": "@jupyter-widgets/controls",
       "_model_module_version": "2.0.0",
       "_model_name": "ProgressStyleModel",
       "_view_count": null,
       "_view_module": "@jupyter-widgets/base",
       "_view_module_version": "2.0.0",
       "_view_name": "StyleView",
       "bar_color": null,
       "description_width": ""
      }
     }
    },
    "version_major": 2,
    "version_minor": 0
   }
  }
 },
 "nbformat": 4,
 "nbformat_minor": 5
}
