{
 "cells": [
  {
   "cell_type": "code",
   "execution_count": 1,
   "id": "07938393",
   "metadata": {
    "execution": {
     "iopub.execute_input": "2025-04-25T04:31:51.706197Z",
     "iopub.status.busy": "2025-04-25T04:31:51.705921Z",
     "iopub.status.idle": "2025-04-25T04:31:53.301659Z",
     "shell.execute_reply": "2025-04-25T04:31:53.300824Z"
    },
    "papermill": {
     "duration": 1.60197,
     "end_time": "2025-04-25T04:31:53.302906",
     "exception": false,
     "start_time": "2025-04-25T04:31:51.700936",
     "status": "completed"
    },
    "tags": []
   },
   "outputs": [
    {
     "name": "stdout",
     "output_type": "stream",
     "text": [
      "/kaggle/input/json-data/assignment_3_ai_tutors_dataset.json\n"
     ]
    }
   ],
   "source": [
    "# This Python 3 environment comes with many helpful analytics libraries installed\n",
    "# It is defined by the kaggle/python Docker image: https://github.com/kaggle/docker-python\n",
    "# For example, here's several helpful packages to load\n",
    "\n",
    "import numpy as np # linear algebra\n",
    "import pandas as pd # data processing, CSV file I/O (e.g. pd.read_csv)\n",
    "\n",
    "# Input data files are available in the read-only \"../input/\" directory\n",
    "# For example, running this (by clicking run or pressing Shift+Enter) will list all files under the input directory\n",
    "\n",
    "import os\n",
    "for dirname, _, filenames in os.walk('/kaggle/input'):\n",
    "    for filename in filenames:\n",
    "        print(os.path.join(dirname, filename))\n",
    "\n",
    "# You can write up to 20GB to the current directory (/kaggle/working/) that gets preserved as output when you create a version using \"Save & Run All\" \n",
    "# You can also write temporary files to /kaggle/temp/, but they won't be saved outside of the current session"
   ]
  },
  {
   "cell_type": "code",
   "execution_count": 2,
   "id": "f70ccef2",
   "metadata": {
    "execution": {
     "iopub.execute_input": "2025-04-25T04:31:53.310610Z",
     "iopub.status.busy": "2025-04-25T04:31:53.310245Z",
     "iopub.status.idle": "2025-04-25T04:32:23.906968Z",
     "shell.execute_reply": "2025-04-25T04:32:23.906335Z"
    },
    "papermill": {
     "duration": 30.60181,
     "end_time": "2025-04-25T04:32:23.908334",
     "exception": false,
     "start_time": "2025-04-25T04:31:53.306524",
     "status": "completed"
    },
    "tags": []
   },
   "outputs": [
    {
     "name": "stderr",
     "output_type": "stream",
     "text": [
      "2025-04-25 04:32:11.837934: E external/local_xla/xla/stream_executor/cuda/cuda_fft.cc:477] Unable to register cuFFT factory: Attempting to register factory for plugin cuFFT when one has already been registered\n",
      "WARNING: All log messages before absl::InitializeLog() is called are written to STDERR\n",
      "E0000 00:00:1745555532.091726      19 cuda_dnn.cc:8310] Unable to register cuDNN factory: Attempting to register factory for plugin cuDNN when one has already been registered\n",
      "E0000 00:00:1745555532.159899      19 cuda_blas.cc:1418] Unable to register cuBLAS factory: Attempting to register factory for plugin cuBLAS when one has already been registered\n"
     ]
    }
   ],
   "source": [
    "import torch\n",
    "import torch.nn as nn\n",
    "from transformers import BertForSequenceClassification, BertTokenizer\n",
    "from sklearn.metrics import accuracy_score, f1_score, classification_report\n",
    "from torch.utils.data import DataLoader\n",
    "from tqdm import tqdm\n",
    "import pandas as pd\n",
    "import json\n",
    "from torch.utils.data import Dataset\n",
    "from sklearn.model_selection import train_test_split"
   ]
  },
  {
   "cell_type": "code",
   "execution_count": 3,
   "id": "faa6d07e",
   "metadata": {
    "execution": {
     "iopub.execute_input": "2025-04-25T04:32:23.916069Z",
     "iopub.status.busy": "2025-04-25T04:32:23.915595Z",
     "iopub.status.idle": "2025-04-25T04:32:23.919127Z",
     "shell.execute_reply": "2025-04-25T04:32:23.918628Z"
    },
    "papermill": {
     "duration": 0.008201,
     "end_time": "2025-04-25T04:32:23.920068",
     "exception": false,
     "start_time": "2025-04-25T04:32:23.911867",
     "status": "completed"
    },
    "tags": []
   },
   "outputs": [],
   "source": [
    "device = torch.device(\"cuda\" if torch.cuda.is_available() else \"cpu\")"
   ]
  },
  {
   "cell_type": "code",
   "execution_count": 4,
   "id": "07e3c3f7",
   "metadata": {
    "execution": {
     "iopub.execute_input": "2025-04-25T04:32:23.926626Z",
     "iopub.status.busy": "2025-04-25T04:32:23.926378Z",
     "iopub.status.idle": "2025-04-25T04:32:23.930970Z",
     "shell.execute_reply": "2025-04-25T04:32:23.930444Z"
    },
    "papermill": {
     "duration": 0.009071,
     "end_time": "2025-04-25T04:32:23.932041",
     "exception": false,
     "start_time": "2025-04-25T04:32:23.922970",
     "status": "completed"
    },
    "tags": []
   },
   "outputs": [],
   "source": [
    "class FocalLossWithWeights(nn.Module):\n",
    "    def __init__(self, weight=None, gamma=2.0):\n",
    "        super(FocalLossWithWeights, self).__init__()\n",
    "        self.weight = weight\n",
    "        self.gamma = gamma\n",
    "        self.ce = nn.CrossEntropyLoss(reduction='none', weight=weight)\n",
    "\n",
    "    def forward(self, inputs, targets):\n",
    "        logp = self.ce(inputs, targets)\n",
    "        p = torch.exp(-logp)\n",
    "        loss = (1 - p) ** self.gamma * logp\n",
    "        return loss.mean()\n"
   ]
  },
  {
   "cell_type": "code",
   "execution_count": 5,
   "id": "8c67cfd2",
   "metadata": {
    "execution": {
     "iopub.execute_input": "2025-04-25T04:32:23.938748Z",
     "iopub.status.busy": "2025-04-25T04:32:23.938315Z",
     "iopub.status.idle": "2025-04-25T04:32:23.942314Z",
     "shell.execute_reply": "2025-04-25T04:32:23.941799Z"
    },
    "papermill": {
     "duration": 0.008349,
     "end_time": "2025-04-25T04:32:23.943297",
     "exception": false,
     "start_time": "2025-04-25T04:32:23.934948",
     "status": "completed"
    },
    "tags": []
   },
   "outputs": [],
   "source": [
    "# ---------- Dataset Definition ----------\n",
    "class TutorEvalSingleTaskDataset(Dataset):\n",
    "    def __init__(self, encodings, labels):\n",
    "        self.encodings = encodings\n",
    "        self.labels = labels\n",
    "\n",
    "    def __getitem__(self, idx):\n",
    "        return {\n",
    "            'input_ids': self.encodings['input_ids'][idx],\n",
    "            'attention_mask': self.encodings['attention_mask'][idx],\n",
    "            'labels': self.labels[idx]\n",
    "        }\n",
    "\n",
    "    def __len__(self):\n",
    "        return len(self.labels)"
   ]
  },
  {
   "cell_type": "code",
   "execution_count": 6,
   "id": "7424d680",
   "metadata": {
    "execution": {
     "iopub.execute_input": "2025-04-25T04:32:23.950170Z",
     "iopub.status.busy": "2025-04-25T04:32:23.949649Z",
     "iopub.status.idle": "2025-04-25T04:32:23.954321Z",
     "shell.execute_reply": "2025-04-25T04:32:23.953657Z"
    },
    "papermill": {
     "duration": 0.00912,
     "end_time": "2025-04-25T04:32:23.955296",
     "exception": false,
     "start_time": "2025-04-25T04:32:23.946176",
     "status": "completed"
    },
    "tags": []
   },
   "outputs": [],
   "source": [
    "# ---------- Preprocessing ----------\n",
    "def load_and_flatten(json_path):\n",
    "    with open(json_path) as f:\n",
    "        data = json.load(f)\n",
    "\n",
    "    rows = []\n",
    "    for instance in data:\n",
    "        convo_id = instance[\"conversation_id\"]\n",
    "        history = instance[\"conversation_history\"]\n",
    "        for tutor_id, tutor_data in instance[\"tutor_responses\"].items():\n",
    "            row = {\n",
    "                \"conversation_id\": convo_id,\n",
    "                \"tutor_id\": tutor_id,\n",
    "                \"conversation_history\": history,\n",
    "                \"tutor_response\": tutor_data[\"response\"],\n",
    "                \"Mistake_Identification\": tutor_data[\"annotation\"][\"Mistake_Identification\"],\n",
    "                \"Mistake_Location\": tutor_data[\"annotation\"][\"Mistake_Location\"],\n",
    "                \"Pedagogical_Guidance\": tutor_data[\"annotation\"][\"Providing_Guidance\"],\n",
    "                \"Actionability\": tutor_data[\"annotation\"][\"Actionability\"]\n",
    "            }\n",
    "            rows.append(row)\n",
    "    return pd.DataFrame(rows)"
   ]
  },
  {
   "cell_type": "code",
   "execution_count": 7,
   "id": "69f0f7d9",
   "metadata": {
    "execution": {
     "iopub.execute_input": "2025-04-25T04:32:23.961750Z",
     "iopub.status.busy": "2025-04-25T04:32:23.961550Z",
     "iopub.status.idle": "2025-04-25T04:32:23.966141Z",
     "shell.execute_reply": "2025-04-25T04:32:23.965502Z"
    },
    "papermill": {
     "duration": 0.008964,
     "end_time": "2025-04-25T04:32:23.967131",
     "exception": false,
     "start_time": "2025-04-25T04:32:23.958167",
     "status": "completed"
    },
    "tags": []
   },
   "outputs": [],
   "source": [
    "def build_input_text(row):\n",
    "    return f\"Context:\\n{row['conversation_history']}\\n\\nTutor Response:\\n{row['tutor_response']}\"\n",
    "\n",
    "LABEL_MAP = {\"Yes\": 0, \"To some extent\": 1, \"No\": 2}\n",
    "MERGED_LABEL_MAP = {\"Yes\": 1, \"To some extent\": 1, \"No\": 0}\n",
    "\n",
    "def encode_labels(df):\n",
    "    for task in [\"Mistake_Identification\", \"Mistake_Location\", \"Pedagogical_Guidance\", \"Actionability\"]:\n",
    "        df[f\"{task}_label\"] = df[task].map(LABEL_MAP)\n",
    "        df[f\"{task}_binary\"] = df[task].map(MERGED_LABEL_MAP)\n",
    "    return df\n",
    "\n",
    "def tokenize_inputs(tokenizer, texts, max_length=256):\n",
    "    return tokenizer(\n",
    "        texts,\n",
    "        add_special_tokens=True,\n",
    "        truncation=True,\n",
    "        padding=True,\n",
    "        max_length=max_length,\n",
    "        return_tensors=\"pt\"\n",
    "    )"
   ]
  },
  {
   "cell_type": "code",
   "execution_count": 8,
   "id": "ec6caa98",
   "metadata": {
    "execution": {
     "iopub.execute_input": "2025-04-25T04:32:23.973525Z",
     "iopub.status.busy": "2025-04-25T04:32:23.973309Z",
     "iopub.status.idle": "2025-04-25T04:32:23.978034Z",
     "shell.execute_reply": "2025-04-25T04:32:23.977358Z"
    },
    "papermill": {
     "duration": 0.00898,
     "end_time": "2025-04-25T04:32:23.978986",
     "exception": false,
     "start_time": "2025-04-25T04:32:23.970006",
     "status": "completed"
    },
    "tags": []
   },
   "outputs": [],
   "source": [
    "def preprocess_dataset(json_path, task_label):\n",
    "    df = load_and_flatten(json_path)\n",
    "    df[\"input_text\"] = df.apply(build_input_text, axis=1)\n",
    "    df = encode_labels(df)\n",
    "\n",
    "    train_df, val_df = train_test_split(df, test_size=0.1, stratify=df[task_label], random_state=42)\n",
    "\n",
    "    tokenizer = BertTokenizer.from_pretrained(\"bert-base-uncased\", do_lower_case=True)\n",
    "    train_enc = tokenize_inputs(tokenizer, train_df[\"input_text\"].tolist())\n",
    "    val_enc = tokenize_inputs(tokenizer, val_df[\"input_text\"].tolist())\n",
    "\n",
    "    train_labels = torch.tensor(train_df[task_label].tolist())\n",
    "    val_labels = torch.tensor(val_df[task_label].tolist())\n",
    "\n",
    "    train_dataset = TutorEvalSingleTaskDataset(train_enc, train_labels)\n",
    "    val_dataset = TutorEvalSingleTaskDataset(val_enc, val_labels)\n",
    "\n",
    "    return train_dataset, val_dataset, tokenizer, df\n"
   ]
  },
  {
   "cell_type": "code",
   "execution_count": 9,
   "id": "e936667e",
   "metadata": {
    "execution": {
     "iopub.execute_input": "2025-04-25T04:32:23.985670Z",
     "iopub.status.busy": "2025-04-25T04:32:23.985458Z",
     "iopub.status.idle": "2025-04-25T04:32:23.988886Z",
     "shell.execute_reply": "2025-04-25T04:32:23.988372Z"
    },
    "papermill": {
     "duration": 0.007781,
     "end_time": "2025-04-25T04:32:23.989915",
     "exception": false,
     "start_time": "2025-04-25T04:32:23.982134",
     "status": "completed"
    },
    "tags": []
   },
   "outputs": [],
   "source": [
    "from sklearn.utils.class_weight import compute_class_weight\n",
    "import numpy as np\n",
    "\n",
    "def get_class_weights(labels, num_classes):\n",
    "    class_weights = compute_class_weight(class_weight='balanced', classes=np.arange(num_classes), y=labels)\n",
    "    return torch.tensor(class_weights, dtype=torch.float).to(device)\n"
   ]
  },
  {
   "cell_type": "code",
   "execution_count": 10,
   "id": "bc887e76",
   "metadata": {
    "execution": {
     "iopub.execute_input": "2025-04-25T04:32:23.996426Z",
     "iopub.status.busy": "2025-04-25T04:32:23.996202Z",
     "iopub.status.idle": "2025-04-25T04:32:23.999688Z",
     "shell.execute_reply": "2025-04-25T04:32:23.999188Z"
    },
    "papermill": {
     "duration": 0.007985,
     "end_time": "2025-04-25T04:32:24.000737",
     "exception": false,
     "start_time": "2025-04-25T04:32:23.992752",
     "status": "completed"
    },
    "tags": []
   },
   "outputs": [],
   "source": [
    "# ---------- Model ----------\n",
    "class SingleTaskBertClassifier(nn.Module):\n",
    "    def __init__(self, num_labels):\n",
    "        super().__init__()\n",
    "        self.bert = BertForSequenceClassification.from_pretrained(\"bert-base-uncased\", num_labels=num_labels)\n",
    "\n",
    "    def forward(self, input_ids, attention_mask):\n",
    "        return self.bert(input_ids=input_ids, attention_mask=attention_mask).logits"
   ]
  },
  {
   "cell_type": "code",
   "execution_count": 11,
   "id": "f30c5e0e",
   "metadata": {
    "execution": {
     "iopub.execute_input": "2025-04-25T04:32:24.007423Z",
     "iopub.status.busy": "2025-04-25T04:32:24.007165Z",
     "iopub.status.idle": "2025-04-25T04:32:24.015424Z",
     "shell.execute_reply": "2025-04-25T04:32:24.014744Z"
    },
    "papermill": {
     "duration": 0.012904,
     "end_time": "2025-04-25T04:32:24.016517",
     "exception": false,
     "start_time": "2025-04-25T04:32:24.003613",
     "status": "completed"
    },
    "tags": []
   },
   "outputs": [],
   "source": [
    "# ---------- Training ----------\n",
    "def evaluate_model(model, val_loader):\n",
    "    model.eval()\n",
    "    all_preds, all_labels = [], []\n",
    "    with torch.no_grad():\n",
    "        for batch in val_loader:\n",
    "            input_ids = batch['input_ids'].to(device)\n",
    "            attention_mask = batch['attention_mask'].to(device)\n",
    "            labels = batch['labels'].cpu().numpy()\n",
    "\n",
    "            outputs = model(input_ids, attention_mask)\n",
    "            preds = torch.argmax(outputs, dim=1)\n",
    "            all_preds.extend(preds.cpu().numpy())\n",
    "            all_labels.extend(labels)\n",
    "\n",
    "    acc = accuracy_score(all_labels, all_preds)\n",
    "    macro_f1 = f1_score(all_labels, all_preds, average='macro')\n",
    "    print(f\"Validation Accuracy: {acc:.4f}  Validation Macro F1: {macro_f1:.4f}\")\n",
    "    print(classification_report(all_labels, all_preds, target_names=[\"Yes/To some extent\", \"No\"], zero_division=0))\n",
    "\n",
    "def train_model(loss_type, train_loader, val_loader, num_labels, epochs=15):\n",
    "    print(f\"\\n🔁 Training with: {loss_type.upper()} Loss\\n\")\n",
    "\n",
    "    model = SingleTaskBertClassifier(num_labels).to(device)\n",
    "    optimizer = torch.optim.AdamW(model.parameters(), lr=2e-5)\n",
    "\n",
    "    train_labels_list = [label.item() for batch in train_loader for label in batch['labels']]\n",
    "    class_weights = get_class_weights(train_labels_list, num_labels)\n",
    "\n",
    "    if loss_type == \"focal\":\n",
    "        criterion = FocalLossWithWeights(class_weights)\n",
    "    elif loss_type == \"smoothing\":\n",
    "        criterion = nn.CrossEntropyLoss(weight=class_weights, label_smoothing=0.1)\n",
    "    else:\n",
    "        criterion = nn.CrossEntropyLoss(weight=class_weights)\n",
    "\n",
    "\n",
    "    for epoch in range(epochs):\n",
    "        model.train()\n",
    "        total_loss = 0\n",
    "        for batch in tqdm(train_loader, desc=f\"Epoch {epoch+1}/{epochs}\"):\n",
    "            optimizer.zero_grad()\n",
    "            input_ids = batch['input_ids'].to(device)\n",
    "            attention_mask = batch['attention_mask'].to(device)\n",
    "            labels = batch['labels'].to(device)\n",
    "\n",
    "            outputs = model(input_ids, attention_mask)\n",
    "            loss = criterion(outputs, labels)\n",
    "            loss.backward()\n",
    "            optimizer.step()\n",
    "\n",
    "            total_loss += loss.item()\n",
    "\n",
    "        avg_loss = total_loss / len(train_loader)\n",
    "        print(f\"Epoch {epoch+1} Loss: {avg_loss:.4f}\")\n",
    "        evaluate_model(model, val_loader)\n",
    "\n"
   ]
  },
  {
   "cell_type": "code",
   "execution_count": 12,
   "id": "dd454886",
   "metadata": {
    "execution": {
     "iopub.execute_input": "2025-04-25T04:32:24.022898Z",
     "iopub.status.busy": "2025-04-25T04:32:24.022707Z",
     "iopub.status.idle": "2025-04-25T04:32:33.060653Z",
     "shell.execute_reply": "2025-04-25T04:32:33.059809Z"
    },
    "papermill": {
     "duration": 9.042818,
     "end_time": "2025-04-25T04:32:33.062089",
     "exception": false,
     "start_time": "2025-04-25T04:32:24.019271",
     "status": "completed"
    },
    "tags": []
   },
   "outputs": [
    {
     "data": {
      "application/vnd.jupyter.widget-view+json": {
       "model_id": "39addbee25a64db3ac6fd32ae8bcd172",
       "version_major": 2,
       "version_minor": 0
      },
      "text/plain": [
       "tokenizer_config.json:   0%|          | 0.00/48.0 [00:00<?, ?B/s]"
      ]
     },
     "metadata": {},
     "output_type": "display_data"
    },
    {
     "data": {
      "application/vnd.jupyter.widget-view+json": {
       "model_id": "c3c4f46187244738b0e4e8cf599842ae",
       "version_major": 2,
       "version_minor": 0
      },
      "text/plain": [
       "vocab.txt:   0%|          | 0.00/232k [00:00<?, ?B/s]"
      ]
     },
     "metadata": {},
     "output_type": "display_data"
    },
    {
     "data": {
      "application/vnd.jupyter.widget-view+json": {
       "model_id": "509e36b30b584fdaac5149505a325463",
       "version_major": 2,
       "version_minor": 0
      },
      "text/plain": [
       "tokenizer.json:   0%|          | 0.00/466k [00:00<?, ?B/s]"
      ]
     },
     "metadata": {},
     "output_type": "display_data"
    },
    {
     "data": {
      "application/vnd.jupyter.widget-view+json": {
       "model_id": "0a316757445e41588953da8216cf4a11",
       "version_major": 2,
       "version_minor": 0
      },
      "text/plain": [
       "config.json:   0%|          | 0.00/570 [00:00<?, ?B/s]"
      ]
     },
     "metadata": {},
     "output_type": "display_data"
    }
   ],
   "source": [
    "# ---------- Run ----------\n",
    "json_path = \"/kaggle/input/json-data/assignment_3_ai_tutors_dataset.json\"\n",
    "train_dataset, val_dataset, tokenizer, df = preprocess_dataset(json_path, \"Mistake_Identification_binary\")\n",
    "train_loader = DataLoader(train_dataset, batch_size=4, shuffle=True)\n",
    "val_loader = DataLoader(val_dataset, batch_size=4)\n"
   ]
  },
  {
   "cell_type": "code",
   "execution_count": 13,
   "id": "c4850eaa",
   "metadata": {
    "execution": {
     "iopub.execute_input": "2025-04-25T04:32:33.069779Z",
     "iopub.status.busy": "2025-04-25T04:32:33.069551Z",
     "iopub.status.idle": "2025-04-25T05:04:15.562776Z",
     "shell.execute_reply": "2025-04-25T05:04:15.561837Z"
    },
    "papermill": {
     "duration": 1902.498697,
     "end_time": "2025-04-25T05:04:15.564448",
     "exception": false,
     "start_time": "2025-04-25T04:32:33.065751",
     "status": "completed"
    },
    "tags": []
   },
   "outputs": [
    {
     "name": "stderr",
     "output_type": "stream",
     "text": [
      "Xet Storage is enabled for this repo, but the 'hf_xet' package is not installed. Falling back to regular HTTP download. For better performance, install the package with: `pip install huggingface_hub[hf_xet]` or `pip install hf_xet`\n"
     ]
    },
    {
     "name": "stdout",
     "output_type": "stream",
     "text": [
      "\n",
      "🔁 Training with: CE Loss\n",
      "\n"
     ]
    },
    {
     "data": {
      "application/vnd.jupyter.widget-view+json": {
       "model_id": "22d4d8044ebb44228a0f04527e3f0444",
       "version_major": 2,
       "version_minor": 0
      },
      "text/plain": [
       "model.safetensors:   0%|          | 0.00/440M [00:00<?, ?B/s]"
      ]
     },
     "metadata": {},
     "output_type": "display_data"
    },
    {
     "name": "stderr",
     "output_type": "stream",
     "text": [
      "Some weights of BertForSequenceClassification were not initialized from the model checkpoint at bert-base-uncased and are newly initialized: ['classifier.bias', 'classifier.weight']\n",
      "You should probably TRAIN this model on a down-stream task to be able to use it for predictions and inference.\n",
      "Epoch 1/15: 100%|██████████| 557/557 [01:53<00:00,  4.91it/s]\n"
     ]
    },
    {
     "name": "stdout",
     "output_type": "stream",
     "text": [
      "Epoch 1 Loss: 0.6352\n",
      "Validation Accuracy: 0.8508  Validation Macro F1: 0.4597\n",
      "                    precision    recall  f1-score   support\n",
      "\n",
      "Yes/To some extent       0.00      0.00      0.00        37\n",
      "                No       0.85      1.00      0.92       211\n",
      "\n",
      "          accuracy                           0.85       248\n",
      "         macro avg       0.43      0.50      0.46       248\n",
      "      weighted avg       0.72      0.85      0.78       248\n",
      "\n"
     ]
    },
    {
     "name": "stderr",
     "output_type": "stream",
     "text": [
      "Epoch 2/15: 100%|██████████| 557/557 [02:03<00:00,  4.51it/s]\n"
     ]
    },
    {
     "name": "stdout",
     "output_type": "stream",
     "text": [
      "Epoch 2 Loss: 0.5997\n",
      "Validation Accuracy: 0.8508  Validation Macro F1: 0.4852\n",
      "                    precision    recall  f1-score   support\n",
      "\n",
      "Yes/To some extent       0.50      0.03      0.05        37\n",
      "                No       0.85      1.00      0.92       211\n",
      "\n",
      "          accuracy                           0.85       248\n",
      "         macro avg       0.68      0.51      0.49       248\n",
      "      weighted avg       0.80      0.85      0.79       248\n",
      "\n"
     ]
    },
    {
     "name": "stderr",
     "output_type": "stream",
     "text": [
      "Epoch 3/15: 100%|██████████| 557/557 [02:03<00:00,  4.52it/s]\n"
     ]
    },
    {
     "name": "stdout",
     "output_type": "stream",
     "text": [
      "Epoch 3 Loss: 0.5699\n",
      "Validation Accuracy: 0.8387  Validation Macro F1: 0.5387\n",
      "                    precision    recall  f1-score   support\n",
      "\n",
      "Yes/To some extent       0.36      0.11      0.17        37\n",
      "                No       0.86      0.97      0.91       211\n",
      "\n",
      "          accuracy                           0.84       248\n",
      "         macro avg       0.61      0.54      0.54       248\n",
      "      weighted avg       0.79      0.84      0.80       248\n",
      "\n"
     ]
    },
    {
     "name": "stderr",
     "output_type": "stream",
     "text": [
      "Epoch 4/15: 100%|██████████| 557/557 [02:03<00:00,  4.51it/s]\n"
     ]
    },
    {
     "name": "stdout",
     "output_type": "stream",
     "text": [
      "Epoch 4 Loss: 0.5318\n",
      "Validation Accuracy: 0.8306  Validation Macro F1: 0.5636\n",
      "                    precision    recall  f1-score   support\n",
      "\n",
      "Yes/To some extent       0.35      0.16      0.22        37\n",
      "                No       0.87      0.95      0.90       211\n",
      "\n",
      "          accuracy                           0.83       248\n",
      "         macro avg       0.61      0.56      0.56       248\n",
      "      weighted avg       0.79      0.83      0.80       248\n",
      "\n"
     ]
    },
    {
     "name": "stderr",
     "output_type": "stream",
     "text": [
      "Epoch 5/15: 100%|██████████| 557/557 [02:03<00:00,  4.51it/s]\n"
     ]
    },
    {
     "name": "stdout",
     "output_type": "stream",
     "text": [
      "Epoch 5 Loss: 0.5126\n",
      "Validation Accuracy: 0.8347  Validation Macro F1: 0.5937\n",
      "                    precision    recall  f1-score   support\n",
      "\n",
      "Yes/To some extent       0.40      0.22      0.28        37\n",
      "                No       0.87      0.94      0.91       211\n",
      "\n",
      "          accuracy                           0.83       248\n",
      "         macro avg       0.64      0.58      0.59       248\n",
      "      weighted avg       0.80      0.83      0.81       248\n",
      "\n"
     ]
    },
    {
     "name": "stderr",
     "output_type": "stream",
     "text": [
      "Epoch 6/15: 100%|██████████| 557/557 [02:03<00:00,  4.52it/s]\n"
     ]
    },
    {
     "name": "stdout",
     "output_type": "stream",
     "text": [
      "Epoch 6 Loss: 0.4894\n",
      "Validation Accuracy: 0.8347  Validation Macro F1: 0.5808\n",
      "                    precision    recall  f1-score   support\n",
      "\n",
      "Yes/To some extent       0.39      0.19      0.25        37\n",
      "                No       0.87      0.95      0.91       211\n",
      "\n",
      "          accuracy                           0.83       248\n",
      "         macro avg       0.63      0.57      0.58       248\n",
      "      weighted avg       0.80      0.83      0.81       248\n",
      "\n"
     ]
    },
    {
     "name": "stderr",
     "output_type": "stream",
     "text": [
      "Epoch 7/15: 100%|██████████| 557/557 [02:03<00:00,  4.51it/s]\n"
     ]
    },
    {
     "name": "stdout",
     "output_type": "stream",
     "text": [
      "Epoch 7 Loss: 0.4780\n",
      "Validation Accuracy: 0.8508  Validation Macro F1: 0.5811\n",
      "                    precision    recall  f1-score   support\n",
      "\n",
      "Yes/To some extent       0.50      0.16      0.24        37\n",
      "                No       0.87      0.97      0.92       211\n",
      "\n",
      "          accuracy                           0.85       248\n",
      "         macro avg       0.68      0.57      0.58       248\n",
      "      weighted avg       0.81      0.85      0.82       248\n",
      "\n"
     ]
    },
    {
     "name": "stderr",
     "output_type": "stream",
     "text": [
      "Epoch 8/15: 100%|██████████| 557/557 [02:03<00:00,  4.52it/s]\n"
     ]
    },
    {
     "name": "stdout",
     "output_type": "stream",
     "text": [
      "Epoch 8 Loss: 0.4589\n",
      "Validation Accuracy: 0.8226  Validation Macro F1: 0.5705\n",
      "                    precision    recall  f1-score   support\n",
      "\n",
      "Yes/To some extent       0.33      0.19      0.24        37\n",
      "                No       0.87      0.93      0.90       211\n",
      "\n",
      "          accuracy                           0.82       248\n",
      "         macro avg       0.60      0.56      0.57       248\n",
      "      weighted avg       0.79      0.82      0.80       248\n",
      "\n"
     ]
    },
    {
     "name": "stderr",
     "output_type": "stream",
     "text": [
      "Epoch 9/15: 100%|██████████| 557/557 [02:03<00:00,  4.51it/s]\n"
     ]
    },
    {
     "name": "stdout",
     "output_type": "stream",
     "text": [
      "Epoch 9 Loss: 0.4598\n",
      "Validation Accuracy: 0.8508  Validation Macro F1: 0.5652\n",
      "                    precision    recall  f1-score   support\n",
      "\n",
      "Yes/To some extent       0.50      0.14      0.21        37\n",
      "                No       0.87      0.98      0.92       211\n",
      "\n",
      "          accuracy                           0.85       248\n",
      "         macro avg       0.68      0.56      0.57       248\n",
      "      weighted avg       0.81      0.85      0.81       248\n",
      "\n"
     ]
    },
    {
     "name": "stderr",
     "output_type": "stream",
     "text": [
      "Epoch 10/15: 100%|██████████| 557/557 [02:03<00:00,  4.52it/s]\n"
     ]
    },
    {
     "name": "stdout",
     "output_type": "stream",
     "text": [
      "Epoch 10 Loss: 0.4487\n",
      "Validation Accuracy: 0.8266  Validation Macro F1: 0.5603\n",
      "                    precision    recall  f1-score   support\n",
      "\n",
      "Yes/To some extent       0.33      0.16      0.22        37\n",
      "                No       0.87      0.94      0.90       211\n",
      "\n",
      "          accuracy                           0.83       248\n",
      "         macro avg       0.60      0.55      0.56       248\n",
      "      weighted avg       0.79      0.83      0.80       248\n",
      "\n"
     ]
    },
    {
     "name": "stderr",
     "output_type": "stream",
     "text": [
      "Epoch 11/15: 100%|██████████| 557/557 [02:03<00:00,  4.52it/s]\n"
     ]
    },
    {
     "name": "stdout",
     "output_type": "stream",
     "text": [
      "Epoch 11 Loss: 0.4369\n",
      "Validation Accuracy: 0.8306  Validation Macro F1: 0.6018\n",
      "                    precision    recall  f1-score   support\n",
      "\n",
      "Yes/To some extent       0.39      0.24      0.30        37\n",
      "                No       0.88      0.93      0.90       211\n",
      "\n",
      "          accuracy                           0.83       248\n",
      "         macro avg       0.63      0.59      0.60       248\n",
      "      weighted avg       0.80      0.83      0.81       248\n",
      "\n"
     ]
    },
    {
     "name": "stderr",
     "output_type": "stream",
     "text": [
      "Epoch 12/15: 100%|██████████| 557/557 [02:03<00:00,  4.51it/s]\n"
     ]
    },
    {
     "name": "stdout",
     "output_type": "stream",
     "text": [
      "Epoch 12 Loss: 0.4209\n",
      "Validation Accuracy: 0.8306  Validation Macro F1: 0.5900\n",
      "                    precision    recall  f1-score   support\n",
      "\n",
      "Yes/To some extent       0.38      0.22      0.28        37\n",
      "                No       0.87      0.94      0.90       211\n",
      "\n",
      "          accuracy                           0.83       248\n",
      "         macro avg       0.63      0.58      0.59       248\n",
      "      weighted avg       0.80      0.83      0.81       248\n",
      "\n"
     ]
    },
    {
     "name": "stderr",
     "output_type": "stream",
     "text": [
      "Epoch 13/15: 100%|██████████| 557/557 [02:03<00:00,  4.51it/s]\n"
     ]
    },
    {
     "name": "stdout",
     "output_type": "stream",
     "text": [
      "Epoch 13 Loss: 0.4145\n",
      "Validation Accuracy: 0.8266  Validation Macro F1: 0.5864\n",
      "                    precision    recall  f1-score   support\n",
      "\n",
      "Yes/To some extent       0.36      0.22      0.27        37\n",
      "                No       0.87      0.93      0.90       211\n",
      "\n",
      "          accuracy                           0.83       248\n",
      "         macro avg       0.62      0.57      0.59       248\n",
      "      weighted avg       0.80      0.83      0.81       248\n",
      "\n"
     ]
    },
    {
     "name": "stderr",
     "output_type": "stream",
     "text": [
      "Epoch 14/15: 100%|██████████| 557/557 [02:03<00:00,  4.53it/s]\n"
     ]
    },
    {
     "name": "stdout",
     "output_type": "stream",
     "text": [
      "Epoch 14 Loss: 0.4211\n",
      "Validation Accuracy: 0.8105  Validation Macro F1: 0.5479\n",
      "                    precision    recall  f1-score   support\n",
      "\n",
      "Yes/To some extent       0.27      0.16      0.20        37\n",
      "                No       0.86      0.92      0.89       211\n",
      "\n",
      "          accuracy                           0.81       248\n",
      "         macro avg       0.57      0.54      0.55       248\n",
      "      weighted avg       0.77      0.81      0.79       248\n",
      "\n"
     ]
    },
    {
     "name": "stderr",
     "output_type": "stream",
     "text": [
      "Epoch 15/15: 100%|██████████| 557/557 [02:03<00:00,  4.52it/s]\n"
     ]
    },
    {
     "name": "stdout",
     "output_type": "stream",
     "text": [
      "Epoch 15 Loss: 0.4041\n",
      "Validation Accuracy: 0.8145  Validation Macro F1: 0.5760\n",
      "                    precision    recall  f1-score   support\n",
      "\n",
      "Yes/To some extent       0.32      0.22      0.26        37\n",
      "                No       0.87      0.92      0.89       211\n",
      "\n",
      "          accuracy                           0.81       248\n",
      "         macro avg       0.59      0.57      0.58       248\n",
      "      weighted avg       0.79      0.81      0.80       248\n",
      "\n"
     ]
    }
   ],
   "source": [
    "train_model(\"ce\", train_loader, val_loader, num_labels=2)"
   ]
  },
  {
   "cell_type": "code",
   "execution_count": 14,
   "id": "7e4bc33f",
   "metadata": {
    "execution": {
     "iopub.execute_input": "2025-04-25T05:04:16.293266Z",
     "iopub.status.busy": "2025-04-25T05:04:16.292943Z",
     "iopub.status.idle": "2025-04-25T05:04:24.578304Z",
     "shell.execute_reply": "2025-04-25T05:04:24.577711Z"
    },
    "papermill": {
     "duration": 8.617411,
     "end_time": "2025-04-25T05:04:24.579856",
     "exception": false,
     "start_time": "2025-04-25T05:04:15.962445",
     "status": "completed"
    },
    "tags": []
   },
   "outputs": [],
   "source": [
    "# ---------- Run ----------\n",
    "json_path = \"/kaggle/input/json-data/assignment_3_ai_tutors_dataset.json\"\n",
    "train_dataset, val_dataset, tokenizer, df = preprocess_dataset(json_path, \"Mistake_Location_binary\")\n",
    "train_loader = DataLoader(train_dataset, batch_size=4, shuffle=True)\n",
    "val_loader = DataLoader(val_dataset, batch_size=4)\n",
    "\n"
   ]
  },
  {
   "cell_type": "code",
   "execution_count": 15,
   "id": "97e792a0",
   "metadata": {
    "execution": {
     "iopub.execute_input": "2025-04-25T05:04:25.310002Z",
     "iopub.status.busy": "2025-04-25T05:04:25.309722Z",
     "iopub.status.idle": "2025-04-25T05:36:14.174158Z",
     "shell.execute_reply": "2025-04-25T05:36:14.173472Z"
    },
    "papermill": {
     "duration": 1909.255286,
     "end_time": "2025-04-25T05:36:14.175630",
     "exception": false,
     "start_time": "2025-04-25T05:04:24.920344",
     "status": "completed"
    },
    "tags": []
   },
   "outputs": [
    {
     "name": "stderr",
     "output_type": "stream",
     "text": [
      "Some weights of BertForSequenceClassification were not initialized from the model checkpoint at bert-base-uncased and are newly initialized: ['classifier.bias', 'classifier.weight']\n",
      "You should probably TRAIN this model on a down-stream task to be able to use it for predictions and inference.\n"
     ]
    },
    {
     "name": "stdout",
     "output_type": "stream",
     "text": [
      "\n",
      "🔁 Training with: CE Loss\n",
      "\n"
     ]
    },
    {
     "name": "stderr",
     "output_type": "stream",
     "text": [
      "Epoch 1/15: 100%|██████████| 557/557 [02:03<00:00,  4.52it/s]\n"
     ]
    },
    {
     "name": "stdout",
     "output_type": "stream",
     "text": [
      "Epoch 1 Loss: 0.6698\n",
      "Validation Accuracy: 0.4718  Validation Macro F1: 0.4707\n",
      "                    precision    recall  f1-score   support\n",
      "\n",
      "Yes/To some extent       0.34      0.90      0.49        71\n",
      "                No       0.88      0.30      0.45       177\n",
      "\n",
      "          accuracy                           0.47       248\n",
      "         macro avg       0.61      0.60      0.47       248\n",
      "      weighted avg       0.73      0.47      0.46       248\n",
      "\n"
     ]
    },
    {
     "name": "stderr",
     "output_type": "stream",
     "text": [
      "Epoch 2/15: 100%|██████████| 557/557 [02:03<00:00,  4.52it/s]\n"
     ]
    },
    {
     "name": "stdout",
     "output_type": "stream",
     "text": [
      "Epoch 2 Loss: 0.6331\n",
      "Validation Accuracy: 0.7298  Validation Macro F1: 0.4850\n",
      "                    precision    recall  f1-score   support\n",
      "\n",
      "Yes/To some extent       0.83      0.07      0.13        71\n",
      "                No       0.73      0.99      0.84       177\n",
      "\n",
      "          accuracy                           0.73       248\n",
      "         macro avg       0.78      0.53      0.48       248\n",
      "      weighted avg       0.76      0.73      0.64       248\n",
      "\n"
     ]
    },
    {
     "name": "stderr",
     "output_type": "stream",
     "text": [
      "Epoch 3/15: 100%|██████████| 557/557 [02:03<00:00,  4.52it/s]\n"
     ]
    },
    {
     "name": "stdout",
     "output_type": "stream",
     "text": [
      "Epoch 3 Loss: 0.6009\n",
      "Validation Accuracy: 0.7298  Validation Macro F1: 0.4738\n",
      "                    precision    recall  f1-score   support\n",
      "\n",
      "Yes/To some extent       1.00      0.06      0.11        71\n",
      "                No       0.73      1.00      0.84       177\n",
      "\n",
      "          accuracy                           0.73       248\n",
      "         macro avg       0.86      0.53      0.47       248\n",
      "      weighted avg       0.80      0.73      0.63       248\n",
      "\n"
     ]
    },
    {
     "name": "stderr",
     "output_type": "stream",
     "text": [
      "Epoch 4/15: 100%|██████████| 557/557 [02:03<00:00,  4.53it/s]\n"
     ]
    },
    {
     "name": "stdout",
     "output_type": "stream",
     "text": [
      "Epoch 4 Loss: 0.5718\n",
      "Validation Accuracy: 0.7298  Validation Macro F1: 0.4738\n",
      "                    precision    recall  f1-score   support\n",
      "\n",
      "Yes/To some extent       1.00      0.06      0.11        71\n",
      "                No       0.73      1.00      0.84       177\n",
      "\n",
      "          accuracy                           0.73       248\n",
      "         macro avg       0.86      0.53      0.47       248\n",
      "      weighted avg       0.80      0.73      0.63       248\n",
      "\n"
     ]
    },
    {
     "name": "stderr",
     "output_type": "stream",
     "text": [
      "Epoch 5/15: 100%|██████████| 557/557 [02:03<00:00,  4.52it/s]\n"
     ]
    },
    {
     "name": "stdout",
     "output_type": "stream",
     "text": [
      "Epoch 5 Loss: 0.5532\n",
      "Validation Accuracy: 0.6452  Validation Macro F1: 0.6275\n",
      "                    precision    recall  f1-score   support\n",
      "\n",
      "Yes/To some extent       0.43      0.75      0.55        71\n",
      "                No       0.86      0.60      0.71       177\n",
      "\n",
      "          accuracy                           0.65       248\n",
      "         macro avg       0.64      0.68      0.63       248\n",
      "      weighted avg       0.73      0.65      0.66       248\n",
      "\n"
     ]
    },
    {
     "name": "stderr",
     "output_type": "stream",
     "text": [
      "Epoch 6/15: 100%|██████████| 557/557 [02:03<00:00,  4.52it/s]\n"
     ]
    },
    {
     "name": "stdout",
     "output_type": "stream",
     "text": [
      "Epoch 6 Loss: 0.5534\n",
      "Validation Accuracy: 0.7298  Validation Macro F1: 0.4850\n",
      "                    precision    recall  f1-score   support\n",
      "\n",
      "Yes/To some extent       0.83      0.07      0.13        71\n",
      "                No       0.73      0.99      0.84       177\n",
      "\n",
      "          accuracy                           0.73       248\n",
      "         macro avg       0.78      0.53      0.48       248\n",
      "      weighted avg       0.76      0.73      0.64       248\n",
      "\n"
     ]
    },
    {
     "name": "stderr",
     "output_type": "stream",
     "text": [
      "Epoch 7/15: 100%|██████████| 557/557 [02:03<00:00,  4.51it/s]\n"
     ]
    },
    {
     "name": "stdout",
     "output_type": "stream",
     "text": [
      "Epoch 7 Loss: 0.5472\n",
      "Validation Accuracy: 0.7258  Validation Macro F1: 0.4828\n",
      "                    precision    recall  f1-score   support\n",
      "\n",
      "Yes/To some extent       0.71      0.07      0.13        71\n",
      "                No       0.73      0.99      0.84       177\n",
      "\n",
      "          accuracy                           0.73       248\n",
      "         macro avg       0.72      0.53      0.48       248\n",
      "      weighted avg       0.72      0.73      0.63       248\n",
      "\n"
     ]
    },
    {
     "name": "stderr",
     "output_type": "stream",
     "text": [
      "Epoch 8/15: 100%|██████████| 557/557 [02:03<00:00,  4.52it/s]\n"
     ]
    },
    {
     "name": "stdout",
     "output_type": "stream",
     "text": [
      "Epoch 8 Loss: 0.5161\n",
      "Validation Accuracy: 0.7339  Validation Macro F1: 0.5668\n",
      "                    precision    recall  f1-score   support\n",
      "\n",
      "Yes/To some extent       0.61      0.20      0.30        71\n",
      "                No       0.75      0.95      0.84       177\n",
      "\n",
      "          accuracy                           0.73       248\n",
      "         macro avg       0.68      0.57      0.57       248\n",
      "      weighted avg       0.71      0.73      0.68       248\n",
      "\n"
     ]
    },
    {
     "name": "stderr",
     "output_type": "stream",
     "text": [
      "Epoch 9/15: 100%|██████████| 557/557 [02:03<00:00,  4.52it/s]\n"
     ]
    },
    {
     "name": "stdout",
     "output_type": "stream",
     "text": [
      "Epoch 9 Loss: 0.5017\n",
      "Validation Accuracy: 0.7298  Validation Macro F1: 0.5330\n",
      "                    precision    recall  f1-score   support\n",
      "\n",
      "Yes/To some extent       0.62      0.14      0.23        71\n",
      "                No       0.74      0.97      0.84       177\n",
      "\n",
      "          accuracy                           0.73       248\n",
      "         macro avg       0.68      0.55      0.53       248\n",
      "      weighted avg       0.70      0.73      0.66       248\n",
      "\n"
     ]
    },
    {
     "name": "stderr",
     "output_type": "stream",
     "text": [
      "Epoch 10/15: 100%|██████████| 557/557 [02:03<00:00,  4.51it/s]\n"
     ]
    },
    {
     "name": "stdout",
     "output_type": "stream",
     "text": [
      "Epoch 10 Loss: 0.4881\n",
      "Validation Accuracy: 0.6129  Validation Macro F1: 0.5921\n",
      "                    precision    recall  f1-score   support\n",
      "\n",
      "Yes/To some extent       0.40      0.68      0.50        71\n",
      "                No       0.82      0.59      0.68       177\n",
      "\n",
      "          accuracy                           0.61       248\n",
      "         macro avg       0.61      0.63      0.59       248\n",
      "      weighted avg       0.70      0.61      0.63       248\n",
      "\n"
     ]
    },
    {
     "name": "stderr",
     "output_type": "stream",
     "text": [
      "Epoch 11/15: 100%|██████████| 557/557 [02:03<00:00,  4.52it/s]\n"
     ]
    },
    {
     "name": "stdout",
     "output_type": "stream",
     "text": [
      "Epoch 11 Loss: 0.4757\n",
      "Validation Accuracy: 0.7379  Validation Macro F1: 0.5699\n",
      "                    precision    recall  f1-score   support\n",
      "\n",
      "Yes/To some extent       0.64      0.20      0.30        71\n",
      "                No       0.75      0.95      0.84       177\n",
      "\n",
      "          accuracy                           0.74       248\n",
      "         macro avg       0.69      0.58      0.57       248\n",
      "      weighted avg       0.72      0.74      0.68       248\n",
      "\n"
     ]
    },
    {
     "name": "stderr",
     "output_type": "stream",
     "text": [
      "Epoch 12/15: 100%|██████████| 557/557 [02:03<00:00,  4.52it/s]\n"
     ]
    },
    {
     "name": "stdout",
     "output_type": "stream",
     "text": [
      "Epoch 12 Loss: 0.4624\n",
      "Validation Accuracy: 0.7056  Validation Macro F1: 0.6443\n",
      "                    precision    recall  f1-score   support\n",
      "\n",
      "Yes/To some extent       0.49      0.51      0.50        71\n",
      "                No       0.80      0.79      0.79       177\n",
      "\n",
      "          accuracy                           0.71       248\n",
      "         macro avg       0.64      0.65      0.64       248\n",
      "      weighted avg       0.71      0.71      0.71       248\n",
      "\n"
     ]
    },
    {
     "name": "stderr",
     "output_type": "stream",
     "text": [
      "Epoch 13/15: 100%|██████████| 557/557 [02:03<00:00,  4.53it/s]\n"
     ]
    },
    {
     "name": "stdout",
     "output_type": "stream",
     "text": [
      "Epoch 13 Loss: 0.4620\n",
      "Validation Accuracy: 0.7298  Validation Macro F1: 0.6253\n",
      "                    precision    recall  f1-score   support\n",
      "\n",
      "Yes/To some extent       0.54      0.35      0.43        71\n",
      "                No       0.77      0.88      0.82       177\n",
      "\n",
      "          accuracy                           0.73       248\n",
      "         macro avg       0.66      0.62      0.63       248\n",
      "      weighted avg       0.71      0.73      0.71       248\n",
      "\n"
     ]
    },
    {
     "name": "stderr",
     "output_type": "stream",
     "text": [
      "Epoch 14/15: 100%|██████████| 557/557 [02:03<00:00,  4.52it/s]\n"
     ]
    },
    {
     "name": "stdout",
     "output_type": "stream",
     "text": [
      "Epoch 14 Loss: 0.4462\n",
      "Validation Accuracy: 0.6895  Validation Macro F1: 0.6278\n",
      "                    precision    recall  f1-score   support\n",
      "\n",
      "Yes/To some extent       0.46      0.49      0.48        71\n",
      "                No       0.79      0.77      0.78       177\n",
      "\n",
      "          accuracy                           0.69       248\n",
      "         macro avg       0.63      0.63      0.63       248\n",
      "      weighted avg       0.70      0.69      0.69       248\n",
      "\n"
     ]
    },
    {
     "name": "stderr",
     "output_type": "stream",
     "text": [
      "Epoch 15/15: 100%|██████████| 557/557 [02:03<00:00,  4.51it/s]\n"
     ]
    },
    {
     "name": "stdout",
     "output_type": "stream",
     "text": [
      "Epoch 15 Loss: 0.4394\n",
      "Validation Accuracy: 0.6774  Validation Macro F1: 0.6400\n",
      "                    precision    recall  f1-score   support\n",
      "\n",
      "Yes/To some extent       0.45      0.62      0.52        71\n",
      "                No       0.82      0.70      0.76       177\n",
      "\n",
      "          accuracy                           0.68       248\n",
      "         macro avg       0.64      0.66      0.64       248\n",
      "      weighted avg       0.72      0.68      0.69       248\n",
      "\n"
     ]
    }
   ],
   "source": [
    "train_model(\"ce\", train_loader, val_loader, num_labels=2)"
   ]
  },
  {
   "cell_type": "code",
   "execution_count": 16,
   "id": "4d567111",
   "metadata": {
    "execution": {
     "iopub.execute_input": "2025-04-25T05:36:15.575522Z",
     "iopub.status.busy": "2025-04-25T05:36:15.575213Z",
     "iopub.status.idle": "2025-04-25T05:36:23.912002Z",
     "shell.execute_reply": "2025-04-25T05:36:23.911415Z"
    },
    "papermill": {
     "duration": 9.061951,
     "end_time": "2025-04-25T05:36:23.913296",
     "exception": false,
     "start_time": "2025-04-25T05:36:14.851345",
     "status": "completed"
    },
    "tags": []
   },
   "outputs": [],
   "source": [
    "# ---------- Run ----------\n",
    "json_path = \"/kaggle/input/json-data/assignment_3_ai_tutors_dataset.json\"\n",
    "train_dataset, val_dataset, tokenizer, df = preprocess_dataset(json_path, \"Pedagogical_Guidance_binary\")\n",
    "train_loader = DataLoader(train_dataset, batch_size=4, shuffle=True)\n",
    "val_loader = DataLoader(val_dataset, batch_size=4)"
   ]
  },
  {
   "cell_type": "code",
   "execution_count": 17,
   "id": "61f575a8",
   "metadata": {
    "execution": {
     "iopub.execute_input": "2025-04-25T05:36:25.294053Z",
     "iopub.status.busy": "2025-04-25T05:36:25.293785Z",
     "iopub.status.idle": "2025-04-25T06:08:15.290637Z",
     "shell.execute_reply": "2025-04-25T06:08:15.289857Z"
    },
    "papermill": {
     "duration": 1911.794878,
     "end_time": "2025-04-25T06:08:16.367242",
     "exception": false,
     "start_time": "2025-04-25T05:36:24.572364",
     "status": "completed"
    },
    "tags": []
   },
   "outputs": [
    {
     "name": "stderr",
     "output_type": "stream",
     "text": [
      "Some weights of BertForSequenceClassification were not initialized from the model checkpoint at bert-base-uncased and are newly initialized: ['classifier.bias', 'classifier.weight']\n",
      "You should probably TRAIN this model on a down-stream task to be able to use it for predictions and inference.\n"
     ]
    },
    {
     "name": "stdout",
     "output_type": "stream",
     "text": [
      "\n",
      "🔁 Training with: CE Loss\n",
      "\n"
     ]
    },
    {
     "name": "stderr",
     "output_type": "stream",
     "text": [
      "Epoch 1/15: 100%|██████████| 557/557 [02:03<00:00,  4.51it/s]\n"
     ]
    },
    {
     "name": "stdout",
     "output_type": "stream",
     "text": [
      "Epoch 1 Loss: 0.6544\n",
      "Validation Accuracy: 0.7984  Validation Macro F1: 0.5842\n",
      "                    precision    recall  f1-score   support\n",
      "\n",
      "Yes/To some extent       0.77      0.18      0.29        57\n",
      "                No       0.80      0.98      0.88       191\n",
      "\n",
      "          accuracy                           0.80       248\n",
      "         macro avg       0.78      0.58      0.58       248\n",
      "      weighted avg       0.79      0.80      0.75       248\n",
      "\n"
     ]
    },
    {
     "name": "stderr",
     "output_type": "stream",
     "text": [
      "Epoch 2/15: 100%|██████████| 557/557 [02:03<00:00,  4.51it/s]\n"
     ]
    },
    {
     "name": "stdout",
     "output_type": "stream",
     "text": [
      "Epoch 2 Loss: 0.6322\n",
      "Validation Accuracy: 0.7742  Validation Macro F1: 0.5987\n",
      "                    precision    recall  f1-score   support\n",
      "\n",
      "Yes/To some extent       0.52      0.25      0.33        57\n",
      "                No       0.81      0.93      0.86       191\n",
      "\n",
      "          accuracy                           0.77       248\n",
      "         macro avg       0.66      0.59      0.60       248\n",
      "      weighted avg       0.74      0.77      0.74       248\n",
      "\n"
     ]
    },
    {
     "name": "stderr",
     "output_type": "stream",
     "text": [
      "Epoch 3/15: 100%|██████████| 557/557 [02:03<00:00,  4.52it/s]\n"
     ]
    },
    {
     "name": "stdout",
     "output_type": "stream",
     "text": [
      "Epoch 3 Loss: 0.5941\n",
      "Validation Accuracy: 0.8024  Validation Macro F1: 0.6233\n",
      "                    precision    recall  f1-score   support\n",
      "\n",
      "Yes/To some extent       0.70      0.25      0.36        57\n",
      "                No       0.81      0.97      0.88       191\n",
      "\n",
      "          accuracy                           0.80       248\n",
      "         macro avg       0.76      0.61      0.62       248\n",
      "      weighted avg       0.79      0.80      0.76       248\n",
      "\n"
     ]
    },
    {
     "name": "stderr",
     "output_type": "stream",
     "text": [
      "Epoch 4/15: 100%|██████████| 557/557 [02:03<00:00,  4.52it/s]\n"
     ]
    },
    {
     "name": "stdout",
     "output_type": "stream",
     "text": [
      "Epoch 4 Loss: 0.5458\n",
      "Validation Accuracy: 0.7298  Validation Macro F1: 0.6061\n",
      "                    precision    recall  f1-score   support\n",
      "\n",
      "Yes/To some extent       0.40      0.37      0.39        57\n",
      "                No       0.82      0.84      0.83       191\n",
      "\n",
      "          accuracy                           0.73       248\n",
      "         macro avg       0.61      0.60      0.61       248\n",
      "      weighted avg       0.72      0.73      0.73       248\n",
      "\n"
     ]
    },
    {
     "name": "stderr",
     "output_type": "stream",
     "text": [
      "Epoch 5/15: 100%|██████████| 557/557 [02:03<00:00,  4.51it/s]\n"
     ]
    },
    {
     "name": "stdout",
     "output_type": "stream",
     "text": [
      "Epoch 5 Loss: 0.5137\n",
      "Validation Accuracy: 0.8145  Validation Macro F1: 0.6572\n",
      "                    precision    recall  f1-score   support\n",
      "\n",
      "Yes/To some extent       0.74      0.30      0.42        57\n",
      "                No       0.82      0.97      0.89       191\n",
      "\n",
      "          accuracy                           0.81       248\n",
      "         macro avg       0.78      0.63      0.66       248\n",
      "      weighted avg       0.80      0.81      0.78       248\n",
      "\n"
     ]
    },
    {
     "name": "stderr",
     "output_type": "stream",
     "text": [
      "Epoch 6/15: 100%|██████████| 557/557 [02:02<00:00,  4.53it/s]\n"
     ]
    },
    {
     "name": "stdout",
     "output_type": "stream",
     "text": [
      "Epoch 6 Loss: 0.4679\n",
      "Validation Accuracy: 0.7782  Validation Macro F1: 0.6361\n",
      "                    precision    recall  f1-score   support\n",
      "\n",
      "Yes/To some extent       0.53      0.33      0.41        57\n",
      "                No       0.82      0.91      0.86       191\n",
      "\n",
      "          accuracy                           0.78       248\n",
      "         macro avg       0.67      0.62      0.64       248\n",
      "      weighted avg       0.75      0.78      0.76       248\n",
      "\n"
     ]
    },
    {
     "name": "stderr",
     "output_type": "stream",
     "text": [
      "Epoch 7/15: 100%|██████████| 557/557 [02:03<00:00,  4.51it/s]\n"
     ]
    },
    {
     "name": "stdout",
     "output_type": "stream",
     "text": [
      "Epoch 7 Loss: 0.4433\n",
      "Validation Accuracy: 0.7782  Validation Macro F1: 0.6234\n",
      "                    precision    recall  f1-score   support\n",
      "\n",
      "Yes/To some extent       0.53      0.30      0.38        57\n",
      "                No       0.81      0.92      0.86       191\n",
      "\n",
      "          accuracy                           0.78       248\n",
      "         macro avg       0.67      0.61      0.62       248\n",
      "      weighted avg       0.75      0.78      0.75       248\n",
      "\n"
     ]
    },
    {
     "name": "stderr",
     "output_type": "stream",
     "text": [
      "Epoch 8/15: 100%|██████████| 557/557 [02:03<00:00,  4.52it/s]\n"
     ]
    },
    {
     "name": "stdout",
     "output_type": "stream",
     "text": [
      "Epoch 8 Loss: 0.4391\n",
      "Validation Accuracy: 0.7782  Validation Macro F1: 0.6361\n",
      "                    precision    recall  f1-score   support\n",
      "\n",
      "Yes/To some extent       0.53      0.33      0.41        57\n",
      "                No       0.82      0.91      0.86       191\n",
      "\n",
      "          accuracy                           0.78       248\n",
      "         macro avg       0.67      0.62      0.64       248\n",
      "      weighted avg       0.75      0.78      0.76       248\n",
      "\n"
     ]
    },
    {
     "name": "stderr",
     "output_type": "stream",
     "text": [
      "Epoch 9/15: 100%|██████████| 557/557 [02:03<00:00,  4.52it/s]\n"
     ]
    },
    {
     "name": "stdout",
     "output_type": "stream",
     "text": [
      "Epoch 9 Loss: 0.4538\n",
      "Validation Accuracy: 0.7460  Validation Macro F1: 0.6477\n",
      "                    precision    recall  f1-score   support\n",
      "\n",
      "Yes/To some extent       0.45      0.47      0.46        57\n",
      "                No       0.84      0.83      0.83       191\n",
      "\n",
      "          accuracy                           0.75       248\n",
      "         macro avg       0.65      0.65      0.65       248\n",
      "      weighted avg       0.75      0.75      0.75       248\n",
      "\n"
     ]
    },
    {
     "name": "stderr",
     "output_type": "stream",
     "text": [
      "Epoch 10/15: 100%|██████████| 557/557 [02:03<00:00,  4.52it/s]\n"
     ]
    },
    {
     "name": "stdout",
     "output_type": "stream",
     "text": [
      "Epoch 10 Loss: 0.4157\n",
      "Validation Accuracy: 0.7581  Validation Macro F1: 0.6242\n",
      "                    precision    recall  f1-score   support\n",
      "\n",
      "Yes/To some extent       0.47      0.35      0.40        57\n",
      "                No       0.82      0.88      0.85       191\n",
      "\n",
      "          accuracy                           0.76       248\n",
      "         macro avg       0.64      0.62      0.62       248\n",
      "      weighted avg       0.74      0.76      0.75       248\n",
      "\n"
     ]
    },
    {
     "name": "stderr",
     "output_type": "stream",
     "text": [
      "Epoch 11/15: 100%|██████████| 557/557 [02:03<00:00,  4.51it/s]\n"
     ]
    },
    {
     "name": "stdout",
     "output_type": "stream",
     "text": [
      "Epoch 11 Loss: 0.4134\n",
      "Validation Accuracy: 0.8145  Validation Macro F1: 0.6704\n",
      "                    precision    recall  f1-score   support\n",
      "\n",
      "Yes/To some extent       0.70      0.33      0.45        57\n",
      "                No       0.83      0.96      0.89       191\n",
      "\n",
      "          accuracy                           0.81       248\n",
      "         macro avg       0.77      0.65      0.67       248\n",
      "      weighted avg       0.80      0.81      0.79       248\n",
      "\n"
     ]
    },
    {
     "name": "stderr",
     "output_type": "stream",
     "text": [
      "Epoch 12/15: 100%|██████████| 557/557 [02:03<00:00,  4.52it/s]\n"
     ]
    },
    {
     "name": "stdout",
     "output_type": "stream",
     "text": [
      "Epoch 12 Loss: 0.4236\n",
      "Validation Accuracy: 0.7944  Validation Macro F1: 0.6310\n",
      "                    precision    recall  f1-score   support\n",
      "\n",
      "Yes/To some extent       0.62      0.28      0.39        57\n",
      "                No       0.82      0.95      0.88       191\n",
      "\n",
      "          accuracy                           0.79       248\n",
      "         macro avg       0.72      0.61      0.63       248\n",
      "      weighted avg       0.77      0.79      0.76       248\n",
      "\n"
     ]
    },
    {
     "name": "stderr",
     "output_type": "stream",
     "text": [
      "Epoch 13/15: 100%|██████████| 557/557 [02:03<00:00,  4.51it/s]\n"
     ]
    },
    {
     "name": "stdout",
     "output_type": "stream",
     "text": [
      "Epoch 13 Loss: 0.4052\n",
      "Validation Accuracy: 0.7903  Validation Macro F1: 0.6471\n",
      "                    precision    recall  f1-score   support\n",
      "\n",
      "Yes/To some extent       0.58      0.33      0.42        57\n",
      "                No       0.82      0.93      0.87       191\n",
      "\n",
      "          accuracy                           0.79       248\n",
      "         macro avg       0.70      0.63      0.65       248\n",
      "      weighted avg       0.77      0.79      0.77       248\n",
      "\n"
     ]
    },
    {
     "name": "stderr",
     "output_type": "stream",
     "text": [
      "Epoch 14/15: 100%|██████████| 557/557 [02:03<00:00,  4.51it/s]\n"
     ]
    },
    {
     "name": "stdout",
     "output_type": "stream",
     "text": [
      "Epoch 14 Loss: 0.4200\n",
      "Validation Accuracy: 0.7460  Validation Macro F1: 0.6764\n",
      "                    precision    recall  f1-score   support\n",
      "\n",
      "Yes/To some extent       0.46      0.61      0.53        57\n",
      "                No       0.87      0.79      0.83       191\n",
      "\n",
      "          accuracy                           0.75       248\n",
      "         macro avg       0.67      0.70      0.68       248\n",
      "      weighted avg       0.78      0.75      0.76       248\n",
      "\n"
     ]
    },
    {
     "name": "stderr",
     "output_type": "stream",
     "text": [
      "Epoch 15/15: 100%|██████████| 557/557 [02:03<00:00,  4.52it/s]\n"
     ]
    },
    {
     "name": "stdout",
     "output_type": "stream",
     "text": [
      "Epoch 15 Loss: 0.4184\n",
      "Validation Accuracy: 0.7742  Validation Macro F1: 0.6493\n",
      "                    precision    recall  f1-score   support\n",
      "\n",
      "Yes/To some extent       0.51      0.39      0.44        57\n",
      "                No       0.83      0.89      0.86       191\n",
      "\n",
      "          accuracy                           0.77       248\n",
      "         macro avg       0.67      0.64      0.65       248\n",
      "      weighted avg       0.76      0.77      0.76       248\n",
      "\n"
     ]
    }
   ],
   "source": [
    "train_model(\"ce\", train_loader, val_loader, num_labels=2)"
   ]
  },
  {
   "cell_type": "code",
   "execution_count": 18,
   "id": "7744d7fc",
   "metadata": {
    "execution": {
     "iopub.execute_input": "2025-04-25T06:08:18.419878Z",
     "iopub.status.busy": "2025-04-25T06:08:18.419591Z",
     "iopub.status.idle": "2025-04-25T06:08:27.009997Z",
     "shell.execute_reply": "2025-04-25T06:08:27.009366Z"
    },
    "papermill": {
     "duration": 9.653597,
     "end_time": "2025-04-25T06:08:27.011313",
     "exception": false,
     "start_time": "2025-04-25T06:08:17.357716",
     "status": "completed"
    },
    "tags": []
   },
   "outputs": [],
   "source": [
    "# ---------- Run ----------\n",
    "json_path = \"/kaggle/input/json-data/assignment_3_ai_tutors_dataset.json\"\n",
    "train_dataset, val_dataset, tokenizer, df = preprocess_dataset(json_path, \"Actionability_binary\")\n",
    "train_loader = DataLoader(train_dataset, batch_size=4, shuffle=True)\n",
    "val_loader = DataLoader(val_dataset, batch_size=4)"
   ]
  },
  {
   "cell_type": "code",
   "execution_count": 19,
   "id": "63c71618",
   "metadata": {
    "execution": {
     "iopub.execute_input": "2025-04-25T06:08:29.138789Z",
     "iopub.status.busy": "2025-04-25T06:08:29.138476Z",
     "iopub.status.idle": "2025-04-25T06:40:17.935981Z",
     "shell.execute_reply": "2025-04-25T06:40:17.934961Z"
    },
    "papermill": {
     "duration": 1909.863234,
     "end_time": "2025-04-25T06:40:17.937745",
     "exception": false,
     "start_time": "2025-04-25T06:08:28.074511",
     "status": "completed"
    },
    "tags": []
   },
   "outputs": [
    {
     "name": "stderr",
     "output_type": "stream",
     "text": [
      "Some weights of BertForSequenceClassification were not initialized from the model checkpoint at bert-base-uncased and are newly initialized: ['classifier.bias', 'classifier.weight']\n",
      "You should probably TRAIN this model on a down-stream task to be able to use it for predictions and inference.\n"
     ]
    },
    {
     "name": "stdout",
     "output_type": "stream",
     "text": [
      "\n",
      "🔁 Training with: CE Loss\n",
      "\n"
     ]
    },
    {
     "name": "stderr",
     "output_type": "stream",
     "text": [
      "Epoch 1/15: 100%|██████████| 557/557 [02:03<00:00,  4.52it/s]\n"
     ]
    },
    {
     "name": "stdout",
     "output_type": "stream",
     "text": [
      "Epoch 1 Loss: 0.6946\n",
      "Validation Accuracy: 0.3226  Validation Macro F1: 0.2439\n",
      "                    precision    recall  f1-score   support\n",
      "\n",
      "Yes/To some extent       0.32      1.00      0.49        80\n",
      "                No       0.00      0.00      0.00       168\n",
      "\n",
      "          accuracy                           0.32       248\n",
      "         macro avg       0.16      0.50      0.24       248\n",
      "      weighted avg       0.10      0.32      0.16       248\n",
      "\n"
     ]
    },
    {
     "name": "stderr",
     "output_type": "stream",
     "text": [
      "Epoch 2/15: 100%|██████████| 557/557 [02:03<00:00,  4.52it/s]\n"
     ]
    },
    {
     "name": "stdout",
     "output_type": "stream",
     "text": [
      "Epoch 2 Loss: 0.6655\n",
      "Validation Accuracy: 0.7298  Validation Macro F1: 0.6525\n",
      "                    precision    recall  f1-score   support\n",
      "\n",
      "Yes/To some extent       0.63      0.40      0.49        80\n",
      "                No       0.76      0.89      0.82       168\n",
      "\n",
      "          accuracy                           0.73       248\n",
      "         macro avg       0.69      0.64      0.65       248\n",
      "      weighted avg       0.71      0.73      0.71       248\n",
      "\n"
     ]
    },
    {
     "name": "stderr",
     "output_type": "stream",
     "text": [
      "Epoch 3/15: 100%|██████████| 557/557 [02:02<00:00,  4.53it/s]\n"
     ]
    },
    {
     "name": "stdout",
     "output_type": "stream",
     "text": [
      "Epoch 3 Loss: 0.6263\n",
      "Validation Accuracy: 0.6855  Validation Macro F1: 0.4302\n",
      "                    precision    recall  f1-score   support\n",
      "\n",
      "Yes/To some extent       1.00      0.03      0.05        80\n",
      "                No       0.68      1.00      0.81       168\n",
      "\n",
      "          accuracy                           0.69       248\n",
      "         macro avg       0.84      0.51      0.43       248\n",
      "      weighted avg       0.79      0.69      0.57       248\n",
      "\n"
     ]
    },
    {
     "name": "stderr",
     "output_type": "stream",
     "text": [
      "Epoch 4/15: 100%|██████████| 557/557 [02:03<00:00,  4.52it/s]\n"
     ]
    },
    {
     "name": "stdout",
     "output_type": "stream",
     "text": [
      "Epoch 4 Loss: 0.6175\n",
      "Validation Accuracy: 0.7581  Validation Macro F1: 0.6449\n",
      "                    precision    recall  f1-score   support\n",
      "\n",
      "Yes/To some extent       0.86      0.30      0.44        80\n",
      "                No       0.75      0.98      0.85       168\n",
      "\n",
      "          accuracy                           0.76       248\n",
      "         macro avg       0.80      0.64      0.64       248\n",
      "      weighted avg       0.78      0.76      0.72       248\n",
      "\n"
     ]
    },
    {
     "name": "stderr",
     "output_type": "stream",
     "text": [
      "Epoch 5/15: 100%|██████████| 557/557 [02:03<00:00,  4.51it/s]\n"
     ]
    },
    {
     "name": "stdout",
     "output_type": "stream",
     "text": [
      "Epoch 5 Loss: 0.5700\n",
      "Validation Accuracy: 0.7581  Validation Macro F1: 0.6583\n",
      "                    precision    recall  f1-score   support\n",
      "\n",
      "Yes/To some extent       0.79      0.34      0.47        80\n",
      "                No       0.75      0.96      0.84       168\n",
      "\n",
      "          accuracy                           0.76       248\n",
      "         macro avg       0.77      0.65      0.66       248\n",
      "      weighted avg       0.77      0.76      0.72       248\n",
      "\n"
     ]
    },
    {
     "name": "stderr",
     "output_type": "stream",
     "text": [
      "Epoch 6/15: 100%|██████████| 557/557 [02:03<00:00,  4.52it/s]\n"
     ]
    },
    {
     "name": "stdout",
     "output_type": "stream",
     "text": [
      "Epoch 6 Loss: 0.5502\n",
      "Validation Accuracy: 0.7702  Validation Macro F1: 0.6734\n",
      "                    precision    recall  f1-score   support\n",
      "\n",
      "Yes/To some extent       0.85      0.35      0.50        80\n",
      "                No       0.76      0.97      0.85       168\n",
      "\n",
      "          accuracy                           0.77       248\n",
      "         macro avg       0.80      0.66      0.67       248\n",
      "      weighted avg       0.79      0.77      0.74       248\n",
      "\n"
     ]
    },
    {
     "name": "stderr",
     "output_type": "stream",
     "text": [
      "Epoch 7/15: 100%|██████████| 557/557 [02:03<00:00,  4.52it/s]\n"
     ]
    },
    {
     "name": "stdout",
     "output_type": "stream",
     "text": [
      "Epoch 7 Loss: 0.5517\n",
      "Validation Accuracy: 0.7581  Validation Macro F1: 0.6583\n",
      "                    precision    recall  f1-score   support\n",
      "\n",
      "Yes/To some extent       0.79      0.34      0.47        80\n",
      "                No       0.75      0.96      0.84       168\n",
      "\n",
      "          accuracy                           0.76       248\n",
      "         macro avg       0.77      0.65      0.66       248\n",
      "      weighted avg       0.77      0.76      0.72       248\n",
      "\n"
     ]
    },
    {
     "name": "stderr",
     "output_type": "stream",
     "text": [
      "Epoch 8/15: 100%|██████████| 557/557 [02:03<00:00,  4.52it/s]\n"
     ]
    },
    {
     "name": "stdout",
     "output_type": "stream",
     "text": [
      "Epoch 8 Loss: 0.5271\n",
      "Validation Accuracy: 0.7621  Validation Macro F1: 0.6619\n",
      "                    precision    recall  f1-score   support\n",
      "\n",
      "Yes/To some extent       0.82      0.34      0.48        80\n",
      "                No       0.75      0.96      0.85       168\n",
      "\n",
      "          accuracy                           0.76       248\n",
      "         macro avg       0.79      0.65      0.66       248\n",
      "      weighted avg       0.77      0.76      0.73       248\n",
      "\n"
     ]
    },
    {
     "name": "stderr",
     "output_type": "stream",
     "text": [
      "Epoch 9/15: 100%|██████████| 557/557 [02:03<00:00,  4.52it/s]\n"
     ]
    },
    {
     "name": "stdout",
     "output_type": "stream",
     "text": [
      "Epoch 9 Loss: 0.5157\n",
      "Validation Accuracy: 0.7661  Validation Macro F1: 0.6612\n",
      "                    precision    recall  f1-score   support\n",
      "\n",
      "Yes/To some extent       0.87      0.33      0.47        80\n",
      "                No       0.75      0.98      0.85       168\n",
      "\n",
      "          accuracy                           0.77       248\n",
      "         macro avg       0.81      0.65      0.66       248\n",
      "      weighted avg       0.79      0.77      0.73       248\n",
      "\n"
     ]
    },
    {
     "name": "stderr",
     "output_type": "stream",
     "text": [
      "Epoch 10/15: 100%|██████████| 557/557 [02:03<00:00,  4.51it/s]\n"
     ]
    },
    {
     "name": "stdout",
     "output_type": "stream",
     "text": [
      "Epoch 10 Loss: 0.5066\n",
      "Validation Accuracy: 0.7621  Validation Macro F1: 0.6700\n",
      "                    precision    recall  f1-score   support\n",
      "\n",
      "Yes/To some extent       0.78      0.36      0.50        80\n",
      "                No       0.76      0.95      0.84       168\n",
      "\n",
      "          accuracy                           0.76       248\n",
      "         macro avg       0.77      0.66      0.67       248\n",
      "      weighted avg       0.77      0.76      0.73       248\n",
      "\n"
     ]
    },
    {
     "name": "stderr",
     "output_type": "stream",
     "text": [
      "Epoch 11/15: 100%|██████████| 557/557 [02:03<00:00,  4.51it/s]\n"
     ]
    },
    {
     "name": "stdout",
     "output_type": "stream",
     "text": [
      "Epoch 11 Loss: 0.4771\n",
      "Validation Accuracy: 0.7540  Validation Macro F1: 0.6628\n",
      "                    precision    recall  f1-score   support\n",
      "\n",
      "Yes/To some extent       0.74      0.36      0.49        80\n",
      "                No       0.76      0.94      0.84       168\n",
      "\n",
      "          accuracy                           0.75       248\n",
      "         macro avg       0.75      0.65      0.66       248\n",
      "      weighted avg       0.75      0.75      0.73       248\n",
      "\n"
     ]
    },
    {
     "name": "stderr",
     "output_type": "stream",
     "text": [
      "Epoch 12/15: 100%|██████████| 557/557 [02:03<00:00,  4.52it/s]\n"
     ]
    },
    {
     "name": "stdout",
     "output_type": "stream",
     "text": [
      "Epoch 12 Loss: 0.4729\n",
      "Validation Accuracy: 0.7056  Validation Macro F1: 0.6414\n",
      "                    precision    recall  f1-score   support\n",
      "\n",
      "Yes/To some extent       0.56      0.44      0.49        80\n",
      "                No       0.76      0.83      0.79       168\n",
      "\n",
      "          accuracy                           0.71       248\n",
      "         macro avg       0.66      0.64      0.64       248\n",
      "      weighted avg       0.69      0.71      0.70       248\n",
      "\n"
     ]
    },
    {
     "name": "stderr",
     "output_type": "stream",
     "text": [
      "Epoch 13/15: 100%|██████████| 557/557 [02:03<00:00,  4.52it/s]\n"
     ]
    },
    {
     "name": "stdout",
     "output_type": "stream",
     "text": [
      "Epoch 13 Loss: 0.4572\n",
      "Validation Accuracy: 0.7056  Validation Macro F1: 0.6383\n",
      "                    precision    recall  f1-score   support\n",
      "\n",
      "Yes/To some extent       0.56      0.42      0.48        80\n",
      "                No       0.75      0.84      0.79       168\n",
      "\n",
      "          accuracy                           0.71       248\n",
      "         macro avg       0.66      0.63      0.64       248\n",
      "      weighted avg       0.69      0.71      0.69       248\n",
      "\n"
     ]
    },
    {
     "name": "stderr",
     "output_type": "stream",
     "text": [
      "Epoch 14/15: 100%|██████████| 557/557 [02:02<00:00,  4.53it/s]\n"
     ]
    },
    {
     "name": "stdout",
     "output_type": "stream",
     "text": [
      "Epoch 14 Loss: 0.4440\n",
      "Validation Accuracy: 0.7097  Validation Macro F1: 0.6610\n",
      "                    precision    recall  f1-score   support\n",
      "\n",
      "Yes/To some extent       0.55      0.51      0.53        80\n",
      "                No       0.78      0.80      0.79       168\n",
      "\n",
      "          accuracy                           0.71       248\n",
      "         macro avg       0.66      0.66      0.66       248\n",
      "      weighted avg       0.70      0.71      0.71       248\n",
      "\n"
     ]
    },
    {
     "name": "stderr",
     "output_type": "stream",
     "text": [
      "Epoch 15/15: 100%|██████████| 557/557 [02:03<00:00,  4.51it/s]\n"
     ]
    },
    {
     "name": "stdout",
     "output_type": "stream",
     "text": [
      "Epoch 15 Loss: 0.4423\n",
      "Validation Accuracy: 0.7218  Validation Macro F1: 0.6806\n",
      "                    precision    recall  f1-score   support\n",
      "\n",
      "Yes/To some extent       0.57      0.56      0.57        80\n",
      "                No       0.79      0.80      0.80       168\n",
      "\n",
      "          accuracy                           0.72       248\n",
      "         macro avg       0.68      0.68      0.68       248\n",
      "      weighted avg       0.72      0.72      0.72       248\n",
      "\n"
     ]
    }
   ],
   "source": [
    "train_model(\"ce\", train_loader, val_loader, num_labels=2)"
   ]
  }
 ],
 "metadata": {
  "kaggle": {
   "accelerator": "nvidiaTeslaT4",
   "dataSources": [
    {
     "datasetId": 7241370,
     "sourceId": 11547141,
     "sourceType": "datasetVersion"
    }
   ],
   "dockerImageVersionId": 31011,
   "isGpuEnabled": true,
   "isInternetEnabled": true,
   "language": "python",
   "sourceType": "notebook"
  },
  "kernelspec": {
   "display_name": "Python 3",
   "language": "python",
   "name": "python3"
  },
  "language_info": {
   "codemirror_mode": {
    "name": "ipython",
    "version": 3
   },
   "file_extension": ".py",
   "mimetype": "text/x-python",
   "name": "python",
   "nbconvert_exporter": "python",
   "pygments_lexer": "ipython3",
   "version": "3.11.11"
  },
  "papermill": {
   "default_parameters": {},
   "duration": 7715.753704,
   "end_time": "2025-04-25T06:40:22.681596",
   "environment_variables": {},
   "exception": null,
   "input_path": "__notebook__.ipynb",
   "output_path": "__notebook__.ipynb",
   "parameters": {},
   "start_time": "2025-04-25T04:31:46.927892",
   "version": "2.6.0"
  },
  "widgets": {
   "application/vnd.jupyter.widget-state+json": {
    "state": {
     "03f8df71fc454c7e819601496f816445": {
      "model_module": "@jupyter-widgets/controls",
      "model_module_version": "2.0.0",
      "model_name": "HTMLStyleModel",
      "state": {
       "_model_module": "@jupyter-widgets/controls",
       "_model_module_version": "2.0.0",
       "_model_name": "HTMLStyleModel",
       "_view_count": null,
       "_view_module": "@jupyter-widgets/base",
       "_view_module_version": "2.0.0",
       "_view_name": "StyleView",
       "background": null,
       "description_width": "",
       "font_size": null,
       "text_color": null
      }
     },
     "048f7616a22e4f6fab9f348f6492b300": {
      "model_module": "@jupyter-widgets/controls",
      "model_module_version": "2.0.0",
      "model_name": "FloatProgressModel",
      "state": {
       "_dom_classes": [],
       "_model_module": "@jupyter-widgets/controls",
       "_model_module_version": "2.0.0",
       "_model_name": "FloatProgressModel",
       "_view_count": null,
       "_view_module": "@jupyter-widgets/controls",
       "_view_module_version": "2.0.0",
       "_view_name": "ProgressView",
       "bar_style": "success",
       "description": "",
       "description_allow_html": false,
       "layout": "IPY_MODEL_278a427a76e84ca1abd594311de310b0",
       "max": 48.0,
       "min": 0.0,
       "orientation": "horizontal",
       "style": "IPY_MODEL_7618414690844d58a466caf29c56f938",
       "tabbable": null,
       "tooltip": null,
       "value": 48.0
      }
     },
     "0a316757445e41588953da8216cf4a11": {
      "model_module": "@jupyter-widgets/controls",
      "model_module_version": "2.0.0",
      "model_name": "HBoxModel",
      "state": {
       "_dom_classes": [],
       "_model_module": "@jupyter-widgets/controls",
       "_model_module_version": "2.0.0",
       "_model_name": "HBoxModel",
       "_view_count": null,
       "_view_module": "@jupyter-widgets/controls",
       "_view_module_version": "2.0.0",
       "_view_name": "HBoxView",
       "box_style": "",
       "children": [
        "IPY_MODEL_62b852f9367f4d15810f71cea1a01dbf",
        "IPY_MODEL_7536af14404d4d0bbf9db24fdbdce403",
        "IPY_MODEL_ecb65946b58c44ab96b33a94a9f443be"
       ],
       "layout": "IPY_MODEL_a4ae67fc761e4cf1b1e0b7de81e6eaea",
       "tabbable": null,
       "tooltip": null
      }
     },
     "0d7f5bafecb8456bb60148f460137dd2": {
      "model_module": "@jupyter-widgets/base",
      "model_module_version": "2.0.0",
      "model_name": "LayoutModel",
      "state": {
       "_model_module": "@jupyter-widgets/base",
       "_model_module_version": "2.0.0",
       "_model_name": "LayoutModel",
       "_view_count": null,
       "_view_module": "@jupyter-widgets/base",
       "_view_module_version": "2.0.0",
       "_view_name": "LayoutView",
       "align_content": null,
       "align_items": null,
       "align_self": null,
       "border_bottom": null,
       "border_left": null,
       "border_right": null,
       "border_top": null,
       "bottom": null,
       "display": null,
       "flex": null,
       "flex_flow": null,
       "grid_area": null,
       "grid_auto_columns": null,
       "grid_auto_flow": null,
       "grid_auto_rows": null,
       "grid_column": null,
       "grid_gap": null,
       "grid_row": null,
       "grid_template_areas": null,
       "grid_template_columns": null,
       "grid_template_rows": null,
       "height": null,
       "justify_content": null,
       "justify_items": null,
       "left": null,
       "margin": null,
       "max_height": null,
       "max_width": null,
       "min_height": null,
       "min_width": null,
       "object_fit": null,
       "object_position": null,
       "order": null,
       "overflow": null,
       "padding": null,
       "right": null,
       "top": null,
       "visibility": null,
       "width": null
      }
     },
     "1cc055880c2145a5a852621fbbb092f1": {
      "model_module": "@jupyter-widgets/controls",
      "model_module_version": "2.0.0",
      "model_name": "ProgressStyleModel",
      "state": {
       "_model_module": "@jupyter-widgets/controls",
       "_model_module_version": "2.0.0",
       "_model_name": "ProgressStyleModel",
       "_view_count": null,
       "_view_module": "@jupyter-widgets/base",
       "_view_module_version": "2.0.0",
       "_view_name": "StyleView",
       "bar_color": null,
       "description_width": ""
      }
     },
     "22d4d8044ebb44228a0f04527e3f0444": {
      "model_module": "@jupyter-widgets/controls",
      "model_module_version": "2.0.0",
      "model_name": "HBoxModel",
      "state": {
       "_dom_classes": [],
       "_model_module": "@jupyter-widgets/controls",
       "_model_module_version": "2.0.0",
       "_model_name": "HBoxModel",
       "_view_count": null,
       "_view_module": "@jupyter-widgets/controls",
       "_view_module_version": "2.0.0",
       "_view_name": "HBoxView",
       "box_style": "",
       "children": [
        "IPY_MODEL_a2d79172d13e4398a04d5c9aac8e996d",
        "IPY_MODEL_578574404a1e4bb980bfb5021df1346e",
        "IPY_MODEL_a800d15a21e44d3a81e51b51c1500d0c"
       ],
       "layout": "IPY_MODEL_efc91cee05ef4291930d7ea9a21d541e",
       "tabbable": null,
       "tooltip": null
      }
     },
     "278a427a76e84ca1abd594311de310b0": {
      "model_module": "@jupyter-widgets/base",
      "model_module_version": "2.0.0",
      "model_name": "LayoutModel",
      "state": {
       "_model_module": "@jupyter-widgets/base",
       "_model_module_version": "2.0.0",
       "_model_name": "LayoutModel",
       "_view_count": null,
       "_view_module": "@jupyter-widgets/base",
       "_view_module_version": "2.0.0",
       "_view_name": "LayoutView",
       "align_content": null,
       "align_items": null,
       "align_self": null,
       "border_bottom": null,
       "border_left": null,
       "border_right": null,
       "border_top": null,
       "bottom": null,
       "display": null,
       "flex": null,
       "flex_flow": null,
       "grid_area": null,
       "grid_auto_columns": null,
       "grid_auto_flow": null,
       "grid_auto_rows": null,
       "grid_column": null,
       "grid_gap": null,
       "grid_row": null,
       "grid_template_areas": null,
       "grid_template_columns": null,
       "grid_template_rows": null,
       "height": null,
       "justify_content": null,
       "justify_items": null,
       "left": null,
       "margin": null,
       "max_height": null,
       "max_width": null,
       "min_height": null,
       "min_width": null,
       "object_fit": null,
       "object_position": null,
       "order": null,
       "overflow": null,
       "padding": null,
       "right": null,
       "top": null,
       "visibility": null,
       "width": null
      }
     },
     "27ae6cffaf294180ad03d88fa27207c9": {
      "model_module": "@jupyter-widgets/controls",
      "model_module_version": "2.0.0",
      "model_name": "ProgressStyleModel",
      "state": {
       "_model_module": "@jupyter-widgets/controls",
       "_model_module_version": "2.0.0",
       "_model_name": "ProgressStyleModel",
       "_view_count": null,
       "_view_module": "@jupyter-widgets/base",
       "_view_module_version": "2.0.0",
       "_view_name": "StyleView",
       "bar_color": null,
       "description_width": ""
      }
     },
     "309936af62ac43adafbd859e8f51a0f5": {
      "model_module": "@jupyter-widgets/base",
      "model_module_version": "2.0.0",
      "model_name": "LayoutModel",
      "state": {
       "_model_module": "@jupyter-widgets/base",
       "_model_module_version": "2.0.0",
       "_model_name": "LayoutModel",
       "_view_count": null,
       "_view_module": "@jupyter-widgets/base",
       "_view_module_version": "2.0.0",
       "_view_name": "LayoutView",
       "align_content": null,
       "align_items": null,
       "align_self": null,
       "border_bottom": null,
       "border_left": null,
       "border_right": null,
       "border_top": null,
       "bottom": null,
       "display": null,
       "flex": null,
       "flex_flow": null,
       "grid_area": null,
       "grid_auto_columns": null,
       "grid_auto_flow": null,
       "grid_auto_rows": null,
       "grid_column": null,
       "grid_gap": null,
       "grid_row": null,
       "grid_template_areas": null,
       "grid_template_columns": null,
       "grid_template_rows": null,
       "height": null,
       "justify_content": null,
       "justify_items": null,
       "left": null,
       "margin": null,
       "max_height": null,
       "max_width": null,
       "min_height": null,
       "min_width": null,
       "object_fit": null,
       "object_position": null,
       "order": null,
       "overflow": null,
       "padding": null,
       "right": null,
       "top": null,
       "visibility": null,
       "width": null
      }
     },
     "31e33b3b8eb94dd3aed82c38b81e4dcf": {
      "model_module": "@jupyter-widgets/base",
      "model_module_version": "2.0.0",
      "model_name": "LayoutModel",
      "state": {
       "_model_module": "@jupyter-widgets/base",
       "_model_module_version": "2.0.0",
       "_model_name": "LayoutModel",
       "_view_count": null,
       "_view_module": "@jupyter-widgets/base",
       "_view_module_version": "2.0.0",
       "_view_name": "LayoutView",
       "align_content": null,
       "align_items": null,
       "align_self": null,
       "border_bottom": null,
       "border_left": null,
       "border_right": null,
       "border_top": null,
       "bottom": null,
       "display": null,
       "flex": null,
       "flex_flow": null,
       "grid_area": null,
       "grid_auto_columns": null,
       "grid_auto_flow": null,
       "grid_auto_rows": null,
       "grid_column": null,
       "grid_gap": null,
       "grid_row": null,
       "grid_template_areas": null,
       "grid_template_columns": null,
       "grid_template_rows": null,
       "height": null,
       "justify_content": null,
       "justify_items": null,
       "left": null,
       "margin": null,
       "max_height": null,
       "max_width": null,
       "min_height": null,
       "min_width": null,
       "object_fit": null,
       "object_position": null,
       "order": null,
       "overflow": null,
       "padding": null,
       "right": null,
       "top": null,
       "visibility": null,
       "width": null
      }
     },
     "3938233e31d94b3a83364602496625d1": {
      "model_module": "@jupyter-widgets/controls",
      "model_module_version": "2.0.0",
      "model_name": "HTMLStyleModel",
      "state": {
       "_model_module": "@jupyter-widgets/controls",
       "_model_module_version": "2.0.0",
       "_model_name": "HTMLStyleModel",
       "_view_count": null,
       "_view_module": "@jupyter-widgets/base",
       "_view_module_version": "2.0.0",
       "_view_name": "StyleView",
       "background": null,
       "description_width": "",
       "font_size": null,
       "text_color": null
      }
     },
     "39addbee25a64db3ac6fd32ae8bcd172": {
      "model_module": "@jupyter-widgets/controls",
      "model_module_version": "2.0.0",
      "model_name": "HBoxModel",
      "state": {
       "_dom_classes": [],
       "_model_module": "@jupyter-widgets/controls",
       "_model_module_version": "2.0.0",
       "_model_name": "HBoxModel",
       "_view_count": null,
       "_view_module": "@jupyter-widgets/controls",
       "_view_module_version": "2.0.0",
       "_view_name": "HBoxView",
       "box_style": "",
       "children": [
        "IPY_MODEL_86510fb048374b50aec6447726a365f4",
        "IPY_MODEL_048f7616a22e4f6fab9f348f6492b300",
        "IPY_MODEL_d5ca2f78def34d17a1afb7ffb676dfc3"
       ],
       "layout": "IPY_MODEL_a0ea08f30f2541f1a591128cd2fb4f93",
       "tabbable": null,
       "tooltip": null
      }
     },
     "3d7889502c8b4f1096ed3d39a057d907": {
      "model_module": "@jupyter-widgets/base",
      "model_module_version": "2.0.0",
      "model_name": "LayoutModel",
      "state": {
       "_model_module": "@jupyter-widgets/base",
       "_model_module_version": "2.0.0",
       "_model_name": "LayoutModel",
       "_view_count": null,
       "_view_module": "@jupyter-widgets/base",
       "_view_module_version": "2.0.0",
       "_view_name": "LayoutView",
       "align_content": null,
       "align_items": null,
       "align_self": null,
       "border_bottom": null,
       "border_left": null,
       "border_right": null,
       "border_top": null,
       "bottom": null,
       "display": null,
       "flex": null,
       "flex_flow": null,
       "grid_area": null,
       "grid_auto_columns": null,
       "grid_auto_flow": null,
       "grid_auto_rows": null,
       "grid_column": null,
       "grid_gap": null,
       "grid_row": null,
       "grid_template_areas": null,
       "grid_template_columns": null,
       "grid_template_rows": null,
       "height": null,
       "justify_content": null,
       "justify_items": null,
       "left": null,
       "margin": null,
       "max_height": null,
       "max_width": null,
       "min_height": null,
       "min_width": null,
       "object_fit": null,
       "object_position": null,
       "order": null,
       "overflow": null,
       "padding": null,
       "right": null,
       "top": null,
       "visibility": null,
       "width": null
      }
     },
     "4349c39a6d4246019c67974c2abdfeda": {
      "model_module": "@jupyter-widgets/controls",
      "model_module_version": "2.0.0",
      "model_name": "HTMLStyleModel",
      "state": {
       "_model_module": "@jupyter-widgets/controls",
       "_model_module_version": "2.0.0",
       "_model_name": "HTMLStyleModel",
       "_view_count": null,
       "_view_module": "@jupyter-widgets/base",
       "_view_module_version": "2.0.0",
       "_view_name": "StyleView",
       "background": null,
       "description_width": "",
       "font_size": null,
       "text_color": null
      }
     },
     "473239fb9b964ef9a348599747f09713": {
      "model_module": "@jupyter-widgets/base",
      "model_module_version": "2.0.0",
      "model_name": "LayoutModel",
      "state": {
       "_model_module": "@jupyter-widgets/base",
       "_model_module_version": "2.0.0",
       "_model_name": "LayoutModel",
       "_view_count": null,
       "_view_module": "@jupyter-widgets/base",
       "_view_module_version": "2.0.0",
       "_view_name": "LayoutView",
       "align_content": null,
       "align_items": null,
       "align_self": null,
       "border_bottom": null,
       "border_left": null,
       "border_right": null,
       "border_top": null,
       "bottom": null,
       "display": null,
       "flex": null,
       "flex_flow": null,
       "grid_area": null,
       "grid_auto_columns": null,
       "grid_auto_flow": null,
       "grid_auto_rows": null,
       "grid_column": null,
       "grid_gap": null,
       "grid_row": null,
       "grid_template_areas": null,
       "grid_template_columns": null,
       "grid_template_rows": null,
       "height": null,
       "justify_content": null,
       "justify_items": null,
       "left": null,
       "margin": null,
       "max_height": null,
       "max_width": null,
       "min_height": null,
       "min_width": null,
       "object_fit": null,
       "object_position": null,
       "order": null,
       "overflow": null,
       "padding": null,
       "right": null,
       "top": null,
       "visibility": null,
       "width": null
      }
     },
     "49e5d38590924a98b8913794e91eb2c4": {
      "model_module": "@jupyter-widgets/base",
      "model_module_version": "2.0.0",
      "model_name": "LayoutModel",
      "state": {
       "_model_module": "@jupyter-widgets/base",
       "_model_module_version": "2.0.0",
       "_model_name": "LayoutModel",
       "_view_count": null,
       "_view_module": "@jupyter-widgets/base",
       "_view_module_version": "2.0.0",
       "_view_name": "LayoutView",
       "align_content": null,
       "align_items": null,
       "align_self": null,
       "border_bottom": null,
       "border_left": null,
       "border_right": null,
       "border_top": null,
       "bottom": null,
       "display": null,
       "flex": null,
       "flex_flow": null,
       "grid_area": null,
       "grid_auto_columns": null,
       "grid_auto_flow": null,
       "grid_auto_rows": null,
       "grid_column": null,
       "grid_gap": null,
       "grid_row": null,
       "grid_template_areas": null,
       "grid_template_columns": null,
       "grid_template_rows": null,
       "height": null,
       "justify_content": null,
       "justify_items": null,
       "left": null,
       "margin": null,
       "max_height": null,
       "max_width": null,
       "min_height": null,
       "min_width": null,
       "object_fit": null,
       "object_position": null,
       "order": null,
       "overflow": null,
       "padding": null,
       "right": null,
       "top": null,
       "visibility": null,
       "width": null
      }
     },
     "4e5efd6afbb94e92976464048ed4a687": {
      "model_module": "@jupyter-widgets/base",
      "model_module_version": "2.0.0",
      "model_name": "LayoutModel",
      "state": {
       "_model_module": "@jupyter-widgets/base",
       "_model_module_version": "2.0.0",
       "_model_name": "LayoutModel",
       "_view_count": null,
       "_view_module": "@jupyter-widgets/base",
       "_view_module_version": "2.0.0",
       "_view_name": "LayoutView",
       "align_content": null,
       "align_items": null,
       "align_self": null,
       "border_bottom": null,
       "border_left": null,
       "border_right": null,
       "border_top": null,
       "bottom": null,
       "display": null,
       "flex": null,
       "flex_flow": null,
       "grid_area": null,
       "grid_auto_columns": null,
       "grid_auto_flow": null,
       "grid_auto_rows": null,
       "grid_column": null,
       "grid_gap": null,
       "grid_row": null,
       "grid_template_areas": null,
       "grid_template_columns": null,
       "grid_template_rows": null,
       "height": null,
       "justify_content": null,
       "justify_items": null,
       "left": null,
       "margin": null,
       "max_height": null,
       "max_width": null,
       "min_height": null,
       "min_width": null,
       "object_fit": null,
       "object_position": null,
       "order": null,
       "overflow": null,
       "padding": null,
       "right": null,
       "top": null,
       "visibility": null,
       "width": null
      }
     },
     "509e36b30b584fdaac5149505a325463": {
      "model_module": "@jupyter-widgets/controls",
      "model_module_version": "2.0.0",
      "model_name": "HBoxModel",
      "state": {
       "_dom_classes": [],
       "_model_module": "@jupyter-widgets/controls",
       "_model_module_version": "2.0.0",
       "_model_name": "HBoxModel",
       "_view_count": null,
       "_view_module": "@jupyter-widgets/controls",
       "_view_module_version": "2.0.0",
       "_view_name": "HBoxView",
       "box_style": "",
       "children": [
        "IPY_MODEL_712048cf05654d7d838e145bfd4521ef",
        "IPY_MODEL_7dcfd55ec2594542b5c2af3641cc703d",
        "IPY_MODEL_b09e1367f8b14794a511698dcf5f1406"
       ],
       "layout": "IPY_MODEL_c9d8bd1be621415bb19a8bf731cb24e8",
       "tabbable": null,
       "tooltip": null
      }
     },
     "578574404a1e4bb980bfb5021df1346e": {
      "model_module": "@jupyter-widgets/controls",
      "model_module_version": "2.0.0",
      "model_name": "FloatProgressModel",
      "state": {
       "_dom_classes": [],
       "_model_module": "@jupyter-widgets/controls",
       "_model_module_version": "2.0.0",
       "_model_name": "FloatProgressModel",
       "_view_count": null,
       "_view_module": "@jupyter-widgets/controls",
       "_view_module_version": "2.0.0",
       "_view_name": "ProgressView",
       "bar_style": "success",
       "description": "",
       "description_allow_html": false,
       "layout": "IPY_MODEL_fc105b44d79e4c6aae9d27b6c5315203",
       "max": 440449768.0,
       "min": 0.0,
       "orientation": "horizontal",
       "style": "IPY_MODEL_c7d00aa3363248dc93f5b8070756e51f",
       "tabbable": null,
       "tooltip": null,
       "value": 440449768.0
      }
     },
     "62b852f9367f4d15810f71cea1a01dbf": {
      "model_module": "@jupyter-widgets/controls",
      "model_module_version": "2.0.0",
      "model_name": "HTMLModel",
      "state": {
       "_dom_classes": [],
       "_model_module": "@jupyter-widgets/controls",
       "_model_module_version": "2.0.0",
       "_model_name": "HTMLModel",
       "_view_count": null,
       "_view_module": "@jupyter-widgets/controls",
       "_view_module_version": "2.0.0",
       "_view_name": "HTMLView",
       "description": "",
       "description_allow_html": false,
       "layout": "IPY_MODEL_b30bde2c0689441cad940cb7b8411ae2",
       "placeholder": "​",
       "style": "IPY_MODEL_03f8df71fc454c7e819601496f816445",
       "tabbable": null,
       "tooltip": null,
       "value": "config.json: 100%"
      }
     },
     "6acbf5d7b19f4a229bc9817398f4c6ce": {
      "model_module": "@jupyter-widgets/base",
      "model_module_version": "2.0.0",
      "model_name": "LayoutModel",
      "state": {
       "_model_module": "@jupyter-widgets/base",
       "_model_module_version": "2.0.0",
       "_model_name": "LayoutModel",
       "_view_count": null,
       "_view_module": "@jupyter-widgets/base",
       "_view_module_version": "2.0.0",
       "_view_name": "LayoutView",
       "align_content": null,
       "align_items": null,
       "align_self": null,
       "border_bottom": null,
       "border_left": null,
       "border_right": null,
       "border_top": null,
       "bottom": null,
       "display": null,
       "flex": null,
       "flex_flow": null,
       "grid_area": null,
       "grid_auto_columns": null,
       "grid_auto_flow": null,
       "grid_auto_rows": null,
       "grid_column": null,
       "grid_gap": null,
       "grid_row": null,
       "grid_template_areas": null,
       "grid_template_columns": null,
       "grid_template_rows": null,
       "height": null,
       "justify_content": null,
       "justify_items": null,
       "left": null,
       "margin": null,
       "max_height": null,
       "max_width": null,
       "min_height": null,
       "min_width": null,
       "object_fit": null,
       "object_position": null,
       "order": null,
       "overflow": null,
       "padding": null,
       "right": null,
       "top": null,
       "visibility": null,
       "width": null
      }
     },
     "712048cf05654d7d838e145bfd4521ef": {
      "model_module": "@jupyter-widgets/controls",
      "model_module_version": "2.0.0",
      "model_name": "HTMLModel",
      "state": {
       "_dom_classes": [],
       "_model_module": "@jupyter-widgets/controls",
       "_model_module_version": "2.0.0",
       "_model_name": "HTMLModel",
       "_view_count": null,
       "_view_module": "@jupyter-widgets/controls",
       "_view_module_version": "2.0.0",
       "_view_name": "HTMLView",
       "description": "",
       "description_allow_html": false,
       "layout": "IPY_MODEL_d7ba78c63c564b11babdbbcca68a57f1",
       "placeholder": "​",
       "style": "IPY_MODEL_4349c39a6d4246019c67974c2abdfeda",
       "tabbable": null,
       "tooltip": null,
       "value": "tokenizer.json: 100%"
      }
     },
     "7536af14404d4d0bbf9db24fdbdce403": {
      "model_module": "@jupyter-widgets/controls",
      "model_module_version": "2.0.0",
      "model_name": "FloatProgressModel",
      "state": {
       "_dom_classes": [],
       "_model_module": "@jupyter-widgets/controls",
       "_model_module_version": "2.0.0",
       "_model_name": "FloatProgressModel",
       "_view_count": null,
       "_view_module": "@jupyter-widgets/controls",
       "_view_module_version": "2.0.0",
       "_view_name": "ProgressView",
       "bar_style": "success",
       "description": "",
       "description_allow_html": false,
       "layout": "IPY_MODEL_3d7889502c8b4f1096ed3d39a057d907",
       "max": 570.0,
       "min": 0.0,
       "orientation": "horizontal",
       "style": "IPY_MODEL_df9a5b8c8aeb40b8abbdb539cb894a65",
       "tabbable": null,
       "tooltip": null,
       "value": 570.0
      }
     },
     "7618414690844d58a466caf29c56f938": {
      "model_module": "@jupyter-widgets/controls",
      "model_module_version": "2.0.0",
      "model_name": "ProgressStyleModel",
      "state": {
       "_model_module": "@jupyter-widgets/controls",
       "_model_module_version": "2.0.0",
       "_model_name": "ProgressStyleModel",
       "_view_count": null,
       "_view_module": "@jupyter-widgets/base",
       "_view_module_version": "2.0.0",
       "_view_name": "StyleView",
       "bar_color": null,
       "description_width": ""
      }
     },
     "7755e3b95f864a738e555edc106c6190": {
      "model_module": "@jupyter-widgets/controls",
      "model_module_version": "2.0.0",
      "model_name": "HTMLModel",
      "state": {
       "_dom_classes": [],
       "_model_module": "@jupyter-widgets/controls",
       "_model_module_version": "2.0.0",
       "_model_name": "HTMLModel",
       "_view_count": null,
       "_view_module": "@jupyter-widgets/controls",
       "_view_module_version": "2.0.0",
       "_view_name": "HTMLView",
       "description": "",
       "description_allow_html": false,
       "layout": "IPY_MODEL_31e33b3b8eb94dd3aed82c38b81e4dcf",
       "placeholder": "​",
       "style": "IPY_MODEL_961eae4141d44035a215ea0ba93f443f",
       "tabbable": null,
       "tooltip": null,
       "value": " 232k/232k [00:00&lt;00:00, 5.66MB/s]"
      }
     },
     "7dcfd55ec2594542b5c2af3641cc703d": {
      "model_module": "@jupyter-widgets/controls",
      "model_module_version": "2.0.0",
      "model_name": "FloatProgressModel",
      "state": {
       "_dom_classes": [],
       "_model_module": "@jupyter-widgets/controls",
       "_model_module_version": "2.0.0",
       "_model_name": "FloatProgressModel",
       "_view_count": null,
       "_view_module": "@jupyter-widgets/controls",
       "_view_module_version": "2.0.0",
       "_view_name": "ProgressView",
       "bar_style": "success",
       "description": "",
       "description_allow_html": false,
       "layout": "IPY_MODEL_4e5efd6afbb94e92976464048ed4a687",
       "max": 466062.0,
       "min": 0.0,
       "orientation": "horizontal",
       "style": "IPY_MODEL_1cc055880c2145a5a852621fbbb092f1",
       "tabbable": null,
       "tooltip": null,
       "value": 466062.0
      }
     },
     "812be25417d145c9930a760c1c015d25": {
      "model_module": "@jupyter-widgets/base",
      "model_module_version": "2.0.0",
      "model_name": "LayoutModel",
      "state": {
       "_model_module": "@jupyter-widgets/base",
       "_model_module_version": "2.0.0",
       "_model_name": "LayoutModel",
       "_view_count": null,
       "_view_module": "@jupyter-widgets/base",
       "_view_module_version": "2.0.0",
       "_view_name": "LayoutView",
       "align_content": null,
       "align_items": null,
       "align_self": null,
       "border_bottom": null,
       "border_left": null,
       "border_right": null,
       "border_top": null,
       "bottom": null,
       "display": null,
       "flex": null,
       "flex_flow": null,
       "grid_area": null,
       "grid_auto_columns": null,
       "grid_auto_flow": null,
       "grid_auto_rows": null,
       "grid_column": null,
       "grid_gap": null,
       "grid_row": null,
       "grid_template_areas": null,
       "grid_template_columns": null,
       "grid_template_rows": null,
       "height": null,
       "justify_content": null,
       "justify_items": null,
       "left": null,
       "margin": null,
       "max_height": null,
       "max_width": null,
       "min_height": null,
       "min_width": null,
       "object_fit": null,
       "object_position": null,
       "order": null,
       "overflow": null,
       "padding": null,
       "right": null,
       "top": null,
       "visibility": null,
       "width": null
      }
     },
     "86510fb048374b50aec6447726a365f4": {
      "model_module": "@jupyter-widgets/controls",
      "model_module_version": "2.0.0",
      "model_name": "HTMLModel",
      "state": {
       "_dom_classes": [],
       "_model_module": "@jupyter-widgets/controls",
       "_model_module_version": "2.0.0",
       "_model_name": "HTMLModel",
       "_view_count": null,
       "_view_module": "@jupyter-widgets/controls",
       "_view_module_version": "2.0.0",
       "_view_name": "HTMLView",
       "description": "",
       "description_allow_html": false,
       "layout": "IPY_MODEL_d5517f0f360c4ad4baf1f3565721d602",
       "placeholder": "​",
       "style": "IPY_MODEL_dc53a1dcf005406bb6fe8fc7932379ce",
       "tabbable": null,
       "tooltip": null,
       "value": "tokenizer_config.json: 100%"
      }
     },
     "961eae4141d44035a215ea0ba93f443f": {
      "model_module": "@jupyter-widgets/controls",
      "model_module_version": "2.0.0",
      "model_name": "HTMLStyleModel",
      "state": {
       "_model_module": "@jupyter-widgets/controls",
       "_model_module_version": "2.0.0",
       "_model_name": "HTMLStyleModel",
       "_view_count": null,
       "_view_module": "@jupyter-widgets/base",
       "_view_module_version": "2.0.0",
       "_view_name": "StyleView",
       "background": null,
       "description_width": "",
       "font_size": null,
       "text_color": null
      }
     },
     "9900f7fc80d84d5795093c5392fc2261": {
      "model_module": "@jupyter-widgets/controls",
      "model_module_version": "2.0.0",
      "model_name": "HTMLStyleModel",
      "state": {
       "_model_module": "@jupyter-widgets/controls",
       "_model_module_version": "2.0.0",
       "_model_name": "HTMLStyleModel",
       "_view_count": null,
       "_view_module": "@jupyter-widgets/base",
       "_view_module_version": "2.0.0",
       "_view_name": "StyleView",
       "background": null,
       "description_width": "",
       "font_size": null,
       "text_color": null
      }
     },
     "9c358917e61a49e6ba67417caca86b5e": {
      "model_module": "@jupyter-widgets/controls",
      "model_module_version": "2.0.0",
      "model_name": "HTMLStyleModel",
      "state": {
       "_model_module": "@jupyter-widgets/controls",
       "_model_module_version": "2.0.0",
       "_model_name": "HTMLStyleModel",
       "_view_count": null,
       "_view_module": "@jupyter-widgets/base",
       "_view_module_version": "2.0.0",
       "_view_name": "StyleView",
       "background": null,
       "description_width": "",
       "font_size": null,
       "text_color": null
      }
     },
     "a0ea08f30f2541f1a591128cd2fb4f93": {
      "model_module": "@jupyter-widgets/base",
      "model_module_version": "2.0.0",
      "model_name": "LayoutModel",
      "state": {
       "_model_module": "@jupyter-widgets/base",
       "_model_module_version": "2.0.0",
       "_model_name": "LayoutModel",
       "_view_count": null,
       "_view_module": "@jupyter-widgets/base",
       "_view_module_version": "2.0.0",
       "_view_name": "LayoutView",
       "align_content": null,
       "align_items": null,
       "align_self": null,
       "border_bottom": null,
       "border_left": null,
       "border_right": null,
       "border_top": null,
       "bottom": null,
       "display": null,
       "flex": null,
       "flex_flow": null,
       "grid_area": null,
       "grid_auto_columns": null,
       "grid_auto_flow": null,
       "grid_auto_rows": null,
       "grid_column": null,
       "grid_gap": null,
       "grid_row": null,
       "grid_template_areas": null,
       "grid_template_columns": null,
       "grid_template_rows": null,
       "height": null,
       "justify_content": null,
       "justify_items": null,
       "left": null,
       "margin": null,
       "max_height": null,
       "max_width": null,
       "min_height": null,
       "min_width": null,
       "object_fit": null,
       "object_position": null,
       "order": null,
       "overflow": null,
       "padding": null,
       "right": null,
       "top": null,
       "visibility": null,
       "width": null
      }
     },
     "a2d79172d13e4398a04d5c9aac8e996d": {
      "model_module": "@jupyter-widgets/controls",
      "model_module_version": "2.0.0",
      "model_name": "HTMLModel",
      "state": {
       "_dom_classes": [],
       "_model_module": "@jupyter-widgets/controls",
       "_model_module_version": "2.0.0",
       "_model_name": "HTMLModel",
       "_view_count": null,
       "_view_module": "@jupyter-widgets/controls",
       "_view_module_version": "2.0.0",
       "_view_name": "HTMLView",
       "description": "",
       "description_allow_html": false,
       "layout": "IPY_MODEL_cc5a7b20ec9d43bba6eac8e23e177c9a",
       "placeholder": "​",
       "style": "IPY_MODEL_3938233e31d94b3a83364602496625d1",
       "tabbable": null,
       "tooltip": null,
       "value": "model.safetensors: 100%"
      }
     },
     "a4ae67fc761e4cf1b1e0b7de81e6eaea": {
      "model_module": "@jupyter-widgets/base",
      "model_module_version": "2.0.0",
      "model_name": "LayoutModel",
      "state": {
       "_model_module": "@jupyter-widgets/base",
       "_model_module_version": "2.0.0",
       "_model_name": "LayoutModel",
       "_view_count": null,
       "_view_module": "@jupyter-widgets/base",
       "_view_module_version": "2.0.0",
       "_view_name": "LayoutView",
       "align_content": null,
       "align_items": null,
       "align_self": null,
       "border_bottom": null,
       "border_left": null,
       "border_right": null,
       "border_top": null,
       "bottom": null,
       "display": null,
       "flex": null,
       "flex_flow": null,
       "grid_area": null,
       "grid_auto_columns": null,
       "grid_auto_flow": null,
       "grid_auto_rows": null,
       "grid_column": null,
       "grid_gap": null,
       "grid_row": null,
       "grid_template_areas": null,
       "grid_template_columns": null,
       "grid_template_rows": null,
       "height": null,
       "justify_content": null,
       "justify_items": null,
       "left": null,
       "margin": null,
       "max_height": null,
       "max_width": null,
       "min_height": null,
       "min_width": null,
       "object_fit": null,
       "object_position": null,
       "order": null,
       "overflow": null,
       "padding": null,
       "right": null,
       "top": null,
       "visibility": null,
       "width": null
      }
     },
     "a764281751854a419f70ea0815551323": {
      "model_module": "@jupyter-widgets/controls",
      "model_module_version": "2.0.0",
      "model_name": "FloatProgressModel",
      "state": {
       "_dom_classes": [],
       "_model_module": "@jupyter-widgets/controls",
       "_model_module_version": "2.0.0",
       "_model_name": "FloatProgressModel",
       "_view_count": null,
       "_view_module": "@jupyter-widgets/controls",
       "_view_module_version": "2.0.0",
       "_view_name": "ProgressView",
       "bar_style": "success",
       "description": "",
       "description_allow_html": false,
       "layout": "IPY_MODEL_6acbf5d7b19f4a229bc9817398f4c6ce",
       "max": 231508.0,
       "min": 0.0,
       "orientation": "horizontal",
       "style": "IPY_MODEL_27ae6cffaf294180ad03d88fa27207c9",
       "tabbable": null,
       "tooltip": null,
       "value": 231508.0
      }
     },
     "a800d15a21e44d3a81e51b51c1500d0c": {
      "model_module": "@jupyter-widgets/controls",
      "model_module_version": "2.0.0",
      "model_name": "HTMLModel",
      "state": {
       "_dom_classes": [],
       "_model_module": "@jupyter-widgets/controls",
       "_model_module_version": "2.0.0",
       "_model_name": "HTMLModel",
       "_view_count": null,
       "_view_module": "@jupyter-widgets/controls",
       "_view_module_version": "2.0.0",
       "_view_name": "HTMLView",
       "description": "",
       "description_allow_html": false,
       "layout": "IPY_MODEL_49e5d38590924a98b8913794e91eb2c4",
       "placeholder": "​",
       "style": "IPY_MODEL_eff9c35bfd6d4cb8a98e845cc51546b5",
       "tabbable": null,
       "tooltip": null,
       "value": " 440M/440M [00:01&lt;00:00, 278MB/s]"
      }
     },
     "b09e1367f8b14794a511698dcf5f1406": {
      "model_module": "@jupyter-widgets/controls",
      "model_module_version": "2.0.0",
      "model_name": "HTMLModel",
      "state": {
       "_dom_classes": [],
       "_model_module": "@jupyter-widgets/controls",
       "_model_module_version": "2.0.0",
       "_model_name": "HTMLModel",
       "_view_count": null,
       "_view_module": "@jupyter-widgets/controls",
       "_view_module_version": "2.0.0",
       "_view_name": "HTMLView",
       "description": "",
       "description_allow_html": false,
       "layout": "IPY_MODEL_0d7f5bafecb8456bb60148f460137dd2",
       "placeholder": "​",
       "style": "IPY_MODEL_d1b2ec639a6040b296dd6e94b802e560",
       "tabbable": null,
       "tooltip": null,
       "value": " 466k/466k [00:00&lt;00:00, 23.7MB/s]"
      }
     },
     "b30bde2c0689441cad940cb7b8411ae2": {
      "model_module": "@jupyter-widgets/base",
      "model_module_version": "2.0.0",
      "model_name": "LayoutModel",
      "state": {
       "_model_module": "@jupyter-widgets/base",
       "_model_module_version": "2.0.0",
       "_model_name": "LayoutModel",
       "_view_count": null,
       "_view_module": "@jupyter-widgets/base",
       "_view_module_version": "2.0.0",
       "_view_name": "LayoutView",
       "align_content": null,
       "align_items": null,
       "align_self": null,
       "border_bottom": null,
       "border_left": null,
       "border_right": null,
       "border_top": null,
       "bottom": null,
       "display": null,
       "flex": null,
       "flex_flow": null,
       "grid_area": null,
       "grid_auto_columns": null,
       "grid_auto_flow": null,
       "grid_auto_rows": null,
       "grid_column": null,
       "grid_gap": null,
       "grid_row": null,
       "grid_template_areas": null,
       "grid_template_columns": null,
       "grid_template_rows": null,
       "height": null,
       "justify_content": null,
       "justify_items": null,
       "left": null,
       "margin": null,
       "max_height": null,
       "max_width": null,
       "min_height": null,
       "min_width": null,
       "object_fit": null,
       "object_position": null,
       "order": null,
       "overflow": null,
       "padding": null,
       "right": null,
       "top": null,
       "visibility": null,
       "width": null
      }
     },
     "bed5dd483ac04129a12750c40fd26cf8": {
      "model_module": "@jupyter-widgets/controls",
      "model_module_version": "2.0.0",
      "model_name": "HTMLModel",
      "state": {
       "_dom_classes": [],
       "_model_module": "@jupyter-widgets/controls",
       "_model_module_version": "2.0.0",
       "_model_name": "HTMLModel",
       "_view_count": null,
       "_view_module": "@jupyter-widgets/controls",
       "_view_module_version": "2.0.0",
       "_view_name": "HTMLView",
       "description": "",
       "description_allow_html": false,
       "layout": "IPY_MODEL_309936af62ac43adafbd859e8f51a0f5",
       "placeholder": "​",
       "style": "IPY_MODEL_9900f7fc80d84d5795093c5392fc2261",
       "tabbable": null,
       "tooltip": null,
       "value": "vocab.txt: 100%"
      }
     },
     "c3c4f46187244738b0e4e8cf599842ae": {
      "model_module": "@jupyter-widgets/controls",
      "model_module_version": "2.0.0",
      "model_name": "HBoxModel",
      "state": {
       "_dom_classes": [],
       "_model_module": "@jupyter-widgets/controls",
       "_model_module_version": "2.0.0",
       "_model_name": "HBoxModel",
       "_view_count": null,
       "_view_module": "@jupyter-widgets/controls",
       "_view_module_version": "2.0.0",
       "_view_name": "HBoxView",
       "box_style": "",
       "children": [
        "IPY_MODEL_bed5dd483ac04129a12750c40fd26cf8",
        "IPY_MODEL_a764281751854a419f70ea0815551323",
        "IPY_MODEL_7755e3b95f864a738e555edc106c6190"
       ],
       "layout": "IPY_MODEL_812be25417d145c9930a760c1c015d25",
       "tabbable": null,
       "tooltip": null
      }
     },
     "c7d00aa3363248dc93f5b8070756e51f": {
      "model_module": "@jupyter-widgets/controls",
      "model_module_version": "2.0.0",
      "model_name": "ProgressStyleModel",
      "state": {
       "_model_module": "@jupyter-widgets/controls",
       "_model_module_version": "2.0.0",
       "_model_name": "ProgressStyleModel",
       "_view_count": null,
       "_view_module": "@jupyter-widgets/base",
       "_view_module_version": "2.0.0",
       "_view_name": "StyleView",
       "bar_color": null,
       "description_width": ""
      }
     },
     "c9d8bd1be621415bb19a8bf731cb24e8": {
      "model_module": "@jupyter-widgets/base",
      "model_module_version": "2.0.0",
      "model_name": "LayoutModel",
      "state": {
       "_model_module": "@jupyter-widgets/base",
       "_model_module_version": "2.0.0",
       "_model_name": "LayoutModel",
       "_view_count": null,
       "_view_module": "@jupyter-widgets/base",
       "_view_module_version": "2.0.0",
       "_view_name": "LayoutView",
       "align_content": null,
       "align_items": null,
       "align_self": null,
       "border_bottom": null,
       "border_left": null,
       "border_right": null,
       "border_top": null,
       "bottom": null,
       "display": null,
       "flex": null,
       "flex_flow": null,
       "grid_area": null,
       "grid_auto_columns": null,
       "grid_auto_flow": null,
       "grid_auto_rows": null,
       "grid_column": null,
       "grid_gap": null,
       "grid_row": null,
       "grid_template_areas": null,
       "grid_template_columns": null,
       "grid_template_rows": null,
       "height": null,
       "justify_content": null,
       "justify_items": null,
       "left": null,
       "margin": null,
       "max_height": null,
       "max_width": null,
       "min_height": null,
       "min_width": null,
       "object_fit": null,
       "object_position": null,
       "order": null,
       "overflow": null,
       "padding": null,
       "right": null,
       "top": null,
       "visibility": null,
       "width": null
      }
     },
     "cc5a7b20ec9d43bba6eac8e23e177c9a": {
      "model_module": "@jupyter-widgets/base",
      "model_module_version": "2.0.0",
      "model_name": "LayoutModel",
      "state": {
       "_model_module": "@jupyter-widgets/base",
       "_model_module_version": "2.0.0",
       "_model_name": "LayoutModel",
       "_view_count": null,
       "_view_module": "@jupyter-widgets/base",
       "_view_module_version": "2.0.0",
       "_view_name": "LayoutView",
       "align_content": null,
       "align_items": null,
       "align_self": null,
       "border_bottom": null,
       "border_left": null,
       "border_right": null,
       "border_top": null,
       "bottom": null,
       "display": null,
       "flex": null,
       "flex_flow": null,
       "grid_area": null,
       "grid_auto_columns": null,
       "grid_auto_flow": null,
       "grid_auto_rows": null,
       "grid_column": null,
       "grid_gap": null,
       "grid_row": null,
       "grid_template_areas": null,
       "grid_template_columns": null,
       "grid_template_rows": null,
       "height": null,
       "justify_content": null,
       "justify_items": null,
       "left": null,
       "margin": null,
       "max_height": null,
       "max_width": null,
       "min_height": null,
       "min_width": null,
       "object_fit": null,
       "object_position": null,
       "order": null,
       "overflow": null,
       "padding": null,
       "right": null,
       "top": null,
       "visibility": null,
       "width": null
      }
     },
     "d1b2ec639a6040b296dd6e94b802e560": {
      "model_module": "@jupyter-widgets/controls",
      "model_module_version": "2.0.0",
      "model_name": "HTMLStyleModel",
      "state": {
       "_model_module": "@jupyter-widgets/controls",
       "_model_module_version": "2.0.0",
       "_model_name": "HTMLStyleModel",
       "_view_count": null,
       "_view_module": "@jupyter-widgets/base",
       "_view_module_version": "2.0.0",
       "_view_name": "StyleView",
       "background": null,
       "description_width": "",
       "font_size": null,
       "text_color": null
      }
     },
     "d5517f0f360c4ad4baf1f3565721d602": {
      "model_module": "@jupyter-widgets/base",
      "model_module_version": "2.0.0",
      "model_name": "LayoutModel",
      "state": {
       "_model_module": "@jupyter-widgets/base",
       "_model_module_version": "2.0.0",
       "_model_name": "LayoutModel",
       "_view_count": null,
       "_view_module": "@jupyter-widgets/base",
       "_view_module_version": "2.0.0",
       "_view_name": "LayoutView",
       "align_content": null,
       "align_items": null,
       "align_self": null,
       "border_bottom": null,
       "border_left": null,
       "border_right": null,
       "border_top": null,
       "bottom": null,
       "display": null,
       "flex": null,
       "flex_flow": null,
       "grid_area": null,
       "grid_auto_columns": null,
       "grid_auto_flow": null,
       "grid_auto_rows": null,
       "grid_column": null,
       "grid_gap": null,
       "grid_row": null,
       "grid_template_areas": null,
       "grid_template_columns": null,
       "grid_template_rows": null,
       "height": null,
       "justify_content": null,
       "justify_items": null,
       "left": null,
       "margin": null,
       "max_height": null,
       "max_width": null,
       "min_height": null,
       "min_width": null,
       "object_fit": null,
       "object_position": null,
       "order": null,
       "overflow": null,
       "padding": null,
       "right": null,
       "top": null,
       "visibility": null,
       "width": null
      }
     },
     "d5ca2f78def34d17a1afb7ffb676dfc3": {
      "model_module": "@jupyter-widgets/controls",
      "model_module_version": "2.0.0",
      "model_name": "HTMLModel",
      "state": {
       "_dom_classes": [],
       "_model_module": "@jupyter-widgets/controls",
       "_model_module_version": "2.0.0",
       "_model_name": "HTMLModel",
       "_view_count": null,
       "_view_module": "@jupyter-widgets/controls",
       "_view_module_version": "2.0.0",
       "_view_name": "HTMLView",
       "description": "",
       "description_allow_html": false,
       "layout": "IPY_MODEL_473239fb9b964ef9a348599747f09713",
       "placeholder": "​",
       "style": "IPY_MODEL_e6d1ea772bab4c458b9fdc4931464ea5",
       "tabbable": null,
       "tooltip": null,
       "value": " 48.0/48.0 [00:00&lt;00:00, 5.93kB/s]"
      }
     },
     "d609b8f978634e65a9a00a20e2a7ec57": {
      "model_module": "@jupyter-widgets/base",
      "model_module_version": "2.0.0",
      "model_name": "LayoutModel",
      "state": {
       "_model_module": "@jupyter-widgets/base",
       "_model_module_version": "2.0.0",
       "_model_name": "LayoutModel",
       "_view_count": null,
       "_view_module": "@jupyter-widgets/base",
       "_view_module_version": "2.0.0",
       "_view_name": "LayoutView",
       "align_content": null,
       "align_items": null,
       "align_self": null,
       "border_bottom": null,
       "border_left": null,
       "border_right": null,
       "border_top": null,
       "bottom": null,
       "display": null,
       "flex": null,
       "flex_flow": null,
       "grid_area": null,
       "grid_auto_columns": null,
       "grid_auto_flow": null,
       "grid_auto_rows": null,
       "grid_column": null,
       "grid_gap": null,
       "grid_row": null,
       "grid_template_areas": null,
       "grid_template_columns": null,
       "grid_template_rows": null,
       "height": null,
       "justify_content": null,
       "justify_items": null,
       "left": null,
       "margin": null,
       "max_height": null,
       "max_width": null,
       "min_height": null,
       "min_width": null,
       "object_fit": null,
       "object_position": null,
       "order": null,
       "overflow": null,
       "padding": null,
       "right": null,
       "top": null,
       "visibility": null,
       "width": null
      }
     },
     "d7ba78c63c564b11babdbbcca68a57f1": {
      "model_module": "@jupyter-widgets/base",
      "model_module_version": "2.0.0",
      "model_name": "LayoutModel",
      "state": {
       "_model_module": "@jupyter-widgets/base",
       "_model_module_version": "2.0.0",
       "_model_name": "LayoutModel",
       "_view_count": null,
       "_view_module": "@jupyter-widgets/base",
       "_view_module_version": "2.0.0",
       "_view_name": "LayoutView",
       "align_content": null,
       "align_items": null,
       "align_self": null,
       "border_bottom": null,
       "border_left": null,
       "border_right": null,
       "border_top": null,
       "bottom": null,
       "display": null,
       "flex": null,
       "flex_flow": null,
       "grid_area": null,
       "grid_auto_columns": null,
       "grid_auto_flow": null,
       "grid_auto_rows": null,
       "grid_column": null,
       "grid_gap": null,
       "grid_row": null,
       "grid_template_areas": null,
       "grid_template_columns": null,
       "grid_template_rows": null,
       "height": null,
       "justify_content": null,
       "justify_items": null,
       "left": null,
       "margin": null,
       "max_height": null,
       "max_width": null,
       "min_height": null,
       "min_width": null,
       "object_fit": null,
       "object_position": null,
       "order": null,
       "overflow": null,
       "padding": null,
       "right": null,
       "top": null,
       "visibility": null,
       "width": null
      }
     },
     "dc53a1dcf005406bb6fe8fc7932379ce": {
      "model_module": "@jupyter-widgets/controls",
      "model_module_version": "2.0.0",
      "model_name": "HTMLStyleModel",
      "state": {
       "_model_module": "@jupyter-widgets/controls",
       "_model_module_version": "2.0.0",
       "_model_name": "HTMLStyleModel",
       "_view_count": null,
       "_view_module": "@jupyter-widgets/base",
       "_view_module_version": "2.0.0",
       "_view_name": "StyleView",
       "background": null,
       "description_width": "",
       "font_size": null,
       "text_color": null
      }
     },
     "df9a5b8c8aeb40b8abbdb539cb894a65": {
      "model_module": "@jupyter-widgets/controls",
      "model_module_version": "2.0.0",
      "model_name": "ProgressStyleModel",
      "state": {
       "_model_module": "@jupyter-widgets/controls",
       "_model_module_version": "2.0.0",
       "_model_name": "ProgressStyleModel",
       "_view_count": null,
       "_view_module": "@jupyter-widgets/base",
       "_view_module_version": "2.0.0",
       "_view_name": "StyleView",
       "bar_color": null,
       "description_width": ""
      }
     },
     "e6d1ea772bab4c458b9fdc4931464ea5": {
      "model_module": "@jupyter-widgets/controls",
      "model_module_version": "2.0.0",
      "model_name": "HTMLStyleModel",
      "state": {
       "_model_module": "@jupyter-widgets/controls",
       "_model_module_version": "2.0.0",
       "_model_name": "HTMLStyleModel",
       "_view_count": null,
       "_view_module": "@jupyter-widgets/base",
       "_view_module_version": "2.0.0",
       "_view_name": "StyleView",
       "background": null,
       "description_width": "",
       "font_size": null,
       "text_color": null
      }
     },
     "ecb65946b58c44ab96b33a94a9f443be": {
      "model_module": "@jupyter-widgets/controls",
      "model_module_version": "2.0.0",
      "model_name": "HTMLModel",
      "state": {
       "_dom_classes": [],
       "_model_module": "@jupyter-widgets/controls",
       "_model_module_version": "2.0.0",
       "_model_name": "HTMLModel",
       "_view_count": null,
       "_view_module": "@jupyter-widgets/controls",
       "_view_module_version": "2.0.0",
       "_view_name": "HTMLView",
       "description": "",
       "description_allow_html": false,
       "layout": "IPY_MODEL_d609b8f978634e65a9a00a20e2a7ec57",
       "placeholder": "​",
       "style": "IPY_MODEL_9c358917e61a49e6ba67417caca86b5e",
       "tabbable": null,
       "tooltip": null,
       "value": " 570/570 [00:00&lt;00:00, 76.4kB/s]"
      }
     },
     "efc91cee05ef4291930d7ea9a21d541e": {
      "model_module": "@jupyter-widgets/base",
      "model_module_version": "2.0.0",
      "model_name": "LayoutModel",
      "state": {
       "_model_module": "@jupyter-widgets/base",
       "_model_module_version": "2.0.0",
       "_model_name": "LayoutModel",
       "_view_count": null,
       "_view_module": "@jupyter-widgets/base",
       "_view_module_version": "2.0.0",
       "_view_name": "LayoutView",
       "align_content": null,
       "align_items": null,
       "align_self": null,
       "border_bottom": null,
       "border_left": null,
       "border_right": null,
       "border_top": null,
       "bottom": null,
       "display": null,
       "flex": null,
       "flex_flow": null,
       "grid_area": null,
       "grid_auto_columns": null,
       "grid_auto_flow": null,
       "grid_auto_rows": null,
       "grid_column": null,
       "grid_gap": null,
       "grid_row": null,
       "grid_template_areas": null,
       "grid_template_columns": null,
       "grid_template_rows": null,
       "height": null,
       "justify_content": null,
       "justify_items": null,
       "left": null,
       "margin": null,
       "max_height": null,
       "max_width": null,
       "min_height": null,
       "min_width": null,
       "object_fit": null,
       "object_position": null,
       "order": null,
       "overflow": null,
       "padding": null,
       "right": null,
       "top": null,
       "visibility": null,
       "width": null
      }
     },
     "eff9c35bfd6d4cb8a98e845cc51546b5": {
      "model_module": "@jupyter-widgets/controls",
      "model_module_version": "2.0.0",
      "model_name": "HTMLStyleModel",
      "state": {
       "_model_module": "@jupyter-widgets/controls",
       "_model_module_version": "2.0.0",
       "_model_name": "HTMLStyleModel",
       "_view_count": null,
       "_view_module": "@jupyter-widgets/base",
       "_view_module_version": "2.0.0",
       "_view_name": "StyleView",
       "background": null,
       "description_width": "",
       "font_size": null,
       "text_color": null
      }
     },
     "fc105b44d79e4c6aae9d27b6c5315203": {
      "model_module": "@jupyter-widgets/base",
      "model_module_version": "2.0.0",
      "model_name": "LayoutModel",
      "state": {
       "_model_module": "@jupyter-widgets/base",
       "_model_module_version": "2.0.0",
       "_model_name": "LayoutModel",
       "_view_count": null,
       "_view_module": "@jupyter-widgets/base",
       "_view_module_version": "2.0.0",
       "_view_name": "LayoutView",
       "align_content": null,
       "align_items": null,
       "align_self": null,
       "border_bottom": null,
       "border_left": null,
       "border_right": null,
       "border_top": null,
       "bottom": null,
       "display": null,
       "flex": null,
       "flex_flow": null,
       "grid_area": null,
       "grid_auto_columns": null,
       "grid_auto_flow": null,
       "grid_auto_rows": null,
       "grid_column": null,
       "grid_gap": null,
       "grid_row": null,
       "grid_template_areas": null,
       "grid_template_columns": null,
       "grid_template_rows": null,
       "height": null,
       "justify_content": null,
       "justify_items": null,
       "left": null,
       "margin": null,
       "max_height": null,
       "max_width": null,
       "min_height": null,
       "min_width": null,
       "object_fit": null,
       "object_position": null,
       "order": null,
       "overflow": null,
       "padding": null,
       "right": null,
       "top": null,
       "visibility": null,
       "width": null
      }
     }
    },
    "version_major": 2,
    "version_minor": 0
   }
  }
 },
 "nbformat": 4,
 "nbformat_minor": 5
}
