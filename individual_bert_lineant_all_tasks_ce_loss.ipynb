{
 "cells": [
  {
   "cell_type": "code",
   "execution_count": 1,
   "id": "2222300d",
   "metadata": {
    "execution": {
     "iopub.execute_input": "2025-04-25T07:35:23.116055Z",
     "iopub.status.busy": "2025-04-25T07:35:23.115835Z",
     "iopub.status.idle": "2025-04-25T07:35:24.830897Z",
     "shell.execute_reply": "2025-04-25T07:35:24.829974Z"
    },
    "papermill": {
     "duration": 1.72106,
     "end_time": "2025-04-25T07:35:24.832296",
     "exception": false,
     "start_time": "2025-04-25T07:35:23.111236",
     "status": "completed"
    },
    "tags": []
   },
   "outputs": [
    {
     "name": "stdout",
     "output_type": "stream",
     "text": [
      "/kaggle/input/json-data/assignment_3_ai_tutors_dataset.json\n"
     ]
    }
   ],
   "source": [
    "# This Python 3 environment comes with many helpful analytics libraries installed\n",
    "# It is defined by the kaggle/python Docker image: https://github.com/kaggle/docker-python\n",
    "# For example, here's several helpful packages to load\n",
    "\n",
    "import numpy as np # linear algebra\n",
    "import pandas as pd # data processing, CSV file I/O (e.g. pd.read_csv)\n",
    "\n",
    "# Input data files are available in the read-only \"../input/\" directory\n",
    "# For example, running this (by clicking run or pressing Shift+Enter) will list all files under the input directory\n",
    "\n",
    "import os\n",
    "for dirname, _, filenames in os.walk('/kaggle/input'):\n",
    "    for filename in filenames:\n",
    "        print(os.path.join(dirname, filename))\n",
    "\n",
    "# You can write up to 20GB to the current directory (/kaggle/working/) that gets preserved as output when you create a version using \"Save & Run All\" \n",
    "# You can also write temporary files to /kaggle/temp/, but they won't be saved outside of the current session"
   ]
  },
  {
   "cell_type": "code",
   "execution_count": 2,
   "id": "54482592",
   "metadata": {
    "execution": {
     "iopub.execute_input": "2025-04-25T07:35:24.840436Z",
     "iopub.status.busy": "2025-04-25T07:35:24.840140Z",
     "iopub.status.idle": "2025-04-25T07:35:56.117562Z",
     "shell.execute_reply": "2025-04-25T07:35:56.116758Z"
    },
    "papermill": {
     "duration": 31.283053,
     "end_time": "2025-04-25T07:35:56.119127",
     "exception": false,
     "start_time": "2025-04-25T07:35:24.836074",
     "status": "completed"
    },
    "tags": []
   },
   "outputs": [
    {
     "name": "stderr",
     "output_type": "stream",
     "text": [
      "2025-04-25 07:35:43.551552: E external/local_xla/xla/stream_executor/cuda/cuda_fft.cc:477] Unable to register cuFFT factory: Attempting to register factory for plugin cuFFT when one has already been registered\n",
      "WARNING: All log messages before absl::InitializeLog() is called are written to STDERR\n",
      "E0000 00:00:1745566543.874728      19 cuda_dnn.cc:8310] Unable to register cuDNN factory: Attempting to register factory for plugin cuDNN when one has already been registered\n",
      "E0000 00:00:1745566543.955159      19 cuda_blas.cc:1418] Unable to register cuBLAS factory: Attempting to register factory for plugin cuBLAS when one has already been registered\n"
     ]
    }
   ],
   "source": [
    "import torch\n",
    "import torch.nn as nn\n",
    "from transformers import BertForSequenceClassification, BertTokenizer\n",
    "from sklearn.metrics import accuracy_score, f1_score, classification_report\n",
    "from torch.utils.data import DataLoader\n",
    "from tqdm import tqdm\n",
    "import pandas as pd\n",
    "import json\n",
    "from torch.utils.data import Dataset\n",
    "from sklearn.model_selection import train_test_split"
   ]
  },
  {
   "cell_type": "code",
   "execution_count": 3,
   "id": "ea2ba227",
   "metadata": {
    "execution": {
     "iopub.execute_input": "2025-04-25T07:35:56.126949Z",
     "iopub.status.busy": "2025-04-25T07:35:56.126472Z",
     "iopub.status.idle": "2025-04-25T07:35:56.130062Z",
     "shell.execute_reply": "2025-04-25T07:35:56.129574Z"
    },
    "papermill": {
     "duration": 0.008488,
     "end_time": "2025-04-25T07:35:56.131123",
     "exception": false,
     "start_time": "2025-04-25T07:35:56.122635",
     "status": "completed"
    },
    "tags": []
   },
   "outputs": [],
   "source": [
    "device = torch.device(\"cuda\" if torch.cuda.is_available() else \"cpu\")"
   ]
  },
  {
   "cell_type": "code",
   "execution_count": 4,
   "id": "a7e774c2",
   "metadata": {
    "execution": {
     "iopub.execute_input": "2025-04-25T07:35:56.137864Z",
     "iopub.status.busy": "2025-04-25T07:35:56.137648Z",
     "iopub.status.idle": "2025-04-25T07:35:56.141937Z",
     "shell.execute_reply": "2025-04-25T07:35:56.141412Z"
    },
    "papermill": {
     "duration": 0.008791,
     "end_time": "2025-04-25T07:35:56.142930",
     "exception": false,
     "start_time": "2025-04-25T07:35:56.134139",
     "status": "completed"
    },
    "tags": []
   },
   "outputs": [],
   "source": [
    "class FocalLossWithWeights(nn.Module):\n",
    "    def __init__(self, weight=None, gamma=2.0):\n",
    "        super(FocalLossWithWeights, self).__init__()\n",
    "        self.weight = weight\n",
    "        self.gamma = gamma\n",
    "        self.ce = nn.CrossEntropyLoss(reduction='none', weight=weight)\n",
    "\n",
    "    def forward(self, inputs, targets):\n",
    "        logp = self.ce(inputs, targets)\n",
    "        p = torch.exp(-logp)\n",
    "        loss = (1 - p) ** self.gamma * logp\n",
    "        return loss.mean()\n"
   ]
  },
  {
   "cell_type": "code",
   "execution_count": 5,
   "id": "84b2d96d",
   "metadata": {
    "execution": {
     "iopub.execute_input": "2025-04-25T07:35:56.149930Z",
     "iopub.status.busy": "2025-04-25T07:35:56.149287Z",
     "iopub.status.idle": "2025-04-25T07:35:56.153485Z",
     "shell.execute_reply": "2025-04-25T07:35:56.152814Z"
    },
    "papermill": {
     "duration": 0.008845,
     "end_time": "2025-04-25T07:35:56.154715",
     "exception": false,
     "start_time": "2025-04-25T07:35:56.145870",
     "status": "completed"
    },
    "tags": []
   },
   "outputs": [],
   "source": [
    "# ---------- Dataset Definition ----------\n",
    "class TutorEvalSingleTaskDataset(Dataset):\n",
    "    def __init__(self, encodings, labels):\n",
    "        self.encodings = encodings\n",
    "        self.labels = labels\n",
    "\n",
    "    def __getitem__(self, idx):\n",
    "        return {\n",
    "            'input_ids': self.encodings['input_ids'][idx],\n",
    "            'attention_mask': self.encodings['attention_mask'][idx],\n",
    "            'labels': self.labels[idx]\n",
    "        }\n",
    "\n",
    "    def __len__(self):\n",
    "        return len(self.labels)"
   ]
  },
  {
   "cell_type": "code",
   "execution_count": 6,
   "id": "e6f684d0",
   "metadata": {
    "execution": {
     "iopub.execute_input": "2025-04-25T07:35:56.161221Z",
     "iopub.status.busy": "2025-04-25T07:35:56.161024Z",
     "iopub.status.idle": "2025-04-25T07:35:56.165725Z",
     "shell.execute_reply": "2025-04-25T07:35:56.165012Z"
    },
    "papermill": {
     "duration": 0.009167,
     "end_time": "2025-04-25T07:35:56.166830",
     "exception": false,
     "start_time": "2025-04-25T07:35:56.157663",
     "status": "completed"
    },
    "tags": []
   },
   "outputs": [],
   "source": [
    "# ---------- Preprocessing ----------\n",
    "def load_and_flatten(json_path):\n",
    "    with open(json_path) as f:\n",
    "        data = json.load(f)\n",
    "\n",
    "    rows = []\n",
    "    for instance in data:\n",
    "        convo_id = instance[\"conversation_id\"]\n",
    "        history = instance[\"conversation_history\"]\n",
    "        for tutor_id, tutor_data in instance[\"tutor_responses\"].items():\n",
    "            row = {\n",
    "                \"conversation_id\": convo_id,\n",
    "                \"tutor_id\": tutor_id,\n",
    "                \"conversation_history\": history,\n",
    "                \"tutor_response\": tutor_data[\"response\"],\n",
    "                \"Mistake_Identification\": tutor_data[\"annotation\"][\"Mistake_Identification\"],\n",
    "                \"Mistake_Location\": tutor_data[\"annotation\"][\"Mistake_Location\"],\n",
    "                \"Pedagogical_Guidance\": tutor_data[\"annotation\"][\"Providing_Guidance\"],\n",
    "                \"Actionability\": tutor_data[\"annotation\"][\"Actionability\"]\n",
    "            }\n",
    "            rows.append(row)\n",
    "    return pd.DataFrame(rows)"
   ]
  },
  {
   "cell_type": "code",
   "execution_count": 7,
   "id": "b7191c26",
   "metadata": {
    "execution": {
     "iopub.execute_input": "2025-04-25T07:35:56.173248Z",
     "iopub.status.busy": "2025-04-25T07:35:56.173049Z",
     "iopub.status.idle": "2025-04-25T07:35:56.177806Z",
     "shell.execute_reply": "2025-04-25T07:35:56.177159Z"
    },
    "papermill": {
     "duration": 0.009093,
     "end_time": "2025-04-25T07:35:56.178813",
     "exception": false,
     "start_time": "2025-04-25T07:35:56.169720",
     "status": "completed"
    },
    "tags": []
   },
   "outputs": [],
   "source": [
    "def build_input_text(row):\n",
    "    return f\"Context:\\n{row['conversation_history']}\\n\\nTutor Response:\\n{row['tutor_response']}\"\n",
    "\n",
    "LABEL_MAP = {\"Yes\": 0, \"To some extent\": 1, \"No\": 2}\n",
    "MERGED_LABEL_MAP = {\"Yes\": 1, \"To some extent\": 1, \"No\": 0}\n",
    "\n",
    "def encode_labels(df):\n",
    "    for task in [\"Mistake_Identification\", \"Mistake_Location\", \"Pedagogical_Guidance\", \"Actionability\"]:\n",
    "        df[f\"{task}_label\"] = df[task].map(LABEL_MAP)\n",
    "        df[f\"{task}_binary\"] = df[task].map(MERGED_LABEL_MAP)\n",
    "    return df\n",
    "\n",
    "def tokenize_inputs(tokenizer, texts, max_length=256):\n",
    "    return tokenizer(\n",
    "        texts,\n",
    "        add_special_tokens=True,\n",
    "        truncation=True,\n",
    "        padding=True,\n",
    "        max_length=max_length,\n",
    "        return_tensors=\"pt\"\n",
    "    )"
   ]
  },
  {
   "cell_type": "code",
   "execution_count": 8,
   "id": "aa9d7c15",
   "metadata": {
    "execution": {
     "iopub.execute_input": "2025-04-25T07:35:56.185394Z",
     "iopub.status.busy": "2025-04-25T07:35:56.185045Z",
     "iopub.status.idle": "2025-04-25T07:35:56.189826Z",
     "shell.execute_reply": "2025-04-25T07:35:56.189164Z"
    },
    "papermill": {
     "duration": 0.0092,
     "end_time": "2025-04-25T07:35:56.190875",
     "exception": false,
     "start_time": "2025-04-25T07:35:56.181675",
     "status": "completed"
    },
    "tags": []
   },
   "outputs": [],
   "source": [
    "def preprocess_dataset(json_path, task_label):\n",
    "    df = load_and_flatten(json_path)\n",
    "    df[\"input_text\"] = df.apply(build_input_text, axis=1)\n",
    "    df = encode_labels(df)\n",
    "\n",
    "    train_df, val_df = train_test_split(df, test_size=0.1, stratify=df[task_label], random_state=42)\n",
    "\n",
    "    tokenizer = BertTokenizer.from_pretrained(\"bert-base-uncased\", do_lower_case=True)\n",
    "    train_enc = tokenize_inputs(tokenizer, train_df[\"input_text\"].tolist())\n",
    "    val_enc = tokenize_inputs(tokenizer, val_df[\"input_text\"].tolist())\n",
    "\n",
    "    train_labels = torch.tensor(train_df[task_label].tolist())\n",
    "    val_labels = torch.tensor(val_df[task_label].tolist())\n",
    "\n",
    "    train_dataset = TutorEvalSingleTaskDataset(train_enc, train_labels)\n",
    "    val_dataset = TutorEvalSingleTaskDataset(val_enc, val_labels)\n",
    "\n",
    "    return train_dataset, val_dataset, tokenizer, df\n"
   ]
  },
  {
   "cell_type": "code",
   "execution_count": 9,
   "id": "798d5e7e",
   "metadata": {
    "execution": {
     "iopub.execute_input": "2025-04-25T07:35:56.197246Z",
     "iopub.status.busy": "2025-04-25T07:35:56.197053Z",
     "iopub.status.idle": "2025-04-25T07:35:56.200693Z",
     "shell.execute_reply": "2025-04-25T07:35:56.200017Z"
    },
    "papermill": {
     "duration": 0.008072,
     "end_time": "2025-04-25T07:35:56.201813",
     "exception": false,
     "start_time": "2025-04-25T07:35:56.193741",
     "status": "completed"
    },
    "tags": []
   },
   "outputs": [],
   "source": [
    "from sklearn.utils.class_weight import compute_class_weight\n",
    "import numpy as np\n",
    "\n",
    "def get_class_weights(labels, num_classes):\n",
    "    class_weights = compute_class_weight(class_weight='balanced', classes=np.arange(num_classes), y=labels)\n",
    "    return torch.tensor(class_weights, dtype=torch.float).to(device)\n"
   ]
  },
  {
   "cell_type": "code",
   "execution_count": 10,
   "id": "8e79b0eb",
   "metadata": {
    "execution": {
     "iopub.execute_input": "2025-04-25T07:35:56.209539Z",
     "iopub.status.busy": "2025-04-25T07:35:56.209312Z",
     "iopub.status.idle": "2025-04-25T07:35:56.212976Z",
     "shell.execute_reply": "2025-04-25T07:35:56.212502Z"
    },
    "papermill": {
     "duration": 0.009333,
     "end_time": "2025-04-25T07:35:56.214016",
     "exception": false,
     "start_time": "2025-04-25T07:35:56.204683",
     "status": "completed"
    },
    "tags": []
   },
   "outputs": [],
   "source": [
    "# ---------- Model ----------\n",
    "class SingleTaskBertClassifier(nn.Module):\n",
    "    def __init__(self, num_labels):\n",
    "        super().__init__()\n",
    "        self.bert = BertForSequenceClassification.from_pretrained(\"bert-base-uncased\", num_labels=num_labels)\n",
    "\n",
    "    def forward(self, input_ids, attention_mask):\n",
    "        return self.bert(input_ids=input_ids, attention_mask=attention_mask).logits"
   ]
  },
  {
   "cell_type": "code",
   "execution_count": 11,
   "id": "3ef8de35",
   "metadata": {
    "execution": {
     "iopub.execute_input": "2025-04-25T07:35:56.220774Z",
     "iopub.status.busy": "2025-04-25T07:35:56.220567Z",
     "iopub.status.idle": "2025-04-25T07:35:56.229423Z",
     "shell.execute_reply": "2025-04-25T07:35:56.228745Z"
    },
    "papermill": {
     "duration": 0.01337,
     "end_time": "2025-04-25T07:35:56.230487",
     "exception": false,
     "start_time": "2025-04-25T07:35:56.217117",
     "status": "completed"
    },
    "tags": []
   },
   "outputs": [],
   "source": [
    "# ---------- Training ----------\n",
    "def evaluate_model(model, val_loader):\n",
    "    model.eval()\n",
    "    all_preds, all_labels = [], []\n",
    "    with torch.no_grad():\n",
    "        for batch in val_loader:\n",
    "            input_ids = batch['input_ids'].to(device)\n",
    "            attention_mask = batch['attention_mask'].to(device)\n",
    "            labels = batch['labels'].cpu().numpy()\n",
    "\n",
    "            outputs = model(input_ids, attention_mask)\n",
    "            preds = torch.argmax(outputs, dim=1)\n",
    "            all_preds.extend(preds.cpu().numpy())\n",
    "            all_labels.extend(labels)\n",
    "\n",
    "    acc = accuracy_score(all_labels, all_preds)\n",
    "    macro_f1 = f1_score(all_labels, all_preds, average='macro')\n",
    "    print(f\"Validation Accuracy: {acc:.4f}  Validation Macro F1: {macro_f1:.4f}\")\n",
    "    print(classification_report(all_labels, all_preds, target_names=[\"Yes/To some extent\", \"No\"], zero_division=0))\n",
    "\n",
    "def train_model(loss_type, train_loader, val_loader, num_labels, epochs=10):\n",
    "    print(f\"\\n🔁 Training with: {loss_type.upper()} Loss\\n\")\n",
    "\n",
    "    model = SingleTaskBertClassifier(num_labels).to(device)\n",
    "    optimizer = torch.optim.AdamW(model.parameters(), lr=2e-5)\n",
    "\n",
    "    train_labels_list = [label.item() for batch in train_loader for label in batch['labels']]\n",
    "    class_weights = get_class_weights(train_labels_list, num_labels)\n",
    "\n",
    "    if loss_type == \"focal\":\n",
    "        criterion = FocalLossWithWeights(class_weights)\n",
    "    elif loss_type == \"smoothing\":\n",
    "        criterion = nn.CrossEntropyLoss(weight=class_weights, label_smoothing=0.1)\n",
    "    else:\n",
    "        criterion = nn.CrossEntropyLoss(weight=None)\n",
    "\n",
    "\n",
    "    for epoch in range(epochs):\n",
    "        model.train()\n",
    "        total_loss = 0\n",
    "        for batch in tqdm(train_loader, desc=f\"Epoch {epoch+1}/{epochs}\"):\n",
    "            optimizer.zero_grad()\n",
    "            input_ids = batch['input_ids'].to(device)\n",
    "            attention_mask = batch['attention_mask'].to(device)\n",
    "            labels = batch['labels'].to(device)\n",
    "\n",
    "            outputs = model(input_ids, attention_mask)\n",
    "            loss = criterion(outputs, labels)\n",
    "            loss.backward()\n",
    "            optimizer.step()\n",
    "\n",
    "            total_loss += loss.item()\n",
    "\n",
    "        avg_loss = total_loss / len(train_loader)\n",
    "        print(f\"Epoch {epoch+1} Loss: {avg_loss:.4f}\")\n",
    "        evaluate_model(model, val_loader)\n",
    "\n"
   ]
  },
  {
   "cell_type": "code",
   "execution_count": 12,
   "id": "dd3156af",
   "metadata": {
    "execution": {
     "iopub.execute_input": "2025-04-25T07:35:56.237155Z",
     "iopub.status.busy": "2025-04-25T07:35:56.236911Z",
     "iopub.status.idle": "2025-04-25T07:36:05.654118Z",
     "shell.execute_reply": "2025-04-25T07:36:05.653546Z"
    },
    "papermill": {
     "duration": 9.422036,
     "end_time": "2025-04-25T07:36:05.655531",
     "exception": false,
     "start_time": "2025-04-25T07:35:56.233495",
     "status": "completed"
    },
    "tags": []
   },
   "outputs": [
    {
     "data": {
      "application/vnd.jupyter.widget-view+json": {
       "model_id": "d2ddc11568e644679d39f9feb4d81800",
       "version_major": 2,
       "version_minor": 0
      },
      "text/plain": [
       "tokenizer_config.json:   0%|          | 0.00/48.0 [00:00<?, ?B/s]"
      ]
     },
     "metadata": {},
     "output_type": "display_data"
    },
    {
     "data": {
      "application/vnd.jupyter.widget-view+json": {
       "model_id": "27f7731bb504419ea572b8ebe2f18577",
       "version_major": 2,
       "version_minor": 0
      },
      "text/plain": [
       "vocab.txt:   0%|          | 0.00/232k [00:00<?, ?B/s]"
      ]
     },
     "metadata": {},
     "output_type": "display_data"
    },
    {
     "data": {
      "application/vnd.jupyter.widget-view+json": {
       "model_id": "f47b031baa9b49d5a13a953a56a8db28",
       "version_major": 2,
       "version_minor": 0
      },
      "text/plain": [
       "tokenizer.json:   0%|          | 0.00/466k [00:00<?, ?B/s]"
      ]
     },
     "metadata": {},
     "output_type": "display_data"
    },
    {
     "data": {
      "application/vnd.jupyter.widget-view+json": {
       "model_id": "58947ac30d6c425c915f68af224d9d3f",
       "version_major": 2,
       "version_minor": 0
      },
      "text/plain": [
       "config.json:   0%|          | 0.00/570 [00:00<?, ?B/s]"
      ]
     },
     "metadata": {},
     "output_type": "display_data"
    }
   ],
   "source": [
    "# ---------- Run ----------\n",
    "json_path = \"/kaggle/input/json-data/assignment_3_ai_tutors_dataset.json\"\n",
    "train_dataset, val_dataset, tokenizer, df = preprocess_dataset(json_path, \"Mistake_Identification_binary\")\n",
    "train_loader = DataLoader(train_dataset, batch_size=4, shuffle=True)\n",
    "val_loader = DataLoader(val_dataset, batch_size=4)\n"
   ]
  },
  {
   "cell_type": "code",
   "execution_count": 13,
   "id": "8c70389c",
   "metadata": {
    "execution": {
     "iopub.execute_input": "2025-04-25T07:36:05.663817Z",
     "iopub.status.busy": "2025-04-25T07:36:05.663087Z",
     "iopub.status.idle": "2025-04-25T07:57:27.110544Z",
     "shell.execute_reply": "2025-04-25T07:57:27.109605Z"
    },
    "papermill": {
     "duration": 1281.452886,
     "end_time": "2025-04-25T07:57:27.112176",
     "exception": false,
     "start_time": "2025-04-25T07:36:05.659290",
     "status": "completed"
    },
    "tags": []
   },
   "outputs": [
    {
     "name": "stdout",
     "output_type": "stream",
     "text": [
      "\n",
      "🔁 Training with: CE Loss\n",
      "\n"
     ]
    },
    {
     "name": "stderr",
     "output_type": "stream",
     "text": [
      "Xet Storage is enabled for this repo, but the 'hf_xet' package is not installed. Falling back to regular HTTP download. For better performance, install the package with: `pip install huggingface_hub[hf_xet]` or `pip install hf_xet`\n"
     ]
    },
    {
     "data": {
      "application/vnd.jupyter.widget-view+json": {
       "model_id": "469df74f3acc498ea1341562f3ce027f",
       "version_major": 2,
       "version_minor": 0
      },
      "text/plain": [
       "model.safetensors:   0%|          | 0.00/440M [00:00<?, ?B/s]"
      ]
     },
     "metadata": {},
     "output_type": "display_data"
    },
    {
     "name": "stderr",
     "output_type": "stream",
     "text": [
      "Some weights of BertForSequenceClassification were not initialized from the model checkpoint at bert-base-uncased and are newly initialized: ['classifier.bias', 'classifier.weight']\n",
      "You should probably TRAIN this model on a down-stream task to be able to use it for predictions and inference.\n",
      "Epoch 1/10: 100%|██████████| 557/557 [01:51<00:00,  4.99it/s]\n"
     ]
    },
    {
     "name": "stdout",
     "output_type": "stream",
     "text": [
      "Epoch 1 Loss: 0.4271\n",
      "Validation Accuracy: 0.8508  Validation Macro F1: 0.4597\n",
      "                    precision    recall  f1-score   support\n",
      "\n",
      "Yes/To some extent       0.00      0.00      0.00        37\n",
      "                No       0.85      1.00      0.92       211\n",
      "\n",
      "          accuracy                           0.85       248\n",
      "         macro avg       0.43      0.50      0.46       248\n",
      "      weighted avg       0.72      0.85      0.78       248\n",
      "\n"
     ]
    },
    {
     "name": "stderr",
     "output_type": "stream",
     "text": [
      "Epoch 2/10: 100%|██████████| 557/557 [02:00<00:00,  4.64it/s]\n"
     ]
    },
    {
     "name": "stdout",
     "output_type": "stream",
     "text": [
      "Epoch 2 Loss: 0.4169\n",
      "Validation Accuracy: 0.8508  Validation Macro F1: 0.4597\n",
      "                    precision    recall  f1-score   support\n",
      "\n",
      "Yes/To some extent       0.00      0.00      0.00        37\n",
      "                No       0.85      1.00      0.92       211\n",
      "\n",
      "          accuracy                           0.85       248\n",
      "         macro avg       0.43      0.50      0.46       248\n",
      "      weighted avg       0.72      0.85      0.78       248\n",
      "\n"
     ]
    },
    {
     "name": "stderr",
     "output_type": "stream",
     "text": [
      "Epoch 3/10: 100%|██████████| 557/557 [02:03<00:00,  4.50it/s]\n"
     ]
    },
    {
     "name": "stdout",
     "output_type": "stream",
     "text": [
      "Epoch 3 Loss: 0.4156\n",
      "Validation Accuracy: 0.8508  Validation Macro F1: 0.4597\n",
      "                    precision    recall  f1-score   support\n",
      "\n",
      "Yes/To some extent       0.00      0.00      0.00        37\n",
      "                No       0.85      1.00      0.92       211\n",
      "\n",
      "          accuracy                           0.85       248\n",
      "         macro avg       0.43      0.50      0.46       248\n",
      "      weighted avg       0.72      0.85      0.78       248\n",
      "\n"
     ]
    },
    {
     "name": "stderr",
     "output_type": "stream",
     "text": [
      "Epoch 4/10: 100%|██████████| 557/557 [02:04<00:00,  4.46it/s]\n"
     ]
    },
    {
     "name": "stdout",
     "output_type": "stream",
     "text": [
      "Epoch 4 Loss: 0.3977\n",
      "Validation Accuracy: 0.8548  Validation Macro F1: 0.5318\n",
      "                    precision    recall  f1-score   support\n",
      "\n",
      "Yes/To some extent       0.60      0.08      0.14        37\n",
      "                No       0.86      0.99      0.92       211\n",
      "\n",
      "          accuracy                           0.85       248\n",
      "         macro avg       0.73      0.54      0.53       248\n",
      "      weighted avg       0.82      0.85      0.80       248\n",
      "\n"
     ]
    },
    {
     "name": "stderr",
     "output_type": "stream",
     "text": [
      "Epoch 5/10: 100%|██████████| 557/557 [02:05<00:00,  4.43it/s]\n"
     ]
    },
    {
     "name": "stdout",
     "output_type": "stream",
     "text": [
      "Epoch 5 Loss: 0.3705\n",
      "Validation Accuracy: 0.8548  Validation Macro F1: 0.5687\n",
      "                    precision    recall  f1-score   support\n",
      "\n",
      "Yes/To some extent       0.56      0.14      0.22        37\n",
      "                No       0.87      0.98      0.92       211\n",
      "\n",
      "          accuracy                           0.85       248\n",
      "         macro avg       0.71      0.56      0.57       248\n",
      "      weighted avg       0.82      0.85      0.82       248\n",
      "\n"
     ]
    },
    {
     "name": "stderr",
     "output_type": "stream",
     "text": [
      "Epoch 6/10: 100%|██████████| 557/557 [02:06<00:00,  4.41it/s]\n"
     ]
    },
    {
     "name": "stdout",
     "output_type": "stream",
     "text": [
      "Epoch 6 Loss: 0.3471\n",
      "Validation Accuracy: 0.8548  Validation Macro F1: 0.5511\n",
      "                    precision    recall  f1-score   support\n",
      "\n",
      "Yes/To some extent       0.57      0.11      0.18        37\n",
      "                No       0.86      0.99      0.92       211\n",
      "\n",
      "          accuracy                           0.85       248\n",
      "         macro avg       0.72      0.55      0.55       248\n",
      "      weighted avg       0.82      0.85      0.81       248\n",
      "\n"
     ]
    },
    {
     "name": "stderr",
     "output_type": "stream",
     "text": [
      "Epoch 7/10: 100%|██████████| 557/557 [02:06<00:00,  4.42it/s]\n"
     ]
    },
    {
     "name": "stdout",
     "output_type": "stream",
     "text": [
      "Epoch 7 Loss: 0.3270\n",
      "Validation Accuracy: 0.8589  Validation Macro F1: 0.5544\n",
      "                    precision    recall  f1-score   support\n",
      "\n",
      "Yes/To some extent       0.67      0.11      0.19        37\n",
      "                No       0.86      0.99      0.92       211\n",
      "\n",
      "          accuracy                           0.86       248\n",
      "         macro avg       0.77      0.55      0.55       248\n",
      "      weighted avg       0.83      0.86      0.81       248\n",
      "\n"
     ]
    },
    {
     "name": "stderr",
     "output_type": "stream",
     "text": [
      "Epoch 8/10: 100%|██████████| 557/557 [02:06<00:00,  4.40it/s]\n"
     ]
    },
    {
     "name": "stdout",
     "output_type": "stream",
     "text": [
      "Epoch 8 Loss: 0.3035\n",
      "Validation Accuracy: 0.8669  Validation Macro F1: 0.5967\n",
      "                    precision    recall  f1-score   support\n",
      "\n",
      "Yes/To some extent       0.75      0.16      0.27        37\n",
      "                No       0.87      0.99      0.93       211\n",
      "\n",
      "          accuracy                           0.87       248\n",
      "         macro avg       0.81      0.58      0.60       248\n",
      "      weighted avg       0.85      0.87      0.83       248\n",
      "\n"
     ]
    },
    {
     "name": "stderr",
     "output_type": "stream",
     "text": [
      "Epoch 9/10: 100%|██████████| 557/557 [02:06<00:00,  4.41it/s]\n"
     ]
    },
    {
     "name": "stdout",
     "output_type": "stream",
     "text": [
      "Epoch 9 Loss: 0.3085\n",
      "Validation Accuracy: 0.8629  Validation Macro F1: 0.5760\n",
      "                    precision    recall  f1-score   support\n",
      "\n",
      "Yes/To some extent       0.71      0.14      0.23        37\n",
      "                No       0.87      0.99      0.92       211\n",
      "\n",
      "          accuracy                           0.86       248\n",
      "         macro avg       0.79      0.56      0.58       248\n",
      "      weighted avg       0.84      0.86      0.82       248\n",
      "\n"
     ]
    },
    {
     "name": "stderr",
     "output_type": "stream",
     "text": [
      "Epoch 10/10: 100%|██████████| 557/557 [02:06<00:00,  4.41it/s]\n"
     ]
    },
    {
     "name": "stdout",
     "output_type": "stream",
     "text": [
      "Epoch 10 Loss: 0.2968\n",
      "Validation Accuracy: 0.8669  Validation Macro F1: 0.6122\n",
      "                    precision    recall  f1-score   support\n",
      "\n",
      "Yes/To some extent       0.70      0.19      0.30        37\n",
      "                No       0.87      0.99      0.93       211\n",
      "\n",
      "          accuracy                           0.87       248\n",
      "         macro avg       0.79      0.59      0.61       248\n",
      "      weighted avg       0.85      0.87      0.83       248\n",
      "\n"
     ]
    }
   ],
   "source": [
    "train_model(\"ce\", train_loader, val_loader, num_labels=2)"
   ]
  },
  {
   "cell_type": "code",
   "execution_count": 14,
   "id": "f0f717bd",
   "metadata": {
    "execution": {
     "iopub.execute_input": "2025-04-25T07:57:27.640734Z",
     "iopub.status.busy": "2025-04-25T07:57:27.640004Z",
     "iopub.status.idle": "2025-04-25T07:57:35.995269Z",
     "shell.execute_reply": "2025-04-25T07:57:35.994673Z"
    },
    "papermill": {
     "duration": 8.590214,
     "end_time": "2025-04-25T07:57:35.996585",
     "exception": false,
     "start_time": "2025-04-25T07:57:27.406371",
     "status": "completed"
    },
    "tags": []
   },
   "outputs": [],
   "source": [
    "# ---------- Run ----------\n",
    "json_path = \"/kaggle/input/json-data/assignment_3_ai_tutors_dataset.json\"\n",
    "train_dataset, val_dataset, tokenizer, df = preprocess_dataset(json_path, \"Mistake_Location_binary\")\n",
    "train_loader = DataLoader(train_dataset, batch_size=4, shuffle=True)\n",
    "val_loader = DataLoader(val_dataset, batch_size=4)\n",
    "\n"
   ]
  },
  {
   "cell_type": "code",
   "execution_count": 15,
   "id": "bb19acb2",
   "metadata": {
    "execution": {
     "iopub.execute_input": "2025-04-25T07:57:36.441167Z",
     "iopub.status.busy": "2025-04-25T07:57:36.440892Z",
     "iopub.status.idle": "2025-04-25T08:19:22.964622Z",
     "shell.execute_reply": "2025-04-25T08:19:22.963683Z"
    },
    "papermill": {
     "duration": 1306.748185,
     "end_time": "2025-04-25T08:19:22.965987",
     "exception": false,
     "start_time": "2025-04-25T07:57:36.217802",
     "status": "completed"
    },
    "tags": []
   },
   "outputs": [
    {
     "name": "stderr",
     "output_type": "stream",
     "text": [
      "Some weights of BertForSequenceClassification were not initialized from the model checkpoint at bert-base-uncased and are newly initialized: ['classifier.bias', 'classifier.weight']\n",
      "You should probably TRAIN this model on a down-stream task to be able to use it for predictions and inference.\n"
     ]
    },
    {
     "name": "stdout",
     "output_type": "stream",
     "text": [
      "\n",
      "🔁 Training with: CE Loss\n",
      "\n"
     ]
    },
    {
     "name": "stderr",
     "output_type": "stream",
     "text": [
      "Epoch 1/10: 100%|██████████| 557/557 [02:04<00:00,  4.47it/s]\n"
     ]
    },
    {
     "name": "stdout",
     "output_type": "stream",
     "text": [
      "Epoch 1 Loss: 0.5871\n",
      "Validation Accuracy: 0.7177  Validation Macro F1: 0.4313\n",
      "                    precision    recall  f1-score   support\n",
      "\n",
      "Yes/To some extent       1.00      0.01      0.03        71\n",
      "                No       0.72      1.00      0.83       177\n",
      "\n",
      "          accuracy                           0.72       248\n",
      "         macro avg       0.86      0.51      0.43       248\n",
      "      weighted avg       0.80      0.72      0.60       248\n",
      "\n"
     ]
    },
    {
     "name": "stderr",
     "output_type": "stream",
     "text": [
      "Epoch 2/10: 100%|██████████| 557/557 [02:06<00:00,  4.41it/s]\n"
     ]
    },
    {
     "name": "stdout",
     "output_type": "stream",
     "text": [
      "Epoch 2 Loss: 0.5408\n",
      "Validation Accuracy: 0.7339  Validation Macro F1: 0.4980\n",
      "                    precision    recall  f1-score   support\n",
      "\n",
      "Yes/To some extent       0.86      0.08      0.15        71\n",
      "                No       0.73      0.99      0.84       177\n",
      "\n",
      "          accuracy                           0.73       248\n",
      "         macro avg       0.79      0.54      0.50       248\n",
      "      weighted avg       0.77      0.73      0.65       248\n",
      "\n"
     ]
    },
    {
     "name": "stderr",
     "output_type": "stream",
     "text": [
      "Epoch 3/10: 100%|██████████| 557/557 [02:06<00:00,  4.40it/s]\n"
     ]
    },
    {
     "name": "stdout",
     "output_type": "stream",
     "text": [
      "Epoch 3 Loss: 0.5033\n",
      "Validation Accuracy: 0.7419  Validation Macro F1: 0.5325\n",
      "                    precision    recall  f1-score   support\n",
      "\n",
      "Yes/To some extent       0.82      0.13      0.22        71\n",
      "                No       0.74      0.99      0.85       177\n",
      "\n",
      "          accuracy                           0.74       248\n",
      "         macro avg       0.78      0.56      0.53       248\n",
      "      weighted avg       0.76      0.74      0.67       248\n",
      "\n"
     ]
    },
    {
     "name": "stderr",
     "output_type": "stream",
     "text": [
      "Epoch 4/10: 100%|██████████| 557/557 [02:06<00:00,  4.39it/s]\n"
     ]
    },
    {
     "name": "stdout",
     "output_type": "stream",
     "text": [
      "Epoch 4 Loss: 0.4672\n",
      "Validation Accuracy: 0.7258  Validation Macro F1: 0.5537\n",
      "                    precision    recall  f1-score   support\n",
      "\n",
      "Yes/To some extent       0.57      0.18      0.28        71\n",
      "                No       0.74      0.94      0.83       177\n",
      "\n",
      "          accuracy                           0.73       248\n",
      "         macro avg       0.65      0.56      0.55       248\n",
      "      weighted avg       0.69      0.73      0.67       248\n",
      "\n"
     ]
    },
    {
     "name": "stderr",
     "output_type": "stream",
     "text": [
      "Epoch 5/10: 100%|██████████| 557/557 [02:06<00:00,  4.39it/s]\n"
     ]
    },
    {
     "name": "stdout",
     "output_type": "stream",
     "text": [
      "Epoch 5 Loss: 0.4459\n",
      "Validation Accuracy: 0.7460  Validation Macro F1: 0.6246\n",
      "                    precision    recall  f1-score   support\n",
      "\n",
      "Yes/To some extent       0.61      0.31      0.41        71\n",
      "                No       0.77      0.92      0.84       177\n",
      "\n",
      "          accuracy                           0.75       248\n",
      "         macro avg       0.69      0.62      0.62       248\n",
      "      weighted avg       0.72      0.75      0.72       248\n",
      "\n"
     ]
    },
    {
     "name": "stderr",
     "output_type": "stream",
     "text": [
      "Epoch 6/10: 100%|██████████| 557/557 [02:06<00:00,  4.40it/s]\n"
     ]
    },
    {
     "name": "stdout",
     "output_type": "stream",
     "text": [
      "Epoch 6 Loss: 0.4353\n",
      "Validation Accuracy: 0.7258  Validation Macro F1: 0.5385\n",
      "                    precision    recall  f1-score   support\n",
      "\n",
      "Yes/To some extent       0.58      0.15      0.24        71\n",
      "                No       0.74      0.95      0.83       177\n",
      "\n",
      "          accuracy                           0.73       248\n",
      "         macro avg       0.66      0.55      0.54       248\n",
      "      weighted avg       0.69      0.73      0.66       248\n",
      "\n"
     ]
    },
    {
     "name": "stderr",
     "output_type": "stream",
     "text": [
      "Epoch 7/10: 100%|██████████| 557/557 [02:06<00:00,  4.39it/s]\n"
     ]
    },
    {
     "name": "stdout",
     "output_type": "stream",
     "text": [
      "Epoch 7 Loss: 0.4255\n",
      "Validation Accuracy: 0.7218  Validation Macro F1: 0.5434\n",
      "                    precision    recall  f1-score   support\n",
      "\n",
      "Yes/To some extent       0.55      0.17      0.26        71\n",
      "                No       0.74      0.94      0.83       177\n",
      "\n",
      "          accuracy                           0.72       248\n",
      "         macro avg       0.64      0.56      0.54       248\n",
      "      weighted avg       0.68      0.72      0.67       248\n",
      "\n"
     ]
    },
    {
     "name": "stderr",
     "output_type": "stream",
     "text": [
      "Epoch 8/10: 100%|██████████| 557/557 [02:06<00:00,  4.40it/s]\n"
     ]
    },
    {
     "name": "stdout",
     "output_type": "stream",
     "text": [
      "Epoch 8 Loss: 0.4049\n",
      "Validation Accuracy: 0.7339  Validation Macro F1: 0.5737\n",
      "                    precision    recall  f1-score   support\n",
      "\n",
      "Yes/To some extent       0.60      0.21      0.31        71\n",
      "                No       0.75      0.94      0.84       177\n",
      "\n",
      "          accuracy                           0.73       248\n",
      "         macro avg       0.67      0.58      0.57       248\n",
      "      weighted avg       0.71      0.73      0.69       248\n",
      "\n"
     ]
    },
    {
     "name": "stderr",
     "output_type": "stream",
     "text": [
      "Epoch 9/10: 100%|██████████| 557/557 [02:06<00:00,  4.40it/s]\n"
     ]
    },
    {
     "name": "stdout",
     "output_type": "stream",
     "text": [
      "Epoch 9 Loss: 0.4006\n",
      "Validation Accuracy: 0.7379  Validation Macro F1: 0.5835\n",
      "                    precision    recall  f1-score   support\n",
      "\n",
      "Yes/To some extent       0.62      0.23      0.33        71\n",
      "                No       0.75      0.94      0.84       177\n",
      "\n",
      "          accuracy                           0.74       248\n",
      "         macro avg       0.68      0.58      0.58       248\n",
      "      weighted avg       0.71      0.74      0.69       248\n",
      "\n"
     ]
    },
    {
     "name": "stderr",
     "output_type": "stream",
     "text": [
      "Epoch 10/10: 100%|██████████| 557/557 [02:06<00:00,  4.41it/s]\n"
     ]
    },
    {
     "name": "stdout",
     "output_type": "stream",
     "text": [
      "Epoch 10 Loss: 0.3880\n",
      "Validation Accuracy: 0.7379  Validation Macro F1: 0.5899\n",
      "                    precision    recall  f1-score   support\n",
      "\n",
      "Yes/To some extent       0.61      0.24      0.34        71\n",
      "                No       0.75      0.94      0.84       177\n",
      "\n",
      "          accuracy                           0.74       248\n",
      "         macro avg       0.68      0.59      0.59       248\n",
      "      weighted avg       0.71      0.74      0.70       248\n",
      "\n"
     ]
    }
   ],
   "source": [
    "train_model(\"ce\", train_loader, val_loader, num_labels=2)"
   ]
  },
  {
   "cell_type": "code",
   "execution_count": 16,
   "id": "ee4a5aff",
   "metadata": {
    "execution": {
     "iopub.execute_input": "2025-04-25T08:19:23.839258Z",
     "iopub.status.busy": "2025-04-25T08:19:23.838965Z",
     "iopub.status.idle": "2025-04-25T08:19:32.091058Z",
     "shell.execute_reply": "2025-04-25T08:19:32.090262Z"
    },
    "papermill": {
     "duration": 8.689189,
     "end_time": "2025-04-25T08:19:32.092734",
     "exception": false,
     "start_time": "2025-04-25T08:19:23.403545",
     "status": "completed"
    },
    "tags": []
   },
   "outputs": [],
   "source": [
    "# ---------- Run ----------\n",
    "json_path = \"/kaggle/input/json-data/assignment_3_ai_tutors_dataset.json\"\n",
    "train_dataset, val_dataset, tokenizer, df = preprocess_dataset(json_path, \"Pedagogical_Guidance_binary\")\n",
    "train_loader = DataLoader(train_dataset, batch_size=4, shuffle=True)\n",
    "val_loader = DataLoader(val_dataset, batch_size=4)"
   ]
  },
  {
   "cell_type": "code",
   "execution_count": 17,
   "id": "13d8b988",
   "metadata": {
    "execution": {
     "iopub.execute_input": "2025-04-25T08:19:33.038814Z",
     "iopub.status.busy": "2025-04-25T08:19:33.038533Z",
     "iopub.status.idle": "2025-04-25T08:41:18.208097Z",
     "shell.execute_reply": "2025-04-25T08:41:18.207150Z"
    },
    "papermill": {
     "duration": 1305.624424,
     "end_time": "2025-04-25T08:41:18.209562",
     "exception": false,
     "start_time": "2025-04-25T08:19:32.585138",
     "status": "completed"
    },
    "tags": []
   },
   "outputs": [
    {
     "name": "stdout",
     "output_type": "stream",
     "text": [
      "\n",
      "🔁 Training with: CE Loss\n",
      "\n"
     ]
    },
    {
     "name": "stderr",
     "output_type": "stream",
     "text": [
      "Some weights of BertForSequenceClassification were not initialized from the model checkpoint at bert-base-uncased and are newly initialized: ['classifier.bias', 'classifier.weight']\n",
      "You should probably TRAIN this model on a down-stream task to be able to use it for predictions and inference.\n",
      "Epoch 1/10: 100%|██████████| 557/557 [02:04<00:00,  4.47it/s]\n"
     ]
    },
    {
     "name": "stdout",
     "output_type": "stream",
     "text": [
      "Epoch 1 Loss: 0.5455\n",
      "Validation Accuracy: 0.7823  Validation Macro F1: 0.5023\n",
      "                    precision    recall  f1-score   support\n",
      "\n",
      "Yes/To some extent       0.80      0.07      0.13        57\n",
      "                No       0.78      0.99      0.88       191\n",
      "\n",
      "          accuracy                           0.78       248\n",
      "         macro avg       0.79      0.53      0.50       248\n",
      "      weighted avg       0.79      0.78      0.70       248\n",
      "\n"
     ]
    },
    {
     "name": "stderr",
     "output_type": "stream",
     "text": [
      "Epoch 2/10: 100%|██████████| 557/557 [02:05<00:00,  4.43it/s]\n"
     ]
    },
    {
     "name": "stdout",
     "output_type": "stream",
     "text": [
      "Epoch 2 Loss: 0.5235\n",
      "Validation Accuracy: 0.7702  Validation Macro F1: 0.4351\n",
      "                    precision    recall  f1-score   support\n",
      "\n",
      "Yes/To some extent       0.00      0.00      0.00        57\n",
      "                No       0.77      1.00      0.87       191\n",
      "\n",
      "          accuracy                           0.77       248\n",
      "         macro avg       0.39      0.50      0.44       248\n",
      "      weighted avg       0.59      0.77      0.67       248\n",
      "\n"
     ]
    },
    {
     "name": "stderr",
     "output_type": "stream",
     "text": [
      "Epoch 3/10: 100%|██████████| 557/557 [02:06<00:00,  4.42it/s]\n"
     ]
    },
    {
     "name": "stdout",
     "output_type": "stream",
     "text": [
      "Epoch 3 Loss: 0.5040\n",
      "Validation Accuracy: 0.7984  Validation Macro F1: 0.5739\n",
      "                    precision    recall  f1-score   support\n",
      "\n",
      "Yes/To some extent       0.82      0.16      0.26        57\n",
      "                No       0.80      0.99      0.88       191\n",
      "\n",
      "          accuracy                           0.80       248\n",
      "         macro avg       0.81      0.57      0.57       248\n",
      "      weighted avg       0.80      0.80      0.74       248\n",
      "\n"
     ]
    },
    {
     "name": "stderr",
     "output_type": "stream",
     "text": [
      "Epoch 4/10: 100%|██████████| 557/557 [02:06<00:00,  4.40it/s]\n"
     ]
    },
    {
     "name": "stdout",
     "output_type": "stream",
     "text": [
      "Epoch 4 Loss: 0.4665\n",
      "Validation Accuracy: 0.7944  Validation Macro F1: 0.5904\n",
      "                    precision    recall  f1-score   support\n",
      "\n",
      "Yes/To some extent       0.69      0.19      0.30        57\n",
      "                No       0.80      0.97      0.88       191\n",
      "\n",
      "          accuracy                           0.79       248\n",
      "         macro avg       0.74      0.58      0.59       248\n",
      "      weighted avg       0.78      0.79      0.75       248\n",
      "\n"
     ]
    },
    {
     "name": "stderr",
     "output_type": "stream",
     "text": [
      "Epoch 5/10: 100%|██████████| 557/557 [02:06<00:00,  4.41it/s]\n"
     ]
    },
    {
     "name": "stdout",
     "output_type": "stream",
     "text": [
      "Epoch 5 Loss: 0.4452\n",
      "Validation Accuracy: 0.7863  Validation Macro F1: 0.6166\n",
      "                    precision    recall  f1-score   support\n",
      "\n",
      "Yes/To some extent       0.58      0.26      0.36        57\n",
      "                No       0.81      0.94      0.87       191\n",
      "\n",
      "          accuracy                           0.79       248\n",
      "         macro avg       0.69      0.60      0.62       248\n",
      "      weighted avg       0.76      0.79      0.75       248\n",
      "\n"
     ]
    },
    {
     "name": "stderr",
     "output_type": "stream",
     "text": [
      "Epoch 6/10: 100%|██████████| 557/557 [02:06<00:00,  4.41it/s]\n"
     ]
    },
    {
     "name": "stdout",
     "output_type": "stream",
     "text": [
      "Epoch 6 Loss: 0.4137\n",
      "Validation Accuracy: 0.8105  Validation Macro F1: 0.6225\n",
      "                    precision    recall  f1-score   support\n",
      "\n",
      "Yes/To some extent       0.81      0.23      0.36        57\n",
      "                No       0.81      0.98      0.89       191\n",
      "\n",
      "          accuracy                           0.81       248\n",
      "         macro avg       0.81      0.61      0.62       248\n",
      "      weighted avg       0.81      0.81      0.77       248\n",
      "\n"
     ]
    },
    {
     "name": "stderr",
     "output_type": "stream",
     "text": [
      "Epoch 7/10: 100%|██████████| 557/557 [02:06<00:00,  4.41it/s]\n"
     ]
    },
    {
     "name": "stdout",
     "output_type": "stream",
     "text": [
      "Epoch 7 Loss: 0.3984\n",
      "Validation Accuracy: 0.8065  Validation Macro F1: 0.6271\n",
      "                    precision    recall  f1-score   support\n",
      "\n",
      "Yes/To some extent       0.74      0.25      0.37        57\n",
      "                No       0.81      0.97      0.89       191\n",
      "\n",
      "          accuracy                           0.81       248\n",
      "         macro avg       0.77      0.61      0.63       248\n",
      "      weighted avg       0.79      0.81      0.77       248\n",
      "\n"
     ]
    },
    {
     "name": "stderr",
     "output_type": "stream",
     "text": [
      "Epoch 8/10: 100%|██████████| 557/557 [02:06<00:00,  4.40it/s]\n"
     ]
    },
    {
     "name": "stdout",
     "output_type": "stream",
     "text": [
      "Epoch 8 Loss: 0.3741\n",
      "Validation Accuracy: 0.7944  Validation Macro F1: 0.6445\n",
      "                    precision    recall  f1-score   support\n",
      "\n",
      "Yes/To some extent       0.60      0.32      0.41        57\n",
      "                No       0.82      0.94      0.88       191\n",
      "\n",
      "          accuracy                           0.79       248\n",
      "         macro avg       0.71      0.63      0.64       248\n",
      "      weighted avg       0.77      0.79      0.77       248\n",
      "\n"
     ]
    },
    {
     "name": "stderr",
     "output_type": "stream",
     "text": [
      "Epoch 9/10: 100%|██████████| 557/557 [02:06<00:00,  4.39it/s]\n"
     ]
    },
    {
     "name": "stdout",
     "output_type": "stream",
     "text": [
      "Epoch 9 Loss: 0.3855\n",
      "Validation Accuracy: 0.8024  Validation Macro F1: 0.6065\n",
      "                    precision    recall  f1-score   support\n",
      "\n",
      "Yes/To some extent       0.75      0.21      0.33        57\n",
      "                No       0.81      0.98      0.88       191\n",
      "\n",
      "          accuracy                           0.80       248\n",
      "         macro avg       0.78      0.59      0.61       248\n",
      "      weighted avg       0.79      0.80      0.76       248\n",
      "\n"
     ]
    },
    {
     "name": "stderr",
     "output_type": "stream",
     "text": [
      "Epoch 10/10: 100%|██████████| 557/557 [02:06<00:00,  4.39it/s]\n"
     ]
    },
    {
     "name": "stdout",
     "output_type": "stream",
     "text": [
      "Epoch 10 Loss: 0.3625\n",
      "Validation Accuracy: 0.7903  Validation Macro F1: 0.6045\n",
      "                    precision    recall  f1-score   support\n",
      "\n",
      "Yes/To some extent       0.62      0.23      0.33        57\n",
      "                No       0.81      0.96      0.88       191\n",
      "\n",
      "          accuracy                           0.79       248\n",
      "         macro avg       0.71      0.59      0.60       248\n",
      "      weighted avg       0.76      0.79      0.75       248\n",
      "\n"
     ]
    }
   ],
   "source": [
    "train_model(\"ce\", train_loader, val_loader, num_labels=2)"
   ]
  },
  {
   "cell_type": "code",
   "execution_count": 18,
   "id": "f0dfbe73",
   "metadata": {
    "execution": {
     "iopub.execute_input": "2025-04-25T08:41:19.609847Z",
     "iopub.status.busy": "2025-04-25T08:41:19.609292Z",
     "iopub.status.idle": "2025-04-25T08:41:27.902817Z",
     "shell.execute_reply": "2025-04-25T08:41:27.902208Z"
    },
    "papermill": {
     "duration": 8.946285,
     "end_time": "2025-04-25T08:41:27.904068",
     "exception": false,
     "start_time": "2025-04-25T08:41:18.957783",
     "status": "completed"
    },
    "tags": []
   },
   "outputs": [],
   "source": [
    "# ---------- Run ----------\n",
    "json_path = \"/kaggle/input/json-data/assignment_3_ai_tutors_dataset.json\"\n",
    "train_dataset, val_dataset, tokenizer, df = preprocess_dataset(json_path, \"Actionability_binary\")\n",
    "train_loader = DataLoader(train_dataset, batch_size=4, shuffle=True)\n",
    "val_loader = DataLoader(val_dataset, batch_size=4)"
   ]
  },
  {
   "cell_type": "code",
   "execution_count": 19,
   "id": "13d65f47",
   "metadata": {
    "execution": {
     "iopub.execute_input": "2025-04-25T08:41:29.265727Z",
     "iopub.status.busy": "2025-04-25T08:41:29.265039Z",
     "iopub.status.idle": "2025-04-25T09:03:12.786339Z",
     "shell.execute_reply": "2025-04-25T09:03:12.785627Z"
    },
    "papermill": {
     "duration": 1305.071143,
     "end_time": "2025-04-25T09:03:13.692611",
     "exception": false,
     "start_time": "2025-04-25T08:41:28.621468",
     "status": "completed"
    },
    "tags": []
   },
   "outputs": [
    {
     "name": "stdout",
     "output_type": "stream",
     "text": [
      "\n",
      "🔁 Training with: CE Loss\n",
      "\n"
     ]
    },
    {
     "name": "stderr",
     "output_type": "stream",
     "text": [
      "Some weights of BertForSequenceClassification were not initialized from the model checkpoint at bert-base-uncased and are newly initialized: ['classifier.bias', 'classifier.weight']\n",
      "You should probably TRAIN this model on a down-stream task to be able to use it for predictions and inference.\n",
      "Epoch 1/10: 100%|██████████| 557/557 [02:04<00:00,  4.47it/s]\n"
     ]
    },
    {
     "name": "stdout",
     "output_type": "stream",
     "text": [
      "Epoch 1 Loss: 0.5778\n",
      "Validation Accuracy: 0.7581  Validation Macro F1: 0.6496\n",
      "                    precision    recall  f1-score   support\n",
      "\n",
      "Yes/To some extent       0.83      0.31      0.45        80\n",
      "                No       0.75      0.97      0.84       168\n",
      "\n",
      "          accuracy                           0.76       248\n",
      "         macro avg       0.79      0.64      0.65       248\n",
      "      weighted avg       0.78      0.76      0.72       248\n",
      "\n"
     ]
    },
    {
     "name": "stderr",
     "output_type": "stream",
     "text": [
      "Epoch 2/10: 100%|██████████| 557/557 [02:05<00:00,  4.42it/s]\n"
     ]
    },
    {
     "name": "stdout",
     "output_type": "stream",
     "text": [
      "Epoch 2 Loss: 0.5435\n",
      "Validation Accuracy: 0.7621  Validation Macro F1: 0.6531\n",
      "                    precision    recall  f1-score   support\n",
      "\n",
      "Yes/To some extent       0.86      0.31      0.46        80\n",
      "                No       0.75      0.98      0.85       168\n",
      "\n",
      "          accuracy                           0.76       248\n",
      "         macro avg       0.81      0.64      0.65       248\n",
      "      weighted avg       0.79      0.76      0.72       248\n",
      "\n"
     ]
    },
    {
     "name": "stderr",
     "output_type": "stream",
     "text": [
      "Epoch 3/10: 100%|██████████| 557/557 [02:06<00:00,  4.41it/s]\n"
     ]
    },
    {
     "name": "stdout",
     "output_type": "stream",
     "text": [
      "Epoch 3 Loss: 0.5160\n",
      "Validation Accuracy: 0.7581  Validation Macro F1: 0.6583\n",
      "                    precision    recall  f1-score   support\n",
      "\n",
      "Yes/To some extent       0.79      0.34      0.47        80\n",
      "                No       0.75      0.96      0.84       168\n",
      "\n",
      "          accuracy                           0.76       248\n",
      "         macro avg       0.77      0.65      0.66       248\n",
      "      weighted avg       0.77      0.76      0.72       248\n",
      "\n"
     ]
    },
    {
     "name": "stderr",
     "output_type": "stream",
     "text": [
      "Epoch 4/10: 100%|██████████| 557/557 [02:06<00:00,  4.41it/s]\n"
     ]
    },
    {
     "name": "stdout",
     "output_type": "stream",
     "text": [
      "Epoch 4 Loss: 0.4950\n",
      "Validation Accuracy: 0.7460  Validation Macro F1: 0.6666\n",
      "                    precision    recall  f1-score   support\n",
      "\n",
      "Yes/To some extent       0.68      0.40      0.50        80\n",
      "                No       0.76      0.91      0.83       168\n",
      "\n",
      "          accuracy                           0.75       248\n",
      "         macro avg       0.72      0.66      0.67       248\n",
      "      weighted avg       0.74      0.75      0.72       248\n",
      "\n"
     ]
    },
    {
     "name": "stderr",
     "output_type": "stream",
     "text": [
      "Epoch 5/10: 100%|██████████| 557/557 [02:06<00:00,  4.42it/s]\n"
     ]
    },
    {
     "name": "stdout",
     "output_type": "stream",
     "text": [
      "Epoch 5 Loss: 0.4569\n",
      "Validation Accuracy: 0.6935  Validation Macro F1: 0.6446\n",
      "                    precision    recall  f1-score   support\n",
      "\n",
      "Yes/To some extent       0.53      0.50      0.51        80\n",
      "                No       0.77      0.79      0.78       168\n",
      "\n",
      "          accuracy                           0.69       248\n",
      "         macro avg       0.65      0.64      0.64       248\n",
      "      weighted avg       0.69      0.69      0.69       248\n",
      "\n"
     ]
    },
    {
     "name": "stderr",
     "output_type": "stream",
     "text": [
      "Epoch 6/10: 100%|██████████| 557/557 [02:06<00:00,  4.41it/s]\n"
     ]
    },
    {
     "name": "stdout",
     "output_type": "stream",
     "text": [
      "Epoch 6 Loss: 0.4361\n",
      "Validation Accuracy: 0.7702  Validation Macro F1: 0.6919\n",
      "                    precision    recall  f1-score   support\n",
      "\n",
      "Yes/To some extent       0.77      0.41      0.54        80\n",
      "                No       0.77      0.94      0.85       168\n",
      "\n",
      "          accuracy                           0.77       248\n",
      "         macro avg       0.77      0.68      0.69       248\n",
      "      weighted avg       0.77      0.77      0.75       248\n",
      "\n"
     ]
    },
    {
     "name": "stderr",
     "output_type": "stream",
     "text": [
      "Epoch 7/10: 100%|██████████| 557/557 [02:06<00:00,  4.40it/s]\n"
     ]
    },
    {
     "name": "stdout",
     "output_type": "stream",
     "text": [
      "Epoch 7 Loss: 0.4214\n",
      "Validation Accuracy: 0.7742  Validation Macro F1: 0.6956\n",
      "                    precision    recall  f1-score   support\n",
      "\n",
      "Yes/To some extent       0.79      0.41      0.54        80\n",
      "                No       0.77      0.95      0.85       168\n",
      "\n",
      "          accuracy                           0.77       248\n",
      "         macro avg       0.78      0.68      0.70       248\n",
      "      weighted avg       0.78      0.77      0.75       248\n",
      "\n"
     ]
    },
    {
     "name": "stderr",
     "output_type": "stream",
     "text": [
      "Epoch 8/10: 100%|██████████| 557/557 [02:06<00:00,  4.40it/s]\n"
     ]
    },
    {
     "name": "stdout",
     "output_type": "stream",
     "text": [
      "Epoch 8 Loss: 0.4084\n",
      "Validation Accuracy: 0.7944  Validation Macro F1: 0.7113\n",
      "                    precision    recall  f1-score   support\n",
      "\n",
      "Yes/To some extent       0.91      0.40      0.56        80\n",
      "                No       0.77      0.98      0.87       168\n",
      "\n",
      "          accuracy                           0.79       248\n",
      "         macro avg       0.84      0.69      0.71       248\n",
      "      weighted avg       0.82      0.79      0.77       248\n",
      "\n"
     ]
    },
    {
     "name": "stderr",
     "output_type": "stream",
     "text": [
      "Epoch 9/10: 100%|██████████| 557/557 [02:06<00:00,  4.40it/s]\n"
     ]
    },
    {
     "name": "stdout",
     "output_type": "stream",
     "text": [
      "Epoch 9 Loss: 0.4067\n",
      "Validation Accuracy: 0.7621  Validation Macro F1: 0.6845\n",
      "                    precision    recall  f1-score   support\n",
      "\n",
      "Yes/To some extent       0.73      0.41      0.53        80\n",
      "                No       0.77      0.93      0.84       168\n",
      "\n",
      "          accuracy                           0.76       248\n",
      "         macro avg       0.75      0.67      0.68       248\n",
      "      weighted avg       0.76      0.76      0.74       248\n",
      "\n"
     ]
    },
    {
     "name": "stderr",
     "output_type": "stream",
     "text": [
      "Epoch 10/10: 100%|██████████| 557/557 [02:06<00:00,  4.40it/s]\n"
     ]
    },
    {
     "name": "stdout",
     "output_type": "stream",
     "text": [
      "Epoch 10 Loss: 0.3904\n",
      "Validation Accuracy: 0.7661  Validation Macro F1: 0.6915\n",
      "                    precision    recall  f1-score   support\n",
      "\n",
      "Yes/To some extent       0.74      0.42      0.54        80\n",
      "                No       0.77      0.93      0.84       168\n",
      "\n",
      "          accuracy                           0.77       248\n",
      "         macro avg       0.76      0.68      0.69       248\n",
      "      weighted avg       0.76      0.77      0.75       248\n",
      "\n"
     ]
    }
   ],
   "source": [
    "train_model(\"ce\", train_loader, val_loader, num_labels=2)"
   ]
  }
 ],
 "metadata": {
  "kaggle": {
   "accelerator": "nvidiaTeslaT4",
   "dataSources": [
    {
     "datasetId": 7241370,
     "sourceId": 11547141,
     "sourceType": "datasetVersion"
    }
   ],
   "dockerImageVersionId": 31011,
   "isGpuEnabled": true,
   "isInternetEnabled": true,
   "language": "python",
   "sourceType": "notebook"
  },
  "kernelspec": {
   "display_name": "Python 3",
   "language": "python",
   "name": "python3"
  },
  "language_info": {
   "codemirror_mode": {
    "name": "ipython",
    "version": 3
   },
   "file_extension": ".py",
   "mimetype": "text/x-python",
   "name": "python",
   "nbconvert_exporter": "python",
   "pygments_lexer": "ipython3",
   "version": "3.11.11"
  },
  "papermill": {
   "default_parameters": {},
   "duration": 5279.390122,
   "end_time": "2025-04-25T09:03:17.688768",
   "environment_variables": {},
   "exception": null,
   "input_path": "__notebook__.ipynb",
   "output_path": "__notebook__.ipynb",
   "parameters": {},
   "start_time": "2025-04-25T07:35:18.298646",
   "version": "2.6.0"
  },
  "widgets": {
   "application/vnd.jupyter.widget-state+json": {
    "state": {
     "00ae217e0eb84f3486244bbb73f4afe9": {
      "model_module": "@jupyter-widgets/controls",
      "model_module_version": "2.0.0",
      "model_name": "HTMLStyleModel",
      "state": {
       "_model_module": "@jupyter-widgets/controls",
       "_model_module_version": "2.0.0",
       "_model_name": "HTMLStyleModel",
       "_view_count": null,
       "_view_module": "@jupyter-widgets/base",
       "_view_module_version": "2.0.0",
       "_view_name": "StyleView",
       "background": null,
       "description_width": "",
       "font_size": null,
       "text_color": null
      }
     },
     "01ecddacbff24bf7be17476166184100": {
      "model_module": "@jupyter-widgets/controls",
      "model_module_version": "2.0.0",
      "model_name": "HTMLModel",
      "state": {
       "_dom_classes": [],
       "_model_module": "@jupyter-widgets/controls",
       "_model_module_version": "2.0.0",
       "_model_name": "HTMLModel",
       "_view_count": null,
       "_view_module": "@jupyter-widgets/controls",
       "_view_module_version": "2.0.0",
       "_view_name": "HTMLView",
       "description": "",
       "description_allow_html": false,
       "layout": "IPY_MODEL_c2f24dcf0d034cbdada9e73358262a8f",
       "placeholder": "​",
       "style": "IPY_MODEL_d3049bc6b6614a76bc2800d06fd52ef7",
       "tabbable": null,
       "tooltip": null,
       "value": " 570/570 [00:00&lt;00:00, 69.2kB/s]"
      }
     },
     "08048d10ca434f689ab5ff70864d6a46": {
      "model_module": "@jupyter-widgets/controls",
      "model_module_version": "2.0.0",
      "model_name": "FloatProgressModel",
      "state": {
       "_dom_classes": [],
       "_model_module": "@jupyter-widgets/controls",
       "_model_module_version": "2.0.0",
       "_model_name": "FloatProgressModel",
       "_view_count": null,
       "_view_module": "@jupyter-widgets/controls",
       "_view_module_version": "2.0.0",
       "_view_name": "ProgressView",
       "bar_style": "success",
       "description": "",
       "description_allow_html": false,
       "layout": "IPY_MODEL_c2202135bd894679afbfaca54f1d85cf",
       "max": 570.0,
       "min": 0.0,
       "orientation": "horizontal",
       "style": "IPY_MODEL_9f5cbc2d730343fead40d0259160b4f8",
       "tabbable": null,
       "tooltip": null,
       "value": 570.0
      }
     },
     "0c44305e03fc4f55aa60752114c8664e": {
      "model_module": "@jupyter-widgets/controls",
      "model_module_version": "2.0.0",
      "model_name": "HTMLStyleModel",
      "state": {
       "_model_module": "@jupyter-widgets/controls",
       "_model_module_version": "2.0.0",
       "_model_name": "HTMLStyleModel",
       "_view_count": null,
       "_view_module": "@jupyter-widgets/base",
       "_view_module_version": "2.0.0",
       "_view_name": "StyleView",
       "background": null,
       "description_width": "",
       "font_size": null,
       "text_color": null
      }
     },
     "0dd610ff290842e58b9bc3aa8ad40b36": {
      "model_module": "@jupyter-widgets/base",
      "model_module_version": "2.0.0",
      "model_name": "LayoutModel",
      "state": {
       "_model_module": "@jupyter-widgets/base",
       "_model_module_version": "2.0.0",
       "_model_name": "LayoutModel",
       "_view_count": null,
       "_view_module": "@jupyter-widgets/base",
       "_view_module_version": "2.0.0",
       "_view_name": "LayoutView",
       "align_content": null,
       "align_items": null,
       "align_self": null,
       "border_bottom": null,
       "border_left": null,
       "border_right": null,
       "border_top": null,
       "bottom": null,
       "display": null,
       "flex": null,
       "flex_flow": null,
       "grid_area": null,
       "grid_auto_columns": null,
       "grid_auto_flow": null,
       "grid_auto_rows": null,
       "grid_column": null,
       "grid_gap": null,
       "grid_row": null,
       "grid_template_areas": null,
       "grid_template_columns": null,
       "grid_template_rows": null,
       "height": null,
       "justify_content": null,
       "justify_items": null,
       "left": null,
       "margin": null,
       "max_height": null,
       "max_width": null,
       "min_height": null,
       "min_width": null,
       "object_fit": null,
       "object_position": null,
       "order": null,
       "overflow": null,
       "padding": null,
       "right": null,
       "top": null,
       "visibility": null,
       "width": null
      }
     },
     "0f4ed1b95dae47018aa2c48461211658": {
      "model_module": "@jupyter-widgets/controls",
      "model_module_version": "2.0.0",
      "model_name": "HTMLStyleModel",
      "state": {
       "_model_module": "@jupyter-widgets/controls",
       "_model_module_version": "2.0.0",
       "_model_name": "HTMLStyleModel",
       "_view_count": null,
       "_view_module": "@jupyter-widgets/base",
       "_view_module_version": "2.0.0",
       "_view_name": "StyleView",
       "background": null,
       "description_width": "",
       "font_size": null,
       "text_color": null
      }
     },
     "1759fe76ba8f48859f3a1d7de1f1a3a4": {
      "model_module": "@jupyter-widgets/base",
      "model_module_version": "2.0.0",
      "model_name": "LayoutModel",
      "state": {
       "_model_module": "@jupyter-widgets/base",
       "_model_module_version": "2.0.0",
       "_model_name": "LayoutModel",
       "_view_count": null,
       "_view_module": "@jupyter-widgets/base",
       "_view_module_version": "2.0.0",
       "_view_name": "LayoutView",
       "align_content": null,
       "align_items": null,
       "align_self": null,
       "border_bottom": null,
       "border_left": null,
       "border_right": null,
       "border_top": null,
       "bottom": null,
       "display": null,
       "flex": null,
       "flex_flow": null,
       "grid_area": null,
       "grid_auto_columns": null,
       "grid_auto_flow": null,
       "grid_auto_rows": null,
       "grid_column": null,
       "grid_gap": null,
       "grid_row": null,
       "grid_template_areas": null,
       "grid_template_columns": null,
       "grid_template_rows": null,
       "height": null,
       "justify_content": null,
       "justify_items": null,
       "left": null,
       "margin": null,
       "max_height": null,
       "max_width": null,
       "min_height": null,
       "min_width": null,
       "object_fit": null,
       "object_position": null,
       "order": null,
       "overflow": null,
       "padding": null,
       "right": null,
       "top": null,
       "visibility": null,
       "width": null
      }
     },
     "1acde35bd3114b4fa60ad24bd06486b3": {
      "model_module": "@jupyter-widgets/base",
      "model_module_version": "2.0.0",
      "model_name": "LayoutModel",
      "state": {
       "_model_module": "@jupyter-widgets/base",
       "_model_module_version": "2.0.0",
       "_model_name": "LayoutModel",
       "_view_count": null,
       "_view_module": "@jupyter-widgets/base",
       "_view_module_version": "2.0.0",
       "_view_name": "LayoutView",
       "align_content": null,
       "align_items": null,
       "align_self": null,
       "border_bottom": null,
       "border_left": null,
       "border_right": null,
       "border_top": null,
       "bottom": null,
       "display": null,
       "flex": null,
       "flex_flow": null,
       "grid_area": null,
       "grid_auto_columns": null,
       "grid_auto_flow": null,
       "grid_auto_rows": null,
       "grid_column": null,
       "grid_gap": null,
       "grid_row": null,
       "grid_template_areas": null,
       "grid_template_columns": null,
       "grid_template_rows": null,
       "height": null,
       "justify_content": null,
       "justify_items": null,
       "left": null,
       "margin": null,
       "max_height": null,
       "max_width": null,
       "min_height": null,
       "min_width": null,
       "object_fit": null,
       "object_position": null,
       "order": null,
       "overflow": null,
       "padding": null,
       "right": null,
       "top": null,
       "visibility": null,
       "width": null
      }
     },
     "1c1e764890734f3fb27456df9d29b3b1": {
      "model_module": "@jupyter-widgets/controls",
      "model_module_version": "2.0.0",
      "model_name": "HTMLModel",
      "state": {
       "_dom_classes": [],
       "_model_module": "@jupyter-widgets/controls",
       "_model_module_version": "2.0.0",
       "_model_name": "HTMLModel",
       "_view_count": null,
       "_view_module": "@jupyter-widgets/controls",
       "_view_module_version": "2.0.0",
       "_view_name": "HTMLView",
       "description": "",
       "description_allow_html": false,
       "layout": "IPY_MODEL_be196cb52b7d42b48428b8bae49a4f70",
       "placeholder": "​",
       "style": "IPY_MODEL_51074257a97a4b52984be626e294a2ae",
       "tabbable": null,
       "tooltip": null,
       "value": " 48.0/48.0 [00:00&lt;00:00, 5.18kB/s]"
      }
     },
     "1cca2ac8ddd94e56a27712394e4bb0be": {
      "model_module": "@jupyter-widgets/base",
      "model_module_version": "2.0.0",
      "model_name": "LayoutModel",
      "state": {
       "_model_module": "@jupyter-widgets/base",
       "_model_module_version": "2.0.0",
       "_model_name": "LayoutModel",
       "_view_count": null,
       "_view_module": "@jupyter-widgets/base",
       "_view_module_version": "2.0.0",
       "_view_name": "LayoutView",
       "align_content": null,
       "align_items": null,
       "align_self": null,
       "border_bottom": null,
       "border_left": null,
       "border_right": null,
       "border_top": null,
       "bottom": null,
       "display": null,
       "flex": null,
       "flex_flow": null,
       "grid_area": null,
       "grid_auto_columns": null,
       "grid_auto_flow": null,
       "grid_auto_rows": null,
       "grid_column": null,
       "grid_gap": null,
       "grid_row": null,
       "grid_template_areas": null,
       "grid_template_columns": null,
       "grid_template_rows": null,
       "height": null,
       "justify_content": null,
       "justify_items": null,
       "left": null,
       "margin": null,
       "max_height": null,
       "max_width": null,
       "min_height": null,
       "min_width": null,
       "object_fit": null,
       "object_position": null,
       "order": null,
       "overflow": null,
       "padding": null,
       "right": null,
       "top": null,
       "visibility": null,
       "width": null
      }
     },
     "225c89441af24be5918e80aaf60d5cef": {
      "model_module": "@jupyter-widgets/base",
      "model_module_version": "2.0.0",
      "model_name": "LayoutModel",
      "state": {
       "_model_module": "@jupyter-widgets/base",
       "_model_module_version": "2.0.0",
       "_model_name": "LayoutModel",
       "_view_count": null,
       "_view_module": "@jupyter-widgets/base",
       "_view_module_version": "2.0.0",
       "_view_name": "LayoutView",
       "align_content": null,
       "align_items": null,
       "align_self": null,
       "border_bottom": null,
       "border_left": null,
       "border_right": null,
       "border_top": null,
       "bottom": null,
       "display": null,
       "flex": null,
       "flex_flow": null,
       "grid_area": null,
       "grid_auto_columns": null,
       "grid_auto_flow": null,
       "grid_auto_rows": null,
       "grid_column": null,
       "grid_gap": null,
       "grid_row": null,
       "grid_template_areas": null,
       "grid_template_columns": null,
       "grid_template_rows": null,
       "height": null,
       "justify_content": null,
       "justify_items": null,
       "left": null,
       "margin": null,
       "max_height": null,
       "max_width": null,
       "min_height": null,
       "min_width": null,
       "object_fit": null,
       "object_position": null,
       "order": null,
       "overflow": null,
       "padding": null,
       "right": null,
       "top": null,
       "visibility": null,
       "width": null
      }
     },
     "27f7731bb504419ea572b8ebe2f18577": {
      "model_module": "@jupyter-widgets/controls",
      "model_module_version": "2.0.0",
      "model_name": "HBoxModel",
      "state": {
       "_dom_classes": [],
       "_model_module": "@jupyter-widgets/controls",
       "_model_module_version": "2.0.0",
       "_model_name": "HBoxModel",
       "_view_count": null,
       "_view_module": "@jupyter-widgets/controls",
       "_view_module_version": "2.0.0",
       "_view_name": "HBoxView",
       "box_style": "",
       "children": [
        "IPY_MODEL_f731d7ed1bc24a25975557f6799afe3a",
        "IPY_MODEL_f9d7daf7a9ec4f2daadfc2bb5df64a2c",
        "IPY_MODEL_8418959c602d4b73a6c0a52bc690825c"
       ],
       "layout": "IPY_MODEL_ef864e7a39e648c797106274029803b6",
       "tabbable": null,
       "tooltip": null
      }
     },
     "2b0a9e687cd94ea38c5d2fa89618a832": {
      "model_module": "@jupyter-widgets/controls",
      "model_module_version": "2.0.0",
      "model_name": "HTMLStyleModel",
      "state": {
       "_model_module": "@jupyter-widgets/controls",
       "_model_module_version": "2.0.0",
       "_model_name": "HTMLStyleModel",
       "_view_count": null,
       "_view_module": "@jupyter-widgets/base",
       "_view_module_version": "2.0.0",
       "_view_name": "StyleView",
       "background": null,
       "description_width": "",
       "font_size": null,
       "text_color": null
      }
     },
     "2f765f4a105f41fd89e8ee80842849df": {
      "model_module": "@jupyter-widgets/controls",
      "model_module_version": "2.0.0",
      "model_name": "ProgressStyleModel",
      "state": {
       "_model_module": "@jupyter-widgets/controls",
       "_model_module_version": "2.0.0",
       "_model_name": "ProgressStyleModel",
       "_view_count": null,
       "_view_module": "@jupyter-widgets/base",
       "_view_module_version": "2.0.0",
       "_view_name": "StyleView",
       "bar_color": null,
       "description_width": ""
      }
     },
     "311060f7309949dfacdcf8342fa77ad3": {
      "model_module": "@jupyter-widgets/controls",
      "model_module_version": "2.0.0",
      "model_name": "HTMLStyleModel",
      "state": {
       "_model_module": "@jupyter-widgets/controls",
       "_model_module_version": "2.0.0",
       "_model_name": "HTMLStyleModel",
       "_view_count": null,
       "_view_module": "@jupyter-widgets/base",
       "_view_module_version": "2.0.0",
       "_view_name": "StyleView",
       "background": null,
       "description_width": "",
       "font_size": null,
       "text_color": null
      }
     },
     "3e32ff83ba294c5a891dd29a3214ba2b": {
      "model_module": "@jupyter-widgets/controls",
      "model_module_version": "2.0.0",
      "model_name": "ProgressStyleModel",
      "state": {
       "_model_module": "@jupyter-widgets/controls",
       "_model_module_version": "2.0.0",
       "_model_name": "ProgressStyleModel",
       "_view_count": null,
       "_view_module": "@jupyter-widgets/base",
       "_view_module_version": "2.0.0",
       "_view_name": "StyleView",
       "bar_color": null,
       "description_width": ""
      }
     },
     "456b4ff5dd2e4b65b46f17c2e351992d": {
      "model_module": "@jupyter-widgets/controls",
      "model_module_version": "2.0.0",
      "model_name": "FloatProgressModel",
      "state": {
       "_dom_classes": [],
       "_model_module": "@jupyter-widgets/controls",
       "_model_module_version": "2.0.0",
       "_model_name": "FloatProgressModel",
       "_view_count": null,
       "_view_module": "@jupyter-widgets/controls",
       "_view_module_version": "2.0.0",
       "_view_name": "ProgressView",
       "bar_style": "success",
       "description": "",
       "description_allow_html": false,
       "layout": "IPY_MODEL_ec7bd4c6773b44a0ba92953b5cd58b89",
       "max": 440449768.0,
       "min": 0.0,
       "orientation": "horizontal",
       "style": "IPY_MODEL_2f765f4a105f41fd89e8ee80842849df",
       "tabbable": null,
       "tooltip": null,
       "value": 440449768.0
      }
     },
     "469df74f3acc498ea1341562f3ce027f": {
      "model_module": "@jupyter-widgets/controls",
      "model_module_version": "2.0.0",
      "model_name": "HBoxModel",
      "state": {
       "_dom_classes": [],
       "_model_module": "@jupyter-widgets/controls",
       "_model_module_version": "2.0.0",
       "_model_name": "HBoxModel",
       "_view_count": null,
       "_view_module": "@jupyter-widgets/controls",
       "_view_module_version": "2.0.0",
       "_view_name": "HBoxView",
       "box_style": "",
       "children": [
        "IPY_MODEL_79b8501910574b21b9ca02350618dd91",
        "IPY_MODEL_456b4ff5dd2e4b65b46f17c2e351992d",
        "IPY_MODEL_e7a355eb7e8e4354b08c54a8fb39c2de"
       ],
       "layout": "IPY_MODEL_f5084e7e2a844280b351e8f7b0c5e611",
       "tabbable": null,
       "tooltip": null
      }
     },
     "51074257a97a4b52984be626e294a2ae": {
      "model_module": "@jupyter-widgets/controls",
      "model_module_version": "2.0.0",
      "model_name": "HTMLStyleModel",
      "state": {
       "_model_module": "@jupyter-widgets/controls",
       "_model_module_version": "2.0.0",
       "_model_name": "HTMLStyleModel",
       "_view_count": null,
       "_view_module": "@jupyter-widgets/base",
       "_view_module_version": "2.0.0",
       "_view_name": "StyleView",
       "background": null,
       "description_width": "",
       "font_size": null,
       "text_color": null
      }
     },
     "52ffe2b9b0504cacb26450e2075ed4f5": {
      "model_module": "@jupyter-widgets/base",
      "model_module_version": "2.0.0",
      "model_name": "LayoutModel",
      "state": {
       "_model_module": "@jupyter-widgets/base",
       "_model_module_version": "2.0.0",
       "_model_name": "LayoutModel",
       "_view_count": null,
       "_view_module": "@jupyter-widgets/base",
       "_view_module_version": "2.0.0",
       "_view_name": "LayoutView",
       "align_content": null,
       "align_items": null,
       "align_self": null,
       "border_bottom": null,
       "border_left": null,
       "border_right": null,
       "border_top": null,
       "bottom": null,
       "display": null,
       "flex": null,
       "flex_flow": null,
       "grid_area": null,
       "grid_auto_columns": null,
       "grid_auto_flow": null,
       "grid_auto_rows": null,
       "grid_column": null,
       "grid_gap": null,
       "grid_row": null,
       "grid_template_areas": null,
       "grid_template_columns": null,
       "grid_template_rows": null,
       "height": null,
       "justify_content": null,
       "justify_items": null,
       "left": null,
       "margin": null,
       "max_height": null,
       "max_width": null,
       "min_height": null,
       "min_width": null,
       "object_fit": null,
       "object_position": null,
       "order": null,
       "overflow": null,
       "padding": null,
       "right": null,
       "top": null,
       "visibility": null,
       "width": null
      }
     },
     "5583b9abb023444d982116c45022b0e5": {
      "model_module": "@jupyter-widgets/controls",
      "model_module_version": "2.0.0",
      "model_name": "HTMLModel",
      "state": {
       "_dom_classes": [],
       "_model_module": "@jupyter-widgets/controls",
       "_model_module_version": "2.0.0",
       "_model_name": "HTMLModel",
       "_view_count": null,
       "_view_module": "@jupyter-widgets/controls",
       "_view_module_version": "2.0.0",
       "_view_name": "HTMLView",
       "description": "",
       "description_allow_html": false,
       "layout": "IPY_MODEL_0dd610ff290842e58b9bc3aa8ad40b36",
       "placeholder": "​",
       "style": "IPY_MODEL_8acd387a94be4df9be325ceff2e40bc0",
       "tabbable": null,
       "tooltip": null,
       "value": "config.json: 100%"
      }
     },
     "56f8453cd7314ae39f8d54e396d5c5eb": {
      "model_module": "@jupyter-widgets/base",
      "model_module_version": "2.0.0",
      "model_name": "LayoutModel",
      "state": {
       "_model_module": "@jupyter-widgets/base",
       "_model_module_version": "2.0.0",
       "_model_name": "LayoutModel",
       "_view_count": null,
       "_view_module": "@jupyter-widgets/base",
       "_view_module_version": "2.0.0",
       "_view_name": "LayoutView",
       "align_content": null,
       "align_items": null,
       "align_self": null,
       "border_bottom": null,
       "border_left": null,
       "border_right": null,
       "border_top": null,
       "bottom": null,
       "display": null,
       "flex": null,
       "flex_flow": null,
       "grid_area": null,
       "grid_auto_columns": null,
       "grid_auto_flow": null,
       "grid_auto_rows": null,
       "grid_column": null,
       "grid_gap": null,
       "grid_row": null,
       "grid_template_areas": null,
       "grid_template_columns": null,
       "grid_template_rows": null,
       "height": null,
       "justify_content": null,
       "justify_items": null,
       "left": null,
       "margin": null,
       "max_height": null,
       "max_width": null,
       "min_height": null,
       "min_width": null,
       "object_fit": null,
       "object_position": null,
       "order": null,
       "overflow": null,
       "padding": null,
       "right": null,
       "top": null,
       "visibility": null,
       "width": null
      }
     },
     "58947ac30d6c425c915f68af224d9d3f": {
      "model_module": "@jupyter-widgets/controls",
      "model_module_version": "2.0.0",
      "model_name": "HBoxModel",
      "state": {
       "_dom_classes": [],
       "_model_module": "@jupyter-widgets/controls",
       "_model_module_version": "2.0.0",
       "_model_name": "HBoxModel",
       "_view_count": null,
       "_view_module": "@jupyter-widgets/controls",
       "_view_module_version": "2.0.0",
       "_view_name": "HBoxView",
       "box_style": "",
       "children": [
        "IPY_MODEL_5583b9abb023444d982116c45022b0e5",
        "IPY_MODEL_08048d10ca434f689ab5ff70864d6a46",
        "IPY_MODEL_01ecddacbff24bf7be17476166184100"
       ],
       "layout": "IPY_MODEL_1acde35bd3114b4fa60ad24bd06486b3",
       "tabbable": null,
       "tooltip": null
      }
     },
     "645b392961284f6b9cef0ec2dd9d5849": {
      "model_module": "@jupyter-widgets/controls",
      "model_module_version": "2.0.0",
      "model_name": "ProgressStyleModel",
      "state": {
       "_model_module": "@jupyter-widgets/controls",
       "_model_module_version": "2.0.0",
       "_model_name": "ProgressStyleModel",
       "_view_count": null,
       "_view_module": "@jupyter-widgets/base",
       "_view_module_version": "2.0.0",
       "_view_name": "StyleView",
       "bar_color": null,
       "description_width": ""
      }
     },
     "6f1178a2a15b4cf1bded746f93caff63": {
      "model_module": "@jupyter-widgets/base",
      "model_module_version": "2.0.0",
      "model_name": "LayoutModel",
      "state": {
       "_model_module": "@jupyter-widgets/base",
       "_model_module_version": "2.0.0",
       "_model_name": "LayoutModel",
       "_view_count": null,
       "_view_module": "@jupyter-widgets/base",
       "_view_module_version": "2.0.0",
       "_view_name": "LayoutView",
       "align_content": null,
       "align_items": null,
       "align_self": null,
       "border_bottom": null,
       "border_left": null,
       "border_right": null,
       "border_top": null,
       "bottom": null,
       "display": null,
       "flex": null,
       "flex_flow": null,
       "grid_area": null,
       "grid_auto_columns": null,
       "grid_auto_flow": null,
       "grid_auto_rows": null,
       "grid_column": null,
       "grid_gap": null,
       "grid_row": null,
       "grid_template_areas": null,
       "grid_template_columns": null,
       "grid_template_rows": null,
       "height": null,
       "justify_content": null,
       "justify_items": null,
       "left": null,
       "margin": null,
       "max_height": null,
       "max_width": null,
       "min_height": null,
       "min_width": null,
       "object_fit": null,
       "object_position": null,
       "order": null,
       "overflow": null,
       "padding": null,
       "right": null,
       "top": null,
       "visibility": null,
       "width": null
      }
     },
     "72f5ab68d6414c5a8524834a492d8c69": {
      "model_module": "@jupyter-widgets/controls",
      "model_module_version": "2.0.0",
      "model_name": "HTMLModel",
      "state": {
       "_dom_classes": [],
       "_model_module": "@jupyter-widgets/controls",
       "_model_module_version": "2.0.0",
       "_model_name": "HTMLModel",
       "_view_count": null,
       "_view_module": "@jupyter-widgets/controls",
       "_view_module_version": "2.0.0",
       "_view_name": "HTMLView",
       "description": "",
       "description_allow_html": false,
       "layout": "IPY_MODEL_225c89441af24be5918e80aaf60d5cef",
       "placeholder": "​",
       "style": "IPY_MODEL_78dc89adaeba4e5ea5334745ea4913ad",
       "tabbable": null,
       "tooltip": null,
       "value": "tokenizer_config.json: 100%"
      }
     },
     "7633bc0cd87a451c90adda18884165ed": {
      "model_module": "@jupyter-widgets/controls",
      "model_module_version": "2.0.0",
      "model_name": "HTMLModel",
      "state": {
       "_dom_classes": [],
       "_model_module": "@jupyter-widgets/controls",
       "_model_module_version": "2.0.0",
       "_model_name": "HTMLModel",
       "_view_count": null,
       "_view_module": "@jupyter-widgets/controls",
       "_view_module_version": "2.0.0",
       "_view_name": "HTMLView",
       "description": "",
       "description_allow_html": false,
       "layout": "IPY_MODEL_9e299e84ea7848e5961bbe0c23ea03c7",
       "placeholder": "​",
       "style": "IPY_MODEL_2b0a9e687cd94ea38c5d2fa89618a832",
       "tabbable": null,
       "tooltip": null,
       "value": "tokenizer.json: 100%"
      }
     },
     "78dc89adaeba4e5ea5334745ea4913ad": {
      "model_module": "@jupyter-widgets/controls",
      "model_module_version": "2.0.0",
      "model_name": "HTMLStyleModel",
      "state": {
       "_model_module": "@jupyter-widgets/controls",
       "_model_module_version": "2.0.0",
       "_model_name": "HTMLStyleModel",
       "_view_count": null,
       "_view_module": "@jupyter-widgets/base",
       "_view_module_version": "2.0.0",
       "_view_name": "StyleView",
       "background": null,
       "description_width": "",
       "font_size": null,
       "text_color": null
      }
     },
     "79b8501910574b21b9ca02350618dd91": {
      "model_module": "@jupyter-widgets/controls",
      "model_module_version": "2.0.0",
      "model_name": "HTMLModel",
      "state": {
       "_dom_classes": [],
       "_model_module": "@jupyter-widgets/controls",
       "_model_module_version": "2.0.0",
       "_model_name": "HTMLModel",
       "_view_count": null,
       "_view_module": "@jupyter-widgets/controls",
       "_view_module_version": "2.0.0",
       "_view_name": "HTMLView",
       "description": "",
       "description_allow_html": false,
       "layout": "IPY_MODEL_c5be0622978147558324935a644cbe3d",
       "placeholder": "​",
       "style": "IPY_MODEL_0f4ed1b95dae47018aa2c48461211658",
       "tabbable": null,
       "tooltip": null,
       "value": "model.safetensors: 100%"
      }
     },
     "7ad1fa14b8434ab49ecf637384547abf": {
      "model_module": "@jupyter-widgets/base",
      "model_module_version": "2.0.0",
      "model_name": "LayoutModel",
      "state": {
       "_model_module": "@jupyter-widgets/base",
       "_model_module_version": "2.0.0",
       "_model_name": "LayoutModel",
       "_view_count": null,
       "_view_module": "@jupyter-widgets/base",
       "_view_module_version": "2.0.0",
       "_view_name": "LayoutView",
       "align_content": null,
       "align_items": null,
       "align_self": null,
       "border_bottom": null,
       "border_left": null,
       "border_right": null,
       "border_top": null,
       "bottom": null,
       "display": null,
       "flex": null,
       "flex_flow": null,
       "grid_area": null,
       "grid_auto_columns": null,
       "grid_auto_flow": null,
       "grid_auto_rows": null,
       "grid_column": null,
       "grid_gap": null,
       "grid_row": null,
       "grid_template_areas": null,
       "grid_template_columns": null,
       "grid_template_rows": null,
       "height": null,
       "justify_content": null,
       "justify_items": null,
       "left": null,
       "margin": null,
       "max_height": null,
       "max_width": null,
       "min_height": null,
       "min_width": null,
       "object_fit": null,
       "object_position": null,
       "order": null,
       "overflow": null,
       "padding": null,
       "right": null,
       "top": null,
       "visibility": null,
       "width": null
      }
     },
     "8418959c602d4b73a6c0a52bc690825c": {
      "model_module": "@jupyter-widgets/controls",
      "model_module_version": "2.0.0",
      "model_name": "HTMLModel",
      "state": {
       "_dom_classes": [],
       "_model_module": "@jupyter-widgets/controls",
       "_model_module_version": "2.0.0",
       "_model_name": "HTMLModel",
       "_view_count": null,
       "_view_module": "@jupyter-widgets/controls",
       "_view_module_version": "2.0.0",
       "_view_name": "HTMLView",
       "description": "",
       "description_allow_html": false,
       "layout": "IPY_MODEL_1759fe76ba8f48859f3a1d7de1f1a3a4",
       "placeholder": "​",
       "style": "IPY_MODEL_c78aa4b1976c44ee8a691be2ea820f7e",
       "tabbable": null,
       "tooltip": null,
       "value": " 232k/232k [00:00&lt;00:00, 3.42MB/s]"
      }
     },
     "8acd387a94be4df9be325ceff2e40bc0": {
      "model_module": "@jupyter-widgets/controls",
      "model_module_version": "2.0.0",
      "model_name": "HTMLStyleModel",
      "state": {
       "_model_module": "@jupyter-widgets/controls",
       "_model_module_version": "2.0.0",
       "_model_name": "HTMLStyleModel",
       "_view_count": null,
       "_view_module": "@jupyter-widgets/base",
       "_view_module_version": "2.0.0",
       "_view_name": "StyleView",
       "background": null,
       "description_width": "",
       "font_size": null,
       "text_color": null
      }
     },
     "9e299e84ea7848e5961bbe0c23ea03c7": {
      "model_module": "@jupyter-widgets/base",
      "model_module_version": "2.0.0",
      "model_name": "LayoutModel",
      "state": {
       "_model_module": "@jupyter-widgets/base",
       "_model_module_version": "2.0.0",
       "_model_name": "LayoutModel",
       "_view_count": null,
       "_view_module": "@jupyter-widgets/base",
       "_view_module_version": "2.0.0",
       "_view_name": "LayoutView",
       "align_content": null,
       "align_items": null,
       "align_self": null,
       "border_bottom": null,
       "border_left": null,
       "border_right": null,
       "border_top": null,
       "bottom": null,
       "display": null,
       "flex": null,
       "flex_flow": null,
       "grid_area": null,
       "grid_auto_columns": null,
       "grid_auto_flow": null,
       "grid_auto_rows": null,
       "grid_column": null,
       "grid_gap": null,
       "grid_row": null,
       "grid_template_areas": null,
       "grid_template_columns": null,
       "grid_template_rows": null,
       "height": null,
       "justify_content": null,
       "justify_items": null,
       "left": null,
       "margin": null,
       "max_height": null,
       "max_width": null,
       "min_height": null,
       "min_width": null,
       "object_fit": null,
       "object_position": null,
       "order": null,
       "overflow": null,
       "padding": null,
       "right": null,
       "top": null,
       "visibility": null,
       "width": null
      }
     },
     "9f5cbc2d730343fead40d0259160b4f8": {
      "model_module": "@jupyter-widgets/controls",
      "model_module_version": "2.0.0",
      "model_name": "ProgressStyleModel",
      "state": {
       "_model_module": "@jupyter-widgets/controls",
       "_model_module_version": "2.0.0",
       "_model_name": "ProgressStyleModel",
       "_view_count": null,
       "_view_module": "@jupyter-widgets/base",
       "_view_module_version": "2.0.0",
       "_view_name": "StyleView",
       "bar_color": null,
       "description_width": ""
      }
     },
     "b1bd5265af0e49808f91d27d5c43ed86": {
      "model_module": "@jupyter-widgets/base",
      "model_module_version": "2.0.0",
      "model_name": "LayoutModel",
      "state": {
       "_model_module": "@jupyter-widgets/base",
       "_model_module_version": "2.0.0",
       "_model_name": "LayoutModel",
       "_view_count": null,
       "_view_module": "@jupyter-widgets/base",
       "_view_module_version": "2.0.0",
       "_view_name": "LayoutView",
       "align_content": null,
       "align_items": null,
       "align_self": null,
       "border_bottom": null,
       "border_left": null,
       "border_right": null,
       "border_top": null,
       "bottom": null,
       "display": null,
       "flex": null,
       "flex_flow": null,
       "grid_area": null,
       "grid_auto_columns": null,
       "grid_auto_flow": null,
       "grid_auto_rows": null,
       "grid_column": null,
       "grid_gap": null,
       "grid_row": null,
       "grid_template_areas": null,
       "grid_template_columns": null,
       "grid_template_rows": null,
       "height": null,
       "justify_content": null,
       "justify_items": null,
       "left": null,
       "margin": null,
       "max_height": null,
       "max_width": null,
       "min_height": null,
       "min_width": null,
       "object_fit": null,
       "object_position": null,
       "order": null,
       "overflow": null,
       "padding": null,
       "right": null,
       "top": null,
       "visibility": null,
       "width": null
      }
     },
     "b99fb801964d4cb296feafd8a55a1f1c": {
      "model_module": "@jupyter-widgets/controls",
      "model_module_version": "2.0.0",
      "model_name": "FloatProgressModel",
      "state": {
       "_dom_classes": [],
       "_model_module": "@jupyter-widgets/controls",
       "_model_module_version": "2.0.0",
       "_model_name": "FloatProgressModel",
       "_view_count": null,
       "_view_module": "@jupyter-widgets/controls",
       "_view_module_version": "2.0.0",
       "_view_name": "ProgressView",
       "bar_style": "success",
       "description": "",
       "description_allow_html": false,
       "layout": "IPY_MODEL_b1bd5265af0e49808f91d27d5c43ed86",
       "max": 466062.0,
       "min": 0.0,
       "orientation": "horizontal",
       "style": "IPY_MODEL_3e32ff83ba294c5a891dd29a3214ba2b",
       "tabbable": null,
       "tooltip": null,
       "value": 466062.0
      }
     },
     "be196cb52b7d42b48428b8bae49a4f70": {
      "model_module": "@jupyter-widgets/base",
      "model_module_version": "2.0.0",
      "model_name": "LayoutModel",
      "state": {
       "_model_module": "@jupyter-widgets/base",
       "_model_module_version": "2.0.0",
       "_model_name": "LayoutModel",
       "_view_count": null,
       "_view_module": "@jupyter-widgets/base",
       "_view_module_version": "2.0.0",
       "_view_name": "LayoutView",
       "align_content": null,
       "align_items": null,
       "align_self": null,
       "border_bottom": null,
       "border_left": null,
       "border_right": null,
       "border_top": null,
       "bottom": null,
       "display": null,
       "flex": null,
       "flex_flow": null,
       "grid_area": null,
       "grid_auto_columns": null,
       "grid_auto_flow": null,
       "grid_auto_rows": null,
       "grid_column": null,
       "grid_gap": null,
       "grid_row": null,
       "grid_template_areas": null,
       "grid_template_columns": null,
       "grid_template_rows": null,
       "height": null,
       "justify_content": null,
       "justify_items": null,
       "left": null,
       "margin": null,
       "max_height": null,
       "max_width": null,
       "min_height": null,
       "min_width": null,
       "object_fit": null,
       "object_position": null,
       "order": null,
       "overflow": null,
       "padding": null,
       "right": null,
       "top": null,
       "visibility": null,
       "width": null
      }
     },
     "c2202135bd894679afbfaca54f1d85cf": {
      "model_module": "@jupyter-widgets/base",
      "model_module_version": "2.0.0",
      "model_name": "LayoutModel",
      "state": {
       "_model_module": "@jupyter-widgets/base",
       "_model_module_version": "2.0.0",
       "_model_name": "LayoutModel",
       "_view_count": null,
       "_view_module": "@jupyter-widgets/base",
       "_view_module_version": "2.0.0",
       "_view_name": "LayoutView",
       "align_content": null,
       "align_items": null,
       "align_self": null,
       "border_bottom": null,
       "border_left": null,
       "border_right": null,
       "border_top": null,
       "bottom": null,
       "display": null,
       "flex": null,
       "flex_flow": null,
       "grid_area": null,
       "grid_auto_columns": null,
       "grid_auto_flow": null,
       "grid_auto_rows": null,
       "grid_column": null,
       "grid_gap": null,
       "grid_row": null,
       "grid_template_areas": null,
       "grid_template_columns": null,
       "grid_template_rows": null,
       "height": null,
       "justify_content": null,
       "justify_items": null,
       "left": null,
       "margin": null,
       "max_height": null,
       "max_width": null,
       "min_height": null,
       "min_width": null,
       "object_fit": null,
       "object_position": null,
       "order": null,
       "overflow": null,
       "padding": null,
       "right": null,
       "top": null,
       "visibility": null,
       "width": null
      }
     },
     "c2f24dcf0d034cbdada9e73358262a8f": {
      "model_module": "@jupyter-widgets/base",
      "model_module_version": "2.0.0",
      "model_name": "LayoutModel",
      "state": {
       "_model_module": "@jupyter-widgets/base",
       "_model_module_version": "2.0.0",
       "_model_name": "LayoutModel",
       "_view_count": null,
       "_view_module": "@jupyter-widgets/base",
       "_view_module_version": "2.0.0",
       "_view_name": "LayoutView",
       "align_content": null,
       "align_items": null,
       "align_self": null,
       "border_bottom": null,
       "border_left": null,
       "border_right": null,
       "border_top": null,
       "bottom": null,
       "display": null,
       "flex": null,
       "flex_flow": null,
       "grid_area": null,
       "grid_auto_columns": null,
       "grid_auto_flow": null,
       "grid_auto_rows": null,
       "grid_column": null,
       "grid_gap": null,
       "grid_row": null,
       "grid_template_areas": null,
       "grid_template_columns": null,
       "grid_template_rows": null,
       "height": null,
       "justify_content": null,
       "justify_items": null,
       "left": null,
       "margin": null,
       "max_height": null,
       "max_width": null,
       "min_height": null,
       "min_width": null,
       "object_fit": null,
       "object_position": null,
       "order": null,
       "overflow": null,
       "padding": null,
       "right": null,
       "top": null,
       "visibility": null,
       "width": null
      }
     },
     "c5be0622978147558324935a644cbe3d": {
      "model_module": "@jupyter-widgets/base",
      "model_module_version": "2.0.0",
      "model_name": "LayoutModel",
      "state": {
       "_model_module": "@jupyter-widgets/base",
       "_model_module_version": "2.0.0",
       "_model_name": "LayoutModel",
       "_view_count": null,
       "_view_module": "@jupyter-widgets/base",
       "_view_module_version": "2.0.0",
       "_view_name": "LayoutView",
       "align_content": null,
       "align_items": null,
       "align_self": null,
       "border_bottom": null,
       "border_left": null,
       "border_right": null,
       "border_top": null,
       "bottom": null,
       "display": null,
       "flex": null,
       "flex_flow": null,
       "grid_area": null,
       "grid_auto_columns": null,
       "grid_auto_flow": null,
       "grid_auto_rows": null,
       "grid_column": null,
       "grid_gap": null,
       "grid_row": null,
       "grid_template_areas": null,
       "grid_template_columns": null,
       "grid_template_rows": null,
       "height": null,
       "justify_content": null,
       "justify_items": null,
       "left": null,
       "margin": null,
       "max_height": null,
       "max_width": null,
       "min_height": null,
       "min_width": null,
       "object_fit": null,
       "object_position": null,
       "order": null,
       "overflow": null,
       "padding": null,
       "right": null,
       "top": null,
       "visibility": null,
       "width": null
      }
     },
     "c78aa4b1976c44ee8a691be2ea820f7e": {
      "model_module": "@jupyter-widgets/controls",
      "model_module_version": "2.0.0",
      "model_name": "HTMLStyleModel",
      "state": {
       "_model_module": "@jupyter-widgets/controls",
       "_model_module_version": "2.0.0",
       "_model_name": "HTMLStyleModel",
       "_view_count": null,
       "_view_module": "@jupyter-widgets/base",
       "_view_module_version": "2.0.0",
       "_view_name": "StyleView",
       "background": null,
       "description_width": "",
       "font_size": null,
       "text_color": null
      }
     },
     "ccbac443411c4a68954ebf98cac54954": {
      "model_module": "@jupyter-widgets/base",
      "model_module_version": "2.0.0",
      "model_name": "LayoutModel",
      "state": {
       "_model_module": "@jupyter-widgets/base",
       "_model_module_version": "2.0.0",
       "_model_name": "LayoutModel",
       "_view_count": null,
       "_view_module": "@jupyter-widgets/base",
       "_view_module_version": "2.0.0",
       "_view_name": "LayoutView",
       "align_content": null,
       "align_items": null,
       "align_self": null,
       "border_bottom": null,
       "border_left": null,
       "border_right": null,
       "border_top": null,
       "bottom": null,
       "display": null,
       "flex": null,
       "flex_flow": null,
       "grid_area": null,
       "grid_auto_columns": null,
       "grid_auto_flow": null,
       "grid_auto_rows": null,
       "grid_column": null,
       "grid_gap": null,
       "grid_row": null,
       "grid_template_areas": null,
       "grid_template_columns": null,
       "grid_template_rows": null,
       "height": null,
       "justify_content": null,
       "justify_items": null,
       "left": null,
       "margin": null,
       "max_height": null,
       "max_width": null,
       "min_height": null,
       "min_width": null,
       "object_fit": null,
       "object_position": null,
       "order": null,
       "overflow": null,
       "padding": null,
       "right": null,
       "top": null,
       "visibility": null,
       "width": null
      }
     },
     "d0ba76a21c87430fa3b8b9028747e052": {
      "model_module": "@jupyter-widgets/base",
      "model_module_version": "2.0.0",
      "model_name": "LayoutModel",
      "state": {
       "_model_module": "@jupyter-widgets/base",
       "_model_module_version": "2.0.0",
       "_model_name": "LayoutModel",
       "_view_count": null,
       "_view_module": "@jupyter-widgets/base",
       "_view_module_version": "2.0.0",
       "_view_name": "LayoutView",
       "align_content": null,
       "align_items": null,
       "align_self": null,
       "border_bottom": null,
       "border_left": null,
       "border_right": null,
       "border_top": null,
       "bottom": null,
       "display": null,
       "flex": null,
       "flex_flow": null,
       "grid_area": null,
       "grid_auto_columns": null,
       "grid_auto_flow": null,
       "grid_auto_rows": null,
       "grid_column": null,
       "grid_gap": null,
       "grid_row": null,
       "grid_template_areas": null,
       "grid_template_columns": null,
       "grid_template_rows": null,
       "height": null,
       "justify_content": null,
       "justify_items": null,
       "left": null,
       "margin": null,
       "max_height": null,
       "max_width": null,
       "min_height": null,
       "min_width": null,
       "object_fit": null,
       "object_position": null,
       "order": null,
       "overflow": null,
       "padding": null,
       "right": null,
       "top": null,
       "visibility": null,
       "width": null
      }
     },
     "d2ddc11568e644679d39f9feb4d81800": {
      "model_module": "@jupyter-widgets/controls",
      "model_module_version": "2.0.0",
      "model_name": "HBoxModel",
      "state": {
       "_dom_classes": [],
       "_model_module": "@jupyter-widgets/controls",
       "_model_module_version": "2.0.0",
       "_model_name": "HBoxModel",
       "_view_count": null,
       "_view_module": "@jupyter-widgets/controls",
       "_view_module_version": "2.0.0",
       "_view_name": "HBoxView",
       "box_style": "",
       "children": [
        "IPY_MODEL_72f5ab68d6414c5a8524834a492d8c69",
        "IPY_MODEL_f2851eacf63c4bcea11f687baf7a8baf",
        "IPY_MODEL_1c1e764890734f3fb27456df9d29b3b1"
       ],
       "layout": "IPY_MODEL_1cca2ac8ddd94e56a27712394e4bb0be",
       "tabbable": null,
       "tooltip": null
      }
     },
     "d3049bc6b6614a76bc2800d06fd52ef7": {
      "model_module": "@jupyter-widgets/controls",
      "model_module_version": "2.0.0",
      "model_name": "HTMLStyleModel",
      "state": {
       "_model_module": "@jupyter-widgets/controls",
       "_model_module_version": "2.0.0",
       "_model_name": "HTMLStyleModel",
       "_view_count": null,
       "_view_module": "@jupyter-widgets/base",
       "_view_module_version": "2.0.0",
       "_view_name": "StyleView",
       "background": null,
       "description_width": "",
       "font_size": null,
       "text_color": null
      }
     },
     "d45519f6fdb64cce81cee0a8d89b8b0d": {
      "model_module": "@jupyter-widgets/controls",
      "model_module_version": "2.0.0",
      "model_name": "ProgressStyleModel",
      "state": {
       "_model_module": "@jupyter-widgets/controls",
       "_model_module_version": "2.0.0",
       "_model_name": "ProgressStyleModel",
       "_view_count": null,
       "_view_module": "@jupyter-widgets/base",
       "_view_module_version": "2.0.0",
       "_view_name": "StyleView",
       "bar_color": null,
       "description_width": ""
      }
     },
     "e7a355eb7e8e4354b08c54a8fb39c2de": {
      "model_module": "@jupyter-widgets/controls",
      "model_module_version": "2.0.0",
      "model_name": "HTMLModel",
      "state": {
       "_dom_classes": [],
       "_model_module": "@jupyter-widgets/controls",
       "_model_module_version": "2.0.0",
       "_model_name": "HTMLModel",
       "_view_count": null,
       "_view_module": "@jupyter-widgets/controls",
       "_view_module_version": "2.0.0",
       "_view_name": "HTMLView",
       "description": "",
       "description_allow_html": false,
       "layout": "IPY_MODEL_52ffe2b9b0504cacb26450e2075ed4f5",
       "placeholder": "​",
       "style": "IPY_MODEL_00ae217e0eb84f3486244bbb73f4afe9",
       "tabbable": null,
       "tooltip": null,
       "value": " 440M/440M [00:01&lt;00:00, 261MB/s]"
      }
     },
     "ebadb5650c514eb89791c9e8fd6b775c": {
      "model_module": "@jupyter-widgets/controls",
      "model_module_version": "2.0.0",
      "model_name": "HTMLModel",
      "state": {
       "_dom_classes": [],
       "_model_module": "@jupyter-widgets/controls",
       "_model_module_version": "2.0.0",
       "_model_name": "HTMLModel",
       "_view_count": null,
       "_view_module": "@jupyter-widgets/controls",
       "_view_module_version": "2.0.0",
       "_view_name": "HTMLView",
       "description": "",
       "description_allow_html": false,
       "layout": "IPY_MODEL_56f8453cd7314ae39f8d54e396d5c5eb",
       "placeholder": "​",
       "style": "IPY_MODEL_311060f7309949dfacdcf8342fa77ad3",
       "tabbable": null,
       "tooltip": null,
       "value": " 466k/466k [00:00&lt;00:00, 6.27MB/s]"
      }
     },
     "ec7bd4c6773b44a0ba92953b5cd58b89": {
      "model_module": "@jupyter-widgets/base",
      "model_module_version": "2.0.0",
      "model_name": "LayoutModel",
      "state": {
       "_model_module": "@jupyter-widgets/base",
       "_model_module_version": "2.0.0",
       "_model_name": "LayoutModel",
       "_view_count": null,
       "_view_module": "@jupyter-widgets/base",
       "_view_module_version": "2.0.0",
       "_view_name": "LayoutView",
       "align_content": null,
       "align_items": null,
       "align_self": null,
       "border_bottom": null,
       "border_left": null,
       "border_right": null,
       "border_top": null,
       "bottom": null,
       "display": null,
       "flex": null,
       "flex_flow": null,
       "grid_area": null,
       "grid_auto_columns": null,
       "grid_auto_flow": null,
       "grid_auto_rows": null,
       "grid_column": null,
       "grid_gap": null,
       "grid_row": null,
       "grid_template_areas": null,
       "grid_template_columns": null,
       "grid_template_rows": null,
       "height": null,
       "justify_content": null,
       "justify_items": null,
       "left": null,
       "margin": null,
       "max_height": null,
       "max_width": null,
       "min_height": null,
       "min_width": null,
       "object_fit": null,
       "object_position": null,
       "order": null,
       "overflow": null,
       "padding": null,
       "right": null,
       "top": null,
       "visibility": null,
       "width": null
      }
     },
     "ef864e7a39e648c797106274029803b6": {
      "model_module": "@jupyter-widgets/base",
      "model_module_version": "2.0.0",
      "model_name": "LayoutModel",
      "state": {
       "_model_module": "@jupyter-widgets/base",
       "_model_module_version": "2.0.0",
       "_model_name": "LayoutModel",
       "_view_count": null,
       "_view_module": "@jupyter-widgets/base",
       "_view_module_version": "2.0.0",
       "_view_name": "LayoutView",
       "align_content": null,
       "align_items": null,
       "align_self": null,
       "border_bottom": null,
       "border_left": null,
       "border_right": null,
       "border_top": null,
       "bottom": null,
       "display": null,
       "flex": null,
       "flex_flow": null,
       "grid_area": null,
       "grid_auto_columns": null,
       "grid_auto_flow": null,
       "grid_auto_rows": null,
       "grid_column": null,
       "grid_gap": null,
       "grid_row": null,
       "grid_template_areas": null,
       "grid_template_columns": null,
       "grid_template_rows": null,
       "height": null,
       "justify_content": null,
       "justify_items": null,
       "left": null,
       "margin": null,
       "max_height": null,
       "max_width": null,
       "min_height": null,
       "min_width": null,
       "object_fit": null,
       "object_position": null,
       "order": null,
       "overflow": null,
       "padding": null,
       "right": null,
       "top": null,
       "visibility": null,
       "width": null
      }
     },
     "f2851eacf63c4bcea11f687baf7a8baf": {
      "model_module": "@jupyter-widgets/controls",
      "model_module_version": "2.0.0",
      "model_name": "FloatProgressModel",
      "state": {
       "_dom_classes": [],
       "_model_module": "@jupyter-widgets/controls",
       "_model_module_version": "2.0.0",
       "_model_name": "FloatProgressModel",
       "_view_count": null,
       "_view_module": "@jupyter-widgets/controls",
       "_view_module_version": "2.0.0",
       "_view_name": "ProgressView",
       "bar_style": "success",
       "description": "",
       "description_allow_html": false,
       "layout": "IPY_MODEL_d0ba76a21c87430fa3b8b9028747e052",
       "max": 48.0,
       "min": 0.0,
       "orientation": "horizontal",
       "style": "IPY_MODEL_d45519f6fdb64cce81cee0a8d89b8b0d",
       "tabbable": null,
       "tooltip": null,
       "value": 48.0
      }
     },
     "f47b031baa9b49d5a13a953a56a8db28": {
      "model_module": "@jupyter-widgets/controls",
      "model_module_version": "2.0.0",
      "model_name": "HBoxModel",
      "state": {
       "_dom_classes": [],
       "_model_module": "@jupyter-widgets/controls",
       "_model_module_version": "2.0.0",
       "_model_name": "HBoxModel",
       "_view_count": null,
       "_view_module": "@jupyter-widgets/controls",
       "_view_module_version": "2.0.0",
       "_view_name": "HBoxView",
       "box_style": "",
       "children": [
        "IPY_MODEL_7633bc0cd87a451c90adda18884165ed",
        "IPY_MODEL_b99fb801964d4cb296feafd8a55a1f1c",
        "IPY_MODEL_ebadb5650c514eb89791c9e8fd6b775c"
       ],
       "layout": "IPY_MODEL_6f1178a2a15b4cf1bded746f93caff63",
       "tabbable": null,
       "tooltip": null
      }
     },
     "f5084e7e2a844280b351e8f7b0c5e611": {
      "model_module": "@jupyter-widgets/base",
      "model_module_version": "2.0.0",
      "model_name": "LayoutModel",
      "state": {
       "_model_module": "@jupyter-widgets/base",
       "_model_module_version": "2.0.0",
       "_model_name": "LayoutModel",
       "_view_count": null,
       "_view_module": "@jupyter-widgets/base",
       "_view_module_version": "2.0.0",
       "_view_name": "LayoutView",
       "align_content": null,
       "align_items": null,
       "align_self": null,
       "border_bottom": null,
       "border_left": null,
       "border_right": null,
       "border_top": null,
       "bottom": null,
       "display": null,
       "flex": null,
       "flex_flow": null,
       "grid_area": null,
       "grid_auto_columns": null,
       "grid_auto_flow": null,
       "grid_auto_rows": null,
       "grid_column": null,
       "grid_gap": null,
       "grid_row": null,
       "grid_template_areas": null,
       "grid_template_columns": null,
       "grid_template_rows": null,
       "height": null,
       "justify_content": null,
       "justify_items": null,
       "left": null,
       "margin": null,
       "max_height": null,
       "max_width": null,
       "min_height": null,
       "min_width": null,
       "object_fit": null,
       "object_position": null,
       "order": null,
       "overflow": null,
       "padding": null,
       "right": null,
       "top": null,
       "visibility": null,
       "width": null
      }
     },
     "f731d7ed1bc24a25975557f6799afe3a": {
      "model_module": "@jupyter-widgets/controls",
      "model_module_version": "2.0.0",
      "model_name": "HTMLModel",
      "state": {
       "_dom_classes": [],
       "_model_module": "@jupyter-widgets/controls",
       "_model_module_version": "2.0.0",
       "_model_name": "HTMLModel",
       "_view_count": null,
       "_view_module": "@jupyter-widgets/controls",
       "_view_module_version": "2.0.0",
       "_view_name": "HTMLView",
       "description": "",
       "description_allow_html": false,
       "layout": "IPY_MODEL_7ad1fa14b8434ab49ecf637384547abf",
       "placeholder": "​",
       "style": "IPY_MODEL_0c44305e03fc4f55aa60752114c8664e",
       "tabbable": null,
       "tooltip": null,
       "value": "vocab.txt: 100%"
      }
     },
     "f9d7daf7a9ec4f2daadfc2bb5df64a2c": {
      "model_module": "@jupyter-widgets/controls",
      "model_module_version": "2.0.0",
      "model_name": "FloatProgressModel",
      "state": {
       "_dom_classes": [],
       "_model_module": "@jupyter-widgets/controls",
       "_model_module_version": "2.0.0",
       "_model_name": "FloatProgressModel",
       "_view_count": null,
       "_view_module": "@jupyter-widgets/controls",
       "_view_module_version": "2.0.0",
       "_view_name": "ProgressView",
       "bar_style": "success",
       "description": "",
       "description_allow_html": false,
       "layout": "IPY_MODEL_ccbac443411c4a68954ebf98cac54954",
       "max": 231508.0,
       "min": 0.0,
       "orientation": "horizontal",
       "style": "IPY_MODEL_645b392961284f6b9cef0ec2dd9d5849",
       "tabbable": null,
       "tooltip": null,
       "value": 231508.0
      }
     }
    },
    "version_major": 2,
    "version_minor": 0
   }
  }
 },
 "nbformat": 4,
 "nbformat_minor": 5
}
